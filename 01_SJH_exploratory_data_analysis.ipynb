{
 "cells": [
  {
   "cell_type": "code",
   "execution_count": 1,
   "id": "c08f1b1e-4219-4a30-a8db-12a529c5cc7d",
   "metadata": {},
   "outputs": [],
   "source": [
    "import pandas as pd "
   ]
  },
  {
   "cell_type": "code",
   "execution_count": 2,
   "id": "7895574f-c3b0-4647-91f0-98046dcbca30",
   "metadata": {},
   "outputs": [
    {
     "name": "stderr",
     "output_type": "stream",
     "text": [
      "/var/folders/r5/8d6q755n7dj5k1lkfqtpj8yh0000gn/T/ipykernel_43095/3008515361.py:1: DtypeWarning: Columns (20,26,31,32,33,37,38,39,43,44,45,49,50,55,56,61,62,67,69,75,78,82,84,88,90,109,117,122,134,138,140,141,142,146,147,148,151,152,154,158,160,163,167,168,182,183,185,192,194,196,197,198,202,203,204,205,206,208,212,214,217,240,241,244,263,264,265,275,276,277) have mixed types. Specify dtype option on import or set low_memory=False.\n",
      "  df = pd.read_csv('data_collection_v11.csv')\n"
     ]
    }
   ],
   "source": [
    "df = pd.read_csv('data_collection_v11.csv')"
   ]
  },
  {
   "cell_type": "code",
   "execution_count": 3,
   "id": "af383246-fcb2-4836-a847-df833db9df98",
   "metadata": {},
   "outputs": [
    {
     "name": "stdout",
     "output_type": "stream",
     "text": [
      "<class 'pandas.core.frame.DataFrame'>\n",
      "RangeIndex: 2130 entries, 0 to 2129\n",
      "Columns: 280 entries, Unnamed: 0 to race2\n",
      "dtypes: float64(63), int64(4), object(213)\n",
      "memory usage: 4.6+ MB\n"
     ]
    }
   ],
   "source": [
    "df.info()"
   ]
  },
  {
   "cell_type": "code",
   "execution_count": 4,
   "id": "89793714-e3a9-4012-8dfc-566b63551ee0",
   "metadata": {},
   "outputs": [
    {
     "data": {
      "text/plain": [
       "object     213\n",
       "float64     63\n",
       "int64        4\n",
       "dtype: int64"
      ]
     },
     "execution_count": 4,
     "metadata": {},
     "output_type": "execute_result"
    }
   ],
   "source": [
    "df.dtypes.value_counts()"
   ]
  },
  {
   "cell_type": "code",
   "execution_count": 5,
   "id": "7462fcba-c1c5-4faa-8575-55b90f6b1e1a",
   "metadata": {},
   "outputs": [
    {
     "data": {
      "text/plain": [
       "Unnamed: 0        int64\n",
       "X.1               int64\n",
       "X                 int64\n",
       "ID_long          object\n",
       "tstamp           object\n",
       "                  ...  \n",
       "p010_plcrec_2    object\n",
       "p011_plcrec_2    object\n",
       "p012_plcrec_2    object\n",
       "fam_size2         int64\n",
       "race2            object\n",
       "Length: 280, dtype: object"
      ]
     },
     "execution_count": 5,
     "metadata": {},
     "output_type": "execute_result"
    }
   ],
   "source": [
    "df.dtypes"
   ]
  },
  {
   "cell_type": "code",
   "execution_count": 6,
   "id": "deb7a008-b143-4b92-99dd-6f1bb7b5e0d8",
   "metadata": {},
   "outputs": [
    {
     "data": {
      "text/html": [
       "<div>\n",
       "<style scoped>\n",
       "    .dataframe tbody tr th:only-of-type {\n",
       "        vertical-align: middle;\n",
       "    }\n",
       "\n",
       "    .dataframe tbody tr th {\n",
       "        vertical-align: top;\n",
       "    }\n",
       "\n",
       "    .dataframe thead th {\n",
       "        text-align: right;\n",
       "    }\n",
       "</style>\n",
       "<table border=\"1\" class=\"dataframe\">\n",
       "  <thead>\n",
       "    <tr style=\"text-align: right;\">\n",
       "      <th></th>\n",
       "      <th>Unnamed: 0</th>\n",
       "      <th>X.1</th>\n",
       "      <th>X</th>\n",
       "      <th>ID_long</th>\n",
       "      <th>tstamp</th>\n",
       "      <th>email</th>\n",
       "      <th>name</th>\n",
       "      <th>os_addr</th>\n",
       "      <th>f_id</th>\n",
       "      <th>b_id</th>\n",
       "      <th>...</th>\n",
       "      <th>p05_plcrec_2</th>\n",
       "      <th>p06_plcrec_2</th>\n",
       "      <th>p07_plcrec_2</th>\n",
       "      <th>p08_plcrec_2</th>\n",
       "      <th>p09_plcrec_2</th>\n",
       "      <th>p010_plcrec_2</th>\n",
       "      <th>p011_plcrec_2</th>\n",
       "      <th>p012_plcrec_2</th>\n",
       "      <th>fam_size2</th>\n",
       "      <th>race2</th>\n",
       "    </tr>\n",
       "  </thead>\n",
       "  <tbody>\n",
       "    <tr>\n",
       "      <th>0</th>\n",
       "      <td>1</td>\n",
       "      <td>1</td>\n",
       "      <td>1</td>\n",
       "      <td>3104718669-60949-001_3104718669-60949-002</td>\n",
       "      <td>12/29/2023 12:32</td>\n",
       "      <td>Jorge Soldevila-Irizarry</td>\n",
       "      <td>Jorge</td>\n",
       "      <td>165 West 62 Street</td>\n",
       "      <td>3104718669-60949-001-Front</td>\n",
       "      <td>3104718669-60949-002-Back</td>\n",
       "      <td>...</td>\n",
       "      <td>NaN</td>\n",
       "      <td>NaN</td>\n",
       "      <td>NaN</td>\n",
       "      <td>NaN</td>\n",
       "      <td>NaN</td>\n",
       "      <td>NaN</td>\n",
       "      <td>NaN</td>\n",
       "      <td>NaN</td>\n",
       "      <td>4</td>\n",
       "      <td>Puerto Rican</td>\n",
       "    </tr>\n",
       "  </tbody>\n",
       "</table>\n",
       "<p>1 rows × 280 columns</p>\n",
       "</div>"
      ],
      "text/plain": [
       "   Unnamed: 0  X.1  X                                    ID_long  \\\n",
       "0           1    1  1  3104718669-60949-001_3104718669-60949-002   \n",
       "\n",
       "             tstamp                     email   name             os_addr  \\\n",
       "0  12/29/2023 12:32  Jorge Soldevila-Irizarry  Jorge  165 West 62 Street   \n",
       "\n",
       "                         f_id                       b_id  ... p05_plcrec_2  \\\n",
       "0  3104718669-60949-001-Front  3104718669-60949-002-Back  ...          NaN   \n",
       "\n",
       "  p06_plcrec_2 p07_plcrec_2 p08_plcrec_2 p09_plcrec_2 p010_plcrec_2  \\\n",
       "0          NaN          NaN          NaN          NaN           NaN   \n",
       "\n",
       "   p011_plcrec_2 p012_plcrec_2 fam_size2         race2  \n",
       "0            NaN           NaN         4  Puerto Rican  \n",
       "\n",
       "[1 rows x 280 columns]"
      ]
     },
     "execution_count": 6,
     "metadata": {},
     "output_type": "execute_result"
    }
   ],
   "source": [
    "df.head(1)"
   ]
  },
  {
   "cell_type": "code",
   "execution_count": 7,
   "id": "1fb216f0-7e56-4189-b900-188de3432b70",
   "metadata": {},
   "outputs": [
    {
     "data": {
      "text/plain": [
       "0         Unnamed: 0\n",
       "1                X.1\n",
       "2                  X\n",
       "3            ID_long\n",
       "4             tstamp\n",
       "           ...      \n",
       "275    p010_plcrec_2\n",
       "276    p011_plcrec_2\n",
       "277    p012_plcrec_2\n",
       "278        fam_size2\n",
       "279            race2\n",
       "Length: 280, dtype: object"
      ]
     },
     "execution_count": 7,
     "metadata": {},
     "output_type": "execute_result"
    }
   ],
   "source": [
    "pd.Series(df.columns)"
   ]
  },
  {
   "cell_type": "code",
   "execution_count": 8,
   "id": "05544b3e-3879-429b-afb3-7f3d733afb0d",
   "metadata": {},
   "outputs": [
    {
     "data": {
      "text/plain": [
       "(2130, 280)"
      ]
     },
     "execution_count": 8,
     "metadata": {},
     "output_type": "execute_result"
    }
   ],
   "source": [
    "df.shape"
   ]
  },
  {
   "cell_type": "markdown",
   "id": "f18f642a-722a-45e1-b205-28200d964fd5",
   "metadata": {},
   "source": [
    "# Duplicates"
   ]
  },
  {
   "cell_type": "code",
   "execution_count": 9,
   "id": "25dad3f8-fb02-4bb7-a433-52e5bb2c6e33",
   "metadata": {},
   "outputs": [
    {
     "data": {
      "text/plain": [
       "1.0    7\n",
       "Name: duplicate, dtype: int64"
      ]
     },
     "execution_count": 9,
     "metadata": {},
     "output_type": "execute_result"
    }
   ],
   "source": [
    "df['duplicate'].value_counts()"
   ]
  },
  {
   "cell_type": "code",
   "execution_count": 10,
   "id": "30ddfd3c-ae4a-4d81-a74d-bb09a85e98a1",
   "metadata": {},
   "outputs": [
    {
     "data": {
      "text/html": [
       "<div>\n",
       "<style scoped>\n",
       "    .dataframe tbody tr th:only-of-type {\n",
       "        vertical-align: middle;\n",
       "    }\n",
       "\n",
       "    .dataframe tbody tr th {\n",
       "        vertical-align: top;\n",
       "    }\n",
       "\n",
       "    .dataframe thead th {\n",
       "        text-align: right;\n",
       "    }\n",
       "</style>\n",
       "<table border=\"1\" class=\"dataframe\">\n",
       "  <thead>\n",
       "    <tr style=\"text-align: right;\">\n",
       "      <th></th>\n",
       "      <th>Unnamed: 0</th>\n",
       "      <th>X.1</th>\n",
       "      <th>X</th>\n",
       "      <th>ID_long</th>\n",
       "      <th>tstamp</th>\n",
       "      <th>email</th>\n",
       "      <th>name</th>\n",
       "      <th>os_addr</th>\n",
       "      <th>f_id</th>\n",
       "      <th>b_id</th>\n",
       "      <th>...</th>\n",
       "      <th>p05_plcrec_2</th>\n",
       "      <th>p06_plcrec_2</th>\n",
       "      <th>p07_plcrec_2</th>\n",
       "      <th>p08_plcrec_2</th>\n",
       "      <th>p09_plcrec_2</th>\n",
       "      <th>p010_plcrec_2</th>\n",
       "      <th>p011_plcrec_2</th>\n",
       "      <th>p012_plcrec_2</th>\n",
       "      <th>fam_size2</th>\n",
       "      <th>race2</th>\n",
       "    </tr>\n",
       "  </thead>\n",
       "  <tbody>\n",
       "    <tr>\n",
       "      <th>926</th>\n",
       "      <td>927</td>\n",
       "      <td>927</td>\n",
       "      <td>927</td>\n",
       "      <td>3458098649-61037-003_3458098649-61037-004</td>\n",
       "      <td>8/5/2024 14:11</td>\n",
       "      <td>jorge.soldevila@centropr.app</td>\n",
       "      <td>Jorge</td>\n",
       "      <td>NaN</td>\n",
       "      <td>3458098649-61037-003-Front.tif</td>\n",
       "      <td>3458098649-61037-004-Back.tif</td>\n",
       "      <td>...</td>\n",
       "      <td>NaN</td>\n",
       "      <td>NaN</td>\n",
       "      <td>NaN</td>\n",
       "      <td>NaN</td>\n",
       "      <td>NaN</td>\n",
       "      <td>NaN</td>\n",
       "      <td>NaN</td>\n",
       "      <td>NaN</td>\n",
       "      <td>999</td>\n",
       "      <td>NaN</td>\n",
       "    </tr>\n",
       "    <tr>\n",
       "      <th>951</th>\n",
       "      <td>952</td>\n",
       "      <td>952</td>\n",
       "      <td>952</td>\n",
       "      <td>3458100579-61040-003_3458100579-61040-004</td>\n",
       "      <td>6/12/2024 15:20</td>\n",
       "      <td>camila1juarbe@gmail.com</td>\n",
       "      <td>Camila</td>\n",
       "      <td>128 West 64 Street</td>\n",
       "      <td>3458100579-61040-003-Front.tif</td>\n",
       "      <td>3458100579-61040-004-Back.tif</td>\n",
       "      <td>...</td>\n",
       "      <td>USA</td>\n",
       "      <td>USA</td>\n",
       "      <td>USA</td>\n",
       "      <td>USA</td>\n",
       "      <td>NaN</td>\n",
       "      <td>NaN</td>\n",
       "      <td>NaN</td>\n",
       "      <td>NaN</td>\n",
       "      <td>8</td>\n",
       "      <td>Negro</td>\n",
       "    </tr>\n",
       "    <tr>\n",
       "      <th>1029</th>\n",
       "      <td>1030</td>\n",
       "      <td>1030</td>\n",
       "      <td>1030</td>\n",
       "      <td>3458103921-61031-015_3458103921-61031-016</td>\n",
       "      <td>6/13/2024 14:18</td>\n",
       "      <td>camila1juarbe@gmail.com</td>\n",
       "      <td>Camila</td>\n",
       "      <td>110 West 64 Street</td>\n",
       "      <td>3458103921-61031-015-Front.tif</td>\n",
       "      <td>3458103921-61031-016-Back.tif</td>\n",
       "      <td>...</td>\n",
       "      <td>NaN</td>\n",
       "      <td>NaN</td>\n",
       "      <td>NaN</td>\n",
       "      <td>NaN</td>\n",
       "      <td>NaN</td>\n",
       "      <td>NaN</td>\n",
       "      <td>NaN</td>\n",
       "      <td>NaN</td>\n",
       "      <td>999</td>\n",
       "      <td>NaN</td>\n",
       "    </tr>\n",
       "    <tr>\n",
       "      <th>1101</th>\n",
       "      <td>1102</td>\n",
       "      <td>1102</td>\n",
       "      <td>1102</td>\n",
       "      <td>3458105308-61032-013_3458105308-61032-014</td>\n",
       "      <td>6/6/2024 16:55</td>\n",
       "      <td>monique.young@centropr.app</td>\n",
       "      <td>Monique</td>\n",
       "      <td>112 West 64 Street</td>\n",
       "      <td>3458105308-61032-013-Front.tif</td>\n",
       "      <td>3458105308-61032-014-Back.tif</td>\n",
       "      <td>...</td>\n",
       "      <td>NaN</td>\n",
       "      <td>NaN</td>\n",
       "      <td>NaN</td>\n",
       "      <td>NaN</td>\n",
       "      <td>NaN</td>\n",
       "      <td>NaN</td>\n",
       "      <td>NaN</td>\n",
       "      <td>NaN</td>\n",
       "      <td>2</td>\n",
       "      <td>White</td>\n",
       "    </tr>\n",
       "    <tr>\n",
       "      <th>1295</th>\n",
       "      <td>1296</td>\n",
       "      <td>1296</td>\n",
       "      <td>1296</td>\n",
       "      <td>3458110635-61049-101_3458110635-61049-102</td>\n",
       "      <td>6/18/2024 9:59</td>\n",
       "      <td>cmila1juarbe@gmail.com</td>\n",
       "      <td>Camila</td>\n",
       "      <td>146 West 64 Street</td>\n",
       "      <td>3458110635-61049-101-Front.tif</td>\n",
       "      <td>3458110635-61049-102-Back.tif</td>\n",
       "      <td>...</td>\n",
       "      <td>NaN</td>\n",
       "      <td>NaN</td>\n",
       "      <td>NaN</td>\n",
       "      <td>NaN</td>\n",
       "      <td>NaN</td>\n",
       "      <td>NaN</td>\n",
       "      <td>NaN</td>\n",
       "      <td>NaN</td>\n",
       "      <td>4</td>\n",
       "      <td>NaN</td>\n",
       "    </tr>\n",
       "    <tr>\n",
       "      <th>1471</th>\n",
       "      <td>1472</td>\n",
       "      <td>1472</td>\n",
       "      <td>1472</td>\n",
       "      <td>3568902741-61060-021_3568902741-61060-022</td>\n",
       "      <td>6/25/2024 11:48</td>\n",
       "      <td>camila1juarbe@gmail.com</td>\n",
       "      <td>Camila</td>\n",
       "      <td>105 Amsterdam Avenue</td>\n",
       "      <td>3568902741-61060-021-Front.tif</td>\n",
       "      <td>3568902741-61060-022-Back.tif</td>\n",
       "      <td>...</td>\n",
       "      <td>NaN</td>\n",
       "      <td>NaN</td>\n",
       "      <td>NaN</td>\n",
       "      <td>NaN</td>\n",
       "      <td>NaN</td>\n",
       "      <td>NaN</td>\n",
       "      <td>NaN</td>\n",
       "      <td>NaN</td>\n",
       "      <td>2</td>\n",
       "      <td>White</td>\n",
       "    </tr>\n",
       "    <tr>\n",
       "      <th>1867</th>\n",
       "      <td>1868</td>\n",
       "      <td>1868</td>\n",
       "      <td>1868</td>\n",
       "      <td>3687357594-61095-005_3687357594-61095-006</td>\n",
       "      <td>6/26/2024 16:30</td>\n",
       "      <td>camila1juarbe@gmail.com</td>\n",
       "      <td>Camila</td>\n",
       "      <td>154-6 West 65 Street</td>\n",
       "      <td>3687357594-61095-005-Front.tif</td>\n",
       "      <td>3687357594-61095-006-Back.tif</td>\n",
       "      <td>...</td>\n",
       "      <td>NaN</td>\n",
       "      <td>NaN</td>\n",
       "      <td>NaN</td>\n",
       "      <td>NaN</td>\n",
       "      <td>NaN</td>\n",
       "      <td>NaN</td>\n",
       "      <td>NaN</td>\n",
       "      <td>NaN</td>\n",
       "      <td>2</td>\n",
       "      <td>NaN</td>\n",
       "    </tr>\n",
       "  </tbody>\n",
       "</table>\n",
       "<p>7 rows × 280 columns</p>\n",
       "</div>"
      ],
      "text/plain": [
       "      Unnamed: 0   X.1     X                                    ID_long  \\\n",
       "926          927   927   927  3458098649-61037-003_3458098649-61037-004   \n",
       "951          952   952   952  3458100579-61040-003_3458100579-61040-004   \n",
       "1029        1030  1030  1030  3458103921-61031-015_3458103921-61031-016   \n",
       "1101        1102  1102  1102  3458105308-61032-013_3458105308-61032-014   \n",
       "1295        1296  1296  1296  3458110635-61049-101_3458110635-61049-102   \n",
       "1471        1472  1472  1472  3568902741-61060-021_3568902741-61060-022   \n",
       "1867        1868  1868  1868  3687357594-61095-005_3687357594-61095-006   \n",
       "\n",
       "               tstamp                         email     name  \\\n",
       "926    8/5/2024 14:11  jorge.soldevila@centropr.app    Jorge   \n",
       "951   6/12/2024 15:20       camila1juarbe@gmail.com   Camila   \n",
       "1029  6/13/2024 14:18       camila1juarbe@gmail.com   Camila   \n",
       "1101   6/6/2024 16:55    monique.young@centropr.app  Monique   \n",
       "1295   6/18/2024 9:59        cmila1juarbe@gmail.com   Camila   \n",
       "1471  6/25/2024 11:48       camila1juarbe@gmail.com   Camila   \n",
       "1867  6/26/2024 16:30       camila1juarbe@gmail.com   Camila   \n",
       "\n",
       "                   os_addr                            f_id  \\\n",
       "926                    NaN  3458098649-61037-003-Front.tif   \n",
       "951     128 West 64 Street  3458100579-61040-003-Front.tif   \n",
       "1029    110 West 64 Street  3458103921-61031-015-Front.tif   \n",
       "1101    112 West 64 Street  3458105308-61032-013-Front.tif   \n",
       "1295    146 West 64 Street  3458110635-61049-101-Front.tif   \n",
       "1471  105 Amsterdam Avenue  3568902741-61060-021-Front.tif   \n",
       "1867  154-6 West 65 Street  3687357594-61095-005-Front.tif   \n",
       "\n",
       "                               b_id  ... p05_plcrec_2 p06_plcrec_2  \\\n",
       "926   3458098649-61037-004-Back.tif  ...          NaN          NaN   \n",
       "951   3458100579-61040-004-Back.tif  ...          USA          USA   \n",
       "1029  3458103921-61031-016-Back.tif  ...          NaN          NaN   \n",
       "1101  3458105308-61032-014-Back.tif  ...          NaN          NaN   \n",
       "1295  3458110635-61049-102-Back.tif  ...          NaN          NaN   \n",
       "1471  3568902741-61060-022-Back.tif  ...          NaN          NaN   \n",
       "1867  3687357594-61095-006-Back.tif  ...          NaN          NaN   \n",
       "\n",
       "     p07_plcrec_2 p08_plcrec_2 p09_plcrec_2 p010_plcrec_2  p011_plcrec_2  \\\n",
       "926           NaN          NaN          NaN           NaN            NaN   \n",
       "951           USA          USA          NaN           NaN            NaN   \n",
       "1029          NaN          NaN          NaN           NaN            NaN   \n",
       "1101          NaN          NaN          NaN           NaN            NaN   \n",
       "1295          NaN          NaN          NaN           NaN            NaN   \n",
       "1471          NaN          NaN          NaN           NaN            NaN   \n",
       "1867          NaN          NaN          NaN           NaN            NaN   \n",
       "\n",
       "     p012_plcrec_2 fam_size2  race2  \n",
       "926            NaN       999    NaN  \n",
       "951            NaN         8  Negro  \n",
       "1029           NaN       999    NaN  \n",
       "1101           NaN         2  White  \n",
       "1295           NaN         4    NaN  \n",
       "1471           NaN         2  White  \n",
       "1867           NaN         2    NaN  \n",
       "\n",
       "[7 rows x 280 columns]"
      ]
     },
     "execution_count": 10,
     "metadata": {},
     "output_type": "execute_result"
    }
   ],
   "source": [
    "df[df['duplicate'] == 1.0]"
   ]
  },
  {
   "cell_type": "code",
   "execution_count": 11,
   "id": "2791e485-0c6f-457d-8c0a-c81ab725e8a1",
   "metadata": {},
   "outputs": [
    {
     "data": {
      "text/plain": [
       "926                 Record is a duplicate of previous one\n",
       "951     Weekly income presumably only counts the Head ...\n",
       "1029    No M.O. \\r\\nSame addres from 3458103921-61031-...\n",
       "1101                                                  NaN\n",
       "1295           Note at the top of the card: “Second copy”\n",
       "1471    Same people from 3568902741-61060-019-Front.ti...\n",
       "1867                          Note that it's a duplicate.\n",
       "Name: notes, dtype: object"
      ]
     },
     "execution_count": 11,
     "metadata": {},
     "output_type": "execute_result"
    }
   ],
   "source": [
    "df[df['duplicate'] == 1.0]['notes']"
   ]
  },
  {
   "cell_type": "code",
   "execution_count": 12,
   "id": "1241f00d-d372-47ca-b8b0-49f57a2f7989",
   "metadata": {},
   "outputs": [
    {
     "data": {
      "text/plain": [
       "926           NaN\n",
       "951       Rooming\n",
       "1029      Rooming\n",
       "1101      Rooming\n",
       "1295      Rooming\n",
       "1471    Apartment\n",
       "1867      Rooming\n",
       "Name: h_type, dtype: object"
      ]
     },
     "execution_count": 12,
     "metadata": {},
     "output_type": "execute_result"
    }
   ],
   "source": [
    "df[df['duplicate'] == 1.0]['h_type']"
   ]
  },
  {
   "cell_type": "code",
   "execution_count": 13,
   "id": "323c9648-48cd-48ce-b3dc-801face9bcb3",
   "metadata": {},
   "outputs": [
    {
     "data": {
      "text/plain": [
       "Unnamed: 0                                             926\n",
       "X.1                                                    926\n",
       "X                                                      926\n",
       "ID_long          3458098649-61037-001_3458098649-61037-002\n",
       "tstamp                                      8/5/2024 14:02\n",
       "                                   ...                    \n",
       "p010_plcrec_2                                          NaN\n",
       "p011_plcrec_2                                          NaN\n",
       "p012_plcrec_2                                          NaN\n",
       "fam_size2                                                6\n",
       "race2                                         Puerto Rican\n",
       "Name: 925, Length: 280, dtype: object"
      ]
     },
     "execution_count": 13,
     "metadata": {},
     "output_type": "execute_result"
    }
   ],
   "source": [
    "df.loc[925]"
   ]
  },
  {
   "cell_type": "code",
   "execution_count": 14,
   "id": "14aacc42-4cae-43d8-8962-abf62ae08211",
   "metadata": {},
   "outputs": [
    {
     "data": {
      "text/plain": [
       "Unnamed: 0                                             927\n",
       "X.1                                                    927\n",
       "X                                                      927\n",
       "ID_long          3458098649-61037-003_3458098649-61037-004\n",
       "tstamp                                      8/5/2024 14:11\n",
       "                                   ...                    \n",
       "p010_plcrec_2                                          NaN\n",
       "p011_plcrec_2                                          NaN\n",
       "p012_plcrec_2                                          NaN\n",
       "fam_size2                                              999\n",
       "race2                                                  NaN\n",
       "Name: 926, Length: 280, dtype: object"
      ]
     },
     "execution_count": 14,
     "metadata": {},
     "output_type": "execute_result"
    }
   ],
   "source": [
    "df.loc[926]"
   ]
  },
  {
   "cell_type": "code",
   "execution_count": null,
   "id": "5e431049-ea7e-4ab2-b706-b52a920b61f1",
   "metadata": {},
   "outputs": [],
   "source": []
  },
  {
   "cell_type": "markdown",
   "id": "0d407a64-49c1-4d18-beb5-a3e3e4839e6e",
   "metadata": {},
   "source": [
    "## Race:"
   ]
  },
  {
   "cell_type": "code",
   "execution_count": 15,
   "id": "a3575a53-1410-4035-ae6c-5af69b166b37",
   "metadata": {},
   "outputs": [
    {
     "data": {
      "text/plain": [
       "False    1252\n",
       "True      878\n",
       "Name: race2, dtype: int64"
      ]
     },
     "execution_count": 15,
     "metadata": {},
     "output_type": "execute_result"
    }
   ],
   "source": [
    "df['race2'].isna().value_counts()"
   ]
  },
  {
   "cell_type": "markdown",
   "id": "8a6e0360-2115-49d8-893f-8e73b5fb5d49",
   "metadata": {},
   "source": [
    "> There is no race information for 878 records. 1252 records have race information."
   ]
  },
  {
   "cell_type": "code",
   "execution_count": 16,
   "id": "b8a61cd7-9966-42e0-8071-a1987d16f7dc",
   "metadata": {},
   "outputs": [
    {
     "data": {
      "text/plain": [
       "False    58.8\n",
       "True     41.2\n",
       "Name: race2, dtype: float64"
      ]
     },
     "execution_count": 16,
     "metadata": {},
     "output_type": "execute_result"
    }
   ],
   "source": [
    "round(df['race2'].isna().value_counts(normalize=True)*100, 1)"
   ]
  },
  {
   "cell_type": "markdown",
   "id": "75025bb1-2f6d-45f4-9e8a-e243e47e9cdc",
   "metadata": {},
   "source": [
    "> 58.8% of the records don't have missing race data. "
   ]
  },
  {
   "cell_type": "code",
   "execution_count": 17,
   "id": "ee9207e6-1cb3-4229-93a6-c6311732f018",
   "metadata": {},
   "outputs": [
    {
     "data": {
      "text/plain": [
       "NaN                 878\n",
       "White               563\n",
       "Puerto Rican        540\n",
       "Negro                94\n",
       "other                28\n",
       "Oriental             15\n",
       "Puerto Rican mix      8\n",
       "Multi                 4\n",
       "Name: race2, dtype: int64"
      ]
     },
     "execution_count": 17,
     "metadata": {},
     "output_type": "execute_result"
    }
   ],
   "source": [
    "df['race2'].value_counts(dropna=False)"
   ]
  },
  {
   "cell_type": "code",
   "execution_count": 18,
   "id": "33601bc2-a742-4cc1-9dbb-6a18cd64dc2f",
   "metadata": {},
   "outputs": [
    {
     "data": {
      "text/plain": [
       "NaN                 41.2\n",
       "White               26.4\n",
       "Puerto Rican        25.4\n",
       "Negro                4.4\n",
       "other                1.3\n",
       "Oriental             0.7\n",
       "Puerto Rican mix     0.4\n",
       "Multi                0.2\n",
       "Name: race2, dtype: float64"
      ]
     },
     "execution_count": 18,
     "metadata": {},
     "output_type": "execute_result"
    }
   ],
   "source": [
    "round(df['race2'].value_counts(dropna=False, normalize=True)*100,1)"
   ]
  },
  {
   "cell_type": "code",
   "execution_count": 19,
   "id": "448bc712-6e4f-4336-9898-e4f303cda976",
   "metadata": {},
   "outputs": [
    {
     "data": {
      "text/plain": [
       "White               45.0\n",
       "Puerto Rican        43.1\n",
       "Negro                7.5\n",
       "other                2.2\n",
       "Oriental             1.2\n",
       "Puerto Rican mix     0.6\n",
       "Multi                0.3\n",
       "Name: race2, dtype: float64"
      ]
     },
     "execution_count": 19,
     "metadata": {},
     "output_type": "execute_result"
    }
   ],
   "source": [
    "round(df['race2'].value_counts(normalize=True)*100,1)"
   ]
  },
  {
   "cell_type": "code",
   "execution_count": 20,
   "id": "19aa7c61-c82b-4638-ac02-3731a233167d",
   "metadata": {},
   "outputs": [
    {
     "data": {
      "text/plain": [
       "43.8"
      ]
     },
     "execution_count": 20,
     "metadata": {},
     "output_type": "execute_result"
    }
   ],
   "source": [
    "round(100*548/1252,1)"
   ]
  },
  {
   "cell_type": "markdown",
   "id": "4d35ea87-ffce-4d07-b705-12d6c68d6d77",
   "metadata": {},
   "source": [
    "> Of the 1252 records with non-missing race data, 548 records (or 43.8% of the 1252) are Puerto Rican or Puerto Rican mix. "
   ]
  },
  {
   "cell_type": "markdown",
   "id": "94f60484-5aa6-4a49-bd3a-5210e6e34e17",
   "metadata": {},
   "source": [
    "# Family size"
   ]
  },
  {
   "cell_type": "code",
   "execution_count": 21,
   "id": "e5f4d3ce-0af5-47b4-806e-4a6d1bdd1cc8",
   "metadata": {},
   "outputs": [
    {
     "data": {
      "text/plain": [
       "1      403\n",
       "2      391\n",
       "3      319\n",
       "4      281\n",
       "999    256\n",
       "5      222\n",
       "6      125\n",
       "7       65\n",
       "8       33\n",
       "9       19\n",
       "10      15\n",
       "11       1\n",
       "Name: fam_size2, dtype: int64"
      ]
     },
     "execution_count": 21,
     "metadata": {},
     "output_type": "execute_result"
    }
   ],
   "source": [
    "df['fam_size2'].value_counts() "
   ]
  },
  {
   "cell_type": "markdown",
   "id": "814a88dd-3a89-48fe-9d5b-645befd23c48",
   "metadata": {},
   "source": [
    "> Replace 999 with nan."
   ]
  },
  {
   "cell_type": "code",
   "execution_count": 22,
   "id": "4334fea5-1365-4d44-9d8a-43e24a17e3d0",
   "metadata": {},
   "outputs": [
    {
     "data": {
      "text/plain": [
       "2130"
      ]
     },
     "execution_count": 22,
     "metadata": {},
     "output_type": "execute_result"
    }
   ],
   "source": [
    "df['fam_size2'].value_counts().sum()"
   ]
  },
  {
   "cell_type": "code",
   "execution_count": 23,
   "id": "9231c57a-acf8-4522-855d-55ee981126fd",
   "metadata": {},
   "outputs": [],
   "source": [
    "m = (df['fam_size2'] != 999)"
   ]
  },
  {
   "cell_type": "code",
   "execution_count": 24,
   "id": "c47233a6-7093-41a0-85bd-9cef4429604c",
   "metadata": {},
   "outputs": [
    {
     "data": {
      "text/plain": [
       "True     88.0\n",
       "False    12.0\n",
       "Name: fam_size2, dtype: float64"
      ]
     },
     "execution_count": 24,
     "metadata": {},
     "output_type": "execute_result"
    }
   ],
   "source": [
    "round(m.value_counts(normalize=True)*100, 1)"
   ]
  },
  {
   "cell_type": "markdown",
   "id": "518d4128-b867-4f9a-a3bb-c28332bdd885",
   "metadata": {},
   "source": [
    "> Overall, 12.0% of all records are missing family size. "
   ]
  },
  {
   "cell_type": "code",
   "execution_count": 25,
   "id": "89f2f553-775d-4e70-a1bd-eb861527589c",
   "metadata": {},
   "outputs": [],
   "source": [
    "import numpy as np\n",
    "df['fam_size2'].replace(to_replace=999, value=np.nan, inplace=True)"
   ]
  },
  {
   "cell_type": "code",
   "execution_count": 26,
   "id": "93518a3b-9f76-4760-a900-1e9037fdefbb",
   "metadata": {},
   "outputs": [
    {
     "data": {
      "text/plain": [
       "1.0     403\n",
       "2.0     391\n",
       "3.0     319\n",
       "4.0     281\n",
       "NaN     256\n",
       "5.0     222\n",
       "6.0     125\n",
       "7.0      65\n",
       "8.0      33\n",
       "9.0      19\n",
       "10.0     15\n",
       "11.0      1\n",
       "Name: fam_size2, dtype: int64"
      ]
     },
     "execution_count": 26,
     "metadata": {},
     "output_type": "execute_result"
    }
   ],
   "source": [
    "df['fam_size2'].value_counts(dropna=False)"
   ]
  },
  {
   "cell_type": "code",
   "execution_count": 27,
   "id": "02bb9885-dc6d-4d9c-b8f5-0469bf532924",
   "metadata": {},
   "outputs": [
    {
     "data": {
      "text/plain": [
       "count    1874.000000\n",
       "mean        3.296158\n",
       "std         1.998482\n",
       "min         1.000000\n",
       "25%         2.000000\n",
       "50%         3.000000\n",
       "75%         5.000000\n",
       "max        11.000000\n",
       "Name: fam_size2, dtype: float64"
      ]
     },
     "execution_count": 27,
     "metadata": {},
     "output_type": "execute_result"
    }
   ],
   "source": [
    "df['fam_size2'].describe()"
   ]
  },
  {
   "cell_type": "markdown",
   "id": "1cdc1332-bfe4-479e-956e-96332b1409ca",
   "metadata": {},
   "source": [
    "Of the 1874 or 88.0% of records that have family size data, the mean family size is 3.3 and the median family size is 3. "
   ]
  },
  {
   "cell_type": "markdown",
   "id": "94504f9e-92d2-4d6b-99e2-891dac72cfd3",
   "metadata": {
    "tags": []
   },
   "source": [
    "## Place of birth\n",
    "\n",
    "### Columns to keep for now:\n",
    "* unique identifier\n",
    "* p01_plcrec_2, ..., p012_plcrec_2"
   ]
  },
  {
   "cell_type": "code",
   "execution_count": 28,
   "id": "b005eabb-337a-4434-9248-cfad0853d9a0",
   "metadata": {},
   "outputs": [
    {
     "name": "stdout",
     "output_type": "stream",
     "text": [
      "['p01_plcrec_2', 'p02_plcrec_2', 'p03_plcrec_2', 'p04_plcrec_2', 'p05_plcrec_2', 'p06_plcrec_2', 'p07_plcrec_2', 'p08_plcrec_2', 'p09_plcrec_2', 'p010_plcrec_2', 'p011_plcrec_2', 'p012_plcrec_2']\n"
     ]
    }
   ],
   "source": [
    "column_name_list = df.columns.tolist()\n",
    "\n",
    "place_of_birth = [i for i in column_name_list if 'plcrec_2' in i]\n",
    "print(place_of_birth)"
   ]
  },
  {
   "cell_type": "code",
   "execution_count": 29,
   "id": "54564f12-c019-4e93-bdb2-d78612a59c01",
   "metadata": {},
   "outputs": [
    {
     "data": {
      "text/html": [
       "<div>\n",
       "<style scoped>\n",
       "    .dataframe tbody tr th:only-of-type {\n",
       "        vertical-align: middle;\n",
       "    }\n",
       "\n",
       "    .dataframe tbody tr th {\n",
       "        vertical-align: top;\n",
       "    }\n",
       "\n",
       "    .dataframe thead th {\n",
       "        text-align: right;\n",
       "    }\n",
       "</style>\n",
       "<table border=\"1\" class=\"dataframe\">\n",
       "  <thead>\n",
       "    <tr style=\"text-align: right;\">\n",
       "      <th></th>\n",
       "      <th>ID_long</th>\n",
       "      <th>p01_plcrec_2</th>\n",
       "      <th>p02_plcrec_2</th>\n",
       "      <th>p03_plcrec_2</th>\n",
       "      <th>p04_plcrec_2</th>\n",
       "      <th>p05_plcrec_2</th>\n",
       "      <th>p06_plcrec_2</th>\n",
       "      <th>p07_plcrec_2</th>\n",
       "      <th>p08_plcrec_2</th>\n",
       "      <th>p09_plcrec_2</th>\n",
       "      <th>p010_plcrec_2</th>\n",
       "      <th>p011_plcrec_2</th>\n",
       "      <th>p012_plcrec_2</th>\n",
       "    </tr>\n",
       "  </thead>\n",
       "  <tbody>\n",
       "    <tr>\n",
       "      <th>0</th>\n",
       "      <td>3104718669-60949-001_3104718669-60949-002</td>\n",
       "      <td>PR</td>\n",
       "      <td>PR</td>\n",
       "      <td>USA</td>\n",
       "      <td>USA</td>\n",
       "      <td>NaN</td>\n",
       "      <td>NaN</td>\n",
       "      <td>NaN</td>\n",
       "      <td>NaN</td>\n",
       "      <td>NaN</td>\n",
       "      <td>NaN</td>\n",
       "      <td>NaN</td>\n",
       "      <td>NaN</td>\n",
       "    </tr>\n",
       "    <tr>\n",
       "      <th>1</th>\n",
       "      <td>3104718669-60949-003_3104718669-60949-004</td>\n",
       "      <td>USA</td>\n",
       "      <td>USA</td>\n",
       "      <td>USA</td>\n",
       "      <td>USA</td>\n",
       "      <td>USA</td>\n",
       "      <td>NaN</td>\n",
       "      <td>NaN</td>\n",
       "      <td>NaN</td>\n",
       "      <td>NaN</td>\n",
       "      <td>NaN</td>\n",
       "      <td>NaN</td>\n",
       "      <td>NaN</td>\n",
       "    </tr>\n",
       "  </tbody>\n",
       "</table>\n",
       "</div>"
      ],
      "text/plain": [
       "                                     ID_long p01_plcrec_2 p02_plcrec_2  \\\n",
       "0  3104718669-60949-001_3104718669-60949-002           PR           PR   \n",
       "1  3104718669-60949-003_3104718669-60949-004          USA          USA   \n",
       "\n",
       "  p03_plcrec_2 p04_plcrec_2 p05_plcrec_2 p06_plcrec_2 p07_plcrec_2  \\\n",
       "0          USA          USA          NaN          NaN          NaN   \n",
       "1          USA          USA          USA          NaN          NaN   \n",
       "\n",
       "  p08_plcrec_2 p09_plcrec_2 p010_plcrec_2 p011_plcrec_2 p012_plcrec_2  \n",
       "0          NaN          NaN           NaN           NaN           NaN  \n",
       "1          NaN          NaN           NaN           NaN           NaN  "
      ]
     },
     "execution_count": 29,
     "metadata": {},
     "output_type": "execute_result"
    }
   ],
   "source": [
    "# define place_of_birth_df to include unique id and all place_of_birth\n",
    "place_of_birth_df = df[['ID_long'] + place_of_birth]\n",
    "place_of_birth_df.head(2)"
   ]
  },
  {
   "cell_type": "markdown",
   "id": "7778d56a-ead7-4624-84cc-5747b31fa66d",
   "metadata": {},
   "source": [
    "**Melt** to reshape: "
   ]
  },
  {
   "cell_type": "code",
   "execution_count": 30,
   "id": "e5327e7f-58bc-4582-b21c-8c7e383e7fab",
   "metadata": {},
   "outputs": [
    {
     "data": {
      "text/html": [
       "<div>\n",
       "<style scoped>\n",
       "    .dataframe tbody tr th:only-of-type {\n",
       "        vertical-align: middle;\n",
       "    }\n",
       "\n",
       "    .dataframe tbody tr th {\n",
       "        vertical-align: top;\n",
       "    }\n",
       "\n",
       "    .dataframe thead th {\n",
       "        text-align: right;\n",
       "    }\n",
       "</style>\n",
       "<table border=\"1\" class=\"dataframe\">\n",
       "  <thead>\n",
       "    <tr style=\"text-align: right;\">\n",
       "      <th></th>\n",
       "      <th>ID_long</th>\n",
       "      <th>variable</th>\n",
       "      <th>place_of_birth</th>\n",
       "    </tr>\n",
       "  </thead>\n",
       "  <tbody>\n",
       "    <tr>\n",
       "      <th>0</th>\n",
       "      <td>3104718669-60949-001_3104718669-60949-002</td>\n",
       "      <td>p01_plcrec_2</td>\n",
       "      <td>PR</td>\n",
       "    </tr>\n",
       "    <tr>\n",
       "      <th>1</th>\n",
       "      <td>3104718669-60949-003_3104718669-60949-004</td>\n",
       "      <td>p01_plcrec_2</td>\n",
       "      <td>USA</td>\n",
       "    </tr>\n",
       "    <tr>\n",
       "      <th>2</th>\n",
       "      <td>3104718669-60949-005_3104718669-60949-006</td>\n",
       "      <td>p01_plcrec_2</td>\n",
       "      <td>USA</td>\n",
       "    </tr>\n",
       "    <tr>\n",
       "      <th>3</th>\n",
       "      <td>3104718669-60949-007_3104718669-60949-008</td>\n",
       "      <td>p01_plcrec_2</td>\n",
       "      <td>USA</td>\n",
       "    </tr>\n",
       "    <tr>\n",
       "      <th>4</th>\n",
       "      <td>3104718669-60949-009_3104718669-60949-010</td>\n",
       "      <td>p01_plcrec_2</td>\n",
       "      <td>Europe</td>\n",
       "    </tr>\n",
       "    <tr>\n",
       "      <th>...</th>\n",
       "      <td>...</td>\n",
       "      <td>...</td>\n",
       "      <td>...</td>\n",
       "    </tr>\n",
       "    <tr>\n",
       "      <th>25555</th>\n",
       "      <td>3687372978-61113-015_3687372978-61113-016</td>\n",
       "      <td>p012_plcrec_2</td>\n",
       "      <td>NaN</td>\n",
       "    </tr>\n",
       "    <tr>\n",
       "      <th>25556</th>\n",
       "      <td>3687372978-61113-017_3687372978-61113-018</td>\n",
       "      <td>p012_plcrec_2</td>\n",
       "      <td>NaN</td>\n",
       "    </tr>\n",
       "    <tr>\n",
       "      <th>25557</th>\n",
       "      <td>3687372978-61113-019_3687372978-61113-020</td>\n",
       "      <td>p012_plcrec_2</td>\n",
       "      <td>NaN</td>\n",
       "    </tr>\n",
       "    <tr>\n",
       "      <th>25558</th>\n",
       "      <td>458103019-61041-009-_3458103019-61041-010</td>\n",
       "      <td>p012_plcrec_2</td>\n",
       "      <td>NaN</td>\n",
       "    </tr>\n",
       "    <tr>\n",
       "      <th>25559</th>\n",
       "      <td>95374663-61114-005-F_3195374663-61114-006</td>\n",
       "      <td>p012_plcrec_2</td>\n",
       "      <td>NaN</td>\n",
       "    </tr>\n",
       "  </tbody>\n",
       "</table>\n",
       "<p>25560 rows × 3 columns</p>\n",
       "</div>"
      ],
      "text/plain": [
       "                                         ID_long       variable place_of_birth\n",
       "0      3104718669-60949-001_3104718669-60949-002   p01_plcrec_2             PR\n",
       "1      3104718669-60949-003_3104718669-60949-004   p01_plcrec_2            USA\n",
       "2      3104718669-60949-005_3104718669-60949-006   p01_plcrec_2            USA\n",
       "3      3104718669-60949-007_3104718669-60949-008   p01_plcrec_2            USA\n",
       "4      3104718669-60949-009_3104718669-60949-010   p01_plcrec_2         Europe\n",
       "...                                          ...            ...            ...\n",
       "25555  3687372978-61113-015_3687372978-61113-016  p012_plcrec_2            NaN\n",
       "25556  3687372978-61113-017_3687372978-61113-018  p012_plcrec_2            NaN\n",
       "25557  3687372978-61113-019_3687372978-61113-020  p012_plcrec_2            NaN\n",
       "25558  458103019-61041-009-_3458103019-61041-010  p012_plcrec_2            NaN\n",
       "25559  95374663-61114-005-F_3195374663-61114-006  p012_plcrec_2            NaN\n",
       "\n",
       "[25560 rows x 3 columns]"
      ]
     },
     "execution_count": 30,
     "metadata": {},
     "output_type": "execute_result"
    }
   ],
   "source": [
    "place_of_birth_df = pd.melt(\n",
    "    place_of_birth_df, \n",
    "    id_vars = 'ID_long', \n",
    "    value_vars = place_of_birth, \n",
    "    value_name = 'place_of_birth'\n",
    ")\n",
    "\n",
    "place_of_birth_df"
   ]
  },
  {
   "cell_type": "code",
   "execution_count": 31,
   "id": "790384f9-b4d7-4843-a5d3-3dea366f2291",
   "metadata": {},
   "outputs": [
    {
     "data": {
      "text/plain": [
       "USA          2631\n",
       "PR           2236\n",
       "Europe        430\n",
       "Caribbean     159\n",
       "Lat. Am.       40\n",
       "Asia           32\n",
       "Nrth. Am.      16\n",
       "Africa          2\n",
       "Name: place_of_birth, dtype: int64"
      ]
     },
     "execution_count": 31,
     "metadata": {},
     "output_type": "execute_result"
    }
   ],
   "source": [
    "place_of_birth_df['place_of_birth'].value_counts()"
   ]
  },
  {
   "cell_type": "code",
   "execution_count": 32,
   "id": "3f60d37b-550a-49ce-9aac-72ef6b0ae1f3",
   "metadata": {},
   "outputs": [
    {
     "data": {
      "text/plain": [
       "<AxesSubplot: >"
      ]
     },
     "execution_count": 32,
     "metadata": {},
     "output_type": "execute_result"
    },
    {
     "data": {
      "image/png": "[encoded data removed]",
      "text/plain": [
       "<Figure size 640x480 with 1 Axes>"
      ]
     },
     "metadata": {},
     "output_type": "display_data"
    }
   ],
   "source": [
    "place_of_birth_df['place_of_birth'].value_counts().plot(kind='barh')"
   ]
  },
  {
   "cell_type": "markdown",
   "id": "bb44064c-6975-4bc5-82f8-25105a032c46",
   "metadata": {},
   "source": [
    "## Puerto Rican households "
   ]
  },
  {
   "cell_type": "markdown",
   "id": "19cc89f2-2843-45a5-ad8d-c175f956bf02",
   "metadata": {},
   "source": [
    "Place of birth of anyone in the household is \"PR\": "
   ]
  },
  {
   "cell_type": "code",
   "execution_count": 33,
   "id": "0dc0cee1-de3c-4741-b69d-0ecf7a75f7f4",
   "metadata": {},
   "outputs": [
    {
     "data": {
      "text/plain": [
       "False    1385\n",
       "True      745\n",
       "dtype: int64"
      ]
     },
     "execution_count": 33,
     "metadata": {},
     "output_type": "execute_result"
    }
   ],
   "source": [
    "df[place_of_birth].apply(lambda row: (row == 'PR').any(), axis=1).value_counts()"
   ]
  },
  {
   "cell_type": "code",
   "execution_count": 34,
   "id": "d387feea-704f-4295-b7bb-c5079caca37a",
   "metadata": {},
   "outputs": [],
   "source": [
    "m1 = df[place_of_birth].apply(lambda row: (row == 'PR').any(), axis=1)"
   ]
  },
  {
   "cell_type": "markdown",
   "id": "fbd34c9e-df3b-4970-8aac-f91ebeec88e2",
   "metadata": {},
   "source": [
    "Race is \"Puerto Rican\" or \"Puerto Rican mix\":"
   ]
  },
  {
   "cell_type": "code",
   "execution_count": 35,
   "id": "bcf012c9-13a6-4500-85a9-8e125165d829",
   "metadata": {},
   "outputs": [
    {
     "data": {
      "text/plain": [
       "False    1582\n",
       "True      548\n",
       "Name: race2, dtype: int64"
      ]
     },
     "execution_count": 35,
     "metadata": {},
     "output_type": "execute_result"
    }
   ],
   "source": [
    "m2 = (df['race2'] == 'Puerto Rican') | (df['race2'] == 'Puerto Rican mix')\n",
    "m2.value_counts()"
   ]
  },
  {
   "cell_type": "markdown",
   "id": "35dd2f4d-adf5-4fb9-805e-2567778a923e",
   "metadata": {},
   "source": [
    "If the place of birth of anyone in the household is Puerto Rico or if the race indicated in the record is Puerto Rican or Puerto Rican mix, define the household as a Puerto Rican household: "
   ]
  },
  {
   "cell_type": "code",
   "execution_count": 36,
   "id": "54b3fa60-57c1-4c6a-a810-4dfeedbe67d0",
   "metadata": {},
   "outputs": [
    {
     "data": {
      "text/plain": [
       "False    1359\n",
       "True      771\n",
       "dtype: int64"
      ]
     },
     "execution_count": 36,
     "metadata": {},
     "output_type": "execute_result"
    }
   ],
   "source": [
    "m_pr_hh = m1 | m2\n",
    "\n",
    "m_pr_hh.value_counts()"
   ]
  },
  {
   "cell_type": "markdown",
   "id": "257a36db-0657-443d-bffa-9871c6b22b98",
   "metadata": {},
   "source": [
    "> There are 771 Puerto Rican households. "
   ]
  },
  {
   "cell_type": "markdown",
   "id": "39215c00-1264-40dd-9eaf-8e3d0a95ee2f",
   "metadata": {},
   "source": [
    "\n",
    "Here, before creating a dataframe for Puerto Rican households by filtering the dataframe the existing dataframe, assign the values of this mask to a new series and call it `PR_hh`. "
   ]
  },
  {
   "cell_type": "code",
   "execution_count": 37,
   "id": "71693a7d-2c51-4e04-9c6a-ff405a0faca6",
   "metadata": {},
   "outputs": [],
   "source": [
    "df['PR_hh'] = m_pr_hh "
   ]
  },
  {
   "cell_type": "code",
   "execution_count": 38,
   "id": "4a01d32e-fe39-43a6-b4cd-25b50a73058c",
   "metadata": {},
   "outputs": [
    {
     "data": {
      "text/plain": [
       "False    1359\n",
       "True      771\n",
       "Name: PR_hh, dtype: int64"
      ]
     },
     "execution_count": 38,
     "metadata": {},
     "output_type": "execute_result"
    }
   ],
   "source": [
    "df['PR_hh'].value_counts(dropna=False)"
   ]
  },
  {
   "cell_type": "code",
   "execution_count": 39,
   "id": "c10b19a3-cf31-43bb-b3f5-57ec63de324f",
   "metadata": {},
   "outputs": [
    {
     "data": {
      "text/plain": [
       "1.0      39\n",
       "2.0     105\n",
       "3.0     142\n",
       "4.0     156\n",
       "5.0     146\n",
       "6.0      82\n",
       "7.0      48\n",
       "8.0      21\n",
       "9.0      15\n",
       "10.0     14\n",
       "11.0      1\n",
       "NaN       2\n",
       "Name: fam_size2, dtype: int64"
      ]
     },
     "execution_count": 39,
     "metadata": {},
     "output_type": "execute_result"
    }
   ],
   "source": [
    "# Create new dataframe rows pertaining to Puerto Rican households only:\n",
    "#df_pr_hh = df[m_pr_hh]\n",
    "\n",
    "df[m_pr_hh]['fam_size2'].value_counts(dropna=False).sort_index()"
   ]
  },
  {
   "cell_type": "markdown",
   "id": "5fdec772-7fbf-4440-815c-dcdc07fce254",
   "metadata": {},
   "source": [
    "Of the 771 Puerto Rican households, only 2 are missing family size. "
   ]
  },
  {
   "cell_type": "code",
   "execution_count": 40,
   "id": "18a1589e-3cf7-4598-854b-666583f88cf5",
   "metadata": {},
   "outputs": [
    {
     "data": {
      "text/plain": [
       "3311.0"
      ]
     },
     "execution_count": 40,
     "metadata": {},
     "output_type": "execute_result"
    }
   ],
   "source": [
    "df[m_pr_hh]['fam_size2'].sum()"
   ]
  },
  {
   "cell_type": "markdown",
   "id": "ba27da21-96ad-4409-abe0-668c031092d0",
   "metadata": {},
   "source": [
    "> 3311 people lived in these PR hh. "
   ]
  },
  {
   "cell_type": "code",
   "execution_count": 41,
   "id": "0420fb2a-bcf5-4fba-8364-5e725394700a",
   "metadata": {},
   "outputs": [
    {
     "data": {
      "text/plain": [
       "count    769.000000\n",
       "mean       4.305592\n",
       "std        1.980105\n",
       "min        1.000000\n",
       "25%        3.000000\n",
       "50%        4.000000\n",
       "75%        5.000000\n",
       "max       11.000000\n",
       "Name: fam_size2, dtype: float64"
      ]
     },
     "execution_count": 41,
     "metadata": {},
     "output_type": "execute_result"
    }
   ],
   "source": [
    "df[m_pr_hh]['fam_size2'].describe()"
   ]
  },
  {
   "cell_type": "markdown",
   "id": "5e102643-f6ef-4342-a76e-9cf9c8368603",
   "metadata": {},
   "source": [
    "Out of 769 Puerto Rican households with non-missing `fam_size2`: \n",
    "\n",
    "- Mean family size for PR hh: 4.3\n",
    "- Median family size: 4 "
   ]
  },
  {
   "cell_type": "markdown",
   "id": "5fb68f4e-c823-42bf-b722-58c116c75dd9",
   "metadata": {},
   "source": [
    "How many people in total?"
   ]
  },
  {
   "cell_type": "code",
   "execution_count": 42,
   "id": "c3743e10-fd44-49ef-9449-496e0f667b7a",
   "metadata": {},
   "outputs": [
    {
     "data": {
      "text/plain": [
       "2130"
      ]
     },
     "execution_count": 42,
     "metadata": {},
     "output_type": "execute_result"
    }
   ],
   "source": [
    "df['fam_size2'].value_counts(dropna=False).sum()"
   ]
  },
  {
   "cell_type": "code",
   "execution_count": 43,
   "id": "622fd120-0e52-45b7-9caf-6297144ec2a8",
   "metadata": {},
   "outputs": [
    {
     "data": {
      "text/plain": [
       "1874"
      ]
     },
     "execution_count": 43,
     "metadata": {},
     "output_type": "execute_result"
    }
   ],
   "source": [
    "df['fam_size2'].value_counts().sum()"
   ]
  },
  {
   "cell_type": "code",
   "execution_count": 44,
   "id": "3195378f-b26b-45fd-95d7-2a6cd040861c",
   "metadata": {},
   "outputs": [
    {
     "data": {
      "text/plain": [
       "256"
      ]
     },
     "execution_count": 44,
     "metadata": {},
     "output_type": "execute_result"
    }
   ],
   "source": [
    "2130-1874"
   ]
  },
  {
   "cell_type": "markdown",
   "id": "5cb11d2e-48c9-4cf8-8ca4-d84ad2a7326a",
   "metadata": {},
   "source": [
    "> Overall, 256 households are missing `fam_size2`. "
   ]
  },
  {
   "cell_type": "code",
   "execution_count": 45,
   "id": "cb960a15-8e07-4bb7-9057-c101dbc4fd45",
   "metadata": {},
   "outputs": [
    {
     "data": {
      "text/plain": [
       "count    1874.000000\n",
       "mean        3.296158\n",
       "std         1.998482\n",
       "min         1.000000\n",
       "25%         2.000000\n",
       "50%         3.000000\n",
       "75%         5.000000\n",
       "max        11.000000\n",
       "Name: fam_size2, dtype: float64"
      ]
     },
     "execution_count": 45,
     "metadata": {},
     "output_type": "execute_result"
    }
   ],
   "source": [
    "df['fam_size2'].describe()"
   ]
  },
  {
   "cell_type": "code",
   "execution_count": 46,
   "id": "493ac3db-ae53-4485-8899-9f9fb4ab4d71",
   "metadata": {},
   "outputs": [
    {
     "data": {
      "text/plain": [
       "6177.0"
      ]
     },
     "execution_count": 46,
     "metadata": {},
     "output_type": "execute_result"
    }
   ],
   "source": [
    "df['fam_size2'].sum()"
   ]
  },
  {
   "cell_type": "markdown",
   "id": "726a28cf-e456-4430-9816-1d614aa192df",
   "metadata": {},
   "source": [
    "> Based on the 1874 records (88.0%) with family size information, there are 6177 persons. "
   ]
  },
  {
   "cell_type": "code",
   "execution_count": 47,
   "id": "da516ac9-e71e-4662-8f17-b6d2a28d7a51",
   "metadata": {},
   "outputs": [
    {
     "data": {
      "text/plain": [
       "3311.0"
      ]
     },
     "execution_count": 47,
     "metadata": {},
     "output_type": "execute_result"
    }
   ],
   "source": [
    "df[m_pr_hh]['fam_size2'].sum()"
   ]
  },
  {
   "cell_type": "markdown",
   "id": "a3374f81-7e04-440a-9c54-9ae6d4491215",
   "metadata": {},
   "source": [
    "> The 769 records out of the 771 Puerto Rican household records that have non-missing family size have 3311 people living in them. "
   ]
  },
  {
   "cell_type": "markdown",
   "id": "b1a4eef7-00fb-4fcd-9b80-e73c6b1a8639",
   "metadata": {},
   "source": [
    "How many of the people in PR hh were born in PR? \n",
    "\n",
    "- Get `ID_long` of all PR hhs\n",
    "- Filter `place_of_birth_df` to include only these IDs\n",
    "    - Recall this dataframe includes the place of birth variable for all and each of the possible 2130 x 12 rows of data from the records. Lots of null values. "
   ]
  },
  {
   "cell_type": "code",
   "execution_count": 48,
   "id": "9bf90b3b-2399-4cd4-8b3c-5f61fe57d42e",
   "metadata": {},
   "outputs": [
    {
     "data": {
      "text/html": [
       "<div>\n",
       "<style scoped>\n",
       "    .dataframe tbody tr th:only-of-type {\n",
       "        vertical-align: middle;\n",
       "    }\n",
       "\n",
       "    .dataframe tbody tr th {\n",
       "        vertical-align: top;\n",
       "    }\n",
       "\n",
       "    .dataframe thead th {\n",
       "        text-align: right;\n",
       "    }\n",
       "</style>\n",
       "<table border=\"1\" class=\"dataframe\">\n",
       "  <thead>\n",
       "    <tr style=\"text-align: right;\">\n",
       "      <th></th>\n",
       "      <th>ID_long</th>\n",
       "      <th>variable</th>\n",
       "      <th>place_of_birth</th>\n",
       "    </tr>\n",
       "  </thead>\n",
       "  <tbody>\n",
       "    <tr>\n",
       "      <th>0</th>\n",
       "      <td>3104718669-60949-001_3104718669-60949-002</td>\n",
       "      <td>p01_plcrec_2</td>\n",
       "      <td>PR</td>\n",
       "    </tr>\n",
       "  </tbody>\n",
       "</table>\n",
       "</div>"
      ],
      "text/plain": [
       "                                     ID_long      variable place_of_birth\n",
       "0  3104718669-60949-001_3104718669-60949-002  p01_plcrec_2             PR"
      ]
     },
     "execution_count": 48,
     "metadata": {},
     "output_type": "execute_result"
    }
   ],
   "source": [
    "#list of record ids for PR households\n",
    "pr_hh_ID = df[m_pr_hh]['ID_long'].tolist() \n",
    "\n",
    "# filter the place_of_birth_df to include only these ids:\n",
    "pr_hh_place_of_birth_df = place_of_birth_df[place_of_birth_df['ID_long'].isin(pr_hh_ID)]\n",
    "\n",
    "pr_hh_place_of_birth_df.head(1)"
   ]
  },
  {
   "cell_type": "code",
   "execution_count": 49,
   "id": "f9c3788b-faee-476e-a076-a84a99958e02",
   "metadata": {},
   "outputs": [
    {
     "data": {
      "text/plain": [
       "771"
      ]
     },
     "execution_count": 49,
     "metadata": {},
     "output_type": "execute_result"
    }
   ],
   "source": [
    "len(pr_hh_ID)"
   ]
  },
  {
   "cell_type": "code",
   "execution_count": 50,
   "id": "095e202d-3ea4-401d-ae40-4bd0cdc0ed85",
   "metadata": {},
   "outputs": [
    {
     "data": {
      "text/plain": [
       "(25560, 3)"
      ]
     },
     "execution_count": 50,
     "metadata": {},
     "output_type": "execute_result"
    }
   ],
   "source": [
    "place_of_birth_df.shape"
   ]
  },
  {
   "cell_type": "code",
   "execution_count": 51,
   "id": "c9c0b2e2-f10d-4635-9ca7-4dd9a8f91401",
   "metadata": {},
   "outputs": [
    {
     "data": {
      "text/plain": [
       "(9252, 3)"
      ]
     },
     "execution_count": 51,
     "metadata": {},
     "output_type": "execute_result"
    }
   ],
   "source": [
    "pr_hh_place_of_birth_df.shape"
   ]
  },
  {
   "cell_type": "code",
   "execution_count": 52,
   "id": "e7a249c3-651b-4e9d-a9d6-6ce152c2bfbf",
   "metadata": {},
   "outputs": [
    {
     "data": {
      "text/plain": [
       "NaN          6077\n",
       "PR           2236\n",
       "USA           904\n",
       "Caribbean      15\n",
       "Europe         14\n",
       "Lat. Am.        4\n",
       "Asia            1\n",
       "Nrth. Am.       1\n",
       "Name: place_of_birth, dtype: int64"
      ]
     },
     "execution_count": 52,
     "metadata": {},
     "output_type": "execute_result"
    }
   ],
   "source": [
    "pr_hh_place_of_birth_df['place_of_birth'].value_counts(dropna=False)"
   ]
  },
  {
   "cell_type": "markdown",
   "id": "a4f3939a-5954-4476-8467-01e6e9bc24f8",
   "metadata": {},
   "source": [
    "> 6077 missing values: missingness here could be that there are not 12 people in the household or that for an actual existing person in the household no place of birth was input "
   ]
  },
  {
   "cell_type": "code",
   "execution_count": 53,
   "id": "ff75df37-30f1-46f7-b765-052433ab1eea",
   "metadata": {},
   "outputs": [
    {
     "data": {
      "text/plain": [
       "PR           2236\n",
       "USA           904\n",
       "Caribbean      15\n",
       "Europe         14\n",
       "Lat. Am.        4\n",
       "Asia            1\n",
       "Nrth. Am.       1\n",
       "Name: place_of_birth, dtype: int64"
      ]
     },
     "execution_count": 53,
     "metadata": {},
     "output_type": "execute_result"
    }
   ],
   "source": [
    "pr_hh_place_of_birth_df['place_of_birth'].value_counts()"
   ]
  },
  {
   "cell_type": "code",
   "execution_count": 54,
   "id": "bc6bd4bb-0503-4286-af55-c291ca16f3a5",
   "metadata": {
    "tags": []
   },
   "outputs": [
    {
     "data": {
      "text/plain": [
       "3175"
      ]
     },
     "execution_count": 54,
     "metadata": {},
     "output_type": "execute_result"
    }
   ],
   "source": [
    "pr_hh_place_of_birth_df['place_of_birth'].value_counts().sum()"
   ]
  },
  {
   "cell_type": "code",
   "execution_count": 55,
   "id": "16527e5d-1f7a-457f-bc9d-72acd2c4f9dd",
   "metadata": {},
   "outputs": [
    {
     "data": {
      "text/plain": [
       "3311.0"
      ]
     },
     "execution_count": 55,
     "metadata": {},
     "output_type": "execute_result"
    }
   ],
   "source": [
    "df[m_pr_hh]['fam_size2'].sum()"
   ]
  },
  {
   "cell_type": "markdown",
   "id": "072c1c9b-f22b-45fc-8c57-f062f025fd74",
   "metadata": {},
   "source": [
    "> 3175 < 3311\n",
    "\n",
    "> Using `fam_size2`, there are 3311 people living in PR hh."
   ]
  },
  {
   "cell_type": "code",
   "execution_count": 56,
   "id": "d4077ad1-cf34-4ef9-81f8-72fe6697e987",
   "metadata": {},
   "outputs": [
    {
     "data": {
      "text/html": [
       "<div>\n",
       "<style scoped>\n",
       "    .dataframe tbody tr th:only-of-type {\n",
       "        vertical-align: middle;\n",
       "    }\n",
       "\n",
       "    .dataframe tbody tr th {\n",
       "        vertical-align: top;\n",
       "    }\n",
       "\n",
       "    .dataframe thead th {\n",
       "        text-align: right;\n",
       "    }\n",
       "</style>\n",
       "<table border=\"1\" class=\"dataframe\">\n",
       "  <thead>\n",
       "    <tr style=\"text-align: right;\">\n",
       "      <th></th>\n",
       "      <th>Unnamed: 0</th>\n",
       "      <th>X.1</th>\n",
       "      <th>X</th>\n",
       "      <th>ID_long</th>\n",
       "      <th>tstamp</th>\n",
       "      <th>email</th>\n",
       "      <th>name</th>\n",
       "      <th>os_addr</th>\n",
       "      <th>f_id</th>\n",
       "      <th>b_id</th>\n",
       "      <th>...</th>\n",
       "      <th>p06_plcrec_2</th>\n",
       "      <th>p07_plcrec_2</th>\n",
       "      <th>p08_plcrec_2</th>\n",
       "      <th>p09_plcrec_2</th>\n",
       "      <th>p010_plcrec_2</th>\n",
       "      <th>p011_plcrec_2</th>\n",
       "      <th>p012_plcrec_2</th>\n",
       "      <th>fam_size2</th>\n",
       "      <th>race2</th>\n",
       "      <th>PR_hh</th>\n",
       "    </tr>\n",
       "  </thead>\n",
       "  <tbody>\n",
       "    <tr>\n",
       "      <th>0</th>\n",
       "      <td>1</td>\n",
       "      <td>1</td>\n",
       "      <td>1</td>\n",
       "      <td>3104718669-60949-001_3104718669-60949-002</td>\n",
       "      <td>12/29/2023 12:32</td>\n",
       "      <td>Jorge Soldevila-Irizarry</td>\n",
       "      <td>Jorge</td>\n",
       "      <td>165 West 62 Street</td>\n",
       "      <td>3104718669-60949-001-Front</td>\n",
       "      <td>3104718669-60949-002-Back</td>\n",
       "      <td>...</td>\n",
       "      <td>NaN</td>\n",
       "      <td>NaN</td>\n",
       "      <td>NaN</td>\n",
       "      <td>NaN</td>\n",
       "      <td>NaN</td>\n",
       "      <td>NaN</td>\n",
       "      <td>NaN</td>\n",
       "      <td>4.0</td>\n",
       "      <td>Puerto Rican</td>\n",
       "      <td>True</td>\n",
       "    </tr>\n",
       "  </tbody>\n",
       "</table>\n",
       "<p>1 rows × 281 columns</p>\n",
       "</div>"
      ],
      "text/plain": [
       "   Unnamed: 0  X.1  X                                    ID_long  \\\n",
       "0           1    1  1  3104718669-60949-001_3104718669-60949-002   \n",
       "\n",
       "             tstamp                     email   name             os_addr  \\\n",
       "0  12/29/2023 12:32  Jorge Soldevila-Irizarry  Jorge  165 West 62 Street   \n",
       "\n",
       "                         f_id                       b_id  ... p06_plcrec_2  \\\n",
       "0  3104718669-60949-001-Front  3104718669-60949-002-Back  ...          NaN   \n",
       "\n",
       "  p07_plcrec_2 p08_plcrec_2 p09_plcrec_2 p010_plcrec_2 p011_plcrec_2  \\\n",
       "0          NaN          NaN          NaN           NaN           NaN   \n",
       "\n",
       "   p012_plcrec_2 fam_size2         race2  PR_hh  \n",
       "0            NaN       4.0  Puerto Rican   True  \n",
       "\n",
       "[1 rows x 281 columns]"
      ]
     },
     "execution_count": 56,
     "metadata": {},
     "output_type": "execute_result"
    }
   ],
   "source": [
    "df[m_pr_hh].head(1)"
   ]
  },
  {
   "cell_type": "markdown",
   "id": "a0d2309d-721a-4834-9ab1-01f235a0c5e7",
   "metadata": {},
   "source": [
    "## Year of birth"
   ]
  },
  {
   "cell_type": "code",
   "execution_count": 57,
   "id": "80a856a3-6b39-4b95-9742-a4703f1e7cf7",
   "metadata": {},
   "outputs": [
    {
     "data": {
      "text/plain": [
       "count    1616.000000\n",
       "mean     1914.919554\n",
       "std        15.039340\n",
       "min      1863.000000\n",
       "25%      1904.000000\n",
       "50%      1918.000000\n",
       "75%      1927.000000\n",
       "max      1953.000000\n",
       "Name: p01_year, dtype: float64"
      ]
     },
     "execution_count": 57,
     "metadata": {},
     "output_type": "execute_result"
    }
   ],
   "source": [
    "df['p01_year'].describe()"
   ]
  },
  {
   "cell_type": "code",
   "execution_count": 58,
   "id": "13bc44d8-057f-4575-929e-a97350ddaddf",
   "metadata": {},
   "outputs": [],
   "source": [
    "#df[df['p01_year'] == 1863]"
   ]
  },
  {
   "cell_type": "markdown",
   "id": "a94a7432-c23e-4775-93f1-0e92b21ce4c3",
   "metadata": {
    "tags": []
   },
   "source": [
    "## Housing type"
   ]
  },
  {
   "cell_type": "code",
   "execution_count": 59,
   "id": "dd384311-03fa-44a1-a954-4c2307a7c57e",
   "metadata": {},
   "outputs": [
    {
     "data": {
      "text/plain": [
       "Apartment    1036\n",
       "Rooming       825\n",
       "NaN           269\n",
       "Name: h_type, dtype: int64"
      ]
     },
     "execution_count": 59,
     "metadata": {},
     "output_type": "execute_result"
    }
   ],
   "source": [
    "df['h_type'].value_counts(dropna=False)"
   ]
  },
  {
   "cell_type": "markdown",
   "id": "25e95116-5a80-47cd-9fa2-948ccc7b524d",
   "metadata": {},
   "source": [
    "> We don't have housing type information for 269 out of 2130 unique cards for site occupation records. "
   ]
  },
  {
   "cell_type": "code",
   "execution_count": 60,
   "id": "f59e6a05-8b23-4a0f-8ab0-4ab06a9ebf26",
   "metadata": {},
   "outputs": [
    {
     "data": {
      "text/plain": [
       "race2             h_type   \n",
       "Multi             Apartment      3\n",
       "                  Rooming        1\n",
       "Negro             Apartment     21\n",
       "                  Rooming       64\n",
       "                  NaN            9\n",
       "Oriental          Apartment      7\n",
       "                  Rooming        5\n",
       "                  NaN            3\n",
       "Puerto Rican      Apartment    273\n",
       "                  Rooming      185\n",
       "                  NaN           82\n",
       "Puerto Rican mix  Apartment      5\n",
       "                  Rooming        2\n",
       "                  NaN            1\n",
       "White             Apartment    454\n",
       "                  Rooming       69\n",
       "                  NaN           40\n",
       "other             Apartment     22\n",
       "                  Rooming        4\n",
       "                  NaN            2\n",
       "NaN               Apartment      0\n",
       "                  Rooming        0\n",
       "                  NaN            0\n",
       "Name: race2, dtype: int64"
      ]
     },
     "execution_count": 60,
     "metadata": {},
     "output_type": "execute_result"
    }
   ],
   "source": [
    "df.groupby(['race2','h_type'], dropna=False)['race2'].count()"
   ]
  },
  {
   "cell_type": "code",
   "execution_count": 61,
   "id": "c2abd718-6413-41ef-9143-d60d2d49cf08",
   "metadata": {},
   "outputs": [
    {
     "data": {
      "text/plain": [
       "race2             h_type   \n",
       "Multi             Apartment    75.000000\n",
       "                  Rooming      25.000000\n",
       "Negro             Rooming      68.085106\n",
       "                  Apartment    22.340426\n",
       "                  NaN           9.574468\n",
       "Oriental          Apartment    46.666667\n",
       "                  Rooming      33.333333\n",
       "                  NaN          20.000000\n",
       "Puerto Rican      Apartment    50.555556\n",
       "                  Rooming      34.259259\n",
       "                  NaN          15.185185\n",
       "Puerto Rican mix  Apartment    62.500000\n",
       "                  Rooming      25.000000\n",
       "                  NaN          12.500000\n",
       "White             Apartment    80.639432\n",
       "                  Rooming      12.255773\n",
       "                  NaN           7.104796\n",
       "other             Apartment    78.571429\n",
       "                  Rooming      14.285714\n",
       "                  NaN           7.142857\n",
       "NaN               Rooming      56.378132\n",
       "                  Apartment    28.587699\n",
       "                  NaN          15.034169\n",
       "Name: h_type, dtype: float64"
      ]
     },
     "execution_count": 61,
     "metadata": {},
     "output_type": "execute_result"
    }
   ],
   "source": [
    "df.groupby(['race2'], dropna=False)['h_type'].value_counts(dropna=False,normalize=True)*100"
   ]
  },
  {
   "cell_type": "markdown",
   "id": "26e9f81c-d26c-4a96-905b-a48139357164",
   "metadata": {},
   "source": [
    "## Income source: "
   ]
  },
  {
   "cell_type": "code",
   "execution_count": 62,
   "id": "4e484433-34c3-4744-b6db-69bcf465c2df",
   "metadata": {},
   "outputs": [
    {
     "data": {
      "text/plain": [
       "True     1341\n",
       "False     789\n",
       "Name: inc_srce, dtype: int64"
      ]
     },
     "execution_count": 62,
     "metadata": {},
     "output_type": "execute_result"
    }
   ],
   "source": [
    "df['inc_srce'].notnull().value_counts()"
   ]
  },
  {
   "cell_type": "markdown",
   "id": "9ded34b8-71e8-46a0-83e0-c1dd78f65f98",
   "metadata": {},
   "source": [
    "1341 records have non-missing income source. "
   ]
  },
  {
   "cell_type": "code",
   "execution_count": 63,
   "id": "34e28094-4d7a-4bff-a36c-c4a79ff71232",
   "metadata": {},
   "outputs": [
    {
     "data": {
      "text/plain": [
       "Employed                      946\n",
       "NaN                           789\n",
       "Welfare                       212\n",
       "Pension                        53\n",
       "Own Busisnes                   52\n",
       "Retired                        31\n",
       "Employed, Welfare              15\n",
       "Employed, Pension              11\n",
       "Own Busisnes, Employed          6\n",
       "Pension, Retired                5\n",
       "Pension, Welfare                4\n",
       "Employed, Retired               3\n",
       "Employed, Pension, Welfare      1\n",
       "Own Busisnes, Welfare           1\n",
       "Employed, Pension, Retired      1\n",
       "Name: inc_srce, dtype: int64"
      ]
     },
     "execution_count": 63,
     "metadata": {},
     "output_type": "execute_result"
    }
   ],
   "source": [
    "df['inc_srce'].value_counts(dropna=False)"
   ]
  },
  {
   "cell_type": "code",
   "execution_count": 64,
   "id": "a7186d1e-f976-4d55-9368-bbf21fb0573d",
   "metadata": {},
   "outputs": [
    {
     "data": {
      "text/html": [
       "<div>\n",
       "<style scoped>\n",
       "    .dataframe tbody tr th:only-of-type {\n",
       "        vertical-align: middle;\n",
       "    }\n",
       "\n",
       "    .dataframe tbody tr th {\n",
       "        vertical-align: top;\n",
       "    }\n",
       "\n",
       "    .dataframe thead th {\n",
       "        text-align: right;\n",
       "    }\n",
       "</style>\n",
       "<table border=\"1\" class=\"dataframe\">\n",
       "  <thead>\n",
       "    <tr style=\"text-align: right;\">\n",
       "      <th></th>\n",
       "      <th>Unnamed: 0</th>\n",
       "      <th>X.1</th>\n",
       "      <th>X</th>\n",
       "      <th>ID_long</th>\n",
       "      <th>tstamp</th>\n",
       "      <th>email</th>\n",
       "      <th>name</th>\n",
       "      <th>os_addr</th>\n",
       "      <th>f_id</th>\n",
       "      <th>b_id</th>\n",
       "      <th>...</th>\n",
       "      <th>p06_plcrec_2</th>\n",
       "      <th>p07_plcrec_2</th>\n",
       "      <th>p08_plcrec_2</th>\n",
       "      <th>p09_plcrec_2</th>\n",
       "      <th>p010_plcrec_2</th>\n",
       "      <th>p011_plcrec_2</th>\n",
       "      <th>p012_plcrec_2</th>\n",
       "      <th>fam_size2</th>\n",
       "      <th>race2</th>\n",
       "      <th>PR_hh</th>\n",
       "    </tr>\n",
       "  </thead>\n",
       "  <tbody>\n",
       "    <tr>\n",
       "      <th>0</th>\n",
       "      <td>1</td>\n",
       "      <td>1</td>\n",
       "      <td>1</td>\n",
       "      <td>3104718669-60949-001_3104718669-60949-002</td>\n",
       "      <td>12/29/2023 12:32</td>\n",
       "      <td>Jorge Soldevila-Irizarry</td>\n",
       "      <td>Jorge</td>\n",
       "      <td>165 West 62 Street</td>\n",
       "      <td>3104718669-60949-001-Front</td>\n",
       "      <td>3104718669-60949-002-Back</td>\n",
       "      <td>...</td>\n",
       "      <td>NaN</td>\n",
       "      <td>NaN</td>\n",
       "      <td>NaN</td>\n",
       "      <td>NaN</td>\n",
       "      <td>NaN</td>\n",
       "      <td>NaN</td>\n",
       "      <td>NaN</td>\n",
       "      <td>4.0</td>\n",
       "      <td>Puerto Rican</td>\n",
       "      <td>True</td>\n",
       "    </tr>\n",
       "  </tbody>\n",
       "</table>\n",
       "<p>1 rows × 281 columns</p>\n",
       "</div>"
      ],
      "text/plain": [
       "   Unnamed: 0  X.1  X                                    ID_long  \\\n",
       "0           1    1  1  3104718669-60949-001_3104718669-60949-002   \n",
       "\n",
       "             tstamp                     email   name             os_addr  \\\n",
       "0  12/29/2023 12:32  Jorge Soldevila-Irizarry  Jorge  165 West 62 Street   \n",
       "\n",
       "                         f_id                       b_id  ... p06_plcrec_2  \\\n",
       "0  3104718669-60949-001-Front  3104718669-60949-002-Back  ...          NaN   \n",
       "\n",
       "  p07_plcrec_2 p08_plcrec_2 p09_plcrec_2 p010_plcrec_2 p011_plcrec_2  \\\n",
       "0          NaN          NaN          NaN           NaN           NaN   \n",
       "\n",
       "   p012_plcrec_2 fam_size2         race2  PR_hh  \n",
       "0            NaN       4.0  Puerto Rican   True  \n",
       "\n",
       "[1 rows x 281 columns]"
      ]
     },
     "execution_count": 64,
     "metadata": {},
     "output_type": "execute_result"
    }
   ],
   "source": [
    "df.head(1)"
   ]
  },
  {
   "cell_type": "code",
   "execution_count": 65,
   "id": "59a0dcb7-b4ea-4c28-a062-04e1ed5dbb05",
   "metadata": {},
   "outputs": [
    {
     "name": "stderr",
     "output_type": "stream",
     "text": [
      "/var/folders/r5/8d6q755n7dj5k1lkfqtpj8yh0000gn/T/ipykernel_43095/197179961.py:2: SettingWithCopyWarning: \n",
      "A value is trying to be set on a copy of a slice from a DataFrame.\n",
      "Try using .loc[row_indexer,col_indexer] = value instead\n",
      "\n",
      "See the caveats in the documentation: https://pandas.pydata.org/pandas-docs/stable/user_guide/indexing.html#returning-a-view-versus-a-copy\n",
      "  df_income_source['inc_srce_split'] = df_income_source['inc_srce'].str.split(', ')\n"
     ]
    }
   ],
   "source": [
    "df_income_source = df[['ID_long', 'race2', 'inc_srce']]\n",
    "df_income_source['inc_srce_split'] = df_income_source['inc_srce'].str.split(', ')\n",
    "df_income_source_exploded = df_income_source.explode('inc_srce_split')"
   ]
  },
  {
   "cell_type": "code",
   "execution_count": 66,
   "id": "02acbb0e-1f80-4c53-b467-ed0cb15d3445",
   "metadata": {},
   "outputs": [
    {
     "data": {
      "text/plain": [
       "(2130, 4)"
      ]
     },
     "execution_count": 66,
     "metadata": {},
     "output_type": "execute_result"
    }
   ],
   "source": [
    "df_income_source.shape"
   ]
  },
  {
   "cell_type": "code",
   "execution_count": 67,
   "id": "ab42e2fa-1187-47c8-abb7-55f2fbf73168",
   "metadata": {},
   "outputs": [
    {
     "data": {
      "text/plain": [
       "(2179, 4)"
      ]
     },
     "execution_count": 67,
     "metadata": {},
     "output_type": "execute_result"
    }
   ],
   "source": [
    "df_income_source_exploded.shape #some records have more than one source of income"
   ]
  },
  {
   "cell_type": "code",
   "execution_count": 68,
   "id": "76d4e5d5-6aa0-4e3e-b0a3-800721f0049e",
   "metadata": {},
   "outputs": [
    {
     "data": {
      "text/html": [
       "<div>\n",
       "<style scoped>\n",
       "    .dataframe tbody tr th:only-of-type {\n",
       "        vertical-align: middle;\n",
       "    }\n",
       "\n",
       "    .dataframe tbody tr th {\n",
       "        vertical-align: top;\n",
       "    }\n",
       "\n",
       "    .dataframe thead th {\n",
       "        text-align: right;\n",
       "    }\n",
       "</style>\n",
       "<table border=\"1\" class=\"dataframe\">\n",
       "  <thead>\n",
       "    <tr style=\"text-align: right;\">\n",
       "      <th></th>\n",
       "      <th>ID_long</th>\n",
       "      <th>race2</th>\n",
       "      <th>inc_srce</th>\n",
       "      <th>inc_srce_split</th>\n",
       "    </tr>\n",
       "  </thead>\n",
       "  <tbody>\n",
       "    <tr>\n",
       "      <th>0</th>\n",
       "      <td>3104718669-60949-001_3104718669-60949-002</td>\n",
       "      <td>Puerto Rican</td>\n",
       "      <td>Employed</td>\n",
       "      <td>Employed</td>\n",
       "    </tr>\n",
       "  </tbody>\n",
       "</table>\n",
       "</div>"
      ],
      "text/plain": [
       "                                     ID_long         race2  inc_srce  \\\n",
       "0  3104718669-60949-001_3104718669-60949-002  Puerto Rican  Employed   \n",
       "\n",
       "  inc_srce_split  \n",
       "0       Employed  "
      ]
     },
     "execution_count": 68,
     "metadata": {},
     "output_type": "execute_result"
    }
   ],
   "source": [
    "df_income_source_exploded.head(1)"
   ]
  },
  {
   "cell_type": "code",
   "execution_count": 69,
   "id": "c9d55855-61c1-40dd-918f-ea5f1564221e",
   "metadata": {},
   "outputs": [
    {
     "data": {
      "text/plain": [
       "Employed        983\n",
       "NaN             789\n",
       "Welfare         233\n",
       "Pension          75\n",
       "Own Busisnes     59\n",
       "Retired          40\n",
       "Name: inc_srce_split, dtype: int64"
      ]
     },
     "execution_count": 69,
     "metadata": {},
     "output_type": "execute_result"
    }
   ],
   "source": [
    "df_income_source_exploded['inc_srce_split'].value_counts(dropna=False)"
   ]
  },
  {
   "cell_type": "code",
   "execution_count": 70,
   "id": "89ac6f13-ffe1-4b15-8ac8-21a4a7dbaa25",
   "metadata": {},
   "outputs": [
    {
     "data": {
      "text/plain": [
       "2179"
      ]
     },
     "execution_count": 70,
     "metadata": {},
     "output_type": "execute_result"
    }
   ],
   "source": [
    "df_income_source_exploded['inc_srce_split'].value_counts(dropna=False).sum()"
   ]
  },
  {
   "cell_type": "code",
   "execution_count": 71,
   "id": "acf0e36c-4363-482e-a0b0-dbe9a9b5046e",
   "metadata": {},
   "outputs": [
    {
     "data": {
      "text/plain": [
       "Employed        45.1\n",
       "NaN             36.2\n",
       "Welfare         10.7\n",
       "Pension          3.4\n",
       "Own Busisnes     2.7\n",
       "Retired          1.8\n",
       "Name: inc_srce_split, dtype: float64"
      ]
     },
     "execution_count": 71,
     "metadata": {},
     "output_type": "execute_result"
    }
   ],
   "source": [
    "round(df_income_source_exploded['inc_srce_split'].value_counts(dropna=False, normalize=True)*100,1)"
   ]
  },
  {
   "cell_type": "code",
   "execution_count": 72,
   "id": "cd53ed37-da09-466e-8c25-8f652c53e8f1",
   "metadata": {},
   "outputs": [],
   "source": [
    "import matplotlib.pyplot as plt "
   ]
  },
  {
   "cell_type": "code",
   "execution_count": 73,
   "id": "4f153011-ccce-4987-b5a4-d445659bce96",
   "metadata": {},
   "outputs": [
    {
     "data": {
      "text/plain": [
       "Text(0.5, 0, '% of all source incomes')"
      ]
     },
     "execution_count": 73,
     "metadata": {},
     "output_type": "execute_result"
    },
    {
     "data": {
      "image/png": "[encoded data removed]",
      "text/plain": [
       "<Figure size 640x480 with 1 Axes>"
      ]
     },
     "metadata": {},
     "output_type": "display_data"
    }
   ],
   "source": [
    "round(df_income_source_exploded['inc_srce_split'].value_counts(dropna=False, normalize=True)*100,1).plot(kind='barh')\n",
    "plt.xlabel('% of all source incomes')"
   ]
  },
  {
   "cell_type": "code",
   "execution_count": 74,
   "id": "e98cd926-656b-4133-9e05-50c9b78a34ed",
   "metadata": {},
   "outputs": [
    {
     "data": {
      "text/plain": [
       "Employed                      44.4\n",
       "NaN                           37.0\n",
       "Welfare                       10.0\n",
       "Pension                        2.5\n",
       "Own Busisnes                   2.4\n",
       "Retired                        1.5\n",
       "Employed, Welfare              0.7\n",
       "Employed, Pension              0.5\n",
       "Own Busisnes, Employed         0.3\n",
       "Pension, Retired               0.2\n",
       "Pension, Welfare               0.2\n",
       "Employed, Retired              0.1\n",
       "Employed, Pension, Welfare     0.0\n",
       "Own Busisnes, Welfare          0.0\n",
       "Employed, Pension, Retired     0.0\n",
       "Name: inc_srce, dtype: float64"
      ]
     },
     "execution_count": 74,
     "metadata": {},
     "output_type": "execute_result"
    }
   ],
   "source": [
    "round(df['inc_srce'].value_counts(dropna=False, normalize=True)*100, 1)"
   ]
  },
  {
   "cell_type": "code",
   "execution_count": 75,
   "id": "429e1438-8905-4575-bba7-529fa8c62f8b",
   "metadata": {},
   "outputs": [
    {
     "data": {
      "text/plain": [
       "Employed                      70.5\n",
       "Welfare                       15.8\n",
       "Pension                        4.0\n",
       "Own Busisnes                   3.9\n",
       "Retired                        2.3\n",
       "Employed, Welfare              1.1\n",
       "Employed, Pension              0.8\n",
       "Own Busisnes, Employed         0.4\n",
       "Pension, Retired               0.4\n",
       "Pension, Welfare               0.3\n",
       "Employed, Retired              0.2\n",
       "Employed, Pension, Welfare     0.1\n",
       "Own Busisnes, Welfare          0.1\n",
       "Employed, Pension, Retired     0.1\n",
       "Name: inc_srce, dtype: float64"
      ]
     },
     "execution_count": 75,
     "metadata": {},
     "output_type": "execute_result"
    }
   ],
   "source": [
    "round(df['inc_srce'].value_counts(normalize=True)*100, 1)"
   ]
  },
  {
   "cell_type": "code",
   "execution_count": 76,
   "id": "05b82dc6-05dc-40ed-b28a-9605b8cea874",
   "metadata": {},
   "outputs": [
    {
     "data": {
      "text/plain": [
       "race2             inc_srce                  \n",
       "Multi             Employed                        2\n",
       "                  NaN                             1\n",
       "                  Welfare                         1\n",
       "Negro             Employed                       52\n",
       "                  Welfare                        23\n",
       "                  NaN                            12\n",
       "                  Employed, Welfare               3\n",
       "                  Pension                         2\n",
       "                  Employed, Pension               1\n",
       "                  Own Busisnes                    1\n",
       "Oriental          Employed                        9\n",
       "                  Own Busisnes                    3\n",
       "                  NaN                             2\n",
       "                  Welfare                         1\n",
       "Puerto Rican      Employed                      308\n",
       "                  Welfare                       124\n",
       "                  NaN                            77\n",
       "                  Own Busisnes                   13\n",
       "                  Employed, Welfare               7\n",
       "                  Pension                         7\n",
       "                  Employed, Pension               1\n",
       "                  Own Busisnes, Employed          1\n",
       "                  Own Busisnes, Welfare           1\n",
       "                  Pension, Welfare                1\n",
       "Puerto Rican mix  Employed                        6\n",
       "                  NaN                             2\n",
       "White             Employed                      377\n",
       "                  NaN                            67\n",
       "                  Pension                        34\n",
       "                  Own Busisnes                   28\n",
       "                  Retired                        24\n",
       "                  Welfare                         8\n",
       "                  Employed, Pension               7\n",
       "                  Own Busisnes, Employed          5\n",
       "                  Pension, Retired                5\n",
       "                  Pension, Welfare                3\n",
       "                  Employed, Retired               2\n",
       "                  Employed, Pension, Retired      1\n",
       "                  Employed, Pension, Welfare      1\n",
       "                  Employed, Welfare               1\n",
       "other             Employed                       23\n",
       "                  NaN                             4\n",
       "                  Own Busisnes                    1\n",
       "NaN               NaN                           624\n",
       "                  Employed                      169\n",
       "                  Welfare                        55\n",
       "                  Pension                        10\n",
       "                  Retired                         7\n",
       "                  Own Busisnes                    6\n",
       "                  Employed, Welfare               4\n",
       "                  Employed, Pension               2\n",
       "                  Employed, Retired               1\n",
       "Name: inc_srce, dtype: int64"
      ]
     },
     "execution_count": 76,
     "metadata": {},
     "output_type": "execute_result"
    }
   ],
   "source": [
    "df.groupby('race2', dropna=False)['inc_srce'].value_counts(dropna=False)"
   ]
  },
  {
   "cell_type": "code",
   "execution_count": 77,
   "id": "3959c141-a91a-460c-97ea-88bc310f7def",
   "metadata": {},
   "outputs": [
    {
     "data": {
      "text/plain": [
       "race2             inc_srce                  \n",
       "Multi             Employed                      50.0\n",
       "                  NaN                           25.0\n",
       "                  Welfare                       25.0\n",
       "Negro             Employed                      55.3\n",
       "                  Welfare                       24.5\n",
       "                  NaN                           12.8\n",
       "                  Employed, Welfare              3.2\n",
       "                  Pension                        2.1\n",
       "                  Employed, Pension              1.1\n",
       "                  Own Busisnes                   1.1\n",
       "Oriental          Employed                      60.0\n",
       "                  Own Busisnes                  20.0\n",
       "                  NaN                           13.3\n",
       "                  Welfare                        6.7\n",
       "Puerto Rican      Employed                      57.0\n",
       "                  Welfare                       23.0\n",
       "                  NaN                           14.3\n",
       "                  Own Busisnes                   2.4\n",
       "                  Employed, Welfare              1.3\n",
       "                  Pension                        1.3\n",
       "                  Employed, Pension              0.2\n",
       "                  Own Busisnes, Employed         0.2\n",
       "                  Own Busisnes, Welfare          0.2\n",
       "                  Pension, Welfare               0.2\n",
       "Puerto Rican mix  Employed                      75.0\n",
       "                  NaN                           25.0\n",
       "White             Employed                      67.0\n",
       "                  NaN                           11.9\n",
       "                  Pension                        6.0\n",
       "                  Own Busisnes                   5.0\n",
       "                  Retired                        4.3\n",
       "                  Welfare                        1.4\n",
       "                  Employed, Pension              1.2\n",
       "                  Own Busisnes, Employed         0.9\n",
       "                  Pension, Retired               0.9\n",
       "                  Pension, Welfare               0.5\n",
       "                  Employed, Retired              0.4\n",
       "                  Employed, Pension, Retired     0.2\n",
       "                  Employed, Pension, Welfare     0.2\n",
       "                  Employed, Welfare              0.2\n",
       "other             Employed                      82.1\n",
       "                  NaN                           14.3\n",
       "                  Own Busisnes                   3.6\n",
       "NaN               NaN                           71.1\n",
       "                  Employed                      19.2\n",
       "                  Welfare                        6.3\n",
       "                  Pension                        1.1\n",
       "                  Retired                        0.8\n",
       "                  Own Busisnes                   0.7\n",
       "                  Employed, Welfare              0.5\n",
       "                  Employed, Pension              0.2\n",
       "                  Employed, Retired              0.1\n",
       "Name: inc_srce, dtype: float64"
      ]
     },
     "execution_count": 77,
     "metadata": {},
     "output_type": "execute_result"
    }
   ],
   "source": [
    "round(df.groupby('race2', dropna=False)['inc_srce'].value_counts(dropna=False, normalize=True)*100,1)"
   ]
  },
  {
   "cell_type": "code",
   "execution_count": 78,
   "id": "09bf514c-3353-4da0-b7b2-28812d71e738",
   "metadata": {},
   "outputs": [
    {
     "data": {
      "text/plain": [
       "race2             inc_srce                  \n",
       "Multi             Employed                       66.7\n",
       "                  Welfare                        33.3\n",
       "Negro             Employed                       63.4\n",
       "                  Welfare                        28.0\n",
       "                  Employed, Welfare               3.7\n",
       "                  Pension                         2.4\n",
       "                  Employed, Pension               1.2\n",
       "                  Own Busisnes                    1.2\n",
       "Oriental          Employed                       69.2\n",
       "                  Own Busisnes                   23.1\n",
       "                  Welfare                         7.7\n",
       "Puerto Rican      Employed                       66.5\n",
       "                  Welfare                        26.8\n",
       "                  Own Busisnes                    2.8\n",
       "                  Employed, Welfare               1.5\n",
       "                  Pension                         1.5\n",
       "                  Employed, Pension               0.2\n",
       "                  Own Busisnes, Employed          0.2\n",
       "                  Own Busisnes, Welfare           0.2\n",
       "                  Pension, Welfare                0.2\n",
       "Puerto Rican mix  Employed                      100.0\n",
       "White             Employed                       76.0\n",
       "                  Pension                         6.9\n",
       "                  Own Busisnes                    5.6\n",
       "                  Retired                         4.8\n",
       "                  Welfare                         1.6\n",
       "                  Employed, Pension               1.4\n",
       "                  Own Busisnes, Employed          1.0\n",
       "                  Pension, Retired                1.0\n",
       "                  Pension, Welfare                0.6\n",
       "                  Employed, Retired               0.4\n",
       "                  Employed, Pension, Retired      0.2\n",
       "                  Employed, Pension, Welfare      0.2\n",
       "                  Employed, Welfare               0.2\n",
       "other             Employed                       95.8\n",
       "                  Own Busisnes                    4.2\n",
       "NaN               Employed                       66.5\n",
       "                  Welfare                        21.7\n",
       "                  Pension                         3.9\n",
       "                  Retired                         2.8\n",
       "                  Own Busisnes                    2.4\n",
       "                  Employed, Welfare               1.6\n",
       "                  Employed, Pension               0.8\n",
       "                  Employed, Retired               0.4\n",
       "Name: inc_srce, dtype: float64"
      ]
     },
     "execution_count": 78,
     "metadata": {},
     "output_type": "execute_result"
    }
   ],
   "source": [
    "round(df.groupby('race2', dropna=False)['inc_srce'].value_counts(normalize=True)*100,1)"
   ]
  },
  {
   "cell_type": "code",
   "execution_count": 79,
   "id": "6e149618-8fcd-4f53-ad50-4e6b5ca00f49",
   "metadata": {},
   "outputs": [
    {
     "data": {
      "text/plain": [
       "race2\n",
       "Multi                 3\n",
       "Negro                82\n",
       "Oriental             13\n",
       "Puerto Rican        463\n",
       "Puerto Rican mix      6\n",
       "White               496\n",
       "other                24\n",
       "NaN                 254\n",
       "Name: inc_srce, dtype: int64"
      ]
     },
     "execution_count": 79,
     "metadata": {},
     "output_type": "execute_result"
    }
   ],
   "source": [
    "df.groupby('race2', dropna=False)['inc_srce'].count()"
   ]
  },
  {
   "cell_type": "code",
   "execution_count": 80,
   "id": "d20469e9-623c-483d-ab26-e64aef3730ae",
   "metadata": {},
   "outputs": [
    {
     "data": {
      "text/plain": [
       "race2             inc_srce_split\n",
       "Multi             Employed            2\n",
       "                  Welfare             1\n",
       "Negro             Employed           56\n",
       "                  Welfare            26\n",
       "                  Pension             3\n",
       "                  Own Busisnes        1\n",
       "Oriental          Employed            9\n",
       "                  Own Busisnes        3\n",
       "                  Welfare             1\n",
       "Puerto Rican      Employed          317\n",
       "                  Welfare           133\n",
       "                  Own Busisnes       15\n",
       "                  Pension             9\n",
       "Puerto Rican mix  Employed            6\n",
       "White             Employed          394\n",
       "                  Pension            51\n",
       "                  Own Busisnes       33\n",
       "                  Retired            32\n",
       "                  Welfare            13\n",
       "other             Employed           23\n",
       "                  Own Busisnes        1\n",
       "NaN               Employed          176\n",
       "                  Welfare            59\n",
       "                  Pension            12\n",
       "                  Retired             8\n",
       "                  Own Busisnes        6\n",
       "Name: inc_srce_split, dtype: int64"
      ]
     },
     "execution_count": 80,
     "metadata": {},
     "output_type": "execute_result"
    }
   ],
   "source": [
    "df_income_source_exploded.groupby('race2', dropna=False)['inc_srce_split'].value_counts()"
   ]
  },
  {
   "cell_type": "code",
   "execution_count": 81,
   "id": "fb66b7aa-301a-4d85-9f9e-035fb756006f",
   "metadata": {},
   "outputs": [
    {
     "data": {
      "text/plain": [
       "race2             inc_srce_split\n",
       "Multi             Employed            2\n",
       "                  NaN                 1\n",
       "                  Welfare             1\n",
       "Negro             Employed           56\n",
       "                  Welfare            26\n",
       "                  NaN                12\n",
       "                  Pension             3\n",
       "                  Own Busisnes        1\n",
       "Oriental          Employed            9\n",
       "                  Own Busisnes        3\n",
       "                  NaN                 2\n",
       "                  Welfare             1\n",
       "Puerto Rican      Employed          317\n",
       "                  Welfare           133\n",
       "                  NaN                77\n",
       "                  Own Busisnes       15\n",
       "                  Pension             9\n",
       "Puerto Rican mix  Employed            6\n",
       "                  NaN                 2\n",
       "White             Employed          394\n",
       "                  NaN                67\n",
       "                  Pension            51\n",
       "                  Own Busisnes       33\n",
       "                  Retired            32\n",
       "                  Welfare            13\n",
       "other             Employed           23\n",
       "                  NaN                 4\n",
       "                  Own Busisnes        1\n",
       "NaN               NaN               624\n",
       "                  Employed          176\n",
       "                  Welfare            59\n",
       "                  Pension            12\n",
       "                  Retired             8\n",
       "                  Own Busisnes        6\n",
       "Name: inc_srce_split, dtype: int64"
      ]
     },
     "execution_count": 81,
     "metadata": {},
     "output_type": "execute_result"
    }
   ],
   "source": [
    "df_income_source_exploded.groupby('race2', dropna=False)['inc_srce_split'].value_counts(dropna=False)"
   ]
  },
  {
   "cell_type": "code",
   "execution_count": 82,
   "id": "5d8b1bdd-4b45-4014-af5b-cf55aa365b88",
   "metadata": {},
   "outputs": [
    {
     "data": {
      "text/plain": [
       "race2             inc_srce_split\n",
       "Multi             Employed          50.0\n",
       "                  NaN               25.0\n",
       "                  Welfare           25.0\n",
       "Negro             Employed          57.1\n",
       "                  Welfare           26.5\n",
       "                  NaN               12.2\n",
       "                  Pension            3.1\n",
       "                  Own Busisnes       1.0\n",
       "Oriental          Employed          60.0\n",
       "                  Own Busisnes      20.0\n",
       "                  NaN               13.3\n",
       "                  Welfare            6.7\n",
       "Puerto Rican      Employed          57.5\n",
       "                  Welfare           24.1\n",
       "                  NaN               14.0\n",
       "                  Own Busisnes       2.7\n",
       "                  Pension            1.6\n",
       "Puerto Rican mix  Employed          75.0\n",
       "                  NaN               25.0\n",
       "White             Employed          66.8\n",
       "                  NaN               11.4\n",
       "                  Pension            8.6\n",
       "                  Own Busisnes       5.6\n",
       "                  Retired            5.4\n",
       "                  Welfare            2.2\n",
       "other             Employed          82.1\n",
       "                  NaN               14.3\n",
       "                  Own Busisnes       3.6\n",
       "NaN               NaN               70.5\n",
       "                  Employed          19.9\n",
       "                  Welfare            6.7\n",
       "                  Pension            1.4\n",
       "                  Retired            0.9\n",
       "                  Own Busisnes       0.7\n",
       "Name: inc_srce_split, dtype: float64"
      ]
     },
     "execution_count": 82,
     "metadata": {},
     "output_type": "execute_result"
    }
   ],
   "source": [
    "round(df_income_source_exploded.groupby('race2', dropna=False)['inc_srce_split'].value_counts(dropna=False, normalize=True)*100,1)"
   ]
  },
  {
   "cell_type": "code",
   "execution_count": 83,
   "id": "73d26fe4-f9a4-4994-a926-f2175bb88db9",
   "metadata": {},
   "outputs": [
    {
     "data": {
      "text/plain": [
       "race2             inc_srce_split\n",
       "Multi             Employed           66.7\n",
       "                  Welfare            33.3\n",
       "Negro             Employed           65.1\n",
       "                  Welfare            30.2\n",
       "                  Pension             3.5\n",
       "                  Own Busisnes        1.2\n",
       "Oriental          Employed           69.2\n",
       "                  Own Busisnes       23.1\n",
       "                  Welfare             7.7\n",
       "Puerto Rican      Employed           66.9\n",
       "                  Welfare            28.1\n",
       "                  Own Busisnes        3.2\n",
       "                  Pension             1.9\n",
       "Puerto Rican mix  Employed          100.0\n",
       "White             Employed           75.3\n",
       "                  Pension             9.8\n",
       "                  Own Busisnes        6.3\n",
       "                  Retired             6.1\n",
       "                  Welfare             2.5\n",
       "other             Employed           95.8\n",
       "                  Own Busisnes        4.2\n",
       "NaN               Employed           67.4\n",
       "                  Welfare            22.6\n",
       "                  Pension             4.6\n",
       "                  Retired             3.1\n",
       "                  Own Busisnes        2.3\n",
       "Name: inc_srce_split, dtype: float64"
      ]
     },
     "execution_count": 83,
     "metadata": {},
     "output_type": "execute_result"
    }
   ],
   "source": [
    "round(df_income_source_exploded.groupby('race2', dropna=False)['inc_srce_split'].value_counts(normalize=True)*100,1)"
   ]
  },
  {
   "cell_type": "code",
   "execution_count": 84,
   "id": "3c29f173-002b-474f-91bd-4d520af54d5b",
   "metadata": {},
   "outputs": [
    {
     "data": {
      "text/plain": [
       "<AxesSubplot: ylabel='race2,inc_srce_split'>"
      ]
     },
     "execution_count": 84,
     "metadata": {},
     "output_type": "execute_result"
    },
    {
     "data": {
      "image/png": "[encoded data removed]",
      "text/plain": [
       "<Figure size 640x480 with 1 Axes>"
      ]
     },
     "metadata": {},
     "output_type": "display_data"
    }
   ],
   "source": [
    "round(df_income_source_exploded.groupby('race2', dropna=False)['inc_srce_split'].value_counts(normalize=True)*100,1).plot(kind='barh')"
   ]
  },
  {
   "cell_type": "markdown",
   "id": "09519b83-bb2e-4492-b0e0-e103838490f6",
   "metadata": {},
   "source": [
    "### Income source in Puerto Rican households"
   ]
  },
  {
   "cell_type": "code",
   "execution_count": 85,
   "id": "b294d922-ef76-4c48-8d38-1974a06a1e3b",
   "metadata": {},
   "outputs": [],
   "source": [
    "m = df_income_source_exploded['ID_long'].isin(pr_hh_ID)\n",
    "df_income_source_exploded_PR_hh = df_income_source_exploded[m]"
   ]
  },
  {
   "cell_type": "code",
   "execution_count": 86,
   "id": "e2276872-4fe2-4681-985a-5eac392db8d9",
   "metadata": {},
   "outputs": [
    {
     "data": {
      "text/plain": [
       "race2             inc_srce_split\n",
       "Oriental          Employed            1\n",
       "Puerto Rican      Employed          317\n",
       "                  Welfare           133\n",
       "                  Own Busisnes       15\n",
       "                  Pension             9\n",
       "Puerto Rican mix  Employed            6\n",
       "White             Employed           10\n",
       "                  Own Busisnes        1\n",
       "NaN               Employed           74\n",
       "                  Welfare            35\n",
       "                  Own Busisnes        3\n",
       "                  Pension             3\n",
       "                  Retired             2\n",
       "Name: inc_srce_split, dtype: int64"
      ]
     },
     "execution_count": 86,
     "metadata": {},
     "output_type": "execute_result"
    }
   ],
   "source": [
    "df_income_source_exploded_PR_hh.groupby('race2',dropna=False)['inc_srce_split'].value_counts()"
   ]
  },
  {
   "cell_type": "code",
   "execution_count": 87,
   "id": "4d8228e3-9302-4f8a-8b38-91753143f8a9",
   "metadata": {},
   "outputs": [
    {
     "data": {
      "text/plain": [
       "Employed        408\n",
       "NaN             178\n",
       "Welfare         168\n",
       "Own Busisnes     19\n",
       "Pension          12\n",
       "Retired           2\n",
       "Name: inc_srce_split, dtype: int64"
      ]
     },
     "execution_count": 87,
     "metadata": {},
     "output_type": "execute_result"
    }
   ],
   "source": [
    "df_income_source_exploded_PR_hh['inc_srce_split'].value_counts(dropna=False)"
   ]
  },
  {
   "cell_type": "code",
   "execution_count": 88,
   "id": "32b00cd6-124d-4fb6-814d-6f900b09c536",
   "metadata": {},
   "outputs": [
    {
     "data": {
      "text/plain": [
       "Employed        51.8\n",
       "NaN             22.6\n",
       "Welfare         21.3\n",
       "Own Busisnes     2.4\n",
       "Pension          1.5\n",
       "Retired          0.3\n",
       "Name: inc_srce_split, dtype: float64"
      ]
     },
     "execution_count": 88,
     "metadata": {},
     "output_type": "execute_result"
    }
   ],
   "source": [
    "round(df_income_source_exploded_PR_hh['inc_srce_split'].value_counts(dropna=False, normalize=True)*100,1)"
   ]
  },
  {
   "cell_type": "code",
   "execution_count": 89,
   "id": "674bf23c-8f16-4f6f-b4b0-1e4424df7e5b",
   "metadata": {},
   "outputs": [
    {
     "data": {
      "text/plain": [
       "Text(0.5, 1.0, 'Distribution of all income sources in Puerto Rican households')"
      ]
     },
     "execution_count": 89,
     "metadata": {},
     "output_type": "execute_result"
    },
    {
     "data": {
      "image/png": "[encoded data removed]",
      "text/plain": [
       "<Figure size 640x480 with 1 Axes>"
      ]
     },
     "metadata": {},
     "output_type": "display_data"
    }
   ],
   "source": [
    "df_income_source_exploded_PR_hh['inc_srce_split'].value_counts(dropna=False).plot(kind='barh')\n",
    "plt.title('Distribution of all income sources in Puerto Rican households')"
   ]
  },
  {
   "cell_type": "code",
   "execution_count": 90,
   "id": "ffd7fcbe-1816-4d0c-9313-18df07147302",
   "metadata": {},
   "outputs": [],
   "source": [
    "## Income\n",
    "#income_variables = [i for i in df.columns if '_inc' in i] \n",
    "#print(income_variables)\n",
    "#\n",
    "#income_variables = ['ID_long'] + income_variables\n",
    "#\n",
    "#income_df = df[income_variables]\n",
    "#income_df.head(2)\n",
    "#\n",
    "#income_df = pd.melt(\n",
    "#    income_df, \n",
    "#    id_vars = 'ID_long', \n",
    "#    value_vars = income_variables[1:], \n",
    "#    value_name = 'income'\n",
    "#)\n",
    "#\n",
    "#income_df\n",
    "\n",
    "## Overcrowded\n",
    "#df['overcrwd_os'].isna().value_counts()\n",
    "#\n",
    "#df.groupby('race2')['overcrwd_os'].value_counts(dropna=False)\n",
    "#\n",
    "#df.groupby('race2')['overcrwd_r'].value_counts(dropna=False)"
   ]
  },
  {
   "cell_type": "code",
   "execution_count": null,
   "id": "85731857-c3fd-4b29-bfe4-23a8c0dbb63a",
   "metadata": {},
   "outputs": [],
   "source": []
  },
  {
   "cell_type": "markdown",
   "id": "9a15aedb-c836-4b49-b469-0ab614e2a34d",
   "metadata": {},
   "source": [
    "# Family Relocation Plan"
   ]
  },
  {
   "cell_type": "markdown",
   "id": "e1e02eab-4c32-44c2-a134-ccef90b84eae",
   "metadata": {},
   "source": [
    "## Number of rooms required"
   ]
  },
  {
   "cell_type": "code",
   "execution_count": 91,
   "id": "c71d6693-b36e-460e-867c-65584980c0ed",
   "metadata": {},
   "outputs": [
    {
     "data": {
      "text/plain": [
       "NaN                     1025\n",
       "4                        306\n",
       "5                        202\n",
       "3                        189\n",
       "5-Apr                     75\n",
       "                        ... \n",
       "3-5?                       1\n",
       "moving with daughter       1\n",
       "4.5                        1\n",
       "4 to 5                     1\n",
       "5+6                        1\n",
       "Name: room_req, Length: 65, dtype: int64"
      ]
     },
     "execution_count": 91,
     "metadata": {},
     "output_type": "execute_result"
    }
   ],
   "source": [
    "df['room_req'].value_counts(dropna=False)"
   ]
  },
  {
   "cell_type": "code",
   "execution_count": 92,
   "id": "0a330d38-376f-477d-84fa-4f454e1387b0",
   "metadata": {},
   "outputs": [
    {
     "data": {
      "text/plain": [
       "array(['5-Apr', '4', '3', nan, '2', '5', '2-2.5', '2.5', '3.5-4', '6-May',\n",
       "       '4 to 5', '5 or 6', '6', '4 or 5', '3 or 4', '4-Mar', '2-Jan',\n",
       "       '4.5', '3-Feb', '1.5-2', 'moving with daughter', '2 1/2', 'self',\n",
       "       '3-5?', '4.5-5', '2 1/2 - 3', 'will relocate self', '2 or 3', '1',\n",
       "       '2 1/2 or 3', 'Two units needed', '?', '1 or 2', '4-May', '2.5-3',\n",
       "       '1.5 or 2', '7-Jun', '4 1/2 - 5', '4-4.5', 'Self', '7', '1.5',\n",
       "       '3.5', '5-Mar', '55', '5`', '2.05-3', '6-Apr', 'Studio', '4 1/2',\n",
       "       '2.5 - 3', '3-3.5', 'self relocate', 'relocate self', '8/9/2010',\n",
       "       '7.5', '4+5', '6 or 7', '2 - 2 1/2', '1 1/2 - 2', '1 1/2',\n",
       "       'studio apt', '1 1/2 or 2', '1 1/2 - 2 1/2', '5+6'], dtype=object)"
      ]
     },
     "execution_count": 92,
     "metadata": {},
     "output_type": "execute_result"
    }
   ],
   "source": [
    "df['room_req'].unique()"
   ]
  },
  {
   "cell_type": "code",
   "execution_count": 93,
   "id": "53673636-a2c1-4471-95b5-a826798aac5c",
   "metadata": {},
   "outputs": [
    {
     "data": {
      "text/html": [
       "<div>\n",
       "<style scoped>\n",
       "    .dataframe tbody tr th:only-of-type {\n",
       "        vertical-align: middle;\n",
       "    }\n",
       "\n",
       "    .dataframe tbody tr th {\n",
       "        vertical-align: top;\n",
       "    }\n",
       "\n",
       "    .dataframe thead th {\n",
       "        text-align: right;\n",
       "    }\n",
       "</style>\n",
       "<table border=\"1\" class=\"dataframe\">\n",
       "  <thead>\n",
       "    <tr style=\"text-align: right;\">\n",
       "      <th></th>\n",
       "      <th>Unnamed: 0</th>\n",
       "      <th>X.1</th>\n",
       "      <th>X</th>\n",
       "      <th>ID_long</th>\n",
       "      <th>tstamp</th>\n",
       "      <th>email</th>\n",
       "      <th>name</th>\n",
       "      <th>os_addr</th>\n",
       "      <th>f_id</th>\n",
       "      <th>b_id</th>\n",
       "      <th>...</th>\n",
       "      <th>p06_plcrec_2</th>\n",
       "      <th>p07_plcrec_2</th>\n",
       "      <th>p08_plcrec_2</th>\n",
       "      <th>p09_plcrec_2</th>\n",
       "      <th>p010_plcrec_2</th>\n",
       "      <th>p011_plcrec_2</th>\n",
       "      <th>p012_plcrec_2</th>\n",
       "      <th>fam_size2</th>\n",
       "      <th>race2</th>\n",
       "      <th>PR_hh</th>\n",
       "    </tr>\n",
       "  </thead>\n",
       "  <tbody>\n",
       "    <tr>\n",
       "      <th>532</th>\n",
       "      <td>533</td>\n",
       "      <td>533</td>\n",
       "      <td>533</td>\n",
       "      <td>3195374663-61114-017_3195374663-61114-018</td>\n",
       "      <td>5/1/2024 11:05</td>\n",
       "      <td>monique.young@centropr.app</td>\n",
       "      <td>Monique</td>\n",
       "      <td>138 West 66 Street</td>\n",
       "      <td>3195374663-61114-017-Front.tif</td>\n",
       "      <td>3195374663-61114-018-Back.tif</td>\n",
       "      <td>...</td>\n",
       "      <td>NaN</td>\n",
       "      <td>NaN</td>\n",
       "      <td>NaN</td>\n",
       "      <td>NaN</td>\n",
       "      <td>NaN</td>\n",
       "      <td>NaN</td>\n",
       "      <td>NaN</td>\n",
       "      <td>5.0</td>\n",
       "      <td>NaN</td>\n",
       "      <td>True</td>\n",
       "    </tr>\n",
       "    <tr>\n",
       "      <th>2079</th>\n",
       "      <td>2080</td>\n",
       "      <td>2080</td>\n",
       "      <td>2080</td>\n",
       "      <td>3687367261-61109-005_3687367261-61109-006</td>\n",
       "      <td>7/17/2024 16:37</td>\n",
       "      <td>camila1juarbe@gmail.com</td>\n",
       "      <td>Camila</td>\n",
       "      <td>128 West 66 Street</td>\n",
       "      <td>3687367261-61109-005-Front.tif</td>\n",
       "      <td>3687367261-61109-006-Back.tif</td>\n",
       "      <td>...</td>\n",
       "      <td>NaN</td>\n",
       "      <td>NaN</td>\n",
       "      <td>NaN</td>\n",
       "      <td>NaN</td>\n",
       "      <td>NaN</td>\n",
       "      <td>NaN</td>\n",
       "      <td>NaN</td>\n",
       "      <td>4.0</td>\n",
       "      <td>NaN</td>\n",
       "      <td>False</td>\n",
       "    </tr>\n",
       "  </tbody>\n",
       "</table>\n",
       "<p>2 rows × 281 columns</p>\n",
       "</div>"
      ],
      "text/plain": [
       "      Unnamed: 0   X.1     X                                    ID_long  \\\n",
       "532          533   533   533  3195374663-61114-017_3195374663-61114-018   \n",
       "2079        2080  2080  2080  3687367261-61109-005_3687367261-61109-006   \n",
       "\n",
       "               tstamp                       email     name  \\\n",
       "532    5/1/2024 11:05  monique.young@centropr.app  Monique   \n",
       "2079  7/17/2024 16:37     camila1juarbe@gmail.com   Camila   \n",
       "\n",
       "                 os_addr                            f_id  \\\n",
       "532   138 West 66 Street  3195374663-61114-017-Front.tif   \n",
       "2079  128 West 66 Street  3687367261-61109-005-Front.tif   \n",
       "\n",
       "                               b_id  ... p06_plcrec_2 p07_plcrec_2  \\\n",
       "532   3195374663-61114-018-Back.tif  ...          NaN          NaN   \n",
       "2079  3687367261-61109-006-Back.tif  ...          NaN          NaN   \n",
       "\n",
       "     p08_plcrec_2 p09_plcrec_2 p010_plcrec_2 p011_plcrec_2  p012_plcrec_2  \\\n",
       "532           NaN          NaN           NaN           NaN            NaN   \n",
       "2079          NaN          NaN           NaN           NaN            NaN   \n",
       "\n",
       "     fam_size2 race2  PR_hh  \n",
       "532        5.0   NaN   True  \n",
       "2079       4.0   NaN  False  \n",
       "\n",
       "[2 rows x 281 columns]"
      ]
     },
     "execution_count": 93,
     "metadata": {},
     "output_type": "execute_result"
    }
   ],
   "source": [
    "df[df['room_req'] == '7-Jun']"
   ]
  },
  {
   "cell_type": "markdown",
   "id": "942cb413-bc2a-42d0-937a-e162fccaa75c",
   "metadata": {},
   "source": [
    "> Curse you, Excel! "
   ]
  },
  {
   "cell_type": "markdown",
   "id": "3c445a74-618b-4f22-aac8-cb6ae2638786",
   "metadata": {},
   "source": [
    "## Area desired"
   ]
  },
  {
   "cell_type": "code",
   "execution_count": 94,
   "id": "caaf2c40-6148-477e-b119-a9a8c3f87026",
   "metadata": {},
   "outputs": [
    {
     "data": {
      "text/plain": [
       "165"
      ]
     },
     "execution_count": 94,
     "metadata": {},
     "output_type": "execute_result"
    }
   ],
   "source": [
    "df['area_des'].nunique()"
   ]
  },
  {
   "cell_type": "code",
   "execution_count": 95,
   "id": "a7bc3977-942b-4ec1-b0f0-68ea11b00a55",
   "metadata": {
    "tags": []
   },
   "outputs": [
    {
     "data": {
      "text/plain": [
       "array(['Manhattan - East Side', 'Queens', 'Neighborhood', 'Manhattan',\n",
       "       nan, 'Sunnyside Queens', 'anyplace', 'L.I. (Queens) or Bronx',\n",
       "       'Brooklyn or Manhattan', 'Any', 'Brooklyn, Manhattan ',\n",
       "       'Manhattan, Queens ', 'Manhattan - this area', 'L.I. Queens',\n",
       "       'Mid Manhattan or Upper Manhattan', 'Midtown Manhattan',\n",
       "       'Sunnyside L.I.', 'Astoria or Manhattan', 'Jersey',\n",
       "       'Manhattan (West Side)', 'Long Island City Queens', 'Same',\n",
       "       'West side', 'Bronx. Washington Heights', 'Manhattan or queens',\n",
       "       'Mid Manhattan', 'West Side or Village', 'Manhattan or Brooklyn',\n",
       "       'Mid Manhattan, West', 'Mid Manhattan up to 104', 'Long Island',\n",
       "       'Staten Island', 'Manhattan, bronx ', 'Queens - Manhattan',\n",
       "       'Brooklyn', 'Bonx or L. I. (Queens)', 'Connecticut',\n",
       "       'Manhattan or bronx', 'Manhattan or Long Island', 'any', 'bronx',\n",
       "       'This area - Manhattan', 'West Bronx', 'Bronx-Washington Heights',\n",
       "       'Manhattan-Brooklyn',\n",
       "       'Mid Manhattan - West Manhattan - Long Island',\n",
       "       'Queens - Astoria - Bay Side', 'Manhattan - Mid or West',\n",
       "       'West Side Manhattan', 'Manhattan - West Side', 'Same - Manhattan',\n",
       "       '?', 'Manhattan or Queens', '[unintelligible]', 'Bronx, Manhattan',\n",
       "       '[Unintelligible]', 'queens', 'Manhattan, Long Island, bronx ',\n",
       "       'staten island', 'bronx or Long Island', 'Astoria', 'upstate',\n",
       "       'Outside N.Y. suburbs', 'Upstate', 'will relocate send',\n",
       "       'will try to relocate self', 'Brooklyn or queens',\n",
       "       'will relocate self', 'In this area - Manahattan',\n",
       "       'Flushing (Queens) or L.I.', 'Undecided', 'East Side (Manhattan)',\n",
       "       'Manhattan or Astoria', 'Manhattan or Bronx',\n",
       "       'Brooklyn or Long Island', 'Manhattan - Washington Heights',\n",
       "       'same', 'Near', \"W 50's\", 'Middle Manhattan',\n",
       "       'Long Island or Manhattan', 'W 60s', 'East Side Manhattan or West',\n",
       "       'Same Area', 'Anywhere', 'Bronx or Manhattan', 'Bronx',\n",
       "       'Manhattan east', 'New Jersey', 'L.I', 'Other area',\n",
       "       'Long Island or Upper Manhattan', 'westside', 'Same Vecinity',\n",
       "       'Astoria, L.I.', 'Manhattan - Neighborhood', 'Manhattan - Bronx',\n",
       "       'Manhattan - Lower Manhattan', 'Queens or Manhattan',\n",
       "       'Manhattan - Midtown', 'Manhattan - Same', 'Brooklyn, Manhattan',\n",
       "       'Manhattan - West Side Uptown',\n",
       "       'Manhattan - Westside (23st to 80st)', 'anywhere',\n",
       "       'Anywhere or Manhattan', '26 St-49st Westside',\n",
       "       'Manhattan - anywhere', 'Manhattan - Mid',\n",
       "       'Manhattan - Mid West Side', 'Manhattan Long Island',\n",
       "       'Manhattan - Lower Man or Mid West',\n",
       "       'Long Island (Queens) Astoria', 'manhattan', 'Queens, Manhattan',\n",
       "       'Manhattan - same neighborhood', 'Long Island (Queens)',\n",
       "       'Manhattan; ground floor', 'Manhattan - similar area',\n",
       "       'anywhere but brooklyn', 'Manhattan - Yorkville',\n",
       "       'Manhattan - East Asia', 'bronx or Manhattan',\n",
       "       'Washington Heights 173rd', 'Brooklyn + Manhattan', 'Suburb',\n",
       "       'Amsterdam- Anywhere', 'Not Harlem Downtown Only',\n",
       "       'Uptown Prospect 102 + Col. Ave.', 'Lower East or West Side',\n",
       "       'Manhattan Any Place', 'West Side', 'Manhattan, bronx, Brooklyn ',\n",
       "       'flushing queens', 'Manhattan-West', 'Queens Manhattan',\n",
       "       'Manhattan- West Side', 'Uptown', 'Manhattan West Side',\n",
       "       'queens, bronx ', 'Manhattan-Queens', 'Bronx-Manhattan',\n",
       "       'Manhattan-Bronx', 'North Bronx', 'Manhattan U.T.',\n",
       "       'Any- Bronx Preferred', 'Bronx and Manhattan',\n",
       "       'Jackson Heights Area', 'Lower Manhattan', 'Upper Manhattan',\n",
       "       'Manhattan, Bronx ', 'New York', 'This area', 'Lower East Side',\n",
       "       'Jetson Heights Long Island', 'Manhattan near Village',\n",
       "       'Manhattan, Bronx East or West ', \"90's-100's\",\n",
       "       'Washington Heights or W 28', \"W 30'S\", 'This Area',\n",
       "       'Manhattan- West', 'bronx, Brooklyn ', 'Bridge Port Connecticut',\n",
       "       'no preference', 'Manhattan , bronx '], dtype=object)"
      ]
     },
     "execution_count": 95,
     "metadata": {},
     "output_type": "execute_result"
    }
   ],
   "source": [
    "df['area_des'].unique()"
   ]
  },
  {
   "cell_type": "code",
   "execution_count": 96,
   "id": "6a3e4ff9-f002-47aa-b76e-005f392eef3d",
   "metadata": {},
   "outputs": [],
   "source": [
    "pd.DataFrame(df['area_des'].unique()).to_csv('family_relocation_plan__desired_area.csv', index=None)"
   ]
  },
  {
   "cell_type": "code",
   "execution_count": 97,
   "id": "c6ba1df4-6991-43f0-9955-3fe0c6f7452c",
   "metadata": {},
   "outputs": [
    {
     "name": "stdout",
     "output_type": "stream",
     "text": [
      "/Users/caoba/Documents/trabajo/centro-pr/lincoln-center/Lincoln-Square-Project\n"
     ]
    }
   ],
   "source": [
    "!pwd"
   ]
  },
  {
   "cell_type": "code",
   "execution_count": 98,
   "id": "09b4d498-30fb-4ea4-8421-725c98a12b6b",
   "metadata": {},
   "outputs": [
    {
     "data": {
      "text/html": [
       "<div>\n",
       "<style scoped>\n",
       "    .dataframe tbody tr th:only-of-type {\n",
       "        vertical-align: middle;\n",
       "    }\n",
       "\n",
       "    .dataframe tbody tr th {\n",
       "        vertical-align: top;\n",
       "    }\n",
       "\n",
       "    .dataframe thead th {\n",
       "        text-align: right;\n",
       "    }\n",
       "</style>\n",
       "<table border=\"1\" class=\"dataframe\">\n",
       "  <thead>\n",
       "    <tr style=\"text-align: right;\">\n",
       "      <th></th>\n",
       "      <th>desired_area</th>\n",
       "      <th>recoded</th>\n",
       "      <th>neighboorhood</th>\n",
       "    </tr>\n",
       "  </thead>\n",
       "  <tbody>\n",
       "    <tr>\n",
       "      <th>0</th>\n",
       "      <td>Manhattan - East Side</td>\n",
       "      <td>Manhattan</td>\n",
       "      <td>NaN</td>\n",
       "    </tr>\n",
       "    <tr>\n",
       "      <th>1</th>\n",
       "      <td>Queens</td>\n",
       "      <td>Queens</td>\n",
       "      <td>NaN</td>\n",
       "    </tr>\n",
       "    <tr>\n",
       "      <th>2</th>\n",
       "      <td>Neighborhood</td>\n",
       "      <td>Manhattan</td>\n",
       "      <td>1.0</td>\n",
       "    </tr>\n",
       "    <tr>\n",
       "      <th>3</th>\n",
       "      <td>Manhattan</td>\n",
       "      <td>Manhattan</td>\n",
       "      <td>1.0</td>\n",
       "    </tr>\n",
       "    <tr>\n",
       "      <th>4</th>\n",
       "      <td>NaN</td>\n",
       "      <td>NaN</td>\n",
       "      <td>NaN</td>\n",
       "    </tr>\n",
       "  </tbody>\n",
       "</table>\n",
       "</div>"
      ],
      "text/plain": [
       "            desired_area    recoded  neighboorhood\n",
       "0  Manhattan - East Side  Manhattan            NaN\n",
       "1                 Queens     Queens            NaN\n",
       "2           Neighborhood  Manhattan            1.0\n",
       "3              Manhattan  Manhattan            1.0\n",
       "4                    NaN        NaN            NaN"
      ]
     },
     "execution_count": 98,
     "metadata": {},
     "output_type": "execute_result"
    }
   ],
   "source": [
    "desired_area_df = pd.read_csv('family_relocation_plan__desired_area_recoded.csv')\n",
    "desired_area_df.head()"
   ]
  },
  {
   "cell_type": "code",
   "execution_count": 99,
   "id": "553e9b3f-4e7c-4292-a122-dafa3aa5f948",
   "metadata": {},
   "outputs": [],
   "source": [
    "desired_area_recode_dictionary = {k:v for k,v in zip(desired_area_df['desired_area'], desired_area_df['recoded'])}\n",
    "\n",
    "manhattan_west_recode_dictionary = {k:v for k,v in zip(desired_area_df['desired_area'], desired_area_df['neighboorhood'])} "
   ]
  },
  {
   "cell_type": "code",
   "execution_count": 100,
   "id": "eea8997c-167f-485b-8992-bc2cb8e545f6",
   "metadata": {},
   "outputs": [],
   "source": [
    "df['area_des_recoded'] = df['area_des'].apply(lambda x: desired_area_recode_dictionary[x])\n",
    "df['same_area_recoded'] = df['area_des'].apply(lambda x: manhattan_west_recode_dictionary[x])"
   ]
  },
  {
   "cell_type": "code",
   "execution_count": 101,
   "id": "f1a0675e-bbab-4bff-9b6b-ebb5cd7c4862",
   "metadata": {},
   "outputs": [
    {
     "data": {
      "text/plain": [
       "NaN    1504\n",
       "1.0     626\n",
       "Name: same_area_recoded, dtype: int64"
      ]
     },
     "execution_count": 101,
     "metadata": {},
     "output_type": "execute_result"
    }
   ],
   "source": [
    "df['same_area_recoded'].value_counts(dropna=False)"
   ]
  },
  {
   "cell_type": "markdown",
   "id": "23c2bedf-88d6-4f8c-af8b-7f5bd412d3bc",
   "metadata": {},
   "source": []
  },
  {
   "cell_type": "code",
   "execution_count": 102,
   "id": "def7353c-494d-4040-acf7-006b74bf928c",
   "metadata": {},
   "outputs": [
    {
     "name": "stderr",
     "output_type": "stream",
     "text": [
      "/var/folders/r5/8d6q755n7dj5k1lkfqtpj8yh0000gn/T/ipykernel_43095/2769064378.py:5: SettingWithCopyWarning: \n",
      "A value is trying to be set on a copy of a slice from a DataFrame.\n",
      "Try using .loc[row_indexer,col_indexer] = value instead\n",
      "\n",
      "See the caveats in the documentation: https://pandas.pydata.org/pandas-docs/stable/user_guide/indexing.html#returning-a-view-versus-a-copy\n",
      "  df_pr_hh['area_des_recoded_split'] = df_pr_hh['area_des_recoded'].str.split(', ')\n"
     ]
    }
   ],
   "source": [
    "df['area_des_recoded_split'] = df['area_des_recoded'].str.split(', ') \n",
    "desired_area_exploded_df = df.explode('area_des_recoded_split')\n",
    "\n",
    "df_pr_hh = df[df['PR_hh'] == True]\n",
    "df_pr_hh['area_des_recoded_split'] = df_pr_hh['area_des_recoded'].str.split(', ') \n",
    "desired_area_pr_hh_exploded_df = df_pr_hh.explode('area_des_recoded_split')"
   ]
  },
  {
   "cell_type": "code",
   "execution_count": 103,
   "id": "d927fc9d-730b-4a76-801f-4a0142731133",
   "metadata": {},
   "outputs": [
    {
     "data": {
      "text/plain": [
       "NaN                   1279\n",
       "Manhattan              724\n",
       "Bronx                   62\n",
       "Queens                  46\n",
       "Any                     26\n",
       "Long Island             22\n",
       "Brooklyn                15\n",
       "New Jersey               7\n",
       "Unintelligible           4\n",
       "New York                 4\n",
       "Staten Island            3\n",
       "Undecided/?              3\n",
       "will relocate self       3\n",
       "Connecticut              2\n",
       "Other                    2\n",
       "Not Brooklyn             1\n",
       "Name: area_des_recoded_split, dtype: int64"
      ]
     },
     "execution_count": 103,
     "metadata": {},
     "output_type": "execute_result"
    }
   ],
   "source": [
    "desired_area_exploded_df['area_des_recoded_split'].value_counts(dropna=False)"
   ]
  },
  {
   "cell_type": "code",
   "execution_count": 104,
   "id": "bc4a5679-8a6c-4de4-93d4-ca7b981a5459",
   "metadata": {},
   "outputs": [
    {
     "data": {
      "text/plain": [
       "race2             area_des_recoded_split\n",
       "Multi             Manhattan                   3\n",
       "                  NaN                         1\n",
       "                  Bronx                       1\n",
       "Negro             NaN                        63\n",
       "                  Manhattan                  27\n",
       "                  Any                         3\n",
       "                  Brooklyn                    1\n",
       "Oriental          NaN                         8\n",
       "                  Manhattan                   7\n",
       "Puerto Rican      NaN                       293\n",
       "                  Manhattan                 228\n",
       "                  Bronx                      23\n",
       "                  Any                         8\n",
       "                  Brooklyn                    5\n",
       "                  Unintelligible              3\n",
       "                  Long Island                 1\n",
       "                  New York                    1\n",
       "                  Queens                      1\n",
       "Puerto Rican mix  Manhattan                   8\n",
       "White             Manhattan                 315\n",
       "                  NaN                       171\n",
       "                  Queens                     39\n",
       "                  Bronx                      24\n",
       "                  Long Island                16\n",
       "                  Any                         9\n",
       "                  Brooklyn                    8\n",
       "                  New Jersey                  7\n",
       "                  Staten Island               3\n",
       "                  will relocate self          3\n",
       "                  Connecticut                 2\n",
       "                  New York                    1\n",
       "                  Unintelligible              1\n",
       "other             Manhattan                  21\n",
       "                  NaN                         6\n",
       "                  Long Island                 1\n",
       "                  Queens                      1\n",
       "NaN               NaN                       737\n",
       "                  Manhattan                 115\n",
       "                  Bronx                      14\n",
       "                  Any                         6\n",
       "                  Queens                      5\n",
       "                  Long Island                 4\n",
       "                  Undecided/?                 3\n",
       "                  New York                    2\n",
       "                  Other                       2\n",
       "                  Brooklyn                    1\n",
       "                  Not Brooklyn                1\n",
       "Name: area_des_recoded_split, dtype: int64"
      ]
     },
     "execution_count": 104,
     "metadata": {},
     "output_type": "execute_result"
    }
   ],
   "source": [
    "desired_area_exploded_df.groupby('race2', dropna=False)['area_des_recoded_split'].value_counts(dropna=False)"
   ]
  },
  {
   "cell_type": "code",
   "execution_count": 105,
   "id": "9e2a6061-f447-4479-91a6-4623d3b7725b",
   "metadata": {},
   "outputs": [
    {
     "data": {
      "text/plain": [
       "NaN               450\n",
       "Manhattan         291\n",
       "Bronx              34\n",
       "Any                13\n",
       "Brooklyn            5\n",
       "Unintelligible      3\n",
       "Queens              1\n",
       "Long Island         1\n",
       "New York            1\n",
       "Connecticut         1\n",
       "Name: area_des_recoded_split, dtype: int64"
      ]
     },
     "execution_count": 105,
     "metadata": {},
     "output_type": "execute_result"
    }
   ],
   "source": [
    "desired_area_pr_hh_exploded_df['area_des_recoded_split'].value_counts(dropna=False)"
   ]
  },
  {
   "cell_type": "code",
   "execution_count": 106,
   "id": "187c9ac0-545d-46d9-ba57-e779f6171272",
   "metadata": {},
   "outputs": [
    {
     "data": {
      "text/plain": [
       "True     58.4\n",
       "False    41.6\n",
       "Name: area_des, dtype: float64"
      ]
     },
     "execution_count": 106,
     "metadata": {},
     "output_type": "execute_result"
    }
   ],
   "source": [
    "round(df_pr_hh['area_des'].isna().value_counts(normalize=True)*100, 1)"
   ]
  },
  {
   "cell_type": "markdown",
   "id": "56b3927f-719b-45c0-a8db-ff92437215f1",
   "metadata": {},
   "source": [
    "> 58.4% of Puerto Rican households have a blank desired area variable in the family relocation plan section."
   ]
  },
  {
   "cell_type": "code",
   "execution_count": 107,
   "id": "c828e969-0623-4260-8a34-8c65745ad852",
   "metadata": {},
   "outputs": [
    {
     "data": {
      "text/plain": [
       "True     450\n",
       "False    321\n",
       "Name: area_des, dtype: int64"
      ]
     },
     "execution_count": 107,
     "metadata": {},
     "output_type": "execute_result"
    }
   ],
   "source": [
    "df_pr_hh['area_des'].isna().value_counts()"
   ]
  },
  {
   "cell_type": "code",
   "execution_count": 108,
   "id": "74c76bd3-0565-4d27-a793-39279a53dd40",
   "metadata": {},
   "outputs": [
    {
     "data": {
      "text/plain": [
       "(771, 284)"
      ]
     },
     "execution_count": 108,
     "metadata": {},
     "output_type": "execute_result"
    }
   ],
   "source": [
    "df_pr_hh.shape"
   ]
  },
  {
   "cell_type": "markdown",
   "id": "a024a36c-7ae6-4340-9eba-b9be39ed290f",
   "metadata": {},
   "source": [
    ">  41.6% or 321 Puerto Rican household records do have desired areas of relocation written on the cards. "
   ]
  },
  {
   "cell_type": "code",
   "execution_count": 109,
   "id": "4211ca3e-224c-4801-91d5-0cd53b06408d",
   "metadata": {},
   "outputs": [
    {
     "data": {
      "text/plain": [
       "NaN                       450\n",
       "Manhattan                 263\n",
       "Bronx, Manhattan           20\n",
       "Bronx                      12\n",
       "Any                        11\n",
       "Brooklyn, Manhattan         4\n",
       "Unintelligible              3\n",
       "Manhattan, Queens           1\n",
       "Manhattan, Bronx            1\n",
       "Long Island, Manhattan      1\n",
       "Any, Manhattan              1\n",
       "Brooklyn                    1\n",
       "Any, Bronx                  1\n",
       "New York                    1\n",
       "Connecticut                 1\n",
       "Name: area_des_recoded, dtype: int64"
      ]
     },
     "execution_count": 109,
     "metadata": {},
     "output_type": "execute_result"
    }
   ],
   "source": [
    "df_pr_hh['area_des_recoded'].value_counts(dropna=False)"
   ]
  },
  {
   "cell_type": "code",
   "execution_count": 110,
   "id": "54c5d230-3847-40ac-b27c-49a6ea73ff4a",
   "metadata": {
    "tags": []
   },
   "outputs": [
    {
     "data": {
      "text/plain": [
       "(800, 284)"
      ]
     },
     "execution_count": 110,
     "metadata": {},
     "output_type": "execute_result"
    }
   ],
   "source": [
    "desired_area_pr_hh_exploded_df.shape"
   ]
  },
  {
   "cell_type": "code",
   "execution_count": 111,
   "id": "1c1b7e58-0064-429d-b3df-eb96e5dc1190",
   "metadata": {},
   "outputs": [
    {
     "data": {
      "text/plain": [
       "NaN               450\n",
       "Manhattan         291\n",
       "Bronx              34\n",
       "Any                13\n",
       "Brooklyn            5\n",
       "Unintelligible      3\n",
       "Queens              1\n",
       "Long Island         1\n",
       "New York            1\n",
       "Connecticut         1\n",
       "Name: area_des_recoded_split, dtype: int64"
      ]
     },
     "execution_count": 111,
     "metadata": {},
     "output_type": "execute_result"
    }
   ],
   "source": [
    "desired_area_pr_hh_exploded_df['area_des_recoded_split'].value_counts(dropna=False)"
   ]
  },
  {
   "cell_type": "code",
   "execution_count": 112,
   "id": "6a342b99-1b2c-4edb-ab11-d08d94d65c92",
   "metadata": {},
   "outputs": [
    {
     "data": {
      "text/plain": [
       "Manhattan         83.1\n",
       "Bronx              9.7\n",
       "Any                3.7\n",
       "Brooklyn           1.4\n",
       "Unintelligible     0.9\n",
       "Queens             0.3\n",
       "Long Island        0.3\n",
       "New York           0.3\n",
       "Connecticut        0.3\n",
       "Name: area_des_recoded_split, dtype: float64"
      ]
     },
     "execution_count": 112,
     "metadata": {},
     "output_type": "execute_result"
    }
   ],
   "source": [
    "round(desired_area_pr_hh_exploded_df['area_des_recoded_split'].value_counts(normalize=True)*100,1)"
   ]
  },
  {
   "cell_type": "markdown",
   "id": "fc921318-e1d8-4705-9431-39eaf86b55d7",
   "metadata": {},
   "source": [
    "> Of the records that have a desired area written in them, Manhattan is written 83.1% times. "
   ]
  },
  {
   "cell_type": "code",
   "execution_count": 113,
   "id": "3876a2e4-0d11-4a4a-859a-e13eda03f756",
   "metadata": {},
   "outputs": [
    {
     "data": {
      "text/plain": [
       "NaN               56.2\n",
       "Manhattan         36.4\n",
       "Bronx              4.2\n",
       "Any                1.6\n",
       "Brooklyn           0.6\n",
       "Unintelligible     0.4\n",
       "Queens             0.1\n",
       "Long Island        0.1\n",
       "New York           0.1\n",
       "Connecticut        0.1\n",
       "Name: area_des_recoded_split, dtype: float64"
      ]
     },
     "execution_count": 113,
     "metadata": {},
     "output_type": "execute_result"
    }
   ],
   "source": [
    "round(desired_area_pr_hh_exploded_df['area_des_recoded_split'].value_counts(dropna=False, normalize=True)*100,1)"
   ]
  },
  {
   "cell_type": "code",
   "execution_count": 114,
   "id": "4b2b8035-4441-4b25-a630-b45b7ec332ba",
   "metadata": {},
   "outputs": [
    {
     "data": {
      "text/plain": [
       "Manhattan         291\n",
       "Bronx              34\n",
       "Any                13\n",
       "Brooklyn            5\n",
       "Unintelligible      3\n",
       "Queens              1\n",
       "Long Island         1\n",
       "New York            1\n",
       "Connecticut         1\n",
       "Name: area_des_recoded_split, dtype: int64"
      ]
     },
     "execution_count": 114,
     "metadata": {},
     "output_type": "execute_result"
    }
   ],
   "source": [
    "desired_area_pr_hh_exploded_df['area_des_recoded_split'].value_counts()"
   ]
  },
  {
   "cell_type": "code",
   "execution_count": 115,
   "id": "bce23578-fd67-43a0-bea0-9b9137c62d4e",
   "metadata": {},
   "outputs": [
    {
     "data": {
      "text/plain": [
       "Manhattan         83.1\n",
       "Bronx              9.7\n",
       "Any                3.7\n",
       "Brooklyn           1.4\n",
       "Unintelligible     0.9\n",
       "Queens             0.3\n",
       "Long Island        0.3\n",
       "New York           0.3\n",
       "Connecticut        0.3\n",
       "Name: area_des_recoded_split, dtype: float64"
      ]
     },
     "execution_count": 115,
     "metadata": {},
     "output_type": "execute_result"
    }
   ],
   "source": [
    "round(desired_area_pr_hh_exploded_df['area_des_recoded_split'].value_counts(normalize=True)*100,1)"
   ]
  },
  {
   "cell_type": "code",
   "execution_count": 116,
   "id": "f5412210-bc45-477b-a57c-3cc1fc5f5155",
   "metadata": {},
   "outputs": [
    {
     "data": {
      "text/plain": [
       "NaN               56.2\n",
       "Manhattan         36.4\n",
       "Bronx              4.2\n",
       "Any                1.6\n",
       "Brooklyn           0.6\n",
       "Unintelligible     0.4\n",
       "Queens             0.1\n",
       "Long Island        0.1\n",
       "New York           0.1\n",
       "Connecticut        0.1\n",
       "Name: area_des_recoded_split, dtype: float64"
      ]
     },
     "execution_count": 116,
     "metadata": {},
     "output_type": "execute_result"
    }
   ],
   "source": [
    "round(desired_area_pr_hh_exploded_df['area_des_recoded_split'].value_counts(normalize=True, dropna=False)*100,1)"
   ]
  },
  {
   "cell_type": "code",
   "execution_count": 117,
   "id": "1213b9e9-22f8-493f-8f27-d657d2d6cdb0",
   "metadata": {},
   "outputs": [
    {
     "data": {
      "text/plain": [
       "Manhattan             78.4\n",
       "Bronx                  6.7\n",
       "Queens                 5.0\n",
       "Any                    2.8\n",
       "Long Island            2.4\n",
       "Brooklyn               1.6\n",
       "New Jersey             0.8\n",
       "Unintelligible         0.4\n",
       "New York               0.4\n",
       "Staten Island          0.3\n",
       "Undecided/?            0.3\n",
       "will relocate self     0.3\n",
       "Connecticut            0.2\n",
       "Other                  0.2\n",
       "Not Brooklyn           0.1\n",
       "Name: area_des_recoded_split, dtype: float64"
      ]
     },
     "execution_count": 117,
     "metadata": {},
     "output_type": "execute_result"
    }
   ],
   "source": [
    "round(desired_area_exploded_df['area_des_recoded_split'].value_counts(normalize=True)*100, 1)"
   ]
  },
  {
   "cell_type": "code",
   "execution_count": 118,
   "id": "2d734b4d-6c73-446d-974a-7f7b2547efa7",
   "metadata": {},
   "outputs": [
    {
     "data": {
      "text/plain": [
       "NaN                   58.1\n",
       "Manhattan             32.9\n",
       "Bronx                  2.8\n",
       "Queens                 2.1\n",
       "Any                    1.2\n",
       "Long Island            1.0\n",
       "Brooklyn               0.7\n",
       "New Jersey             0.3\n",
       "Unintelligible         0.2\n",
       "New York               0.2\n",
       "Staten Island          0.1\n",
       "Undecided/?            0.1\n",
       "will relocate self     0.1\n",
       "Connecticut            0.1\n",
       "Other                  0.1\n",
       "Not Brooklyn           0.0\n",
       "Name: area_des_recoded_split, dtype: float64"
      ]
     },
     "execution_count": 118,
     "metadata": {},
     "output_type": "execute_result"
    }
   ],
   "source": [
    "round(desired_area_exploded_df['area_des_recoded_split'].value_counts(normalize=True, dropna=False)*100, 1)"
   ]
  },
  {
   "cell_type": "markdown",
   "id": "97f0ae65-dc31-41c3-b2e8-14627b943916",
   "metadata": {},
   "source": [
    "Who wanted to stay in the same area, nearby, in the neighborhood, or on W Manhattan?"
   ]
  },
  {
   "cell_type": "code",
   "execution_count": 119,
   "id": "0a99c6a7-7903-49c8-a585-394b074e3306",
   "metadata": {},
   "outputs": [
    {
     "data": {
      "text/plain": [
       "NaN    70.6\n",
       "1.0    29.4\n",
       "Name: same_area_recoded, dtype: float64"
      ]
     },
     "execution_count": 119,
     "metadata": {},
     "output_type": "execute_result"
    }
   ],
   "source": [
    "round(df['same_area_recoded'].value_counts(dropna=False, normalize=True)*100,1)"
   ]
  },
  {
   "cell_type": "code",
   "execution_count": 120,
   "id": "cbd39022-0b84-41a8-b01a-8e351afe0134",
   "metadata": {},
   "outputs": [
    {
     "data": {
      "text/plain": [
       "NaN    66.7\n",
       "1.0    33.3\n",
       "Name: same_area_recoded, dtype: float64"
      ]
     },
     "execution_count": 120,
     "metadata": {},
     "output_type": "execute_result"
    }
   ],
   "source": [
    "round(df_pr_hh['same_area_recoded'].value_counts(dropna=False, normalize=True)*100,1)"
   ]
  },
  {
   "cell_type": "markdown",
   "id": "77ecacf6-faed-49e4-9969-1f923945c87d",
   "metadata": {},
   "source": [
    "29.4% of all records indicate they want to stay in the area. 33.3% of all records for Puerto Rican households indicate they want to stay in the area. "
   ]
  },
  {
   "cell_type": "code",
   "execution_count": 121,
   "id": "7570d6a9-c608-4201-9e47-74e21107d5e5",
   "metadata": {},
   "outputs": [
    {
     "data": {
      "text/plain": [
       "same_area_recoded  race2           \n",
       "1.0                White               269\n",
       "                   Puerto Rican        200\n",
       "                   NaN                  99\n",
       "                   Negro                21\n",
       "                   other                21\n",
       "                   Puerto Rican mix      8\n",
       "                   Oriental              7\n",
       "                   Multi                 1\n",
       "NaN                NaN                 779\n",
       "                   Puerto Rican        340\n",
       "                   White               294\n",
       "                   Negro                73\n",
       "                   Oriental              8\n",
       "                   other                 7\n",
       "                   Multi                 3\n",
       "Name: race2, dtype: int64"
      ]
     },
     "execution_count": 121,
     "metadata": {},
     "output_type": "execute_result"
    }
   ],
   "source": [
    "df.groupby('same_area_recoded', dropna=False)['race2'].value_counts(dropna=False)"
   ]
  },
  {
   "cell_type": "code",
   "execution_count": null,
   "id": "84b97cd7-1fc4-445f-960d-ad5874eff10e",
   "metadata": {},
   "outputs": [],
   "source": []
  },
  {
   "cell_type": "code",
   "execution_count": null,
   "id": "02cb2993-5294-4da5-8238-382f349856ed",
   "metadata": {},
   "outputs": [],
   "source": []
  },
  {
   "cell_type": "markdown",
   "id": "908cc0a1-c4cf-48d5-80ad-13288ffc84ac",
   "metadata": {},
   "source": [
    "## Desired housing type:"
   ]
  },
  {
   "cell_type": "code",
   "execution_count": 122,
   "id": "eb449db9-3e74-44a7-9147-db559626df7f",
   "metadata": {},
   "outputs": [
    {
     "data": {
      "text/plain": [
       "array(['Private Apartment', 'Private Apartment, Public Housing', nan,\n",
       "       'Public Housing', 'Purchase Home',\n",
       "       'Private Apartment, Purchase Home, Public Housing',\n",
       "       'Furnished room', 'Private Apartment, Purchase Home',\n",
       "       'Private Apartment, Furnished room',\n",
       "       'Private Apartment, Public Housing, Furnished room',\n",
       "       'Public Housing, Furnished room',\n",
       "       'Private Apartment, Purchase Home, Furnished room'], dtype=object)"
      ]
     },
     "execution_count": 122,
     "metadata": {},
     "output_type": "execute_result"
    }
   ],
   "source": [
    "df['hous_type'].unique()"
   ]
  },
  {
   "cell_type": "code",
   "execution_count": 123,
   "id": "917946de-c34e-4df2-9eab-a7b7c5cf6ad4",
   "metadata": {},
   "outputs": [
    {
     "data": {
      "text/plain": [
       "NaN                                                  1128\n",
       "Private Apartment                                     680\n",
       "Public Housing                                        215\n",
       "Private Apartment, Public Housing                      79\n",
       "Private Apartment, Furnished room                      11\n",
       "Furnished room                                          6\n",
       "Purchase Home                                           5\n",
       "Private Apartment, Purchase Home                        2\n",
       "Private Apartment, Purchase Home, Public Housing        1\n",
       "Private Apartment, Public Housing, Furnished room       1\n",
       "Public Housing, Furnished room                          1\n",
       "Private Apartment, Purchase Home, Furnished room        1\n",
       "Name: hous_type, dtype: int64"
      ]
     },
     "execution_count": 123,
     "metadata": {},
     "output_type": "execute_result"
    }
   ],
   "source": [
    "df['hous_type'].value_counts(dropna=False)"
   ]
  },
  {
   "cell_type": "code",
   "execution_count": 124,
   "id": "f51d388e-cdd7-4cbe-a363-d01aadd1185d",
   "metadata": {},
   "outputs": [
    {
     "data": {
      "text/plain": [
       "NaN                                  346\n",
       "Private Apartment                    210\n",
       "Public Housing                       161\n",
       "Private Apartment, Public Housing     43\n",
       "Private Apartment, Furnished room      9\n",
       "Purchase Home                          1\n",
       "Private Apartment, Purchase Home       1\n",
       "Name: hous_type, dtype: int64"
      ]
     },
     "execution_count": 124,
     "metadata": {},
     "output_type": "execute_result"
    }
   ],
   "source": [
    "df_pr_hh['hous_type'].value_counts(dropna=False)"
   ]
  },
  {
   "cell_type": "code",
   "execution_count": 125,
   "id": "1e965c73-1afb-44a4-ae68-6a3fd1235444",
   "metadata": {},
   "outputs": [
    {
     "data": {
      "text/plain": [
       "hous_type                                          race2           \n",
       "Furnished room                                     White                 3\n",
       "                                                   Negro                 1\n",
       "                                                   Oriental              1\n",
       "Private Apartment                                  White               348\n",
       "                                                   Puerto Rican        165\n",
       "                                                   Negro                33\n",
       "                                                   other                22\n",
       "                                                   Oriental              7\n",
       "                                                   Puerto Rican mix      6\n",
       "                                                   Multi                 1\n",
       "Private Apartment, Furnished room                  Puerto Rican          8\n",
       "                                                   Negro                 2\n",
       "Private Apartment, Public Housing                  Puerto Rican         31\n",
       "                                                   White                28\n",
       "                                                   Negro                 2\n",
       "                                                   other                 2\n",
       "                                                   Oriental              1\n",
       "                                                   Puerto Rican mix      1\n",
       "Private Apartment, Public Housing, Furnished room  White                 1\n",
       "Private Apartment, Purchase Home                   Puerto Rican          1\n",
       "                                                   White                 1\n",
       "Private Apartment, Purchase Home, Public Housing   Negro                 1\n",
       "Public Housing                                     Puerto Rican        123\n",
       "                                                   White                31\n",
       "                                                   Negro                 7\n",
       "                                                   Multi                 1\n",
       "                                                   Oriental              1\n",
       "Public Housing, Furnished room                     White                 1\n",
       "Purchase Home                                      White                 2\n",
       "                                                   Puerto Rican          1\n",
       "Name: race2, dtype: int64"
      ]
     },
     "execution_count": 125,
     "metadata": {},
     "output_type": "execute_result"
    }
   ],
   "source": [
    "df.groupby('hous_type')['race2'].value_counts()"
   ]
  },
  {
   "cell_type": "code",
   "execution_count": 126,
   "id": "188c25e3-74b6-4624-9f1e-b1da30575516",
   "metadata": {},
   "outputs": [
    {
     "data": {
      "text/plain": [
       "race2             hous_type                                        \n",
       "Multi             Private Apartment                                      1\n",
       "                  Public Housing                                         1\n",
       "Negro             Private Apartment                                     33\n",
       "                  Public Housing                                         7\n",
       "                  Private Apartment, Furnished room                      2\n",
       "                  Private Apartment, Public Housing                      2\n",
       "                  Furnished room                                         1\n",
       "                  Private Apartment, Purchase Home, Public Housing       1\n",
       "Oriental          Private Apartment                                      7\n",
       "                  Furnished room                                         1\n",
       "                  Private Apartment, Public Housing                      1\n",
       "                  Public Housing                                         1\n",
       "Puerto Rican      Private Apartment                                    165\n",
       "                  Public Housing                                       123\n",
       "                  Private Apartment, Public Housing                     31\n",
       "                  Private Apartment, Furnished room                      8\n",
       "                  Private Apartment, Purchase Home                       1\n",
       "                  Purchase Home                                          1\n",
       "Puerto Rican mix  Private Apartment                                      6\n",
       "                  Private Apartment, Public Housing                      1\n",
       "White             Private Apartment                                    348\n",
       "                  Public Housing                                        31\n",
       "                  Private Apartment, Public Housing                     28\n",
       "                  Furnished room                                         3\n",
       "                  Purchase Home                                          2\n",
       "                  Private Apartment, Public Housing, Furnished room      1\n",
       "                  Private Apartment, Purchase Home                       1\n",
       "                  Public Housing, Furnished room                         1\n",
       "other             Private Apartment                                     22\n",
       "                  Private Apartment, Public Housing                      2\n",
       "Name: hous_type, dtype: int64"
      ]
     },
     "execution_count": 126,
     "metadata": {},
     "output_type": "execute_result"
    }
   ],
   "source": [
    "df.groupby('race2')['hous_type'].value_counts()"
   ]
  },
  {
   "cell_type": "code",
   "execution_count": null,
   "id": "dce00416-f86d-48c5-b750-b4bcfc45482c",
   "metadata": {},
   "outputs": [],
   "source": []
  },
  {
   "cell_type": "code",
   "execution_count": 127,
   "id": "cfd33a1f-ec4a-45fb-939c-7c5dd035e7d2",
   "metadata": {},
   "outputs": [
    {
     "name": "stderr",
     "output_type": "stream",
     "text": [
      "/var/folders/r5/8d6q755n7dj5k1lkfqtpj8yh0000gn/T/ipykernel_43095/1471028991.py:4: SettingWithCopyWarning: \n",
      "A value is trying to be set on a copy of a slice from a DataFrame.\n",
      "Try using .loc[row_indexer,col_indexer] = value instead\n",
      "\n",
      "See the caveats in the documentation: https://pandas.pydata.org/pandas-docs/stable/user_guide/indexing.html#returning-a-view-versus-a-copy\n",
      "  df_pr_hh['hous_type_split'] = df_pr_hh['hous_type'].str.split(', ')\n"
     ]
    }
   ],
   "source": [
    "df['hous_type_split'] = df['hous_type'].str.split(', ') \n",
    "housing_type_exploded_df = df.explode('hous_type_split')\n",
    "\n",
    "df_pr_hh['hous_type_split'] = df_pr_hh['hous_type'].str.split(', ')  \n",
    "housing_type_pr_hh_exploded_df = df_pr_hh.explode('hous_type_split')"
   ]
  },
  {
   "cell_type": "code",
   "execution_count": null,
   "id": "8b3446ad-9407-43e5-9ccd-1ed29867f130",
   "metadata": {},
   "outputs": [],
   "source": []
  },
  {
   "cell_type": "code",
   "execution_count": null,
   "id": "534adac5-86cb-48c8-bfa7-0d842a34dc7e",
   "metadata": {},
   "outputs": [],
   "source": []
  },
  {
   "cell_type": "code",
   "execution_count": 128,
   "id": "9c555b55-80c8-4513-953f-fb5880077191",
   "metadata": {},
   "outputs": [
    {
     "data": {
      "text/plain": [
       "True     1128\n",
       "False    1002\n",
       "Name: hous_type, dtype: int64"
      ]
     },
     "execution_count": 128,
     "metadata": {},
     "output_type": "execute_result"
    }
   ],
   "source": [
    "df['hous_type'].isna().value_counts()"
   ]
  },
  {
   "cell_type": "code",
   "execution_count": 129,
   "id": "737d8842-9f6b-4540-be87-6e9aad72e612",
   "metadata": {},
   "outputs": [
    {
     "data": {
      "text/plain": [
       "NaN                  1128\n",
       "Private Apartment     775\n",
       "Public Housing        297\n",
       "Furnished room         20\n",
       "Purchase Home           9\n",
       "Name: hous_type_split, dtype: int64"
      ]
     },
     "execution_count": 129,
     "metadata": {},
     "output_type": "execute_result"
    }
   ],
   "source": [
    "housing_type_exploded_df['hous_type_split'].value_counts(dropna=False)"
   ]
  },
  {
   "cell_type": "code",
   "execution_count": 130,
   "id": "d358685d-dd53-415f-89c5-7876c08c5496",
   "metadata": {},
   "outputs": [
    {
     "data": {
      "text/plain": [
       "Private Apartment    70.4\n",
       "Public Housing       27.0\n",
       "Furnished room        1.8\n",
       "Purchase Home         0.8\n",
       "Name: hous_type_split, dtype: float64"
      ]
     },
     "execution_count": 130,
     "metadata": {},
     "output_type": "execute_result"
    }
   ],
   "source": [
    "round(housing_type_exploded_df['hous_type_split'].value_counts(normalize=True)*100,1)"
   ]
  },
  {
   "cell_type": "code",
   "execution_count": 131,
   "id": "904111f8-c94c-4397-9604-8e2ab90c860c",
   "metadata": {},
   "outputs": [
    {
     "data": {
      "text/plain": [
       "race2             hous_type_split  \n",
       "Multi             NaN                    2\n",
       "                  Private Apartment      1\n",
       "                  Public Housing         1\n",
       "Negro             NaN                   48\n",
       "                  Private Apartment     38\n",
       "                  Public Housing        10\n",
       "                  Furnished room         3\n",
       "                  Purchase Home          1\n",
       "Oriental          Private Apartment      8\n",
       "                  NaN                    5\n",
       "                  Public Housing         2\n",
       "                  Furnished room         1\n",
       "Puerto Rican      NaN                  211\n",
       "                  Private Apartment    205\n",
       "                  Public Housing       154\n",
       "                  Furnished room         8\n",
       "                  Purchase Home          2\n",
       "Puerto Rican mix  Private Apartment      7\n",
       "                  NaN                    1\n",
       "                  Public Housing         1\n",
       "White             Private Apartment    378\n",
       "                  NaN                  148\n",
       "                  Public Housing        61\n",
       "                  Furnished room         5\n",
       "                  Purchase Home          3\n",
       "other             Private Apartment     24\n",
       "                  NaN                    4\n",
       "                  Public Housing         2\n",
       "NaN               NaN                  709\n",
       "                  Private Apartment    114\n",
       "                  Public Housing        66\n",
       "                  Furnished room         3\n",
       "                  Purchase Home          3\n",
       "Name: hous_type_split, dtype: int64"
      ]
     },
     "execution_count": 131,
     "metadata": {},
     "output_type": "execute_result"
    }
   ],
   "source": [
    "housing_type_exploded_df.groupby('race2', dropna=False)['hous_type_split'].value_counts(dropna=False)"
   ]
  },
  {
   "cell_type": "code",
   "execution_count": null,
   "id": "c6f7b235-e29e-4273-bb58-bf30ee18841a",
   "metadata": {},
   "outputs": [],
   "source": []
  },
  {
   "cell_type": "code",
   "execution_count": null,
   "id": "37ff75b3-d618-4703-8a77-92954a594aec",
   "metadata": {},
   "outputs": [],
   "source": []
  },
  {
   "cell_type": "code",
   "execution_count": 132,
   "id": "e20b1e55-112f-4eca-8ec8-9e639ac99f6f",
   "metadata": {},
   "outputs": [
    {
     "data": {
      "text/plain": [
       "False    425\n",
       "True     346\n",
       "Name: hous_type, dtype: int64"
      ]
     },
     "execution_count": 132,
     "metadata": {},
     "output_type": "execute_result"
    }
   ],
   "source": [
    "df_pr_hh['hous_type'].isna().value_counts()"
   ]
  },
  {
   "cell_type": "code",
   "execution_count": 133,
   "id": "9f605d8d-dd60-4918-859e-4518230399fe",
   "metadata": {},
   "outputs": [
    {
     "data": {
      "text/plain": [
       "NaN                  346\n",
       "Private Apartment    263\n",
       "Public Housing       204\n",
       "Furnished room         9\n",
       "Purchase Home          2\n",
       "Name: hous_type_split, dtype: int64"
      ]
     },
     "execution_count": 133,
     "metadata": {},
     "output_type": "execute_result"
    }
   ],
   "source": [
    "housing_type_pr_hh_exploded_df['hous_type_split'].value_counts(dropna=False)"
   ]
  },
  {
   "cell_type": "code",
   "execution_count": 134,
   "id": "e575aec8-8a97-4073-b14c-c9c7181237a0",
   "metadata": {},
   "outputs": [
    {
     "data": {
      "text/plain": [
       "Private Apartment    55.0\n",
       "Public Housing       42.7\n",
       "Furnished room        1.9\n",
       "Purchase Home         0.4\n",
       "Name: hous_type_split, dtype: float64"
      ]
     },
     "execution_count": 134,
     "metadata": {},
     "output_type": "execute_result"
    }
   ],
   "source": [
    "round(housing_type_pr_hh_exploded_df['hous_type_split'].value_counts(normalize=True)*100,1)"
   ]
  },
  {
   "cell_type": "code",
   "execution_count": null,
   "id": "b64ab0e9-4fe6-4eef-b5de-30bb52b18363",
   "metadata": {},
   "outputs": [],
   "source": []
  },
  {
   "cell_type": "markdown",
   "id": "4f643c19-503a-4bcb-9a7b-de93f9ea2693",
   "metadata": {},
   "source": [
    "Any indication of wanting Public Housing? "
   ]
  },
  {
   "cell_type": "code",
   "execution_count": 135,
   "id": "f9d58390-0e1c-4170-8633-bb4ec78a96b3",
   "metadata": {},
   "outputs": [
    {
     "data": {
      "text/plain": [
       "NaN      1128\n",
       "False     705\n",
       "True      297\n",
       "Name: hous_type, dtype: int64"
      ]
     },
     "execution_count": 135,
     "metadata": {},
     "output_type": "execute_result"
    }
   ],
   "source": [
    "df['hous_type'].str.contains('Public Housing').value_counts(dropna=False)"
   ]
  },
  {
   "cell_type": "code",
   "execution_count": 136,
   "id": "6df6d634-c116-4c56-a916-1498988a0629",
   "metadata": {},
   "outputs": [
    {
     "data": {
      "text/plain": [
       "NaN      346\n",
       "False    221\n",
       "True     204\n",
       "Name: hous_type, dtype: int64"
      ]
     },
     "execution_count": 136,
     "metadata": {},
     "output_type": "execute_result"
    }
   ],
   "source": [
    "df_pr_hh['hous_type'].str.contains('Public Housing').value_counts(dropna=False)"
   ]
  },
  {
   "cell_type": "code",
   "execution_count": null,
   "id": "6e2b2c7d-df9b-4de6-a9a2-e62189efe4f5",
   "metadata": {},
   "outputs": [],
   "source": []
  },
  {
   "cell_type": "markdown",
   "id": "c6d0b2af-8c58-4075-b6da-54b15ec74ee7",
   "metadata": {},
   "source": [
    "## Rent range"
   ]
  },
  {
   "cell_type": "code",
   "execution_count": 137,
   "id": "559627b5-e678-4a2c-b139-6e0c39a2e990",
   "metadata": {},
   "outputs": [],
   "source": [
    "##import re\n",
    "##import numpy as np\n",
    "##\n",
    "##def parse_rent_list(rent_list):\n",
    "##    parsed_rent = []\n",
    "##    \n",
    "##    for rent in rent_list:\n",
    "##        if isinstance(rent, str):\n",
    "##            rent = rent.lower().strip()\n",
    "##            \n",
    "##            # Remove dollar signs and extra words\n",
    "##            rent = re.sub(r'[^0-9.-]', ' ', rent)  # Keep numbers, dots, and dashes\n",
    "##            rent = re.sub(r'\\s+', ' ', rent).strip()  # Remove extra spaces\n",
    "##            \n",
    "##            # Find numeric ranges or single values\n",
    "##            match = re.findall(r'\\d+\\.?\\d*', rent)\n",
    "##            \n",
    "##            if match:\n",
    "##                match = [float(m) for m in match]\n",
    "##                min_val, max_val = (match[0], match[-1])  # First and last value as min/max\n",
    "##            else:\n",
    "##                min_val, max_val = (np.nan, np.nan)\n",
    "##        \n",
    "##        elif isinstance(rent, (int, float)) and not np.isnan(rent):\n",
    "##            min_val, max_val = (float(rent), float(rent))\n",
    "##        \n",
    "##        else:\n",
    "##            min_val, max_val = (np.nan, np.nan)\n",
    "##        \n",
    "##        parsed_rent.append((min_val, max_val))\n",
    "##    \n",
    "##    return parsed_rent\n",
    "##\n",
    "### Example usage:\n",
    "##processed_rent_list = parse_rent_list(rent_list)"
   ]
  },
  {
   "cell_type": "code",
   "execution_count": null,
   "id": "f8220547-6f6b-4b8c-9894-7cd88cde1327",
   "metadata": {},
   "outputs": [],
   "source": []
  },
  {
   "cell_type": "code",
   "execution_count": 138,
   "id": "8c1b38be-c65d-4b68-aabb-7ea6e74d9ef9",
   "metadata": {},
   "outputs": [],
   "source": [
    "import re\n",
    "import numpy as np\n",
    "import pandas as pd\n",
    "\n",
    "def parse_rent_series(rent_series):\n",
    "    min_rent = []\n",
    "    max_rent = []\n",
    "    \n",
    "    for rent in rent_series:\n",
    "        if isinstance(rent, str):\n",
    "            rent = rent.lower().strip()\n",
    "            \n",
    "            # Remove dollar signs and extra words\n",
    "            rent = re.sub(r'[^0-9.-]', ' ', rent)  # Keep numbers, dots, and dashes\n",
    "            rent = re.sub(r'\\s+', ' ', rent).strip()  # Remove extra spaces\n",
    "            \n",
    "            # Find numeric ranges or single values\n",
    "            match = re.findall(r'\\d+\\.?\\d*', rent)\n",
    "            \n",
    "            if match:\n",
    "                match = [float(m) for m in match]\n",
    "                min_val, max_val = (match[0], match[-1])  # First and last value as min/max\n",
    "            else:\n",
    "                min_val, max_val = (np.nan, np.nan)\n",
    "        \n",
    "        elif isinstance(rent, (int, float)) and not np.isnan(rent):\n",
    "            min_val, max_val = (float(rent), float(rent))\n",
    "        \n",
    "        else:\n",
    "            min_val, max_val = (np.nan, np.nan)\n",
    "        \n",
    "        min_rent.append(min_val)\n",
    "        max_rent.append(max_val)\n",
    "    \n",
    "    return pd.Series(min_rent, index=rent_series.index), pd.Series(max_rent, index=rent_series.index)\n",
    "\n",
    "# Example usage:\n",
    "# min_series, max_series = parse_rent_series(pd.Series(rent_list))"
   ]
  },
  {
   "cell_type": "code",
   "execution_count": 139,
   "id": "a12500f0-6f99-4415-83ff-2b68b88647e1",
   "metadata": {},
   "outputs": [],
   "source": [
    "min_rent, max_rent = parse_rent_series(df['rent_rng'])"
   ]
  },
  {
   "cell_type": "markdown",
   "id": "40e9584e-5e98-416c-a9ef-407f7487b686",
   "metadata": {},
   "source": [
    "Add minimum desired rent and maximum desired rent. "
   ]
  },
  {
   "cell_type": "code",
   "execution_count": 140,
   "id": "9d85a83b-53db-44fd-81b1-b4fa0d481782",
   "metadata": {
    "tags": []
   },
   "outputs": [
    {
     "data": {
      "text/html": [
       "<div>\n",
       "<style scoped>\n",
       "    .dataframe tbody tr th:only-of-type {\n",
       "        vertical-align: middle;\n",
       "    }\n",
       "\n",
       "    .dataframe tbody tr th {\n",
       "        vertical-align: top;\n",
       "    }\n",
       "\n",
       "    .dataframe thead th {\n",
       "        text-align: right;\n",
       "    }\n",
       "</style>\n",
       "<table border=\"1\" class=\"dataframe\">\n",
       "  <thead>\n",
       "    <tr style=\"text-align: right;\">\n",
       "      <th></th>\n",
       "      <th>ID_long</th>\n",
       "      <th>rent_rng</th>\n",
       "      <th>min_des_rent</th>\n",
       "      <th>max_des_rent</th>\n",
       "    </tr>\n",
       "  </thead>\n",
       "  <tbody>\n",
       "    <tr>\n",
       "      <th>801</th>\n",
       "      <td>3262913099-61007-007_3262913099-61007-008</td>\n",
       "      <td>80</td>\n",
       "      <td>80.0</td>\n",
       "      <td>80.0</td>\n",
       "    </tr>\n",
       "    <tr>\n",
       "      <th>430</th>\n",
       "      <td>3195236545-60983-011_3195236545-60983-012</td>\n",
       "      <td>35</td>\n",
       "      <td>35.0</td>\n",
       "      <td>35.0</td>\n",
       "    </tr>\n",
       "    <tr>\n",
       "      <th>599</th>\n",
       "      <td>3262902027-60988-007_3262902027-60988-008</td>\n",
       "      <td>50.00 - 60.00</td>\n",
       "      <td>50.0</td>\n",
       "      <td>60.0</td>\n",
       "    </tr>\n",
       "    <tr>\n",
       "      <th>1264</th>\n",
       "      <td>3458110635-61049-039_3458110635-61049-040</td>\n",
       "      <td>NaN</td>\n",
       "      <td>NaN</td>\n",
       "      <td>NaN</td>\n",
       "    </tr>\n",
       "    <tr>\n",
       "      <th>1544</th>\n",
       "      <td>3568906814-61064-003_3568906814-61064-004</td>\n",
       "      <td>70.00-75.00</td>\n",
       "      <td>70.0</td>\n",
       "      <td>75.0</td>\n",
       "    </tr>\n",
       "    <tr>\n",
       "      <th>2118</th>\n",
       "      <td>3687372978-61113-001_3687372978-61113-002</td>\n",
       "      <td>NaN</td>\n",
       "      <td>NaN</td>\n",
       "      <td>NaN</td>\n",
       "    </tr>\n",
       "    <tr>\n",
       "      <th>1315</th>\n",
       "      <td>3458129566-61050-007_3458129566-61050-008</td>\n",
       "      <td>NaN</td>\n",
       "      <td>NaN</td>\n",
       "      <td>NaN</td>\n",
       "    </tr>\n",
       "    <tr>\n",
       "      <th>1565</th>\n",
       "      <td>3568908691-61066-019_3568908691-61066-020</td>\n",
       "      <td>NaN</td>\n",
       "      <td>NaN</td>\n",
       "      <td>NaN</td>\n",
       "    </tr>\n",
       "    <tr>\n",
       "      <th>1014</th>\n",
       "      <td>3458103429-61038-015_3458103429-61038-016</td>\n",
       "      <td>NaN</td>\n",
       "      <td>NaN</td>\n",
       "      <td>NaN</td>\n",
       "    </tr>\n",
       "    <tr>\n",
       "      <th>1726</th>\n",
       "      <td>3687345238-61083-005_3687345238-61083-006</td>\n",
       "      <td>NaN</td>\n",
       "      <td>NaN</td>\n",
       "      <td>NaN</td>\n",
       "    </tr>\n",
       "  </tbody>\n",
       "</table>\n",
       "</div>"
      ],
      "text/plain": [
       "                                        ID_long       rent_rng  min_des_rent  \\\n",
       "801   3262913099-61007-007_3262913099-61007-008             80          80.0   \n",
       "430   3195236545-60983-011_3195236545-60983-012             35          35.0   \n",
       "599   3262902027-60988-007_3262902027-60988-008  50.00 - 60.00          50.0   \n",
       "1264  3458110635-61049-039_3458110635-61049-040            NaN           NaN   \n",
       "1544  3568906814-61064-003_3568906814-61064-004    70.00-75.00          70.0   \n",
       "2118  3687372978-61113-001_3687372978-61113-002            NaN           NaN   \n",
       "1315  3458129566-61050-007_3458129566-61050-008            NaN           NaN   \n",
       "1565  3568908691-61066-019_3568908691-61066-020            NaN           NaN   \n",
       "1014  3458103429-61038-015_3458103429-61038-016            NaN           NaN   \n",
       "1726  3687345238-61083-005_3687345238-61083-006            NaN           NaN   \n",
       "\n",
       "      max_des_rent  \n",
       "801           80.0  \n",
       "430           35.0  \n",
       "599           60.0  \n",
       "1264           NaN  \n",
       "1544          75.0  \n",
       "2118           NaN  \n",
       "1315           NaN  \n",
       "1565           NaN  \n",
       "1014           NaN  \n",
       "1726           NaN  "
      ]
     },
     "execution_count": 140,
     "metadata": {},
     "output_type": "execute_result"
    }
   ],
   "source": [
    "df['min_des_rent'] = min_rent\n",
    "df['max_des_rent'] = max_rent\n",
    "\n",
    "df[['ID_long', 'rent_rng', 'min_des_rent', 'max_des_rent']].sample(10)"
   ]
  },
  {
   "cell_type": "code",
   "execution_count": 141,
   "id": "ffff07bc-b098-4d50-ba5e-8a01bbaac869",
   "metadata": {},
   "outputs": [
    {
     "data": {
      "text/plain": [
       "count    827.000000\n",
       "mean      55.755103\n",
       "std       16.238049\n",
       "min        5.000000\n",
       "25%       45.000000\n",
       "50%       55.000000\n",
       "75%       65.000000\n",
       "max      180.540000\n",
       "Name: min_des_rent, dtype: float64"
      ]
     },
     "execution_count": 141,
     "metadata": {},
     "output_type": "execute_result"
    }
   ],
   "source": [
    "df['min_des_rent'].describe()"
   ]
  },
  {
   "cell_type": "code",
   "execution_count": 142,
   "id": "4f040e68-d45d-4d05-9026-42ff21e98dc8",
   "metadata": {},
   "outputs": [
    {
     "data": {
      "text/plain": [
       "count     827.000000\n",
       "mean       66.206131\n",
       "std       241.954764\n",
       "min         5.000000\n",
       "25%        50.000000\n",
       "50%        60.000000\n",
       "75%        65.000000\n",
       "max      7000.000000\n",
       "Name: max_des_rent, dtype: float64"
      ]
     },
     "execution_count": 142,
     "metadata": {},
     "output_type": "execute_result"
    }
   ],
   "source": [
    "df['max_des_rent'].describe()"
   ]
  },
  {
   "cell_type": "markdown",
   "id": "5fb1f740-0ff8-4dec-8c30-213836071250",
   "metadata": {},
   "source": [
    ">7000 is too much. Check this record. "
   ]
  },
  {
   "cell_type": "code",
   "execution_count": 143,
   "id": "0c69267b-eb80-4f62-a498-1f98e5a200d3",
   "metadata": {},
   "outputs": [
    {
     "data": {
      "text/plain": [
       "669    60.00-7000\n",
       "Name: rent_rng, dtype: object"
      ]
     },
     "execution_count": 143,
     "metadata": {},
     "output_type": "execute_result"
    }
   ],
   "source": [
    "df[df['max_des_rent'] == df['max_des_rent'].max()]['rent_rng']"
   ]
  },
  {
   "cell_type": "code",
   "execution_count": 144,
   "id": "285b0a60-94a1-4cfd-bb9a-e6e6350122e7",
   "metadata": {},
   "outputs": [
    {
     "data": {
      "text/html": [
       "<div>\n",
       "<style scoped>\n",
       "    .dataframe tbody tr th:only-of-type {\n",
       "        vertical-align: middle;\n",
       "    }\n",
       "\n",
       "    .dataframe tbody tr th {\n",
       "        vertical-align: top;\n",
       "    }\n",
       "\n",
       "    .dataframe thead th {\n",
       "        text-align: right;\n",
       "    }\n",
       "</style>\n",
       "<table border=\"1\" class=\"dataframe\">\n",
       "  <thead>\n",
       "    <tr style=\"text-align: right;\">\n",
       "      <th></th>\n",
       "      <th>Unnamed: 0</th>\n",
       "      <th>X.1</th>\n",
       "      <th>X</th>\n",
       "      <th>ID_long</th>\n",
       "      <th>tstamp</th>\n",
       "      <th>email</th>\n",
       "      <th>name</th>\n",
       "      <th>os_addr</th>\n",
       "      <th>f_id</th>\n",
       "      <th>b_id</th>\n",
       "      <th>...</th>\n",
       "      <th>p012_plcrec_2</th>\n",
       "      <th>fam_size2</th>\n",
       "      <th>race2</th>\n",
       "      <th>PR_hh</th>\n",
       "      <th>area_des_recoded</th>\n",
       "      <th>same_area_recoded</th>\n",
       "      <th>area_des_recoded_split</th>\n",
       "      <th>hous_type_split</th>\n",
       "      <th>min_des_rent</th>\n",
       "      <th>max_des_rent</th>\n",
       "    </tr>\n",
       "  </thead>\n",
       "  <tbody>\n",
       "    <tr>\n",
       "      <th>669</th>\n",
       "      <td>670</td>\n",
       "      <td>670</td>\n",
       "      <td>670</td>\n",
       "      <td>3262905663-60994-003_3262905663-60994-004</td>\n",
       "      <td>4/1/2024 14:47</td>\n",
       "      <td>jorge.soldevila@centropr.app</td>\n",
       "      <td>Jorge</td>\n",
       "      <td>73 Amsterdam Avenue</td>\n",
       "      <td>3262905663-60994-003-Front.tif</td>\n",
       "      <td>3262905663-60994-004-Back.tif</td>\n",
       "      <td>...</td>\n",
       "      <td>NaN</td>\n",
       "      <td>2.0</td>\n",
       "      <td>Puerto Rican</td>\n",
       "      <td>True</td>\n",
       "      <td>NaN</td>\n",
       "      <td>NaN</td>\n",
       "      <td>NaN</td>\n",
       "      <td>[Private Apartment]</td>\n",
       "      <td>60.0</td>\n",
       "      <td>7000.0</td>\n",
       "    </tr>\n",
       "  </tbody>\n",
       "</table>\n",
       "<p>1 rows × 287 columns</p>\n",
       "</div>"
      ],
      "text/plain": [
       "     Unnamed: 0  X.1    X                                    ID_long  \\\n",
       "669         670  670  670  3262905663-60994-003_3262905663-60994-004   \n",
       "\n",
       "             tstamp                         email   name              os_addr  \\\n",
       "669  4/1/2024 14:47  jorge.soldevila@centropr.app  Jorge  73 Amsterdam Avenue   \n",
       "\n",
       "                               f_id                           b_id  ...  \\\n",
       "669  3262905663-60994-003-Front.tif  3262905663-60994-004-Back.tif  ...   \n",
       "\n",
       "    p012_plcrec_2 fam_size2         race2 PR_hh area_des_recoded  \\\n",
       "669           NaN       2.0  Puerto Rican  True              NaN   \n",
       "\n",
       "    same_area_recoded  area_des_recoded_split      hous_type_split  \\\n",
       "669               NaN                     NaN  [Private Apartment]   \n",
       "\n",
       "    min_des_rent  max_des_rent  \n",
       "669         60.0        7000.0  \n",
       "\n",
       "[1 rows x 287 columns]"
      ]
     },
     "execution_count": 144,
     "metadata": {},
     "output_type": "execute_result"
    }
   ],
   "source": [
    "df[df['max_des_rent'] == df['max_des_rent'].max()]"
   ]
  },
  {
   "cell_type": "markdown",
   "id": "79dd724c-284b-4936-b344-65080bfa2da2",
   "metadata": {},
   "source": [
    "Yeah, it's supposed to be 70.00. \n",
    "\n",
    "> Replace. "
   ]
  },
  {
   "cell_type": "code",
   "execution_count": 145,
   "id": "769a27e8-b540-425f-8391-59f1e5ff5c4e",
   "metadata": {},
   "outputs": [],
   "source": [
    "df.at[669, 'rent_rng'] = '60.00-70.00'"
   ]
  },
  {
   "cell_type": "markdown",
   "id": "f018d667-320b-4383-b353-47616bb00db7",
   "metadata": {},
   "source": [
    "> Check record with 5.00. "
   ]
  },
  {
   "cell_type": "code",
   "execution_count": 146,
   "id": "12ac5174-69ec-4407-b479-5fc9490202c0",
   "metadata": {},
   "outputs": [
    {
     "data": {
      "text/plain": [
       "343    .5.00\n",
       "Name: rent_rng, dtype: object"
      ]
     },
     "execution_count": 146,
     "metadata": {},
     "output_type": "execute_result"
    }
   ],
   "source": [
    "df[df['min_des_rent'] == df['min_des_rent'].min()]['rent_rng']"
   ]
  },
  {
   "cell_type": "code",
   "execution_count": 147,
   "id": "464024ea-b8e0-461c-b0d8-351ec45693b6",
   "metadata": {},
   "outputs": [
    {
     "data": {
      "text/html": [
       "<div>\n",
       "<style scoped>\n",
       "    .dataframe tbody tr th:only-of-type {\n",
       "        vertical-align: middle;\n",
       "    }\n",
       "\n",
       "    .dataframe tbody tr th {\n",
       "        vertical-align: top;\n",
       "    }\n",
       "\n",
       "    .dataframe thead th {\n",
       "        text-align: right;\n",
       "    }\n",
       "</style>\n",
       "<table border=\"1\" class=\"dataframe\">\n",
       "  <thead>\n",
       "    <tr style=\"text-align: right;\">\n",
       "      <th></th>\n",
       "      <th>Unnamed: 0</th>\n",
       "      <th>X.1</th>\n",
       "      <th>X</th>\n",
       "      <th>ID_long</th>\n",
       "      <th>tstamp</th>\n",
       "      <th>email</th>\n",
       "      <th>name</th>\n",
       "      <th>os_addr</th>\n",
       "      <th>f_id</th>\n",
       "      <th>b_id</th>\n",
       "      <th>...</th>\n",
       "      <th>p012_plcrec_2</th>\n",
       "      <th>fam_size2</th>\n",
       "      <th>race2</th>\n",
       "      <th>PR_hh</th>\n",
       "      <th>area_des_recoded</th>\n",
       "      <th>same_area_recoded</th>\n",
       "      <th>area_des_recoded_split</th>\n",
       "      <th>hous_type_split</th>\n",
       "      <th>min_des_rent</th>\n",
       "      <th>max_des_rent</th>\n",
       "    </tr>\n",
       "  </thead>\n",
       "  <tbody>\n",
       "    <tr>\n",
       "      <th>343</th>\n",
       "      <td>344</td>\n",
       "      <td>344</td>\n",
       "      <td>344</td>\n",
       "      <td>3105293794-60978-007_3105293794-60978-008</td>\n",
       "      <td>2/13/2024 12:18</td>\n",
       "      <td>Jorge Soldevila-Irizarry</td>\n",
       "      <td>Jorge</td>\n",
       "      <td>114 West 63 Street</td>\n",
       "      <td>3105293794-60978-007-Front.tif</td>\n",
       "      <td>3105293794-60978-008-Back.tif</td>\n",
       "      <td>...</td>\n",
       "      <td>NaN</td>\n",
       "      <td>4.0</td>\n",
       "      <td>NaN</td>\n",
       "      <td>False</td>\n",
       "      <td>Undecided/?</td>\n",
       "      <td>NaN</td>\n",
       "      <td>[Undecided/?]</td>\n",
       "      <td>[Private Apartment]</td>\n",
       "      <td>5.0</td>\n",
       "      <td>5.0</td>\n",
       "    </tr>\n",
       "  </tbody>\n",
       "</table>\n",
       "<p>1 rows × 287 columns</p>\n",
       "</div>"
      ],
      "text/plain": [
       "     Unnamed: 0  X.1    X                                    ID_long  \\\n",
       "343         344  344  344  3105293794-60978-007_3105293794-60978-008   \n",
       "\n",
       "              tstamp                     email   name             os_addr  \\\n",
       "343  2/13/2024 12:18  Jorge Soldevila-Irizarry  Jorge  114 West 63 Street   \n",
       "\n",
       "                               f_id                           b_id  ...  \\\n",
       "343  3105293794-60978-007-Front.tif  3105293794-60978-008-Back.tif  ...   \n",
       "\n",
       "    p012_plcrec_2 fam_size2 race2  PR_hh area_des_recoded same_area_recoded  \\\n",
       "343           NaN       4.0   NaN  False      Undecided/?               NaN   \n",
       "\n",
       "     area_des_recoded_split      hous_type_split min_des_rent  max_des_rent  \n",
       "343           [Undecided/?]  [Private Apartment]          5.0           5.0  \n",
       "\n",
       "[1 rows x 287 columns]"
      ]
     },
     "execution_count": 147,
     "metadata": {},
     "output_type": "execute_result"
    }
   ],
   "source": [
    "df[df['min_des_rent'] == df['min_des_rent'].min()]"
   ]
  },
  {
   "cell_type": "markdown",
   "id": "c6550557-28e1-493b-a65d-ebd913ca85ad",
   "metadata": {},
   "source": [
    "Yeah, it's supposed to be 35.00. \n",
    "> Replace. "
   ]
  },
  {
   "cell_type": "code",
   "execution_count": 148,
   "id": "75103ab4-1546-45f9-8a89-fbb414d7916c",
   "metadata": {},
   "outputs": [],
   "source": [
    "df.at[343, 'rent_rng'] = '35.00-'"
   ]
  },
  {
   "cell_type": "markdown",
   "id": "78f39598-9ebf-405b-8ed2-b7b4b89392a6",
   "metadata": {},
   "source": [
    "> Check row with max min_des_rent of 180.54. "
   ]
  },
  {
   "cell_type": "code",
   "execution_count": 149,
   "id": "f47ba762-7461-41ca-8d14-fec839ec86d6",
   "metadata": {},
   "outputs": [
    {
     "data": {
      "text/plain": [
       "1741    180.54\n",
       "Name: rent_rng, dtype: object"
      ]
     },
     "execution_count": 149,
     "metadata": {},
     "output_type": "execute_result"
    }
   ],
   "source": [
    "df[df['min_des_rent'] == df['min_des_rent'].max()]['rent_rng']"
   ]
  },
  {
   "cell_type": "code",
   "execution_count": 150,
   "id": "e5a473c9-d5cd-4e84-aa96-2b83b7b6746d",
   "metadata": {},
   "outputs": [
    {
     "data": {
      "text/html": [
       "<div>\n",
       "<style scoped>\n",
       "    .dataframe tbody tr th:only-of-type {\n",
       "        vertical-align: middle;\n",
       "    }\n",
       "\n",
       "    .dataframe tbody tr th {\n",
       "        vertical-align: top;\n",
       "    }\n",
       "\n",
       "    .dataframe thead th {\n",
       "        text-align: right;\n",
       "    }\n",
       "</style>\n",
       "<table border=\"1\" class=\"dataframe\">\n",
       "  <thead>\n",
       "    <tr style=\"text-align: right;\">\n",
       "      <th></th>\n",
       "      <th>Unnamed: 0</th>\n",
       "      <th>X.1</th>\n",
       "      <th>X</th>\n",
       "      <th>ID_long</th>\n",
       "      <th>tstamp</th>\n",
       "      <th>email</th>\n",
       "      <th>name</th>\n",
       "      <th>os_addr</th>\n",
       "      <th>f_id</th>\n",
       "      <th>b_id</th>\n",
       "      <th>...</th>\n",
       "      <th>p012_plcrec_2</th>\n",
       "      <th>fam_size2</th>\n",
       "      <th>race2</th>\n",
       "      <th>PR_hh</th>\n",
       "      <th>area_des_recoded</th>\n",
       "      <th>same_area_recoded</th>\n",
       "      <th>area_des_recoded_split</th>\n",
       "      <th>hous_type_split</th>\n",
       "      <th>min_des_rent</th>\n",
       "      <th>max_des_rent</th>\n",
       "    </tr>\n",
       "  </thead>\n",
       "  <tbody>\n",
       "    <tr>\n",
       "      <th>1741</th>\n",
       "      <td>1742</td>\n",
       "      <td>1742</td>\n",
       "      <td>1742</td>\n",
       "      <td>3687346103-61084-013_3687346103-61084-014</td>\n",
       "      <td>6/18/2024 9:39</td>\n",
       "      <td>monique.young@centropr.app</td>\n",
       "      <td>Monique</td>\n",
       "      <td>130 West 65 Street</td>\n",
       "      <td>3687346103-61084-013-Front.tif</td>\n",
       "      <td>3687346103-61084-014-Back.tif</td>\n",
       "      <td>...</td>\n",
       "      <td>NaN</td>\n",
       "      <td>4.0</td>\n",
       "      <td>Puerto Rican</td>\n",
       "      <td>True</td>\n",
       "      <td>Manhattan</td>\n",
       "      <td>1.0</td>\n",
       "      <td>[Manhattan]</td>\n",
       "      <td>[Public Housing]</td>\n",
       "      <td>180.54</td>\n",
       "      <td>180.54</td>\n",
       "    </tr>\n",
       "  </tbody>\n",
       "</table>\n",
       "<p>1 rows × 287 columns</p>\n",
       "</div>"
      ],
      "text/plain": [
       "      Unnamed: 0   X.1     X                                    ID_long  \\\n",
       "1741        1742  1742  1742  3687346103-61084-013_3687346103-61084-014   \n",
       "\n",
       "              tstamp                       email     name             os_addr  \\\n",
       "1741  6/18/2024 9:39  monique.young@centropr.app  Monique  130 West 65 Street   \n",
       "\n",
       "                                f_id                           b_id  ...  \\\n",
       "1741  3687346103-61084-013-Front.tif  3687346103-61084-014-Back.tif  ...   \n",
       "\n",
       "     p012_plcrec_2 fam_size2         race2 PR_hh area_des_recoded  \\\n",
       "1741           NaN       4.0  Puerto Rican  True        Manhattan   \n",
       "\n",
       "     same_area_recoded  area_des_recoded_split   hous_type_split min_des_rent  \\\n",
       "1741               1.0             [Manhattan]  [Public Housing]       180.54   \n",
       "\n",
       "      max_des_rent  \n",
       "1741        180.54  \n",
       "\n",
       "[1 rows x 287 columns]"
      ]
     },
     "execution_count": 150,
     "metadata": {},
     "output_type": "execute_result"
    }
   ],
   "source": [
    "df[df['min_des_rent'] == df['min_des_rent'].max()]"
   ]
  },
  {
   "cell_type": "markdown",
   "id": "8471f92f-9867-4643-9047-4d50e22c3e21",
   "metadata": {},
   "source": [
    "> Ok. That's what it said.\n",
    "\n",
    "> Re-run split in to min/max values. "
   ]
  },
  {
   "cell_type": "code",
   "execution_count": 151,
   "id": "1d58c260-4664-423f-b0f4-6db577b56b78",
   "metadata": {},
   "outputs": [
    {
     "data": {
      "text/html": [
       "<div>\n",
       "<style scoped>\n",
       "    .dataframe tbody tr th:only-of-type {\n",
       "        vertical-align: middle;\n",
       "    }\n",
       "\n",
       "    .dataframe tbody tr th {\n",
       "        vertical-align: top;\n",
       "    }\n",
       "\n",
       "    .dataframe thead th {\n",
       "        text-align: right;\n",
       "    }\n",
       "</style>\n",
       "<table border=\"1\" class=\"dataframe\">\n",
       "  <thead>\n",
       "    <tr style=\"text-align: right;\">\n",
       "      <th></th>\n",
       "      <th>ID_long</th>\n",
       "      <th>rent_rng</th>\n",
       "      <th>min_des_rent</th>\n",
       "      <th>max_des_rent</th>\n",
       "    </tr>\n",
       "  </thead>\n",
       "  <tbody>\n",
       "    <tr>\n",
       "      <th>873</th>\n",
       "      <td>3262921422-61017-001_3262921422-61017-002</td>\n",
       "      <td>NaN</td>\n",
       "      <td>NaN</td>\n",
       "      <td>NaN</td>\n",
       "    </tr>\n",
       "    <tr>\n",
       "      <th>276</th>\n",
       "      <td>3105260901-60973-017_3105260901-60973-018</td>\n",
       "      <td>50</td>\n",
       "      <td>50.0</td>\n",
       "      <td>50.0</td>\n",
       "    </tr>\n",
       "    <tr>\n",
       "      <th>430</th>\n",
       "      <td>3195236545-60983-011_3195236545-60983-012</td>\n",
       "      <td>35</td>\n",
       "      <td>35.0</td>\n",
       "      <td>35.0</td>\n",
       "    </tr>\n",
       "    <tr>\n",
       "      <th>1863</th>\n",
       "      <td>3687357055-61094-029_3687357055-61094-030</td>\n",
       "      <td>NaN</td>\n",
       "      <td>NaN</td>\n",
       "      <td>NaN</td>\n",
       "    </tr>\n",
       "    <tr>\n",
       "      <th>1884</th>\n",
       "      <td>3687357594-61095-039_3687357594-61095-040</td>\n",
       "      <td>NaN</td>\n",
       "      <td>NaN</td>\n",
       "      <td>NaN</td>\n",
       "    </tr>\n",
       "    <tr>\n",
       "      <th>338</th>\n",
       "      <td>3105291390-60977-027_3105291390-60977-028</td>\n",
       "      <td>45</td>\n",
       "      <td>45.0</td>\n",
       "      <td>45.0</td>\n",
       "    </tr>\n",
       "    <tr>\n",
       "      <th>1286</th>\n",
       "      <td>3458110635-61049-083_3458110635-61049-084</td>\n",
       "      <td>NaN</td>\n",
       "      <td>NaN</td>\n",
       "      <td>NaN</td>\n",
       "    </tr>\n",
       "    <tr>\n",
       "      <th>843</th>\n",
       "      <td>3262914236-61010-021_3262914236-61010-022</td>\n",
       "      <td>NaN</td>\n",
       "      <td>NaN</td>\n",
       "      <td>NaN</td>\n",
       "    </tr>\n",
       "    <tr>\n",
       "      <th>1440</th>\n",
       "      <td>3568902147-61059-001_3568902147-61059-002</td>\n",
       "      <td>NaN</td>\n",
       "      <td>NaN</td>\n",
       "      <td>NaN</td>\n",
       "    </tr>\n",
       "    <tr>\n",
       "      <th>198</th>\n",
       "      <td>3105221470-60967-003_3105221470-60967-004</td>\n",
       "      <td>NaN</td>\n",
       "      <td>NaN</td>\n",
       "      <td>NaN</td>\n",
       "    </tr>\n",
       "  </tbody>\n",
       "</table>\n",
       "</div>"
      ],
      "text/plain": [
       "                                        ID_long rent_rng  min_des_rent  \\\n",
       "873   3262921422-61017-001_3262921422-61017-002      NaN           NaN   \n",
       "276   3105260901-60973-017_3105260901-60973-018       50          50.0   \n",
       "430   3195236545-60983-011_3195236545-60983-012       35          35.0   \n",
       "1863  3687357055-61094-029_3687357055-61094-030      NaN           NaN   \n",
       "1884  3687357594-61095-039_3687357594-61095-040      NaN           NaN   \n",
       "338   3105291390-60977-027_3105291390-60977-028       45          45.0   \n",
       "1286  3458110635-61049-083_3458110635-61049-084      NaN           NaN   \n",
       "843   3262914236-61010-021_3262914236-61010-022      NaN           NaN   \n",
       "1440  3568902147-61059-001_3568902147-61059-002      NaN           NaN   \n",
       "198   3105221470-60967-003_3105221470-60967-004      NaN           NaN   \n",
       "\n",
       "      max_des_rent  \n",
       "873            NaN  \n",
       "276           50.0  \n",
       "430           35.0  \n",
       "1863           NaN  \n",
       "1884           NaN  \n",
       "338           45.0  \n",
       "1286           NaN  \n",
       "843            NaN  \n",
       "1440           NaN  \n",
       "198            NaN  "
      ]
     },
     "execution_count": 151,
     "metadata": {},
     "output_type": "execute_result"
    }
   ],
   "source": [
    "min_rent, max_rent = parse_rent_series(df['rent_rng'])\n",
    "df['min_des_rent'] = min_rent\n",
    "df['max_des_rent'] = max_rent\n",
    "\n",
    "df[['ID_long', 'rent_rng', 'min_des_rent', 'max_des_rent']].sample(10)"
   ]
  },
  {
   "cell_type": "code",
   "execution_count": 152,
   "id": "c71faa54-92f0-48e5-bb41-5c47915d8d2d",
   "metadata": {},
   "outputs": [
    {
     "data": {
      "text/plain": [
       "count    827.000000\n",
       "mean      55.791378\n",
       "std       16.157837\n",
       "min       20.000000\n",
       "25%       45.000000\n",
       "50%       55.000000\n",
       "75%       65.000000\n",
       "max      180.540000\n",
       "Name: min_des_rent, dtype: float64"
      ]
     },
     "execution_count": 152,
     "metadata": {},
     "output_type": "execute_result"
    }
   ],
   "source": [
    "df['min_des_rent'].describe()"
   ]
  },
  {
   "cell_type": "code",
   "execution_count": 153,
   "id": "501d3b51-37c7-495d-b74e-0e5dda0ae38d",
   "metadata": {},
   "outputs": [
    {
     "data": {
      "text/plain": [
       "<AxesSubplot: >"
      ]
     },
     "execution_count": 153,
     "metadata": {},
     "output_type": "execute_result"
    },
    {
     "data": {
      "image/png": "[encoded data removed]",
      "text/plain": [
       "<Figure size 640x480 with 1 Axes>"
      ]
     },
     "metadata": {},
     "output_type": "display_data"
    }
   ],
   "source": [
    "df['min_des_rent'].hist()"
   ]
  },
  {
   "cell_type": "code",
   "execution_count": 154,
   "id": "3fa58fb3-da61-45d3-a1fe-54df24869219",
   "metadata": {},
   "outputs": [
    {
     "data": {
      "text/plain": [
       "count    827.000000\n",
       "mean      57.862721\n",
       "std       16.244054\n",
       "min       20.000000\n",
       "25%       50.000000\n",
       "50%       60.000000\n",
       "75%       65.000000\n",
       "max      180.540000\n",
       "Name: max_des_rent, dtype: float64"
      ]
     },
     "execution_count": 154,
     "metadata": {},
     "output_type": "execute_result"
    }
   ],
   "source": [
    "df['max_des_rent'].describe()"
   ]
  },
  {
   "cell_type": "code",
   "execution_count": 155,
   "id": "0b6d246f-6a8f-4b8e-b8aa-54daacb90b00",
   "metadata": {},
   "outputs": [
    {
     "data": {
      "text/plain": [
       "<AxesSubplot: >"
      ]
     },
     "execution_count": 155,
     "metadata": {},
     "output_type": "execute_result"
    },
    {
     "data": {
      "image/png": "[encoded data removed]",
      "text/plain": [
       "<Figure size 640x480 with 1 Axes>"
      ]
     },
     "metadata": {},
     "output_type": "display_data"
    }
   ],
   "source": [
    "df['max_des_rent'].hist()"
   ]
  },
  {
   "cell_type": "markdown",
   "id": "280661eb-30c5-40a0-a795-0ecd172f3a91",
   "metadata": {},
   "source": [
    "Spread in min/max desired rent values: "
   ]
  },
  {
   "cell_type": "code",
   "execution_count": 159,
   "id": "ff635f6b-64a9-43ee-85c9-ad70d60a11f2",
   "metadata": {},
   "outputs": [
    {
     "data": {
      "text/plain": [
       "count    827.000000\n",
       "mean       2.071342\n",
       "std        4.316306\n",
       "min        0.000000\n",
       "25%        0.000000\n",
       "50%        0.000000\n",
       "75%        0.000000\n",
       "max       30.000000\n",
       "dtype: float64"
      ]
     },
     "execution_count": 159,
     "metadata": {},
     "output_type": "execute_result"
    }
   ],
   "source": [
    "(df['max_des_rent'] - df['min_des_rent']).describe()"
   ]
  },
  {
   "cell_type": "markdown",
   "id": "e7fec544-258f-4933-9714-092c73ebbc7b",
   "metadata": {},
   "source": [
    "## Desired housing type "
   ]
  },
  {
   "cell_type": "code",
   "execution_count": 163,
   "id": "c3332dba-a7d1-4ac6-ab1d-e1965fb177c1",
   "metadata": {},
   "outputs": [
    {
     "data": {
      "text/plain": [
       "NaN                                                    1128\n",
       "[Private Apartment]                                     680\n",
       "[Public Housing]                                        215\n",
       "[Private Apartment, Public Housing]                      79\n",
       "[Private Apartment, Furnished room]                      11\n",
       "[Furnished room]                                          6\n",
       "[Purchase Home]                                           5\n",
       "[Private Apartment, Purchase Home]                        2\n",
       "[Private Apartment, Purchase Home, Public Housing]        1\n",
       "[Private Apartment, Public Housing, Furnished room]       1\n",
       "[Public Housing, Furnished room]                          1\n",
       "[Private Apartment, Purchase Home, Furnished room]        1\n",
       "Name: hous_type_split, dtype: int64"
      ]
     },
     "execution_count": 163,
     "metadata": {},
     "output_type": "execute_result"
    }
   ],
   "source": [
    "df['hous_type_split'].value_counts(dropna=False)"
   ]
  },
  {
   "cell_type": "markdown",
   "id": "b3d981de-de6c-4a41-a80f-43d3ffd54331",
   "metadata": {},
   "source": [
    "Of those records where there is information about the desired housing type, most wanted private apartments, followed by public housing. "
   ]
  },
  {
   "cell_type": "code",
   "execution_count": 164,
   "id": "ac589c94-fea2-4e61-8c3c-633fe6ca3dda",
   "metadata": {},
   "outputs": [
    {
     "data": {
      "text/plain": [
       "NaN                                    346\n",
       "[Private Apartment]                    210\n",
       "[Public Housing]                       161\n",
       "[Private Apartment, Public Housing]     43\n",
       "[Private Apartment, Furnished room]      9\n",
       "[Purchase Home]                          1\n",
       "[Private Apartment, Purchase Home]       1\n",
       "Name: hous_type_split, dtype: int64"
      ]
     },
     "execution_count": 164,
     "metadata": {},
     "output_type": "execute_result"
    }
   ],
   "source": [
    "df_pr_hh['hous_type_split'].value_counts(dropna=False)"
   ]
  },
  {
   "cell_type": "markdown",
   "id": "b4c139b4-f116-468e-a8d2-eb6dd401f5a4",
   "metadata": {},
   "source": [
    "For Puerto Rican households, most wanted private apartments, followed by public housing, but a larger proportion (relative to all records) wanted public housing. "
   ]
  },
  {
   "cell_type": "code",
   "execution_count": 166,
   "id": "2c20716c-fb07-4e01-b650-a6209adc2c40",
   "metadata": {},
   "outputs": [
    {
     "data": {
      "text/plain": [
       "race2             hous_type                                        \n",
       "Multi             NaN                                                    2\n",
       "                  Private Apartment                                      1\n",
       "                  Public Housing                                         1\n",
       "Negro             NaN                                                   48\n",
       "                  Private Apartment                                     33\n",
       "                  Public Housing                                         7\n",
       "                  Private Apartment, Furnished room                      2\n",
       "                  Private Apartment, Public Housing                      2\n",
       "                  Furnished room                                         1\n",
       "                  Private Apartment, Purchase Home, Public Housing       1\n",
       "Oriental          Private Apartment                                      7\n",
       "                  NaN                                                    5\n",
       "                  Furnished room                                         1\n",
       "                  Private Apartment, Public Housing                      1\n",
       "                  Public Housing                                         1\n",
       "Puerto Rican      NaN                                                  211\n",
       "                  Private Apartment                                    165\n",
       "                  Public Housing                                       123\n",
       "                  Private Apartment, Public Housing                     31\n",
       "                  Private Apartment, Furnished room                      8\n",
       "                  Private Apartment, Purchase Home                       1\n",
       "                  Purchase Home                                          1\n",
       "Puerto Rican mix  Private Apartment                                      6\n",
       "                  NaN                                                    1\n",
       "                  Private Apartment, Public Housing                      1\n",
       "White             Private Apartment                                    348\n",
       "                  NaN                                                  148\n",
       "                  Public Housing                                        31\n",
       "                  Private Apartment, Public Housing                     28\n",
       "                  Furnished room                                         3\n",
       "                  Purchase Home                                          2\n",
       "                  Private Apartment, Public Housing, Furnished room      1\n",
       "                  Private Apartment, Purchase Home                       1\n",
       "                  Public Housing, Furnished room                         1\n",
       "other             Private Apartment                                     22\n",
       "                  NaN                                                    4\n",
       "                  Private Apartment, Public Housing                      2\n",
       "NaN               NaN                                                  709\n",
       "                  Private Apartment                                     98\n",
       "                  Public Housing                                        52\n",
       "                  Private Apartment, Public Housing                     14\n",
       "                  Purchase Home                                          2\n",
       "                  Furnished room                                         1\n",
       "                  Private Apartment, Furnished room                      1\n",
       "                  Private Apartment, Purchase Home, Furnished room       1\n",
       "Name: hous_type, dtype: int64"
      ]
     },
     "execution_count": 166,
     "metadata": {},
     "output_type": "execute_result"
    }
   ],
   "source": [
    "df.groupby('race2', dropna=False)['hous_type'].value_counts(dropna=False)"
   ]
  },
  {
   "cell_type": "code",
   "execution_count": 156,
   "id": "29a4f135-deb2-4084-882d-1fd068e32b1d",
   "metadata": {},
   "outputs": [],
   "source": [
    "#df['inc_srce'].value_counts(dropna=False)\n",
    "#\n",
    "#df['inc_srce'].value_counts(dropna=False, normalize=True)*100\n",
    "#\n",
    "#df.groupby('race2', dropna=False)['inc_srce'].value_counts(dropna=False, normalize=True)*100\n",
    "#\n",
    "#df.groupby('race2', dropna=False)['inc_srce'].value_counts(dropna=False)"
   ]
  },
  {
   "cell_type": "code",
   "execution_count": null,
   "id": "04029782-d6e1-4945-84d5-545c9c2f116a",
   "metadata": {},
   "outputs": [],
   "source": []
  },
  {
   "cell_type": "code",
   "execution_count": null,
   "id": "f071ef78-06c7-4ef9-9b26-d43b1d88e752",
   "metadata": {},
   "outputs": [],
   "source": []
  },
  {
   "cell_type": "code",
   "execution_count": null,
   "id": "3a23f5ae-4078-4926-8251-2ed1178d455d",
   "metadata": {},
   "outputs": [],
   "source": []
  },
  {
   "cell_type": "code",
   "execution_count": null,
   "id": "b619148a-a92c-4691-bb62-b1a887aaffbe",
   "metadata": {},
   "outputs": [],
   "source": []
  }
 ],
 "metadata": {
  "kernelspec": {
   "display_name": "Python 3 (ipykernel)",
   "language": "python",
   "name": "python3"
  },
  "language_info": {
   "codemirror_mode": {
    "name": "ipython",
    "version": 3
   },
   "file_extension": ".py",
   "mimetype": "text/x-python",
   "name": "python",
   "nbconvert_exporter": "python",
   "pygments_lexer": "ipython3",
   "version": "3.9.13"
  }
 },
 "nbformat": 4,
 "nbformat_minor": 5
}
