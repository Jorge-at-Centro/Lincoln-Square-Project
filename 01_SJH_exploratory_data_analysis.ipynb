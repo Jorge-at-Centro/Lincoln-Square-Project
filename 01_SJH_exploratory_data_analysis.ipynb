{
 "cells": [
  {
   "cell_type": "code",
   "execution_count": 1,
   "id": "c08f1b1e-4219-4a30-a8db-12a529c5cc7d",
   "metadata": {},
   "outputs": [],
   "source": [
    "import pandas as pd "
   ]
  },
  {
   "cell_type": "code",
   "execution_count": 2,
   "id": "7895574f-c3b0-4647-91f0-98046dcbca30",
   "metadata": {},
   "outputs": [
    {
     "name": "stderr",
     "output_type": "stream",
     "text": [
      "/var/folders/r5/8d6q755n7dj5k1lkfqtpj8yh0000gn/T/ipykernel_46781/3008515361.py:1: DtypeWarning: Columns (20,26,31,32,33,37,38,39,43,44,45,49,50,55,56,61,62,67,69,75,78,82,84,88,90,109,117,122,134,138,140,141,142,146,147,148,151,152,154,158,160,163,167,168,182,183,185,192,194,196,197,198,202,203,204,205,206,208,212,214,217,240,241,244,263,264,265,275,276,277) have mixed types. Specify dtype option on import or set low_memory=False.\n",
      "  df = pd.read_csv('data_collection_v11.csv')\n"
     ]
    }
   ],
   "source": [
    "df = pd.read_csv('data_collection_v11.csv')"
   ]
  },
  {
   "cell_type": "code",
   "execution_count": 3,
   "id": "af383246-fcb2-4836-a847-df833db9df98",
   "metadata": {},
   "outputs": [
    {
     "name": "stdout",
     "output_type": "stream",
     "text": [
      "<class 'pandas.core.frame.DataFrame'>\n",
      "RangeIndex: 2130 entries, 0 to 2129\n",
      "Columns: 280 entries, Unnamed: 0 to race2\n",
      "dtypes: float64(63), int64(4), object(213)\n",
      "memory usage: 4.6+ MB\n"
     ]
    }
   ],
   "source": [
    "df.info()"
   ]
  },
  {
   "cell_type": "code",
   "execution_count": 4,
   "id": "89793714-e3a9-4012-8dfc-566b63551ee0",
   "metadata": {},
   "outputs": [
    {
     "data": {
      "text/plain": [
       "object     213\n",
       "float64     63\n",
       "int64        4\n",
       "dtype: int64"
      ]
     },
     "execution_count": 4,
     "metadata": {},
     "output_type": "execute_result"
    }
   ],
   "source": [
    "df.dtypes.value_counts()"
   ]
  },
  {
   "cell_type": "code",
   "execution_count": 5,
   "id": "7462fcba-c1c5-4faa-8575-55b90f6b1e1a",
   "metadata": {},
   "outputs": [
    {
     "data": {
      "text/plain": [
       "Unnamed: 0        int64\n",
       "X.1               int64\n",
       "X                 int64\n",
       "ID_long          object\n",
       "tstamp           object\n",
       "                  ...  \n",
       "p010_plcrec_2    object\n",
       "p011_plcrec_2    object\n",
       "p012_plcrec_2    object\n",
       "fam_size2         int64\n",
       "race2            object\n",
       "Length: 280, dtype: object"
      ]
     },
     "execution_count": 5,
     "metadata": {},
     "output_type": "execute_result"
    }
   ],
   "source": [
    "df.dtypes"
   ]
  },
  {
   "cell_type": "code",
   "execution_count": 6,
   "id": "deb7a008-b143-4b92-99dd-6f1bb7b5e0d8",
   "metadata": {},
   "outputs": [
    {
     "data": {
      "text/html": [
       "<div>\n",
       "<style scoped>\n",
       "    .dataframe tbody tr th:only-of-type {\n",
       "        vertical-align: middle;\n",
       "    }\n",
       "\n",
       "    .dataframe tbody tr th {\n",
       "        vertical-align: top;\n",
       "    }\n",
       "\n",
       "    .dataframe thead th {\n",
       "        text-align: right;\n",
       "    }\n",
       "</style>\n",
       "<table border=\"1\" class=\"dataframe\">\n",
       "  <thead>\n",
       "    <tr style=\"text-align: right;\">\n",
       "      <th></th>\n",
       "      <th>Unnamed: 0</th>\n",
       "      <th>X.1</th>\n",
       "      <th>X</th>\n",
       "      <th>ID_long</th>\n",
       "      <th>tstamp</th>\n",
       "      <th>email</th>\n",
       "      <th>name</th>\n",
       "      <th>os_addr</th>\n",
       "      <th>f_id</th>\n",
       "      <th>b_id</th>\n",
       "      <th>...</th>\n",
       "      <th>p05_plcrec_2</th>\n",
       "      <th>p06_plcrec_2</th>\n",
       "      <th>p07_plcrec_2</th>\n",
       "      <th>p08_plcrec_2</th>\n",
       "      <th>p09_plcrec_2</th>\n",
       "      <th>p010_plcrec_2</th>\n",
       "      <th>p011_plcrec_2</th>\n",
       "      <th>p012_plcrec_2</th>\n",
       "      <th>fam_size2</th>\n",
       "      <th>race2</th>\n",
       "    </tr>\n",
       "  </thead>\n",
       "  <tbody>\n",
       "    <tr>\n",
       "      <th>0</th>\n",
       "      <td>1</td>\n",
       "      <td>1</td>\n",
       "      <td>1</td>\n",
       "      <td>3104718669-60949-001_3104718669-60949-002</td>\n",
       "      <td>12/29/2023 12:32</td>\n",
       "      <td>Jorge Soldevila-Irizarry</td>\n",
       "      <td>Jorge</td>\n",
       "      <td>165 West 62 Street</td>\n",
       "      <td>3104718669-60949-001-Front</td>\n",
       "      <td>3104718669-60949-002-Back</td>\n",
       "      <td>...</td>\n",
       "      <td>NaN</td>\n",
       "      <td>NaN</td>\n",
       "      <td>NaN</td>\n",
       "      <td>NaN</td>\n",
       "      <td>NaN</td>\n",
       "      <td>NaN</td>\n",
       "      <td>NaN</td>\n",
       "      <td>NaN</td>\n",
       "      <td>4</td>\n",
       "      <td>Puerto Rican</td>\n",
       "    </tr>\n",
       "  </tbody>\n",
       "</table>\n",
       "<p>1 rows × 280 columns</p>\n",
       "</div>"
      ],
      "text/plain": [
       "   Unnamed: 0  X.1  X                                    ID_long  \\\n",
       "0           1    1  1  3104718669-60949-001_3104718669-60949-002   \n",
       "\n",
       "             tstamp                     email   name             os_addr  \\\n",
       "0  12/29/2023 12:32  Jorge Soldevila-Irizarry  Jorge  165 West 62 Street   \n",
       "\n",
       "                         f_id                       b_id  ... p05_plcrec_2  \\\n",
       "0  3104718669-60949-001-Front  3104718669-60949-002-Back  ...          NaN   \n",
       "\n",
       "  p06_plcrec_2 p07_plcrec_2 p08_plcrec_2 p09_plcrec_2 p010_plcrec_2  \\\n",
       "0          NaN          NaN          NaN          NaN           NaN   \n",
       "\n",
       "   p011_plcrec_2 p012_plcrec_2 fam_size2         race2  \n",
       "0            NaN           NaN         4  Puerto Rican  \n",
       "\n",
       "[1 rows x 280 columns]"
      ]
     },
     "execution_count": 6,
     "metadata": {},
     "output_type": "execute_result"
    }
   ],
   "source": [
    "df.head(1)"
   ]
  },
  {
   "cell_type": "code",
   "execution_count": 7,
   "id": "1fb216f0-7e56-4189-b900-188de3432b70",
   "metadata": {},
   "outputs": [
    {
     "data": {
      "text/plain": [
       "0         Unnamed: 0\n",
       "1                X.1\n",
       "2                  X\n",
       "3            ID_long\n",
       "4             tstamp\n",
       "           ...      \n",
       "275    p010_plcrec_2\n",
       "276    p011_plcrec_2\n",
       "277    p012_plcrec_2\n",
       "278        fam_size2\n",
       "279            race2\n",
       "Length: 280, dtype: object"
      ]
     },
     "execution_count": 7,
     "metadata": {},
     "output_type": "execute_result"
    }
   ],
   "source": [
    "pd.Series(df.columns)"
   ]
  },
  {
   "cell_type": "code",
   "execution_count": 8,
   "id": "05544b3e-3879-429b-afb3-7f3d733afb0d",
   "metadata": {},
   "outputs": [
    {
     "data": {
      "text/plain": [
       "(2130, 280)"
      ]
     },
     "execution_count": 8,
     "metadata": {},
     "output_type": "execute_result"
    }
   ],
   "source": [
    "df.shape"
   ]
  },
  {
   "cell_type": "markdown",
   "id": "f18f642a-722a-45e1-b205-28200d964fd5",
   "metadata": {},
   "source": [
    "# Duplicates"
   ]
  },
  {
   "cell_type": "code",
   "execution_count": 9,
   "id": "25dad3f8-fb02-4bb7-a433-52e5bb2c6e33",
   "metadata": {},
   "outputs": [
    {
     "data": {
      "text/plain": [
       "1.0    7\n",
       "Name: duplicate, dtype: int64"
      ]
     },
     "execution_count": 9,
     "metadata": {},
     "output_type": "execute_result"
    }
   ],
   "source": [
    "df['duplicate'].value_counts()"
   ]
  },
  {
   "cell_type": "code",
   "execution_count": 10,
   "id": "30ddfd3c-ae4a-4d81-a74d-bb09a85e98a1",
   "metadata": {},
   "outputs": [
    {
     "data": {
      "text/html": [
       "<div>\n",
       "<style scoped>\n",
       "    .dataframe tbody tr th:only-of-type {\n",
       "        vertical-align: middle;\n",
       "    }\n",
       "\n",
       "    .dataframe tbody tr th {\n",
       "        vertical-align: top;\n",
       "    }\n",
       "\n",
       "    .dataframe thead th {\n",
       "        text-align: right;\n",
       "    }\n",
       "</style>\n",
       "<table border=\"1\" class=\"dataframe\">\n",
       "  <thead>\n",
       "    <tr style=\"text-align: right;\">\n",
       "      <th></th>\n",
       "      <th>Unnamed: 0</th>\n",
       "      <th>X.1</th>\n",
       "      <th>X</th>\n",
       "      <th>ID_long</th>\n",
       "      <th>tstamp</th>\n",
       "      <th>email</th>\n",
       "      <th>name</th>\n",
       "      <th>os_addr</th>\n",
       "      <th>f_id</th>\n",
       "      <th>b_id</th>\n",
       "      <th>...</th>\n",
       "      <th>p05_plcrec_2</th>\n",
       "      <th>p06_plcrec_2</th>\n",
       "      <th>p07_plcrec_2</th>\n",
       "      <th>p08_plcrec_2</th>\n",
       "      <th>p09_plcrec_2</th>\n",
       "      <th>p010_plcrec_2</th>\n",
       "      <th>p011_plcrec_2</th>\n",
       "      <th>p012_plcrec_2</th>\n",
       "      <th>fam_size2</th>\n",
       "      <th>race2</th>\n",
       "    </tr>\n",
       "  </thead>\n",
       "  <tbody>\n",
       "    <tr>\n",
       "      <th>926</th>\n",
       "      <td>927</td>\n",
       "      <td>927</td>\n",
       "      <td>927</td>\n",
       "      <td>3458098649-61037-003_3458098649-61037-004</td>\n",
       "      <td>8/5/2024 14:11</td>\n",
       "      <td>jorge.soldevila@centropr.app</td>\n",
       "      <td>Jorge</td>\n",
       "      <td>NaN</td>\n",
       "      <td>3458098649-61037-003-Front.tif</td>\n",
       "      <td>3458098649-61037-004-Back.tif</td>\n",
       "      <td>...</td>\n",
       "      <td>NaN</td>\n",
       "      <td>NaN</td>\n",
       "      <td>NaN</td>\n",
       "      <td>NaN</td>\n",
       "      <td>NaN</td>\n",
       "      <td>NaN</td>\n",
       "      <td>NaN</td>\n",
       "      <td>NaN</td>\n",
       "      <td>999</td>\n",
       "      <td>NaN</td>\n",
       "    </tr>\n",
       "    <tr>\n",
       "      <th>951</th>\n",
       "      <td>952</td>\n",
       "      <td>952</td>\n",
       "      <td>952</td>\n",
       "      <td>3458100579-61040-003_3458100579-61040-004</td>\n",
       "      <td>6/12/2024 15:20</td>\n",
       "      <td>camila1juarbe@gmail.com</td>\n",
       "      <td>Camila</td>\n",
       "      <td>128 West 64 Street</td>\n",
       "      <td>3458100579-61040-003-Front.tif</td>\n",
       "      <td>3458100579-61040-004-Back.tif</td>\n",
       "      <td>...</td>\n",
       "      <td>USA</td>\n",
       "      <td>USA</td>\n",
       "      <td>USA</td>\n",
       "      <td>USA</td>\n",
       "      <td>NaN</td>\n",
       "      <td>NaN</td>\n",
       "      <td>NaN</td>\n",
       "      <td>NaN</td>\n",
       "      <td>8</td>\n",
       "      <td>Negro</td>\n",
       "    </tr>\n",
       "    <tr>\n",
       "      <th>1029</th>\n",
       "      <td>1030</td>\n",
       "      <td>1030</td>\n",
       "      <td>1030</td>\n",
       "      <td>3458103921-61031-015_3458103921-61031-016</td>\n",
       "      <td>6/13/2024 14:18</td>\n",
       "      <td>camila1juarbe@gmail.com</td>\n",
       "      <td>Camila</td>\n",
       "      <td>110 West 64 Street</td>\n",
       "      <td>3458103921-61031-015-Front.tif</td>\n",
       "      <td>3458103921-61031-016-Back.tif</td>\n",
       "      <td>...</td>\n",
       "      <td>NaN</td>\n",
       "      <td>NaN</td>\n",
       "      <td>NaN</td>\n",
       "      <td>NaN</td>\n",
       "      <td>NaN</td>\n",
       "      <td>NaN</td>\n",
       "      <td>NaN</td>\n",
       "      <td>NaN</td>\n",
       "      <td>999</td>\n",
       "      <td>NaN</td>\n",
       "    </tr>\n",
       "    <tr>\n",
       "      <th>1101</th>\n",
       "      <td>1102</td>\n",
       "      <td>1102</td>\n",
       "      <td>1102</td>\n",
       "      <td>3458105308-61032-013_3458105308-61032-014</td>\n",
       "      <td>6/6/2024 16:55</td>\n",
       "      <td>monique.young@centropr.app</td>\n",
       "      <td>Monique</td>\n",
       "      <td>112 West 64 Street</td>\n",
       "      <td>3458105308-61032-013-Front.tif</td>\n",
       "      <td>3458105308-61032-014-Back.tif</td>\n",
       "      <td>...</td>\n",
       "      <td>NaN</td>\n",
       "      <td>NaN</td>\n",
       "      <td>NaN</td>\n",
       "      <td>NaN</td>\n",
       "      <td>NaN</td>\n",
       "      <td>NaN</td>\n",
       "      <td>NaN</td>\n",
       "      <td>NaN</td>\n",
       "      <td>2</td>\n",
       "      <td>White</td>\n",
       "    </tr>\n",
       "    <tr>\n",
       "      <th>1295</th>\n",
       "      <td>1296</td>\n",
       "      <td>1296</td>\n",
       "      <td>1296</td>\n",
       "      <td>3458110635-61049-101_3458110635-61049-102</td>\n",
       "      <td>6/18/2024 9:59</td>\n",
       "      <td>cmila1juarbe@gmail.com</td>\n",
       "      <td>Camila</td>\n",
       "      <td>146 West 64 Street</td>\n",
       "      <td>3458110635-61049-101-Front.tif</td>\n",
       "      <td>3458110635-61049-102-Back.tif</td>\n",
       "      <td>...</td>\n",
       "      <td>NaN</td>\n",
       "      <td>NaN</td>\n",
       "      <td>NaN</td>\n",
       "      <td>NaN</td>\n",
       "      <td>NaN</td>\n",
       "      <td>NaN</td>\n",
       "      <td>NaN</td>\n",
       "      <td>NaN</td>\n",
       "      <td>4</td>\n",
       "      <td>NaN</td>\n",
       "    </tr>\n",
       "    <tr>\n",
       "      <th>1471</th>\n",
       "      <td>1472</td>\n",
       "      <td>1472</td>\n",
       "      <td>1472</td>\n",
       "      <td>3568902741-61060-021_3568902741-61060-022</td>\n",
       "      <td>6/25/2024 11:48</td>\n",
       "      <td>camila1juarbe@gmail.com</td>\n",
       "      <td>Camila</td>\n",
       "      <td>105 Amsterdam Avenue</td>\n",
       "      <td>3568902741-61060-021-Front.tif</td>\n",
       "      <td>3568902741-61060-022-Back.tif</td>\n",
       "      <td>...</td>\n",
       "      <td>NaN</td>\n",
       "      <td>NaN</td>\n",
       "      <td>NaN</td>\n",
       "      <td>NaN</td>\n",
       "      <td>NaN</td>\n",
       "      <td>NaN</td>\n",
       "      <td>NaN</td>\n",
       "      <td>NaN</td>\n",
       "      <td>2</td>\n",
       "      <td>White</td>\n",
       "    </tr>\n",
       "    <tr>\n",
       "      <th>1867</th>\n",
       "      <td>1868</td>\n",
       "      <td>1868</td>\n",
       "      <td>1868</td>\n",
       "      <td>3687357594-61095-005_3687357594-61095-006</td>\n",
       "      <td>6/26/2024 16:30</td>\n",
       "      <td>camila1juarbe@gmail.com</td>\n",
       "      <td>Camila</td>\n",
       "      <td>154-6 West 65 Street</td>\n",
       "      <td>3687357594-61095-005-Front.tif</td>\n",
       "      <td>3687357594-61095-006-Back.tif</td>\n",
       "      <td>...</td>\n",
       "      <td>NaN</td>\n",
       "      <td>NaN</td>\n",
       "      <td>NaN</td>\n",
       "      <td>NaN</td>\n",
       "      <td>NaN</td>\n",
       "      <td>NaN</td>\n",
       "      <td>NaN</td>\n",
       "      <td>NaN</td>\n",
       "      <td>2</td>\n",
       "      <td>NaN</td>\n",
       "    </tr>\n",
       "  </tbody>\n",
       "</table>\n",
       "<p>7 rows × 280 columns</p>\n",
       "</div>"
      ],
      "text/plain": [
       "      Unnamed: 0   X.1     X                                    ID_long  \\\n",
       "926          927   927   927  3458098649-61037-003_3458098649-61037-004   \n",
       "951          952   952   952  3458100579-61040-003_3458100579-61040-004   \n",
       "1029        1030  1030  1030  3458103921-61031-015_3458103921-61031-016   \n",
       "1101        1102  1102  1102  3458105308-61032-013_3458105308-61032-014   \n",
       "1295        1296  1296  1296  3458110635-61049-101_3458110635-61049-102   \n",
       "1471        1472  1472  1472  3568902741-61060-021_3568902741-61060-022   \n",
       "1867        1868  1868  1868  3687357594-61095-005_3687357594-61095-006   \n",
       "\n",
       "               tstamp                         email     name  \\\n",
       "926    8/5/2024 14:11  jorge.soldevila@centropr.app    Jorge   \n",
       "951   6/12/2024 15:20       camila1juarbe@gmail.com   Camila   \n",
       "1029  6/13/2024 14:18       camila1juarbe@gmail.com   Camila   \n",
       "1101   6/6/2024 16:55    monique.young@centropr.app  Monique   \n",
       "1295   6/18/2024 9:59        cmila1juarbe@gmail.com   Camila   \n",
       "1471  6/25/2024 11:48       camila1juarbe@gmail.com   Camila   \n",
       "1867  6/26/2024 16:30       camila1juarbe@gmail.com   Camila   \n",
       "\n",
       "                   os_addr                            f_id  \\\n",
       "926                    NaN  3458098649-61037-003-Front.tif   \n",
       "951     128 West 64 Street  3458100579-61040-003-Front.tif   \n",
       "1029    110 West 64 Street  3458103921-61031-015-Front.tif   \n",
       "1101    112 West 64 Street  3458105308-61032-013-Front.tif   \n",
       "1295    146 West 64 Street  3458110635-61049-101-Front.tif   \n",
       "1471  105 Amsterdam Avenue  3568902741-61060-021-Front.tif   \n",
       "1867  154-6 West 65 Street  3687357594-61095-005-Front.tif   \n",
       "\n",
       "                               b_id  ... p05_plcrec_2 p06_plcrec_2  \\\n",
       "926   3458098649-61037-004-Back.tif  ...          NaN          NaN   \n",
       "951   3458100579-61040-004-Back.tif  ...          USA          USA   \n",
       "1029  3458103921-61031-016-Back.tif  ...          NaN          NaN   \n",
       "1101  3458105308-61032-014-Back.tif  ...          NaN          NaN   \n",
       "1295  3458110635-61049-102-Back.tif  ...          NaN          NaN   \n",
       "1471  3568902741-61060-022-Back.tif  ...          NaN          NaN   \n",
       "1867  3687357594-61095-006-Back.tif  ...          NaN          NaN   \n",
       "\n",
       "     p07_plcrec_2 p08_plcrec_2 p09_plcrec_2 p010_plcrec_2  p011_plcrec_2  \\\n",
       "926           NaN          NaN          NaN           NaN            NaN   \n",
       "951           USA          USA          NaN           NaN            NaN   \n",
       "1029          NaN          NaN          NaN           NaN            NaN   \n",
       "1101          NaN          NaN          NaN           NaN            NaN   \n",
       "1295          NaN          NaN          NaN           NaN            NaN   \n",
       "1471          NaN          NaN          NaN           NaN            NaN   \n",
       "1867          NaN          NaN          NaN           NaN            NaN   \n",
       "\n",
       "     p012_plcrec_2 fam_size2  race2  \n",
       "926            NaN       999    NaN  \n",
       "951            NaN         8  Negro  \n",
       "1029           NaN       999    NaN  \n",
       "1101           NaN         2  White  \n",
       "1295           NaN         4    NaN  \n",
       "1471           NaN         2  White  \n",
       "1867           NaN         2    NaN  \n",
       "\n",
       "[7 rows x 280 columns]"
      ]
     },
     "execution_count": 10,
     "metadata": {},
     "output_type": "execute_result"
    }
   ],
   "source": [
    "df[df['duplicate'] == 1.0]"
   ]
  },
  {
   "cell_type": "code",
   "execution_count": 11,
   "id": "2791e485-0c6f-457d-8c0a-c81ab725e8a1",
   "metadata": {},
   "outputs": [
    {
     "data": {
      "text/plain": [
       "926                 Record is a duplicate of previous one\n",
       "951     Weekly income presumably only counts the Head ...\n",
       "1029    No M.O. \\r\\nSame addres from 3458103921-61031-...\n",
       "1101                                                  NaN\n",
       "1295           Note at the top of the card: “Second copy”\n",
       "1471    Same people from 3568902741-61060-019-Front.ti...\n",
       "1867                          Note that it's a duplicate.\n",
       "Name: notes, dtype: object"
      ]
     },
     "execution_count": 11,
     "metadata": {},
     "output_type": "execute_result"
    }
   ],
   "source": [
    "df[df['duplicate'] == 1.0]['notes']"
   ]
  },
  {
   "cell_type": "code",
   "execution_count": 12,
   "id": "1241f00d-d372-47ca-b8b0-49f57a2f7989",
   "metadata": {},
   "outputs": [
    {
     "data": {
      "text/plain": [
       "926           NaN\n",
       "951       Rooming\n",
       "1029      Rooming\n",
       "1101      Rooming\n",
       "1295      Rooming\n",
       "1471    Apartment\n",
       "1867      Rooming\n",
       "Name: h_type, dtype: object"
      ]
     },
     "execution_count": 12,
     "metadata": {},
     "output_type": "execute_result"
    }
   ],
   "source": [
    "df[df['duplicate'] == 1.0]['h_type']"
   ]
  },
  {
   "cell_type": "code",
   "execution_count": 13,
   "id": "323c9648-48cd-48ce-b3dc-801face9bcb3",
   "metadata": {},
   "outputs": [
    {
     "data": {
      "text/plain": [
       "Unnamed: 0                                             926\n",
       "X.1                                                    926\n",
       "X                                                      926\n",
       "ID_long          3458098649-61037-001_3458098649-61037-002\n",
       "tstamp                                      8/5/2024 14:02\n",
       "                                   ...                    \n",
       "p010_plcrec_2                                          NaN\n",
       "p011_plcrec_2                                          NaN\n",
       "p012_plcrec_2                                          NaN\n",
       "fam_size2                                                6\n",
       "race2                                         Puerto Rican\n",
       "Name: 925, Length: 280, dtype: object"
      ]
     },
     "execution_count": 13,
     "metadata": {},
     "output_type": "execute_result"
    }
   ],
   "source": [
    "df.loc[925]"
   ]
  },
  {
   "cell_type": "code",
   "execution_count": 14,
   "id": "14aacc42-4cae-43d8-8962-abf62ae08211",
   "metadata": {},
   "outputs": [
    {
     "data": {
      "text/plain": [
       "Unnamed: 0                                             927\n",
       "X.1                                                    927\n",
       "X                                                      927\n",
       "ID_long          3458098649-61037-003_3458098649-61037-004\n",
       "tstamp                                      8/5/2024 14:11\n",
       "                                   ...                    \n",
       "p010_plcrec_2                                          NaN\n",
       "p011_plcrec_2                                          NaN\n",
       "p012_plcrec_2                                          NaN\n",
       "fam_size2                                              999\n",
       "race2                                                  NaN\n",
       "Name: 926, Length: 280, dtype: object"
      ]
     },
     "execution_count": 14,
     "metadata": {},
     "output_type": "execute_result"
    }
   ],
   "source": [
    "df.loc[926]"
   ]
  },
  {
   "cell_type": "code",
   "execution_count": null,
   "id": "5e431049-ea7e-4ab2-b706-b52a920b61f1",
   "metadata": {},
   "outputs": [],
   "source": []
  },
  {
   "cell_type": "markdown",
   "id": "0d407a64-49c1-4d18-beb5-a3e3e4839e6e",
   "metadata": {},
   "source": [
    "## Race:"
   ]
  },
  {
   "cell_type": "code",
   "execution_count": 15,
   "id": "a3575a53-1410-4035-ae6c-5af69b166b37",
   "metadata": {},
   "outputs": [
    {
     "data": {
      "text/plain": [
       "False    1252\n",
       "True      878\n",
       "Name: race2, dtype: int64"
      ]
     },
     "execution_count": 15,
     "metadata": {},
     "output_type": "execute_result"
    }
   ],
   "source": [
    "df['race2'].isna().value_counts()"
   ]
  },
  {
   "cell_type": "markdown",
   "id": "8a6e0360-2115-49d8-893f-8e73b5fb5d49",
   "metadata": {},
   "source": [
    "> There is no race information for 878 records. 1252 records have race information."
   ]
  },
  {
   "cell_type": "code",
   "execution_count": 16,
   "id": "b8a61cd7-9966-42e0-8071-a1987d16f7dc",
   "metadata": {},
   "outputs": [
    {
     "data": {
      "text/plain": [
       "False    58.8\n",
       "True     41.2\n",
       "Name: race2, dtype: float64"
      ]
     },
     "execution_count": 16,
     "metadata": {},
     "output_type": "execute_result"
    }
   ],
   "source": [
    "round(df['race2'].isna().value_counts(normalize=True)*100, 1)"
   ]
  },
  {
   "cell_type": "markdown",
   "id": "75025bb1-2f6d-45f4-9e8a-e243e47e9cdc",
   "metadata": {},
   "source": [
    "> 58.8% of the records have race data."
   ]
  },
  {
   "cell_type": "code",
   "execution_count": 17,
   "id": "ee9207e6-1cb3-4229-93a6-c6311732f018",
   "metadata": {},
   "outputs": [
    {
     "data": {
      "text/plain": [
       "NaN                 878\n",
       "White               563\n",
       "Puerto Rican        540\n",
       "Negro                94\n",
       "other                28\n",
       "Oriental             15\n",
       "Puerto Rican mix      8\n",
       "Multi                 4\n",
       "Name: race2, dtype: int64"
      ]
     },
     "execution_count": 17,
     "metadata": {},
     "output_type": "execute_result"
    }
   ],
   "source": [
    "df['race2'].value_counts(dropna=False)"
   ]
  },
  {
   "cell_type": "code",
   "execution_count": 18,
   "id": "33601bc2-a742-4cc1-9dbb-6a18cd64dc2f",
   "metadata": {},
   "outputs": [
    {
     "data": {
      "text/plain": [
       "NaN                 41.2\n",
       "White               26.4\n",
       "Puerto Rican        25.4\n",
       "Negro                4.4\n",
       "other                1.3\n",
       "Oriental             0.7\n",
       "Puerto Rican mix     0.4\n",
       "Multi                0.2\n",
       "Name: race2, dtype: float64"
      ]
     },
     "execution_count": 18,
     "metadata": {},
     "output_type": "execute_result"
    }
   ],
   "source": [
    "round(df['race2'].value_counts(dropna=False, normalize=True)*100,1)"
   ]
  },
  {
   "cell_type": "code",
   "execution_count": 19,
   "id": "448bc712-6e4f-4336-9898-e4f303cda976",
   "metadata": {},
   "outputs": [
    {
     "data": {
      "text/plain": [
       "White               45.0\n",
       "Puerto Rican        43.1\n",
       "Negro                7.5\n",
       "other                2.2\n",
       "Oriental             1.2\n",
       "Puerto Rican mix     0.6\n",
       "Multi                0.3\n",
       "Name: race2, dtype: float64"
      ]
     },
     "execution_count": 19,
     "metadata": {},
     "output_type": "execute_result"
    }
   ],
   "source": [
    "round(df['race2'].value_counts(normalize=True)*100,1)"
   ]
  },
  {
   "cell_type": "code",
   "execution_count": 20,
   "id": "19aa7c61-c82b-4638-ac02-3731a233167d",
   "metadata": {},
   "outputs": [
    {
     "data": {
      "text/plain": [
       "43.8"
      ]
     },
     "execution_count": 20,
     "metadata": {},
     "output_type": "execute_result"
    }
   ],
   "source": [
    "round(100*548/1252,1)"
   ]
  },
  {
   "cell_type": "markdown",
   "id": "4d35ea87-ffce-4d07-b705-12d6c68d6d77",
   "metadata": {},
   "source": [
    "> Of the 1252 records with non-missing race data, 548 records (or 43.8% of the 1252) are Puerto Rican or Puerto Rican mix. "
   ]
  },
  {
   "cell_type": "code",
   "execution_count": null,
   "id": "0b2cdfcc-6655-4c2d-9200-44898f21be8b",
   "metadata": {},
   "outputs": [],
   "source": []
  },
  {
   "cell_type": "markdown",
   "id": "945ebf31-0386-449c-9d3b-a67b581abb34",
   "metadata": {},
   "source": [
    "Define a new race variable where a new _Puerto Rican_ category includes current variable's _Puerto Rican_ category and _Puerto Rican mix_ category. "
   ]
  },
  {
   "cell_type": "code",
   "execution_count": 21,
   "id": "acbd9bb0-6c1c-417e-bf30-40fd77c0278f",
   "metadata": {},
   "outputs": [],
   "source": [
    "import numpy as np"
   ]
  },
  {
   "cell_type": "code",
   "execution_count": 22,
   "id": "18b3ec74-1353-42c8-b7b2-bcba26d203cc",
   "metadata": {},
   "outputs": [],
   "source": [
    "race2_to_race3_dictionary = {'Puerto Rican':'Puerto Rican', \n",
    "                             'White':'White', \n",
    "                             'Oriental':'Oriental', \n",
    "                             'Puerto Rican mix':'Puerto Rican',\n",
    "                             'other':'other',\n",
    "                             'Negro':'Negro', \n",
    "                             'Multi':'Multi',\n",
    "                             np.nan: np.nan}\n",
    "\n",
    "df['race3'] = df['race2'].apply(lambda x: race2_to_race3_dictionary[x])"
   ]
  },
  {
   "cell_type": "code",
   "execution_count": 23,
   "id": "f791592d-2357-43ff-9f1d-e8293ed3445c",
   "metadata": {},
   "outputs": [
    {
     "data": {
      "text/plain": [
       "White           45.0\n",
       "Puerto Rican    43.8\n",
       "Negro            7.5\n",
       "other            2.2\n",
       "Oriental         1.2\n",
       "Multi            0.3\n",
       "Name: race3, dtype: float64"
      ]
     },
     "execution_count": 23,
     "metadata": {},
     "output_type": "execute_result"
    }
   ],
   "source": [
    "round(df['race3'].value_counts(normalize=True)*100,1)"
   ]
  },
  {
   "cell_type": "code",
   "execution_count": 24,
   "id": "3e60eae0-4498-4e56-9525-d780012357aa",
   "metadata": {},
   "outputs": [
    {
     "data": {
      "text/plain": [
       "White           563\n",
       "Puerto Rican    548\n",
       "Negro            94\n",
       "other            28\n",
       "Oriental         15\n",
       "Multi             4\n",
       "Name: race3, dtype: int64"
      ]
     },
     "execution_count": 24,
     "metadata": {},
     "output_type": "execute_result"
    }
   ],
   "source": [
    "df['race3'].value_counts()"
   ]
  },
  {
   "cell_type": "code",
   "execution_count": null,
   "id": "62b36b3a-b7df-44d8-83f2-6f98c7735d73",
   "metadata": {},
   "outputs": [],
   "source": []
  },
  {
   "cell_type": "markdown",
   "id": "94f60484-5aa6-4a49-bd3a-5210e6e34e17",
   "metadata": {
    "tags": []
   },
   "source": [
    "# Family size"
   ]
  },
  {
   "cell_type": "code",
   "execution_count": 25,
   "id": "e5f4d3ce-0af5-47b4-806e-4a6d1bdd1cc8",
   "metadata": {},
   "outputs": [
    {
     "data": {
      "text/plain": [
       "1      403\n",
       "2      391\n",
       "3      319\n",
       "4      281\n",
       "999    256\n",
       "5      222\n",
       "6      125\n",
       "7       65\n",
       "8       33\n",
       "9       19\n",
       "10      15\n",
       "11       1\n",
       "Name: fam_size2, dtype: int64"
      ]
     },
     "execution_count": 25,
     "metadata": {},
     "output_type": "execute_result"
    }
   ],
   "source": [
    "df['fam_size2'].value_counts() "
   ]
  },
  {
   "cell_type": "markdown",
   "id": "814a88dd-3a89-48fe-9d5b-645befd23c48",
   "metadata": {},
   "source": [
    "> Replace 999 with nan."
   ]
  },
  {
   "cell_type": "code",
   "execution_count": 26,
   "id": "4334fea5-1365-4d44-9d8a-43e24a17e3d0",
   "metadata": {},
   "outputs": [
    {
     "data": {
      "text/plain": [
       "2130"
      ]
     },
     "execution_count": 26,
     "metadata": {},
     "output_type": "execute_result"
    }
   ],
   "source": [
    "df['fam_size2'].value_counts().sum()"
   ]
  },
  {
   "cell_type": "code",
   "execution_count": 27,
   "id": "9231c57a-acf8-4522-855d-55ee981126fd",
   "metadata": {},
   "outputs": [],
   "source": [
    "m = (df['fam_size2'] != 999)"
   ]
  },
  {
   "cell_type": "code",
   "execution_count": 28,
   "id": "c47233a6-7093-41a0-85bd-9cef4429604c",
   "metadata": {},
   "outputs": [
    {
     "data": {
      "text/plain": [
       "True     88.0\n",
       "False    12.0\n",
       "Name: fam_size2, dtype: float64"
      ]
     },
     "execution_count": 28,
     "metadata": {},
     "output_type": "execute_result"
    }
   ],
   "source": [
    "round(m.value_counts(normalize=True)*100, 1)"
   ]
  },
  {
   "cell_type": "markdown",
   "id": "518d4128-b867-4f9a-a3bb-c28332bdd885",
   "metadata": {},
   "source": [
    "> Overall, 12.0% of all records are missing family size. "
   ]
  },
  {
   "cell_type": "code",
   "execution_count": 29,
   "id": "89f2f553-775d-4e70-a1bd-eb861527589c",
   "metadata": {},
   "outputs": [],
   "source": [
    "import numpy as np\n",
    "df['fam_size2'].replace(to_replace=999, value=np.nan, inplace=True)"
   ]
  },
  {
   "cell_type": "code",
   "execution_count": 30,
   "id": "93518a3b-9f76-4760-a900-1e9037fdefbb",
   "metadata": {},
   "outputs": [
    {
     "data": {
      "text/plain": [
       "1.0     403\n",
       "2.0     391\n",
       "3.0     319\n",
       "4.0     281\n",
       "NaN     256\n",
       "5.0     222\n",
       "6.0     125\n",
       "7.0      65\n",
       "8.0      33\n",
       "9.0      19\n",
       "10.0     15\n",
       "11.0      1\n",
       "Name: fam_size2, dtype: int64"
      ]
     },
     "execution_count": 30,
     "metadata": {},
     "output_type": "execute_result"
    }
   ],
   "source": [
    "df['fam_size2'].value_counts(dropna=False)"
   ]
  },
  {
   "cell_type": "code",
   "execution_count": 31,
   "id": "02bb9885-dc6d-4d9c-b8f5-0469bf532924",
   "metadata": {},
   "outputs": [
    {
     "data": {
      "text/plain": [
       "count    1874.000000\n",
       "mean        3.296158\n",
       "std         1.998482\n",
       "min         1.000000\n",
       "25%         2.000000\n",
       "50%         3.000000\n",
       "75%         5.000000\n",
       "max        11.000000\n",
       "Name: fam_size2, dtype: float64"
      ]
     },
     "execution_count": 31,
     "metadata": {},
     "output_type": "execute_result"
    }
   ],
   "source": [
    "df['fam_size2'].describe()"
   ]
  },
  {
   "cell_type": "markdown",
   "id": "1cdc1332-bfe4-479e-956e-96332b1409ca",
   "metadata": {},
   "source": [
    "Of the 1874 or 88.0% of records that have family size data, the mean family size is 3.3 and the median family size is 3. "
   ]
  },
  {
   "cell_type": "markdown",
   "id": "94504f9e-92d2-4d6b-99e2-891dac72cfd3",
   "metadata": {
    "tags": []
   },
   "source": [
    "## Place of birth\n",
    "\n",
    "### Columns to keep for now:\n",
    "* unique identifier\n",
    "* p01_plcrec_2, ..., p012_plcrec_2"
   ]
  },
  {
   "cell_type": "code",
   "execution_count": 32,
   "id": "b005eabb-337a-4434-9248-cfad0853d9a0",
   "metadata": {},
   "outputs": [
    {
     "name": "stdout",
     "output_type": "stream",
     "text": [
      "['p01_plcrec_2', 'p02_plcrec_2', 'p03_plcrec_2', 'p04_plcrec_2', 'p05_plcrec_2', 'p06_plcrec_2', 'p07_plcrec_2', 'p08_plcrec_2', 'p09_plcrec_2', 'p010_plcrec_2', 'p011_plcrec_2', 'p012_plcrec_2']\n"
     ]
    }
   ],
   "source": [
    "column_name_list = df.columns.tolist()\n",
    "\n",
    "place_of_birth = [i for i in column_name_list if 'plcrec_2' in i]\n",
    "print(place_of_birth)"
   ]
  },
  {
   "cell_type": "code",
   "execution_count": 33,
   "id": "54564f12-c019-4e93-bdb2-d78612a59c01",
   "metadata": {},
   "outputs": [
    {
     "data": {
      "text/html": [
       "<div>\n",
       "<style scoped>\n",
       "    .dataframe tbody tr th:only-of-type {\n",
       "        vertical-align: middle;\n",
       "    }\n",
       "\n",
       "    .dataframe tbody tr th {\n",
       "        vertical-align: top;\n",
       "    }\n",
       "\n",
       "    .dataframe thead th {\n",
       "        text-align: right;\n",
       "    }\n",
       "</style>\n",
       "<table border=\"1\" class=\"dataframe\">\n",
       "  <thead>\n",
       "    <tr style=\"text-align: right;\">\n",
       "      <th></th>\n",
       "      <th>ID_long</th>\n",
       "      <th>p01_plcrec_2</th>\n",
       "      <th>p02_plcrec_2</th>\n",
       "      <th>p03_plcrec_2</th>\n",
       "      <th>p04_plcrec_2</th>\n",
       "      <th>p05_plcrec_2</th>\n",
       "      <th>p06_plcrec_2</th>\n",
       "      <th>p07_plcrec_2</th>\n",
       "      <th>p08_plcrec_2</th>\n",
       "      <th>p09_plcrec_2</th>\n",
       "      <th>p010_plcrec_2</th>\n",
       "      <th>p011_plcrec_2</th>\n",
       "      <th>p012_plcrec_2</th>\n",
       "    </tr>\n",
       "  </thead>\n",
       "  <tbody>\n",
       "    <tr>\n",
       "      <th>0</th>\n",
       "      <td>3104718669-60949-001_3104718669-60949-002</td>\n",
       "      <td>PR</td>\n",
       "      <td>PR</td>\n",
       "      <td>USA</td>\n",
       "      <td>USA</td>\n",
       "      <td>NaN</td>\n",
       "      <td>NaN</td>\n",
       "      <td>NaN</td>\n",
       "      <td>NaN</td>\n",
       "      <td>NaN</td>\n",
       "      <td>NaN</td>\n",
       "      <td>NaN</td>\n",
       "      <td>NaN</td>\n",
       "    </tr>\n",
       "    <tr>\n",
       "      <th>1</th>\n",
       "      <td>3104718669-60949-003_3104718669-60949-004</td>\n",
       "      <td>USA</td>\n",
       "      <td>USA</td>\n",
       "      <td>USA</td>\n",
       "      <td>USA</td>\n",
       "      <td>USA</td>\n",
       "      <td>NaN</td>\n",
       "      <td>NaN</td>\n",
       "      <td>NaN</td>\n",
       "      <td>NaN</td>\n",
       "      <td>NaN</td>\n",
       "      <td>NaN</td>\n",
       "      <td>NaN</td>\n",
       "    </tr>\n",
       "  </tbody>\n",
       "</table>\n",
       "</div>"
      ],
      "text/plain": [
       "                                     ID_long p01_plcrec_2 p02_plcrec_2  \\\n",
       "0  3104718669-60949-001_3104718669-60949-002           PR           PR   \n",
       "1  3104718669-60949-003_3104718669-60949-004          USA          USA   \n",
       "\n",
       "  p03_plcrec_2 p04_plcrec_2 p05_plcrec_2 p06_plcrec_2 p07_plcrec_2  \\\n",
       "0          USA          USA          NaN          NaN          NaN   \n",
       "1          USA          USA          USA          NaN          NaN   \n",
       "\n",
       "  p08_plcrec_2 p09_plcrec_2 p010_plcrec_2 p011_plcrec_2 p012_plcrec_2  \n",
       "0          NaN          NaN           NaN           NaN           NaN  \n",
       "1          NaN          NaN           NaN           NaN           NaN  "
      ]
     },
     "execution_count": 33,
     "metadata": {},
     "output_type": "execute_result"
    }
   ],
   "source": [
    "# define place_of_birth_df to include unique id and all place_of_birth\n",
    "place_of_birth_df = df[['ID_long'] + place_of_birth]\n",
    "place_of_birth_df.head(2)"
   ]
  },
  {
   "cell_type": "markdown",
   "id": "389223ea-63ed-48f1-bfb8-c551a0df7919",
   "metadata": {},
   "source": [
    "\n",
    "How many of these 2130 records have non-null values in any of the 12 columns corresponding to place of birth information? "
   ]
  },
  {
   "cell_type": "code",
   "execution_count": 34,
   "id": "7f3931d3-2e41-4747-95d9-3321cb7600d8",
   "metadata": {},
   "outputs": [
    {
     "data": {
      "text/plain": [
       "1    1643\n",
       "0     487\n",
       "dtype: int64"
      ]
     },
     "execution_count": 34,
     "metadata": {},
     "output_type": "execute_result"
    }
   ],
   "source": [
    "df[place_of_birth].notna().any(axis=1).astype(int).value_counts()"
   ]
  },
  {
   "cell_type": "code",
   "execution_count": 35,
   "id": "b857e78c-b89b-4683-b6b7-da5b12f781ed",
   "metadata": {},
   "outputs": [
    {
     "data": {
      "text/plain": [
       "1    0.771362\n",
       "0    0.228638\n",
       "dtype: float64"
      ]
     },
     "execution_count": 35,
     "metadata": {},
     "output_type": "execute_result"
    }
   ],
   "source": [
    "df[place_of_birth].notna().any(axis=1).astype(int).value_counts(normalize=True)"
   ]
  },
  {
   "cell_type": "code",
   "execution_count": null,
   "id": "19589832-14de-4d66-891a-4e203c706fc2",
   "metadata": {},
   "outputs": [],
   "source": []
  },
  {
   "cell_type": "code",
   "execution_count": 36,
   "id": "4f00a2f0-5f3d-46b0-940e-989bad9f45f5",
   "metadata": {},
   "outputs": [
    {
     "name": "stdout",
     "output_type": "stream",
     "text": [
      "['p01_rel', 'p02_rel', 'p03_rel', 'p04_rel', 'p05_rel', 'p06_rel', 'p07_rel', 'p08_rel', 'p09_rel', 'p010_rel', 'p011_rel', 'p012_rel']\n"
     ]
    }
   ],
   "source": [
    "relationship = [i for i in column_name_list if i.endswith('_rel')] \n",
    "print(relationship)"
   ]
  },
  {
   "cell_type": "code",
   "execution_count": 37,
   "id": "ccb25133-d5eb-41ce-960d-486364732cce",
   "metadata": {},
   "outputs": [
    {
     "data": {
      "text/html": [
       "<div>\n",
       "<style scoped>\n",
       "    .dataframe tbody tr th:only-of-type {\n",
       "        vertical-align: middle;\n",
       "    }\n",
       "\n",
       "    .dataframe tbody tr th {\n",
       "        vertical-align: top;\n",
       "    }\n",
       "\n",
       "    .dataframe thead th {\n",
       "        text-align: right;\n",
       "    }\n",
       "</style>\n",
       "<table border=\"1\" class=\"dataframe\">\n",
       "  <thead>\n",
       "    <tr style=\"text-align: right;\">\n",
       "      <th></th>\n",
       "      <th>ID_long</th>\n",
       "      <th>p01_rel</th>\n",
       "      <th>p02_rel</th>\n",
       "      <th>p03_rel</th>\n",
       "      <th>p04_rel</th>\n",
       "      <th>p05_rel</th>\n",
       "      <th>p06_rel</th>\n",
       "      <th>p07_rel</th>\n",
       "      <th>p08_rel</th>\n",
       "      <th>p09_rel</th>\n",
       "      <th>p010_rel</th>\n",
       "      <th>p011_rel</th>\n",
       "      <th>p012_rel</th>\n",
       "    </tr>\n",
       "  </thead>\n",
       "  <tbody>\n",
       "    <tr>\n",
       "      <th>0</th>\n",
       "      <td>3104718669-60949-001_3104718669-60949-002</td>\n",
       "      <td>H</td>\n",
       "      <td>W</td>\n",
       "      <td>Step D</td>\n",
       "      <td>Step S</td>\n",
       "      <td>NaN</td>\n",
       "      <td>NaN</td>\n",
       "      <td>NaN</td>\n",
       "      <td>NaN</td>\n",
       "      <td>NaN</td>\n",
       "      <td>NaN</td>\n",
       "      <td>NaN</td>\n",
       "      <td>NaN</td>\n",
       "    </tr>\n",
       "    <tr>\n",
       "      <th>1</th>\n",
       "      <td>3104718669-60949-003_3104718669-60949-004</td>\n",
       "      <td>H</td>\n",
       "      <td>W</td>\n",
       "      <td>S</td>\n",
       "      <td>D</td>\n",
       "      <td>S</td>\n",
       "      <td>NaN</td>\n",
       "      <td>NaN</td>\n",
       "      <td>NaN</td>\n",
       "      <td>NaN</td>\n",
       "      <td>NaN</td>\n",
       "      <td>NaN</td>\n",
       "      <td>NaN</td>\n",
       "    </tr>\n",
       "  </tbody>\n",
       "</table>\n",
       "</div>"
      ],
      "text/plain": [
       "                                     ID_long p01_rel p02_rel p03_rel p04_rel  \\\n",
       "0  3104718669-60949-001_3104718669-60949-002       H       W  Step D  Step S   \n",
       "1  3104718669-60949-003_3104718669-60949-004       H       W       S       D   \n",
       "\n",
       "  p05_rel p06_rel p07_rel p08_rel p09_rel p010_rel p011_rel p012_rel  \n",
       "0     NaN     NaN     NaN     NaN     NaN      NaN      NaN      NaN  \n",
       "1       S     NaN     NaN     NaN     NaN      NaN      NaN      NaN  "
      ]
     },
     "execution_count": 37,
     "metadata": {},
     "output_type": "execute_result"
    }
   ],
   "source": [
    "# define place_of_birth_df to include unique id and all place_of_birth\n",
    "relationship_df = df[['ID_long'] + relationship]\n",
    "relationship_df.head(2)"
   ]
  },
  {
   "cell_type": "code",
   "execution_count": 38,
   "id": "63a92996-5f2d-447f-bb2c-85023585b8f7",
   "metadata": {},
   "outputs": [
    {
     "data": {
      "text/plain": [
       "1    1760\n",
       "0     370\n",
       "dtype: int64"
      ]
     },
     "execution_count": 38,
     "metadata": {},
     "output_type": "execute_result"
    }
   ],
   "source": [
    "df[relationship].notna().any(axis=1).astype(int).value_counts()"
   ]
  },
  {
   "cell_type": "code",
   "execution_count": 39,
   "id": "d3046c32-109e-48b8-b071-049d6ebe4068",
   "metadata": {},
   "outputs": [
    {
     "data": {
      "text/plain": [
       "1    0.826291\n",
       "0    0.173709\n",
       "dtype: float64"
      ]
     },
     "execution_count": 39,
     "metadata": {},
     "output_type": "execute_result"
    }
   ],
   "source": [
    "df[relationship].notna().any(axis=1).astype(int).value_counts(normalize=True)"
   ]
  },
  {
   "cell_type": "code",
   "execution_count": null,
   "id": "4561d34a-0c44-4b02-8913-c76d1eb451fb",
   "metadata": {},
   "outputs": [],
   "source": []
  },
  {
   "cell_type": "code",
   "execution_count": 40,
   "id": "2832fb56-930e-471a-a73e-c54b2483bf3d",
   "metadata": {},
   "outputs": [
    {
     "name": "stdout",
     "output_type": "stream",
     "text": [
      "['p01_year', 'p02_year', 'p03_year', 'p04_year', 'p05_year', 'p06_year', 'p07_year', 'p08_year', 'p09_year', 'p010_year', 'p011_year', 'p012_year']\n"
     ]
    }
   ],
   "source": [
    "year_of_birth = [i for i in column_name_list if i.endswith('_year')] \n",
    "print(year_of_birth)"
   ]
  },
  {
   "cell_type": "code",
   "execution_count": 41,
   "id": "a5a882cc-4b50-4c52-b6d8-e59b6b8da192",
   "metadata": {},
   "outputs": [
    {
     "data": {
      "text/html": [
       "<div>\n",
       "<style scoped>\n",
       "    .dataframe tbody tr th:only-of-type {\n",
       "        vertical-align: middle;\n",
       "    }\n",
       "\n",
       "    .dataframe tbody tr th {\n",
       "        vertical-align: top;\n",
       "    }\n",
       "\n",
       "    .dataframe thead th {\n",
       "        text-align: right;\n",
       "    }\n",
       "</style>\n",
       "<table border=\"1\" class=\"dataframe\">\n",
       "  <thead>\n",
       "    <tr style=\"text-align: right;\">\n",
       "      <th></th>\n",
       "      <th>ID_long</th>\n",
       "      <th>p01_year</th>\n",
       "      <th>p02_year</th>\n",
       "      <th>p03_year</th>\n",
       "      <th>p04_year</th>\n",
       "      <th>p05_year</th>\n",
       "      <th>p06_year</th>\n",
       "      <th>p07_year</th>\n",
       "      <th>p08_year</th>\n",
       "      <th>p09_year</th>\n",
       "      <th>p010_year</th>\n",
       "      <th>p011_year</th>\n",
       "      <th>p012_year</th>\n",
       "    </tr>\n",
       "  </thead>\n",
       "  <tbody>\n",
       "    <tr>\n",
       "      <th>0</th>\n",
       "      <td>3104718669-60949-001_3104718669-60949-002</td>\n",
       "      <td>1931.0</td>\n",
       "      <td>1920.0</td>\n",
       "      <td>1941.0</td>\n",
       "      <td>1946.0</td>\n",
       "      <td>NaN</td>\n",
       "      <td>NaN</td>\n",
       "      <td>NaN</td>\n",
       "      <td>NaN</td>\n",
       "      <td>NaN</td>\n",
       "      <td>NaN</td>\n",
       "      <td>NaN</td>\n",
       "      <td>NaN</td>\n",
       "    </tr>\n",
       "    <tr>\n",
       "      <th>1</th>\n",
       "      <td>3104718669-60949-003_3104718669-60949-004</td>\n",
       "      <td>1931.0</td>\n",
       "      <td>1931.0</td>\n",
       "      <td>1951.0</td>\n",
       "      <td>1954.0</td>\n",
       "      <td>1955.0</td>\n",
       "      <td>NaN</td>\n",
       "      <td>NaN</td>\n",
       "      <td>NaN</td>\n",
       "      <td>NaN</td>\n",
       "      <td>NaN</td>\n",
       "      <td>NaN</td>\n",
       "      <td>NaN</td>\n",
       "    </tr>\n",
       "  </tbody>\n",
       "</table>\n",
       "</div>"
      ],
      "text/plain": [
       "                                     ID_long  p01_year  p02_year  p03_year  \\\n",
       "0  3104718669-60949-001_3104718669-60949-002    1931.0    1920.0    1941.0   \n",
       "1  3104718669-60949-003_3104718669-60949-004    1931.0    1931.0    1951.0   \n",
       "\n",
       "   p04_year  p05_year  p06_year  p07_year  p08_year  p09_year  p010_year  \\\n",
       "0    1946.0       NaN       NaN       NaN       NaN       NaN        NaN   \n",
       "1    1954.0    1955.0       NaN       NaN       NaN       NaN        NaN   \n",
       "\n",
       "   p011_year  p012_year  \n",
       "0        NaN        NaN  \n",
       "1        NaN        NaN  "
      ]
     },
     "execution_count": 41,
     "metadata": {},
     "output_type": "execute_result"
    }
   ],
   "source": [
    "# define place_of_birth_df to include unique id and all place_of_birth\n",
    "year_of_birth_df = df[['ID_long'] + year_of_birth]\n",
    "year_of_birth_df.head(2)"
   ]
  },
  {
   "cell_type": "code",
   "execution_count": 42,
   "id": "a1ecd128-bb34-48d5-86c8-815d4fb081b7",
   "metadata": {},
   "outputs": [
    {
     "data": {
      "text/plain": [
       "1    1649\n",
       "0     481\n",
       "dtype: int64"
      ]
     },
     "execution_count": 42,
     "metadata": {},
     "output_type": "execute_result"
    }
   ],
   "source": [
    "df[year_of_birth].notna().any(axis=1).astype(int).value_counts()"
   ]
  },
  {
   "cell_type": "code",
   "execution_count": 43,
   "id": "6d9f4f36-97bc-4dbc-a0e1-2281c866aa96",
   "metadata": {},
   "outputs": [
    {
     "data": {
      "text/plain": [
       "1    0.774178\n",
       "0    0.225822\n",
       "dtype: float64"
      ]
     },
     "execution_count": 43,
     "metadata": {},
     "output_type": "execute_result"
    }
   ],
   "source": [
    "df[year_of_birth].notna().any(axis=1).astype(int).value_counts(normalize=True)"
   ]
  },
  {
   "cell_type": "code",
   "execution_count": null,
   "id": "6e1be98e-a1e8-4696-916b-079fcf14b7e9",
   "metadata": {},
   "outputs": [],
   "source": []
  },
  {
   "cell_type": "code",
   "execution_count": 44,
   "id": "2ea2883a-e5c7-4e69-8a02-526030949e6a",
   "metadata": {},
   "outputs": [
    {
     "name": "stdout",
     "output_type": "stream",
     "text": [
      "['p01_incwk', 'p02_incwk', 'p03_incwk', 'p04_incwk', 'p05_incwk', 'p06_incwk', 'p07_incwk', 'p08_incwk', 'p09_incwk', 'p010_incwk', 'p011_incwk', 'p012_incwk']\n"
     ]
    }
   ],
   "source": [
    "incwk = [i for i in column_name_list if i.endswith('_incwk')] \n",
    "print(incwk)"
   ]
  },
  {
   "cell_type": "code",
   "execution_count": 45,
   "id": "a16f292d-8cbc-47ef-b49b-90e858dd78a0",
   "metadata": {},
   "outputs": [
    {
     "data": {
      "text/html": [
       "<div>\n",
       "<style scoped>\n",
       "    .dataframe tbody tr th:only-of-type {\n",
       "        vertical-align: middle;\n",
       "    }\n",
       "\n",
       "    .dataframe tbody tr th {\n",
       "        vertical-align: top;\n",
       "    }\n",
       "\n",
       "    .dataframe thead th {\n",
       "        text-align: right;\n",
       "    }\n",
       "</style>\n",
       "<table border=\"1\" class=\"dataframe\">\n",
       "  <thead>\n",
       "    <tr style=\"text-align: right;\">\n",
       "      <th></th>\n",
       "      <th>ID_long</th>\n",
       "      <th>p01_incwk</th>\n",
       "      <th>p02_incwk</th>\n",
       "      <th>p03_incwk</th>\n",
       "      <th>p04_incwk</th>\n",
       "      <th>p05_incwk</th>\n",
       "      <th>p06_incwk</th>\n",
       "      <th>p07_incwk</th>\n",
       "      <th>p08_incwk</th>\n",
       "      <th>p09_incwk</th>\n",
       "      <th>p010_incwk</th>\n",
       "      <th>p011_incwk</th>\n",
       "      <th>p012_incwk</th>\n",
       "    </tr>\n",
       "  </thead>\n",
       "  <tbody>\n",
       "    <tr>\n",
       "      <th>0</th>\n",
       "      <td>3104718669-60949-001_3104718669-60949-002</td>\n",
       "      <td>NaN</td>\n",
       "      <td>NaN</td>\n",
       "      <td>NaN</td>\n",
       "      <td>NaN</td>\n",
       "      <td>NaN</td>\n",
       "      <td>NaN</td>\n",
       "      <td>NaN</td>\n",
       "      <td>NaN</td>\n",
       "      <td>NaN</td>\n",
       "      <td>NaN</td>\n",
       "      <td>NaN</td>\n",
       "      <td>NaN</td>\n",
       "    </tr>\n",
       "    <tr>\n",
       "      <th>1</th>\n",
       "      <td>3104718669-60949-003_3104718669-60949-004</td>\n",
       "      <td>80</td>\n",
       "      <td>NaN</td>\n",
       "      <td>NaN</td>\n",
       "      <td>NaN</td>\n",
       "      <td>NaN</td>\n",
       "      <td>NaN</td>\n",
       "      <td>NaN</td>\n",
       "      <td>NaN</td>\n",
       "      <td>NaN</td>\n",
       "      <td>NaN</td>\n",
       "      <td>NaN</td>\n",
       "      <td>NaN</td>\n",
       "    </tr>\n",
       "  </tbody>\n",
       "</table>\n",
       "</div>"
      ],
      "text/plain": [
       "                                     ID_long p01_incwk p02_incwk p03_incwk  \\\n",
       "0  3104718669-60949-001_3104718669-60949-002       NaN       NaN       NaN   \n",
       "1  3104718669-60949-003_3104718669-60949-004        80       NaN       NaN   \n",
       "\n",
       "  p04_incwk p05_incwk p06_incwk p07_incwk p08_incwk  p09_incwk  p010_incwk  \\\n",
       "0       NaN       NaN       NaN       NaN       NaN        NaN         NaN   \n",
       "1       NaN       NaN       NaN       NaN       NaN        NaN         NaN   \n",
       "\n",
       "   p011_incwk  p012_incwk  \n",
       "0         NaN         NaN  \n",
       "1         NaN         NaN  "
      ]
     },
     "execution_count": 45,
     "metadata": {},
     "output_type": "execute_result"
    }
   ],
   "source": [
    "# define place_of_birth_df to include unique id and all place_of_birth\n",
    "incwk_df = df[['ID_long'] + incwk]\n",
    "incwk_df.head(2)"
   ]
  },
  {
   "cell_type": "code",
   "execution_count": 46,
   "id": "da6b9178-8e91-482b-be00-162cbfa979be",
   "metadata": {},
   "outputs": [
    {
     "data": {
      "text/plain": [
       "0    1081\n",
       "1    1049\n",
       "dtype: int64"
      ]
     },
     "execution_count": 46,
     "metadata": {},
     "output_type": "execute_result"
    }
   ],
   "source": [
    "df[incwk].notna().any(axis=1).astype(int).value_counts()"
   ]
  },
  {
   "cell_type": "code",
   "execution_count": 47,
   "id": "0f1e1f74-eda0-4560-841d-0fd679a3bcc5",
   "metadata": {},
   "outputs": [
    {
     "data": {
      "text/plain": [
       "0    0.507512\n",
       "1    0.492488\n",
       "dtype: float64"
      ]
     },
     "execution_count": 47,
     "metadata": {},
     "output_type": "execute_result"
    }
   ],
   "source": [
    "df[incwk].notna().any(axis=1).astype(int).value_counts(normalize=True)"
   ]
  },
  {
   "cell_type": "code",
   "execution_count": null,
   "id": "4beca206-32ce-43a2-bbde-b571d0bf6efe",
   "metadata": {},
   "outputs": [],
   "source": []
  },
  {
   "cell_type": "code",
   "execution_count": null,
   "id": "b77745d3-28fc-46ce-b261-b4658bbde97c",
   "metadata": {},
   "outputs": [],
   "source": []
  },
  {
   "cell_type": "code",
   "execution_count": 48,
   "id": "d72b8bb4-8917-4273-ab7c-c650b5899f84",
   "metadata": {},
   "outputs": [
    {
     "name": "stdout",
     "output_type": "stream",
     "text": [
      "['p01_incmo', 'p02_incmo', 'p03_incmo', 'p04_incmo', 'p05_incmo', 'p06_incmo', 'p07_incmo', 'p08_incmo', 'p09_incmo', 'p010_incmo', 'p011_incmo', 'p012_incmo']\n"
     ]
    }
   ],
   "source": [
    "incmo = [i for i in column_name_list if i.endswith('_incmo')] \n",
    "print(incmo)"
   ]
  },
  {
   "cell_type": "code",
   "execution_count": 49,
   "id": "7d9f1cfb-ee06-464e-bccf-c5b4032170f2",
   "metadata": {},
   "outputs": [
    {
     "data": {
      "text/html": [
       "<div>\n",
       "<style scoped>\n",
       "    .dataframe tbody tr th:only-of-type {\n",
       "        vertical-align: middle;\n",
       "    }\n",
       "\n",
       "    .dataframe tbody tr th {\n",
       "        vertical-align: top;\n",
       "    }\n",
       "\n",
       "    .dataframe thead th {\n",
       "        text-align: right;\n",
       "    }\n",
       "</style>\n",
       "<table border=\"1\" class=\"dataframe\">\n",
       "  <thead>\n",
       "    <tr style=\"text-align: right;\">\n",
       "      <th></th>\n",
       "      <th>ID_long</th>\n",
       "      <th>p01_incmo</th>\n",
       "      <th>p02_incmo</th>\n",
       "      <th>p03_incmo</th>\n",
       "      <th>p04_incmo</th>\n",
       "      <th>p05_incmo</th>\n",
       "      <th>p06_incmo</th>\n",
       "      <th>p07_incmo</th>\n",
       "      <th>p08_incmo</th>\n",
       "      <th>p09_incmo</th>\n",
       "      <th>p010_incmo</th>\n",
       "      <th>p011_incmo</th>\n",
       "      <th>p012_incmo</th>\n",
       "    </tr>\n",
       "  </thead>\n",
       "  <tbody>\n",
       "    <tr>\n",
       "      <th>0</th>\n",
       "      <td>3104718669-60949-001_3104718669-60949-002</td>\n",
       "      <td>248.00</td>\n",
       "      <td>NaN</td>\n",
       "      <td>NaN</td>\n",
       "      <td>NaN</td>\n",
       "      <td>NaN</td>\n",
       "      <td>NaN</td>\n",
       "      <td>NaN</td>\n",
       "      <td>NaN</td>\n",
       "      <td>NaN</td>\n",
       "      <td>NaN</td>\n",
       "      <td>NaN</td>\n",
       "      <td>NaN</td>\n",
       "    </tr>\n",
       "    <tr>\n",
       "      <th>1</th>\n",
       "      <td>3104718669-60949-003_3104718669-60949-004</td>\n",
       "      <td>NaN</td>\n",
       "      <td>NaN</td>\n",
       "      <td>NaN</td>\n",
       "      <td>NaN</td>\n",
       "      <td>NaN</td>\n",
       "      <td>NaN</td>\n",
       "      <td>NaN</td>\n",
       "      <td>NaN</td>\n",
       "      <td>NaN</td>\n",
       "      <td>NaN</td>\n",
       "      <td>NaN</td>\n",
       "      <td>NaN</td>\n",
       "    </tr>\n",
       "  </tbody>\n",
       "</table>\n",
       "</div>"
      ],
      "text/plain": [
       "                                     ID_long p01_incmo p02_incmo p03_incmo  \\\n",
       "0  3104718669-60949-001_3104718669-60949-002    248.00       NaN       NaN   \n",
       "1  3104718669-60949-003_3104718669-60949-004       NaN       NaN       NaN   \n",
       "\n",
       "  p04_incmo p05_incmo p06_incmo p07_incmo  p08_incmo  p09_incmo  p010_incmo  \\\n",
       "0       NaN       NaN       NaN       NaN        NaN        NaN         NaN   \n",
       "1       NaN       NaN       NaN       NaN        NaN        NaN         NaN   \n",
       "\n",
       "   p011_incmo  p012_incmo  \n",
       "0         NaN         NaN  \n",
       "1         NaN         NaN  "
      ]
     },
     "execution_count": 49,
     "metadata": {},
     "output_type": "execute_result"
    }
   ],
   "source": [
    "# define place_of_birth_df to include unique id and all place_of_birth\n",
    "incmo_df = df[['ID_long'] + incmo]\n",
    "incmo_df.head(2)"
   ]
  },
  {
   "cell_type": "code",
   "execution_count": 50,
   "id": "6ffb4434-5b0e-44a1-9bde-a5d1357d414e",
   "metadata": {},
   "outputs": [
    {
     "data": {
      "text/plain": [
       "0    1949\n",
       "1     181\n",
       "dtype: int64"
      ]
     },
     "execution_count": 50,
     "metadata": {},
     "output_type": "execute_result"
    }
   ],
   "source": [
    "df[incmo].notna().any(axis=1).astype(int).value_counts()"
   ]
  },
  {
   "cell_type": "code",
   "execution_count": 54,
   "id": "60fdd334-88d2-4547-a6e6-8a71b55870f8",
   "metadata": {},
   "outputs": [
    {
     "data": {
      "text/plain": [
       "0    0.915023\n",
       "1    0.084977\n",
       "dtype: float64"
      ]
     },
     "execution_count": 54,
     "metadata": {},
     "output_type": "execute_result"
    }
   ],
   "source": [
    "df[incmo].notna().any(axis=1).astype(int).value_counts(normalize=True)"
   ]
  },
  {
   "cell_type": "code",
   "execution_count": null,
   "id": "93981241-2ba7-4fd8-b35b-096b6c7dea8d",
   "metadata": {},
   "outputs": [],
   "source": []
  },
  {
   "cell_type": "code",
   "execution_count": 57,
   "id": "21bd4b83-9144-4d73-851c-bbbf001e26a5",
   "metadata": {},
   "outputs": [
    {
     "name": "stdout",
     "output_type": "stream",
     "text": [
      "['p01_incan', 'p02_incan', 'p03_incan', 'p04_incan', 'p05_incan', 'p06_incan', 'p07_incan', 'p08_incan', 'p09_incan', 'p010_incan', 'p011_incan', 'p012_incan']\n"
     ]
    }
   ],
   "source": [
    "incan = [i for i in column_name_list if i.endswith('_incan')] \n",
    "print(incan)"
   ]
  },
  {
   "cell_type": "code",
   "execution_count": 58,
   "id": "e443351e-ae0a-4213-a6c6-d78f02d24b1c",
   "metadata": {},
   "outputs": [
    {
     "data": {
      "text/html": [
       "<div>\n",
       "<style scoped>\n",
       "    .dataframe tbody tr th:only-of-type {\n",
       "        vertical-align: middle;\n",
       "    }\n",
       "\n",
       "    .dataframe tbody tr th {\n",
       "        vertical-align: top;\n",
       "    }\n",
       "\n",
       "    .dataframe thead th {\n",
       "        text-align: right;\n",
       "    }\n",
       "</style>\n",
       "<table border=\"1\" class=\"dataframe\">\n",
       "  <thead>\n",
       "    <tr style=\"text-align: right;\">\n",
       "      <th></th>\n",
       "      <th>ID_long</th>\n",
       "      <th>p01_incan</th>\n",
       "      <th>p02_incan</th>\n",
       "      <th>p03_incan</th>\n",
       "      <th>p04_incan</th>\n",
       "      <th>p05_incan</th>\n",
       "      <th>p06_incan</th>\n",
       "      <th>p07_incan</th>\n",
       "      <th>p08_incan</th>\n",
       "      <th>p09_incan</th>\n",
       "      <th>p010_incan</th>\n",
       "      <th>p011_incan</th>\n",
       "      <th>p012_incan</th>\n",
       "    </tr>\n",
       "  </thead>\n",
       "  <tbody>\n",
       "    <tr>\n",
       "      <th>0</th>\n",
       "      <td>3104718669-60949-001_3104718669-60949-002</td>\n",
       "      <td>NaN</td>\n",
       "      <td>NaN</td>\n",
       "      <td>NaN</td>\n",
       "      <td>NaN</td>\n",
       "      <td>NaN</td>\n",
       "      <td>NaN</td>\n",
       "      <td>NaN</td>\n",
       "      <td>NaN</td>\n",
       "      <td>NaN</td>\n",
       "      <td>NaN</td>\n",
       "      <td>NaN</td>\n",
       "      <td>NaN</td>\n",
       "    </tr>\n",
       "    <tr>\n",
       "      <th>1</th>\n",
       "      <td>3104718669-60949-003_3104718669-60949-004</td>\n",
       "      <td>NaN</td>\n",
       "      <td>NaN</td>\n",
       "      <td>NaN</td>\n",
       "      <td>NaN</td>\n",
       "      <td>NaN</td>\n",
       "      <td>NaN</td>\n",
       "      <td>NaN</td>\n",
       "      <td>NaN</td>\n",
       "      <td>NaN</td>\n",
       "      <td>NaN</td>\n",
       "      <td>NaN</td>\n",
       "      <td>NaN</td>\n",
       "    </tr>\n",
       "  </tbody>\n",
       "</table>\n",
       "</div>"
      ],
      "text/plain": [
       "                                     ID_long p01_incan p02_incan p03_incan  \\\n",
       "0  3104718669-60949-001_3104718669-60949-002       NaN       NaN       NaN   \n",
       "1  3104718669-60949-003_3104718669-60949-004       NaN       NaN       NaN   \n",
       "\n",
       "  p04_incan  p05_incan  p06_incan  p07_incan p08_incan p09_incan  p010_incan  \\\n",
       "0       NaN        NaN        NaN        NaN       NaN       NaN         NaN   \n",
       "1       NaN        NaN        NaN        NaN       NaN       NaN         NaN   \n",
       "\n",
       "   p011_incan  p012_incan  \n",
       "0         NaN         NaN  \n",
       "1         NaN         NaN  "
      ]
     },
     "execution_count": 58,
     "metadata": {},
     "output_type": "execute_result"
    }
   ],
   "source": [
    "# define place_of_birth_df to include unique id and all place_of_birth\n",
    "incan_df = df[['ID_long'] + incan]\n",
    "incan_df.head(2)"
   ]
  },
  {
   "cell_type": "code",
   "execution_count": 59,
   "id": "bc592c5d-93e4-4846-9f05-f3967932076d",
   "metadata": {},
   "outputs": [
    {
     "data": {
      "text/plain": [
       "0    1859\n",
       "1     271\n",
       "dtype: int64"
      ]
     },
     "execution_count": 59,
     "metadata": {},
     "output_type": "execute_result"
    }
   ],
   "source": [
    "df[incan].notna().any(axis=1).astype(int).value_counts()"
   ]
  },
  {
   "cell_type": "code",
   "execution_count": 60,
   "id": "f9596cd8-da14-4379-8d04-258253025a95",
   "metadata": {},
   "outputs": [
    {
     "data": {
      "text/plain": [
       "0    0.87277\n",
       "1    0.12723\n",
       "dtype: float64"
      ]
     },
     "execution_count": 60,
     "metadata": {},
     "output_type": "execute_result"
    }
   ],
   "source": [
    "df[incan].notna().any(axis=1).astype(int).value_counts(normalize=True)"
   ]
  },
  {
   "cell_type": "code",
   "execution_count": null,
   "id": "2b72a7d1-ed50-400e-b9a2-36d00d816055",
   "metadata": {},
   "outputs": [],
   "source": []
  },
  {
   "cell_type": "code",
   "execution_count": null,
   "id": "2a210cb1-16ef-46f8-8ea1-8721f8f3ba29",
   "metadata": {},
   "outputs": [],
   "source": []
  },
  {
   "cell_type": "code",
   "execution_count": 61,
   "id": "f4d01992-a8fe-4841-8b35-afb501882bbf",
   "metadata": {},
   "outputs": [
    {
     "data": {
      "text/html": [
       "<div>\n",
       "<style scoped>\n",
       "    .dataframe tbody tr th:only-of-type {\n",
       "        vertical-align: middle;\n",
       "    }\n",
       "\n",
       "    .dataframe tbody tr th {\n",
       "        vertical-align: top;\n",
       "    }\n",
       "\n",
       "    .dataframe thead th {\n",
       "        text-align: right;\n",
       "    }\n",
       "</style>\n",
       "<table border=\"1\" class=\"dataframe\">\n",
       "  <thead>\n",
       "    <tr style=\"text-align: right;\">\n",
       "      <th></th>\n",
       "      <th>ID_long</th>\n",
       "      <th>p01_incwk</th>\n",
       "      <th>p02_incwk</th>\n",
       "      <th>p03_incwk</th>\n",
       "      <th>p04_incwk</th>\n",
       "      <th>p05_incwk</th>\n",
       "      <th>p06_incwk</th>\n",
       "      <th>p07_incwk</th>\n",
       "      <th>p08_incwk</th>\n",
       "      <th>p09_incwk</th>\n",
       "      <th>...</th>\n",
       "      <th>p03_incan</th>\n",
       "      <th>p04_incan</th>\n",
       "      <th>p05_incan</th>\n",
       "      <th>p06_incan</th>\n",
       "      <th>p07_incan</th>\n",
       "      <th>p08_incan</th>\n",
       "      <th>p09_incan</th>\n",
       "      <th>p010_incan</th>\n",
       "      <th>p011_incan</th>\n",
       "      <th>p012_incan</th>\n",
       "    </tr>\n",
       "  </thead>\n",
       "  <tbody>\n",
       "    <tr>\n",
       "      <th>0</th>\n",
       "      <td>3104718669-60949-001_3104718669-60949-002</td>\n",
       "      <td>NaN</td>\n",
       "      <td>NaN</td>\n",
       "      <td>NaN</td>\n",
       "      <td>NaN</td>\n",
       "      <td>NaN</td>\n",
       "      <td>NaN</td>\n",
       "      <td>NaN</td>\n",
       "      <td>NaN</td>\n",
       "      <td>NaN</td>\n",
       "      <td>...</td>\n",
       "      <td>NaN</td>\n",
       "      <td>NaN</td>\n",
       "      <td>NaN</td>\n",
       "      <td>NaN</td>\n",
       "      <td>NaN</td>\n",
       "      <td>NaN</td>\n",
       "      <td>NaN</td>\n",
       "      <td>NaN</td>\n",
       "      <td>NaN</td>\n",
       "      <td>NaN</td>\n",
       "    </tr>\n",
       "  </tbody>\n",
       "</table>\n",
       "<p>1 rows × 37 columns</p>\n",
       "</div>"
      ],
      "text/plain": [
       "                                     ID_long p01_incwk p02_incwk p03_incwk  \\\n",
       "0  3104718669-60949-001_3104718669-60949-002       NaN       NaN       NaN   \n",
       "\n",
       "  p04_incwk p05_incwk p06_incwk p07_incwk p08_incwk  p09_incwk  ...  \\\n",
       "0       NaN       NaN       NaN       NaN       NaN        NaN  ...   \n",
       "\n",
       "   p03_incan  p04_incan  p05_incan p06_incan p07_incan p08_incan p09_incan  \\\n",
       "0        NaN        NaN        NaN       NaN       NaN       NaN       NaN   \n",
       "\n",
       "  p010_incan p011_incan p012_incan  \n",
       "0        NaN        NaN        NaN  \n",
       "\n",
       "[1 rows x 37 columns]"
      ]
     },
     "execution_count": 61,
     "metadata": {},
     "output_type": "execute_result"
    }
   ],
   "source": [
    "income_df = df[['ID_long'] + incwk + incmo + incan]\n",
    "income_df.head(1)"
   ]
  },
  {
   "cell_type": "code",
   "execution_count": 62,
   "id": "64e982b6-1fe8-45aa-9308-3a33e65729a0",
   "metadata": {},
   "outputs": [
    {
     "data": {
      "text/plain": [
       "1    1340\n",
       "0     790\n",
       "dtype: int64"
      ]
     },
     "execution_count": 62,
     "metadata": {},
     "output_type": "execute_result"
    }
   ],
   "source": [
    "df[incwk+incmo+incan].notna().any(axis=1).astype(int).value_counts()\n"
   ]
  },
  {
   "cell_type": "code",
   "execution_count": 63,
   "id": "2847b05d-0735-4923-9ca4-df8c1984174f",
   "metadata": {},
   "outputs": [
    {
     "data": {
      "text/plain": [
       "1    0.629108\n",
       "0    0.370892\n",
       "dtype: float64"
      ]
     },
     "execution_count": 63,
     "metadata": {},
     "output_type": "execute_result"
    }
   ],
   "source": [
    "df[incwk+incmo+incan].notna().any(axis=1).astype(int).value_counts(normalize=True)"
   ]
  },
  {
   "cell_type": "code",
   "execution_count": null,
   "id": "41dfb449-fe93-46a5-bbbf-f71e463ec19d",
   "metadata": {},
   "outputs": [],
   "source": []
  },
  {
   "cell_type": "code",
   "execution_count": 64,
   "id": "ddbc9625-39e8-4c0b-a48d-01403aea7378",
   "metadata": {},
   "outputs": [
    {
     "data": {
      "text/html": [
       "<div>\n",
       "<style scoped>\n",
       "    .dataframe tbody tr th:only-of-type {\n",
       "        vertical-align: middle;\n",
       "    }\n",
       "\n",
       "    .dataframe tbody tr th {\n",
       "        vertical-align: top;\n",
       "    }\n",
       "\n",
       "    .dataframe thead th {\n",
       "        text-align: right;\n",
       "    }\n",
       "</style>\n",
       "<table border=\"1\" class=\"dataframe\">\n",
       "  <thead>\n",
       "    <tr style=\"text-align: right;\">\n",
       "      <th></th>\n",
       "      <th>ID_long</th>\n",
       "      <th>p01_rel</th>\n",
       "      <th>p02_rel</th>\n",
       "      <th>p03_rel</th>\n",
       "      <th>p04_rel</th>\n",
       "      <th>p05_rel</th>\n",
       "      <th>p06_rel</th>\n",
       "      <th>p07_rel</th>\n",
       "      <th>p08_rel</th>\n",
       "      <th>p09_rel</th>\n",
       "      <th>...</th>\n",
       "      <th>p03_incan</th>\n",
       "      <th>p04_incan</th>\n",
       "      <th>p05_incan</th>\n",
       "      <th>p06_incan</th>\n",
       "      <th>p07_incan</th>\n",
       "      <th>p08_incan</th>\n",
       "      <th>p09_incan</th>\n",
       "      <th>p010_incan</th>\n",
       "      <th>p011_incan</th>\n",
       "      <th>p012_incan</th>\n",
       "    </tr>\n",
       "  </thead>\n",
       "  <tbody>\n",
       "    <tr>\n",
       "      <th>0</th>\n",
       "      <td>3104718669-60949-001_3104718669-60949-002</td>\n",
       "      <td>H</td>\n",
       "      <td>W</td>\n",
       "      <td>Step D</td>\n",
       "      <td>Step S</td>\n",
       "      <td>NaN</td>\n",
       "      <td>NaN</td>\n",
       "      <td>NaN</td>\n",
       "      <td>NaN</td>\n",
       "      <td>NaN</td>\n",
       "      <td>...</td>\n",
       "      <td>NaN</td>\n",
       "      <td>NaN</td>\n",
       "      <td>NaN</td>\n",
       "      <td>NaN</td>\n",
       "      <td>NaN</td>\n",
       "      <td>NaN</td>\n",
       "      <td>NaN</td>\n",
       "      <td>NaN</td>\n",
       "      <td>NaN</td>\n",
       "      <td>NaN</td>\n",
       "    </tr>\n",
       "  </tbody>\n",
       "</table>\n",
       "<p>1 rows × 73 columns</p>\n",
       "</div>"
      ],
      "text/plain": [
       "                                     ID_long p01_rel p02_rel p03_rel p04_rel  \\\n",
       "0  3104718669-60949-001_3104718669-60949-002       H       W  Step D  Step S   \n",
       "\n",
       "  p05_rel p06_rel p07_rel p08_rel p09_rel  ... p03_incan p04_incan p05_incan  \\\n",
       "0     NaN     NaN     NaN     NaN     NaN  ...       NaN       NaN       NaN   \n",
       "\n",
       "  p06_incan p07_incan p08_incan p09_incan p010_incan p011_incan p012_incan  \n",
       "0       NaN       NaN       NaN       NaN        NaN        NaN        NaN  \n",
       "\n",
       "[1 rows x 73 columns]"
      ]
     },
     "execution_count": 64,
     "metadata": {},
     "output_type": "execute_result"
    }
   ],
   "source": [
    "family_composition_df = df[['ID_long'] + relationship + place_of_birth + year_of_birth+ incwk + incmo + incan]\n",
    "family_composition_df.head(1)"
   ]
  },
  {
   "cell_type": "code",
   "execution_count": 65,
   "id": "0e4ddd77-373b-438c-a0af-e4a1e638715f",
   "metadata": {},
   "outputs": [],
   "source": [
    "fam_composition = relationship + place_of_birth + year_of_birth+ incwk + incmo + incan"
   ]
  },
  {
   "cell_type": "code",
   "execution_count": 66,
   "id": "cb492e51-62fd-47c6-abde-401902267b18",
   "metadata": {},
   "outputs": [
    {
     "data": {
      "text/plain": [
       "1    1876\n",
       "0     254\n",
       "dtype: int64"
      ]
     },
     "execution_count": 66,
     "metadata": {},
     "output_type": "execute_result"
    }
   ],
   "source": [
    "df[fam_composition].notna().any(axis=1).astype(int).value_counts()"
   ]
  },
  {
   "cell_type": "code",
   "execution_count": 67,
   "id": "a4b83aa7-8629-489a-bce0-5f01dfbf225d",
   "metadata": {},
   "outputs": [
    {
     "data": {
      "text/plain": [
       "1    0.880751\n",
       "0    0.119249\n",
       "dtype: float64"
      ]
     },
     "execution_count": 67,
     "metadata": {},
     "output_type": "execute_result"
    }
   ],
   "source": [
    "df[fam_composition].notna().any(axis=1).astype(int).value_counts(normalize=True)"
   ]
  },
  {
   "cell_type": "code",
   "execution_count": 69,
   "id": "bade78aa-2b99-44ce-85e7-880b16fdffd0",
   "metadata": {},
   "outputs": [
    {
     "data": {
      "text/plain": [
       "True     1874\n",
       "False     256\n",
       "Name: fam_size2, dtype: int64"
      ]
     },
     "execution_count": 69,
     "metadata": {},
     "output_type": "execute_result"
    }
   ],
   "source": [
    "df['fam_size2'].notna().value_counts()"
   ]
  },
  {
   "cell_type": "code",
   "execution_count": null,
   "id": "f78208b0-8188-410a-8776-e62eb86e5bac",
   "metadata": {},
   "outputs": [],
   "source": []
  },
  {
   "cell_type": "code",
   "execution_count": 82,
   "id": "b844c3c4-c129-4512-98e7-2c89271b3180",
   "metadata": {
    "tags": []
   },
   "outputs": [
    {
     "data": {
      "text/html": [
       "<div>\n",
       "<style scoped>\n",
       "    .dataframe tbody tr th:only-of-type {\n",
       "        vertical-align: middle;\n",
       "    }\n",
       "\n",
       "    .dataframe tbody tr th {\n",
       "        vertical-align: top;\n",
       "    }\n",
       "\n",
       "    .dataframe thead th {\n",
       "        text-align: right;\n",
       "    }\n",
       "</style>\n",
       "<table border=\"1\" class=\"dataframe\">\n",
       "  <thead>\n",
       "    <tr style=\"text-align: right;\">\n",
       "      <th></th>\n",
       "      <th>ID_long</th>\n",
       "      <th>variable</th>\n",
       "      <th>value</th>\n",
       "    </tr>\n",
       "  </thead>\n",
       "  <tbody>\n",
       "    <tr>\n",
       "      <th>0</th>\n",
       "      <td>3104718669-60949-001_3104718669-60949-002</td>\n",
       "      <td>p01_rel</td>\n",
       "      <td>H</td>\n",
       "    </tr>\n",
       "    <tr>\n",
       "      <th>1</th>\n",
       "      <td>3104718669-60949-003_3104718669-60949-004</td>\n",
       "      <td>p01_rel</td>\n",
       "      <td>H</td>\n",
       "    </tr>\n",
       "    <tr>\n",
       "      <th>2</th>\n",
       "      <td>3104718669-60949-005_3104718669-60949-006</td>\n",
       "      <td>p01_rel</td>\n",
       "      <td>H</td>\n",
       "    </tr>\n",
       "    <tr>\n",
       "      <th>3</th>\n",
       "      <td>3104718669-60949-007_3104718669-60949-008</td>\n",
       "      <td>p01_rel</td>\n",
       "      <td>Head</td>\n",
       "    </tr>\n",
       "    <tr>\n",
       "      <th>4</th>\n",
       "      <td>3104718669-60949-009_3104718669-60949-010</td>\n",
       "      <td>p01_rel</td>\n",
       "      <td>Head</td>\n",
       "    </tr>\n",
       "    <tr>\n",
       "      <th>...</th>\n",
       "      <td>...</td>\n",
       "      <td>...</td>\n",
       "      <td>...</td>\n",
       "    </tr>\n",
       "    <tr>\n",
       "      <th>153355</th>\n",
       "      <td>3687372978-61113-015_3687372978-61113-016</td>\n",
       "      <td>p012_incan</td>\n",
       "      <td>NaN</td>\n",
       "    </tr>\n",
       "    <tr>\n",
       "      <th>153356</th>\n",
       "      <td>3687372978-61113-017_3687372978-61113-018</td>\n",
       "      <td>p012_incan</td>\n",
       "      <td>NaN</td>\n",
       "    </tr>\n",
       "    <tr>\n",
       "      <th>153357</th>\n",
       "      <td>3687372978-61113-019_3687372978-61113-020</td>\n",
       "      <td>p012_incan</td>\n",
       "      <td>NaN</td>\n",
       "    </tr>\n",
       "    <tr>\n",
       "      <th>153358</th>\n",
       "      <td>458103019-61041-009-_3458103019-61041-010</td>\n",
       "      <td>p012_incan</td>\n",
       "      <td>NaN</td>\n",
       "    </tr>\n",
       "    <tr>\n",
       "      <th>153359</th>\n",
       "      <td>95374663-61114-005-F_3195374663-61114-006</td>\n",
       "      <td>p012_incan</td>\n",
       "      <td>NaN</td>\n",
       "    </tr>\n",
       "  </tbody>\n",
       "</table>\n",
       "<p>153360 rows × 3 columns</p>\n",
       "</div>"
      ],
      "text/plain": [
       "                                          ID_long    variable value\n",
       "0       3104718669-60949-001_3104718669-60949-002     p01_rel     H\n",
       "1       3104718669-60949-003_3104718669-60949-004     p01_rel     H\n",
       "2       3104718669-60949-005_3104718669-60949-006     p01_rel     H\n",
       "3       3104718669-60949-007_3104718669-60949-008     p01_rel  Head\n",
       "4       3104718669-60949-009_3104718669-60949-010     p01_rel  Head\n",
       "...                                           ...         ...   ...\n",
       "153355  3687372978-61113-015_3687372978-61113-016  p012_incan   NaN\n",
       "153356  3687372978-61113-017_3687372978-61113-018  p012_incan   NaN\n",
       "153357  3687372978-61113-019_3687372978-61113-020  p012_incan   NaN\n",
       "153358  458103019-61041-009-_3458103019-61041-010  p012_incan   NaN\n",
       "153359  95374663-61114-005-F_3195374663-61114-006  p012_incan   NaN\n",
       "\n",
       "[153360 rows x 3 columns]"
      ]
     },
     "execution_count": 82,
     "metadata": {},
     "output_type": "execute_result"
    }
   ],
   "source": [
    "pd.melt(\n",
    "    family_composition_df, \n",
    "    id_vars = 'ID_long', \n",
    "    value_vars = fam_composition, \n",
    "    value_name = 'value'\n",
    ")"
   ]
  },
  {
   "cell_type": "code",
   "execution_count": 90,
   "id": "85c36270-8209-4627-9a29-520bad940f94",
   "metadata": {},
   "outputs": [],
   "source": [
    "temp_dict = {}\n",
    "for i in list(range(1, 13, 1)):\n",
    "    temp_dict['p0'+str(i)] = [j for j in fam_composition if 'p0' + str(i) + '_' in j]"
   ]
  },
  {
   "cell_type": "code",
   "execution_count": 93,
   "id": "058b3936-ea66-486c-bce7-e782e49a65ac",
   "metadata": {},
   "outputs": [
    {
     "data": {
      "text/plain": [
       "['p01_rel', 'p01_plcrec_2', 'p01_year', 'p01_incwk', 'p01_incmo', 'p01_incan']"
      ]
     },
     "execution_count": 93,
     "metadata": {},
     "output_type": "execute_result"
    }
   ],
   "source": [
    "temp_dict['p01']"
   ]
  },
  {
   "cell_type": "code",
   "execution_count": 94,
   "id": "df60d1d6-be54-44ba-9fed-681dbf3fbfe4",
   "metadata": {},
   "outputs": [
    {
     "data": {
      "text/html": [
       "<div>\n",
       "<style scoped>\n",
       "    .dataframe tbody tr th:only-of-type {\n",
       "        vertical-align: middle;\n",
       "    }\n",
       "\n",
       "    .dataframe tbody tr th {\n",
       "        vertical-align: top;\n",
       "    }\n",
       "\n",
       "    .dataframe thead th {\n",
       "        text-align: right;\n",
       "    }\n",
       "</style>\n",
       "<table border=\"1\" class=\"dataframe\">\n",
       "  <thead>\n",
       "    <tr style=\"text-align: right;\">\n",
       "      <th></th>\n",
       "      <th>ID_long</th>\n",
       "      <th>p01_rel</th>\n",
       "      <th>p02_rel</th>\n",
       "      <th>p03_rel</th>\n",
       "      <th>p04_rel</th>\n",
       "      <th>p05_rel</th>\n",
       "      <th>p06_rel</th>\n",
       "      <th>p07_rel</th>\n",
       "      <th>p08_rel</th>\n",
       "      <th>p09_rel</th>\n",
       "      <th>...</th>\n",
       "      <th>p03_incan</th>\n",
       "      <th>p04_incan</th>\n",
       "      <th>p05_incan</th>\n",
       "      <th>p06_incan</th>\n",
       "      <th>p07_incan</th>\n",
       "      <th>p08_incan</th>\n",
       "      <th>p09_incan</th>\n",
       "      <th>p010_incan</th>\n",
       "      <th>p011_incan</th>\n",
       "      <th>p012_incan</th>\n",
       "    </tr>\n",
       "  </thead>\n",
       "  <tbody>\n",
       "    <tr>\n",
       "      <th>0</th>\n",
       "      <td>3104718669-60949-001_3104718669-60949-002</td>\n",
       "      <td>H</td>\n",
       "      <td>W</td>\n",
       "      <td>Step D</td>\n",
       "      <td>Step S</td>\n",
       "      <td>NaN</td>\n",
       "      <td>NaN</td>\n",
       "      <td>NaN</td>\n",
       "      <td>NaN</td>\n",
       "      <td>NaN</td>\n",
       "      <td>...</td>\n",
       "      <td>NaN</td>\n",
       "      <td>NaN</td>\n",
       "      <td>NaN</td>\n",
       "      <td>NaN</td>\n",
       "      <td>NaN</td>\n",
       "      <td>NaN</td>\n",
       "      <td>NaN</td>\n",
       "      <td>NaN</td>\n",
       "      <td>NaN</td>\n",
       "      <td>NaN</td>\n",
       "    </tr>\n",
       "  </tbody>\n",
       "</table>\n",
       "<p>1 rows × 73 columns</p>\n",
       "</div>"
      ],
      "text/plain": [
       "                                     ID_long p01_rel p02_rel p03_rel p04_rel  \\\n",
       "0  3104718669-60949-001_3104718669-60949-002       H       W  Step D  Step S   \n",
       "\n",
       "  p05_rel p06_rel p07_rel p08_rel p09_rel  ... p03_incan p04_incan p05_incan  \\\n",
       "0     NaN     NaN     NaN     NaN     NaN  ...       NaN       NaN       NaN   \n",
       "\n",
       "  p06_incan p07_incan p08_incan p09_incan p010_incan p011_incan p012_incan  \n",
       "0       NaN       NaN       NaN       NaN        NaN        NaN        NaN  \n",
       "\n",
       "[1 rows x 73 columns]"
      ]
     },
     "execution_count": 94,
     "metadata": {},
     "output_type": "execute_result"
    }
   ],
   "source": [
    "family_composition_df.head(1)"
   ]
  },
  {
   "cell_type": "code",
   "execution_count": 120,
   "id": "74fdaf3d-f350-4fe2-83c9-7e14bb1dc04f",
   "metadata": {},
   "outputs": [
    {
     "data": {
      "text/html": [
       "<div>\n",
       "<style scoped>\n",
       "    .dataframe tbody tr th:only-of-type {\n",
       "        vertical-align: middle;\n",
       "    }\n",
       "\n",
       "    .dataframe tbody tr th {\n",
       "        vertical-align: top;\n",
       "    }\n",
       "\n",
       "    .dataframe thead th {\n",
       "        text-align: right;\n",
       "    }\n",
       "</style>\n",
       "<table border=\"1\" class=\"dataframe\">\n",
       "  <thead>\n",
       "    <tr style=\"text-align: right;\">\n",
       "      <th></th>\n",
       "      <th>p01_rel</th>\n",
       "      <th>p01_plcrec_2</th>\n",
       "      <th>p01_year</th>\n",
       "      <th>p01_incwk</th>\n",
       "      <th>p01_incmo</th>\n",
       "      <th>p01_incan</th>\n",
       "    </tr>\n",
       "  </thead>\n",
       "  <tbody>\n",
       "    <tr>\n",
       "      <th>0</th>\n",
       "      <td>H</td>\n",
       "      <td>PR</td>\n",
       "      <td>1931.0</td>\n",
       "      <td>NaN</td>\n",
       "      <td>248.00</td>\n",
       "      <td>NaN</td>\n",
       "    </tr>\n",
       "    <tr>\n",
       "      <th>1</th>\n",
       "      <td>H</td>\n",
       "      <td>USA</td>\n",
       "      <td>1931.0</td>\n",
       "      <td>80</td>\n",
       "      <td>NaN</td>\n",
       "      <td>NaN</td>\n",
       "    </tr>\n",
       "    <tr>\n",
       "      <th>2</th>\n",
       "      <td>H</td>\n",
       "      <td>USA</td>\n",
       "      <td>1900.0</td>\n",
       "      <td>NaN</td>\n",
       "      <td>NaN</td>\n",
       "      <td>3000</td>\n",
       "    </tr>\n",
       "    <tr>\n",
       "      <th>3</th>\n",
       "      <td>Head</td>\n",
       "      <td>USA</td>\n",
       "      <td>1914.0</td>\n",
       "      <td>Home</td>\n",
       "      <td>NaN</td>\n",
       "      <td>NaN</td>\n",
       "    </tr>\n",
       "    <tr>\n",
       "      <th>4</th>\n",
       "      <td>Head</td>\n",
       "      <td>Europe</td>\n",
       "      <td>1899.0</td>\n",
       "      <td>110.00</td>\n",
       "      <td>NaN</td>\n",
       "      <td>NaN</td>\n",
       "    </tr>\n",
       "    <tr>\n",
       "      <th>...</th>\n",
       "      <td>...</td>\n",
       "      <td>...</td>\n",
       "      <td>...</td>\n",
       "      <td>...</td>\n",
       "      <td>...</td>\n",
       "      <td>...</td>\n",
       "    </tr>\n",
       "    <tr>\n",
       "      <th>2125</th>\n",
       "      <td>H</td>\n",
       "      <td>USA</td>\n",
       "      <td>1889.0</td>\n",
       "      <td>NaN</td>\n",
       "      <td>NaN</td>\n",
       "      <td>NaN</td>\n",
       "    </tr>\n",
       "    <tr>\n",
       "      <th>2126</th>\n",
       "      <td>H</td>\n",
       "      <td>Europe</td>\n",
       "      <td>1889.0</td>\n",
       "      <td>NaN</td>\n",
       "      <td>NaN</td>\n",
       "      <td>1200</td>\n",
       "    </tr>\n",
       "    <tr>\n",
       "      <th>2127</th>\n",
       "      <td>H</td>\n",
       "      <td>NaN</td>\n",
       "      <td>NaN</td>\n",
       "      <td>NaN</td>\n",
       "      <td>NaN</td>\n",
       "      <td>NaN</td>\n",
       "    </tr>\n",
       "    <tr>\n",
       "      <th>2128</th>\n",
       "      <td>NaN</td>\n",
       "      <td>PR</td>\n",
       "      <td>1924.0</td>\n",
       "      <td>NaN</td>\n",
       "      <td>NaN</td>\n",
       "      <td>NaN</td>\n",
       "    </tr>\n",
       "    <tr>\n",
       "      <th>2129</th>\n",
       "      <td>head</td>\n",
       "      <td>NaN</td>\n",
       "      <td>NaN</td>\n",
       "      <td>NaN</td>\n",
       "      <td>NaN</td>\n",
       "      <td>NaN</td>\n",
       "    </tr>\n",
       "  </tbody>\n",
       "</table>\n",
       "<p>2130 rows × 6 columns</p>\n",
       "</div>"
      ],
      "text/plain": [
       "     p01_rel p01_plcrec_2  p01_year p01_incwk p01_incmo p01_incan\n",
       "0          H           PR    1931.0       NaN    248.00       NaN\n",
       "1          H          USA    1931.0        80       NaN       NaN\n",
       "2          H          USA    1900.0       NaN       NaN      3000\n",
       "3       Head          USA    1914.0      Home       NaN       NaN\n",
       "4       Head       Europe    1899.0    110.00       NaN       NaN\n",
       "...      ...          ...       ...       ...       ...       ...\n",
       "2125       H          USA    1889.0       NaN       NaN       NaN\n",
       "2126       H       Europe    1889.0       NaN       NaN      1200\n",
       "2127       H          NaN       NaN       NaN       NaN       NaN\n",
       "2128     NaN           PR    1924.0       NaN       NaN       NaN\n",
       "2129    head          NaN       NaN       NaN       NaN       NaN\n",
       "\n",
       "[2130 rows x 6 columns]"
      ]
     },
     "execution_count": 120,
     "metadata": {},
     "output_type": "execute_result"
    }
   ],
   "source": [
    "family_composition_df[temp_dict['p01']]"
   ]
  },
  {
   "cell_type": "code",
   "execution_count": 121,
   "id": "948b5a2a-a4f2-4f44-9777-7f3ced7482b4",
   "metadata": {},
   "outputs": [
    {
     "data": {
      "text/plain": [
       "0       True\n",
       "1       True\n",
       "2       True\n",
       "3       True\n",
       "4       True\n",
       "        ... \n",
       "2125    True\n",
       "2126    True\n",
       "2127    True\n",
       "2128    True\n",
       "2129    True\n",
       "Length: 2130, dtype: bool"
      ]
     },
     "execution_count": 121,
     "metadata": {},
     "output_type": "execute_result"
    }
   ],
   "source": [
    "family_composition_df[temp_dict['p01']].notna().any(axis=1)"
   ]
  },
  {
   "cell_type": "code",
   "execution_count": 122,
   "id": "8b3c6652-4791-4363-8d57-ff9b5dfd43bc",
   "metadata": {},
   "outputs": [
    {
     "data": {
      "text/plain": [
       "1875"
      ]
     },
     "execution_count": 122,
     "metadata": {},
     "output_type": "execute_result"
    }
   ],
   "source": [
    "family_composition_df[temp_dict['p01']].notna().any(axis=1).astype(int).sum()"
   ]
  },
  {
   "cell_type": "code",
   "execution_count": 123,
   "id": "9be30534-c81e-4c2e-a15b-b4b657a1a39f",
   "metadata": {},
   "outputs": [],
   "source": [
    "c = 0 \n",
    "for k,v in temp_dict.items():\n",
    "    c += family_composition_df[v].notna().any(axis=1).astype(int).sum()"
   ]
  },
  {
   "cell_type": "code",
   "execution_count": 124,
   "id": "be5a5043-4534-4fd5-85e5-b90df835173c",
   "metadata": {},
   "outputs": [
    {
     "data": {
      "text/plain": [
       "6181"
      ]
     },
     "execution_count": 124,
     "metadata": {},
     "output_type": "execute_result"
    }
   ],
   "source": [
    "c"
   ]
  },
  {
   "cell_type": "code",
   "execution_count": 125,
   "id": "6fee0ff1-1350-4562-8e9e-1f0ffd4b6276",
   "metadata": {},
   "outputs": [
    {
     "data": {
      "text/plain": [
       "6177.0"
      ]
     },
     "execution_count": 125,
     "metadata": {},
     "output_type": "execute_result"
    }
   ],
   "source": [
    "df['fam_size2'].sum()"
   ]
  },
  {
   "cell_type": "markdown",
   "id": "7778d56a-ead7-4624-84cc-5747b31fa66d",
   "metadata": {},
   "source": [
    "**Melt** to reshape: "
   ]
  },
  {
   "cell_type": "code",
   "execution_count": 126,
   "id": "e5327e7f-58bc-4582-b21c-8c7e383e7fab",
   "metadata": {},
   "outputs": [
    {
     "data": {
      "text/html": [
       "<div>\n",
       "<style scoped>\n",
       "    .dataframe tbody tr th:only-of-type {\n",
       "        vertical-align: middle;\n",
       "    }\n",
       "\n",
       "    .dataframe tbody tr th {\n",
       "        vertical-align: top;\n",
       "    }\n",
       "\n",
       "    .dataframe thead th {\n",
       "        text-align: right;\n",
       "    }\n",
       "</style>\n",
       "<table border=\"1\" class=\"dataframe\">\n",
       "  <thead>\n",
       "    <tr style=\"text-align: right;\">\n",
       "      <th></th>\n",
       "      <th>ID_long</th>\n",
       "      <th>variable</th>\n",
       "      <th>place_of_birth</th>\n",
       "    </tr>\n",
       "  </thead>\n",
       "  <tbody>\n",
       "    <tr>\n",
       "      <th>0</th>\n",
       "      <td>3104718669-60949-001_3104718669-60949-002</td>\n",
       "      <td>p01_plcrec_2</td>\n",
       "      <td>PR</td>\n",
       "    </tr>\n",
       "    <tr>\n",
       "      <th>1</th>\n",
       "      <td>3104718669-60949-003_3104718669-60949-004</td>\n",
       "      <td>p01_plcrec_2</td>\n",
       "      <td>USA</td>\n",
       "    </tr>\n",
       "    <tr>\n",
       "      <th>2</th>\n",
       "      <td>3104718669-60949-005_3104718669-60949-006</td>\n",
       "      <td>p01_plcrec_2</td>\n",
       "      <td>USA</td>\n",
       "    </tr>\n",
       "    <tr>\n",
       "      <th>3</th>\n",
       "      <td>3104718669-60949-007_3104718669-60949-008</td>\n",
       "      <td>p01_plcrec_2</td>\n",
       "      <td>USA</td>\n",
       "    </tr>\n",
       "    <tr>\n",
       "      <th>4</th>\n",
       "      <td>3104718669-60949-009_3104718669-60949-010</td>\n",
       "      <td>p01_plcrec_2</td>\n",
       "      <td>Europe</td>\n",
       "    </tr>\n",
       "    <tr>\n",
       "      <th>...</th>\n",
       "      <td>...</td>\n",
       "      <td>...</td>\n",
       "      <td>...</td>\n",
       "    </tr>\n",
       "    <tr>\n",
       "      <th>25555</th>\n",
       "      <td>3687372978-61113-015_3687372978-61113-016</td>\n",
       "      <td>p012_plcrec_2</td>\n",
       "      <td>NaN</td>\n",
       "    </tr>\n",
       "    <tr>\n",
       "      <th>25556</th>\n",
       "      <td>3687372978-61113-017_3687372978-61113-018</td>\n",
       "      <td>p012_plcrec_2</td>\n",
       "      <td>NaN</td>\n",
       "    </tr>\n",
       "    <tr>\n",
       "      <th>25557</th>\n",
       "      <td>3687372978-61113-019_3687372978-61113-020</td>\n",
       "      <td>p012_plcrec_2</td>\n",
       "      <td>NaN</td>\n",
       "    </tr>\n",
       "    <tr>\n",
       "      <th>25558</th>\n",
       "      <td>458103019-61041-009-_3458103019-61041-010</td>\n",
       "      <td>p012_plcrec_2</td>\n",
       "      <td>NaN</td>\n",
       "    </tr>\n",
       "    <tr>\n",
       "      <th>25559</th>\n",
       "      <td>95374663-61114-005-F_3195374663-61114-006</td>\n",
       "      <td>p012_plcrec_2</td>\n",
       "      <td>NaN</td>\n",
       "    </tr>\n",
       "  </tbody>\n",
       "</table>\n",
       "<p>25560 rows × 3 columns</p>\n",
       "</div>"
      ],
      "text/plain": [
       "                                         ID_long       variable place_of_birth\n",
       "0      3104718669-60949-001_3104718669-60949-002   p01_plcrec_2             PR\n",
       "1      3104718669-60949-003_3104718669-60949-004   p01_plcrec_2            USA\n",
       "2      3104718669-60949-005_3104718669-60949-006   p01_plcrec_2            USA\n",
       "3      3104718669-60949-007_3104718669-60949-008   p01_plcrec_2            USA\n",
       "4      3104718669-60949-009_3104718669-60949-010   p01_plcrec_2         Europe\n",
       "...                                          ...            ...            ...\n",
       "25555  3687372978-61113-015_3687372978-61113-016  p012_plcrec_2            NaN\n",
       "25556  3687372978-61113-017_3687372978-61113-018  p012_plcrec_2            NaN\n",
       "25557  3687372978-61113-019_3687372978-61113-020  p012_plcrec_2            NaN\n",
       "25558  458103019-61041-009-_3458103019-61041-010  p012_plcrec_2            NaN\n",
       "25559  95374663-61114-005-F_3195374663-61114-006  p012_plcrec_2            NaN\n",
       "\n",
       "[25560 rows x 3 columns]"
      ]
     },
     "execution_count": 126,
     "metadata": {},
     "output_type": "execute_result"
    }
   ],
   "source": [
    "place_of_birth_df = pd.melt(\n",
    "    place_of_birth_df, \n",
    "    id_vars = 'ID_long', \n",
    "    value_vars = place_of_birth, \n",
    "    value_name = 'place_of_birth'\n",
    ")\n",
    "\n",
    "place_of_birth_df"
   ]
  },
  {
   "cell_type": "code",
   "execution_count": 127,
   "id": "10d1edbc-d5b0-483d-90b8-d5d8e69ad8bb",
   "metadata": {},
   "outputs": [
    {
     "data": {
      "text/plain": [
       "25560"
      ]
     },
     "execution_count": 127,
     "metadata": {},
     "output_type": "execute_result"
    }
   ],
   "source": [
    "2130*12"
   ]
  },
  {
   "cell_type": "code",
   "execution_count": 128,
   "id": "790384f9-b4d7-4843-a5d3-3dea366f2291",
   "metadata": {},
   "outputs": [
    {
     "data": {
      "text/plain": [
       "USA          2631\n",
       "PR           2236\n",
       "Europe        430\n",
       "Caribbean     159\n",
       "Lat. Am.       40\n",
       "Asia           32\n",
       "Nrth. Am.      16\n",
       "Africa          2\n",
       "Name: place_of_birth, dtype: int64"
      ]
     },
     "execution_count": 128,
     "metadata": {},
     "output_type": "execute_result"
    }
   ],
   "source": [
    "place_of_birth_df['place_of_birth'].value_counts()"
   ]
  },
  {
   "cell_type": "code",
   "execution_count": 130,
   "id": "573ac49e-184d-475f-87cc-926deea39a60",
   "metadata": {},
   "outputs": [
    {
     "data": {
      "text/plain": [
       "5546"
      ]
     },
     "execution_count": 130,
     "metadata": {},
     "output_type": "execute_result"
    }
   ],
   "source": [
    "place_of_birth_df['place_of_birth'].value_counts().sum()"
   ]
  },
  {
   "cell_type": "markdown",
   "id": "320e06ec-2a3a-418c-b22e-6ef23214dc6d",
   "metadata": {},
   "source": [
    "5546 people have places of birth, and this is how they're distributed: "
   ]
  },
  {
   "cell_type": "code",
   "execution_count": 131,
   "id": "1eca054e-0b6e-433f-b7b2-cefe9d1b6c52",
   "metadata": {},
   "outputs": [],
   "source": [
    "import matplotlib.pyplot as plt "
   ]
  },
  {
   "cell_type": "code",
   "execution_count": 132,
   "id": "3f60d37b-550a-49ce-9aac-72ef6b0ae1f3",
   "metadata": {},
   "outputs": [
    {
     "data": {
      "text/plain": [
       "Text(0, 0.5, 'place of birth')"
      ]
     },
     "execution_count": 132,
     "metadata": {},
     "output_type": "execute_result"
    },
    {
     "data": {
      "image/png": "[encoded data removed]",
      "text/plain": [
       "<Figure size 640x480 with 1 Axes>"
      ]
     },
     "metadata": {},
     "output_type": "display_data"
    }
   ],
   "source": [
    "place_of_birth_df['place_of_birth'].value_counts().plot(kind='barh')\n",
    "plt.xlabel('n')\n",
    "plt.ylabel('place of birth')"
   ]
  },
  {
   "cell_type": "code",
   "execution_count": null,
   "id": "a4b8d7a5-1ef9-4999-9b7e-dc0c08873a01",
   "metadata": {},
   "outputs": [],
   "source": []
  },
  {
   "cell_type": "markdown",
   "id": "bb44064c-6975-4bc5-82f8-25105a032c46",
   "metadata": {},
   "source": [
    "## Puerto Rican households "
   ]
  },
  {
   "cell_type": "markdown",
   "id": "19cc89f2-2843-45a5-ad8d-c175f956bf02",
   "metadata": {},
   "source": [
    "Place of birth of anyone in the household is \"PR\": "
   ]
  },
  {
   "cell_type": "code",
   "execution_count": 133,
   "id": "0dc0cee1-de3c-4741-b69d-0ecf7a75f7f4",
   "metadata": {},
   "outputs": [
    {
     "data": {
      "text/plain": [
       "False    1385\n",
       "True      745\n",
       "dtype: int64"
      ]
     },
     "execution_count": 133,
     "metadata": {},
     "output_type": "execute_result"
    }
   ],
   "source": [
    "df[place_of_birth].apply(lambda row: (row == 'PR').any(), axis=1).value_counts()"
   ]
  },
  {
   "cell_type": "code",
   "execution_count": 134,
   "id": "d387feea-704f-4295-b7bb-c5079caca37a",
   "metadata": {},
   "outputs": [],
   "source": [
    "m1 = df[place_of_birth].apply(lambda row: (row == 'PR').any(), axis=1)"
   ]
  },
  {
   "cell_type": "markdown",
   "id": "fbd34c9e-df3b-4970-8aac-f91ebeec88e2",
   "metadata": {},
   "source": [
    "Race is \"Puerto Rican\" or \"Puerto Rican mix\":"
   ]
  },
  {
   "cell_type": "code",
   "execution_count": 135,
   "id": "bcf012c9-13a6-4500-85a9-8e125165d829",
   "metadata": {},
   "outputs": [
    {
     "data": {
      "text/plain": [
       "False    1582\n",
       "True      548\n",
       "Name: race2, dtype: int64"
      ]
     },
     "execution_count": 135,
     "metadata": {},
     "output_type": "execute_result"
    }
   ],
   "source": [
    "m2 = (df['race2'] == 'Puerto Rican') | (df['race2'] == 'Puerto Rican mix')\n",
    "m2.value_counts()"
   ]
  },
  {
   "cell_type": "markdown",
   "id": "35dd2f4d-adf5-4fb9-805e-2567778a923e",
   "metadata": {},
   "source": [
    "If the place of birth of anyone in the household is Puerto Rico or if the race indicated in the record is Puerto Rican or Puerto Rican mix, define the household as a Puerto Rican household: "
   ]
  },
  {
   "cell_type": "code",
   "execution_count": 136,
   "id": "54b3fa60-57c1-4c6a-a810-4dfeedbe67d0",
   "metadata": {},
   "outputs": [
    {
     "data": {
      "text/plain": [
       "False    1359\n",
       "True      771\n",
       "dtype: int64"
      ]
     },
     "execution_count": 136,
     "metadata": {},
     "output_type": "execute_result"
    }
   ],
   "source": [
    "m_pr_hh = m1 | m2\n",
    "\n",
    "m_pr_hh.value_counts()"
   ]
  },
  {
   "cell_type": "markdown",
   "id": "257a36db-0657-443d-bffa-9871c6b22b98",
   "metadata": {},
   "source": [
    "> There are 771 Puerto Rican households. "
   ]
  },
  {
   "cell_type": "markdown",
   "id": "39215c00-1264-40dd-9eaf-8e3d0a95ee2f",
   "metadata": {},
   "source": [
    "\n",
    "Here, before creating a dataframe for Puerto Rican households by filtering the dataframe the existing dataframe, assign the values of this mask to a new series and call it `PR_hh`. "
   ]
  },
  {
   "cell_type": "code",
   "execution_count": 137,
   "id": "71693a7d-2c51-4e04-9c6a-ff405a0faca6",
   "metadata": {},
   "outputs": [],
   "source": [
    "df['PR_hh'] = m_pr_hh "
   ]
  },
  {
   "cell_type": "code",
   "execution_count": 138,
   "id": "4a01d32e-fe39-43a6-b4cd-25b50a73058c",
   "metadata": {},
   "outputs": [
    {
     "data": {
      "text/plain": [
       "False    1359\n",
       "True      771\n",
       "Name: PR_hh, dtype: int64"
      ]
     },
     "execution_count": 138,
     "metadata": {},
     "output_type": "execute_result"
    }
   ],
   "source": [
    "df['PR_hh'].value_counts(dropna=False)"
   ]
  },
  {
   "cell_type": "code",
   "execution_count": 139,
   "id": "c10b19a3-cf31-43bb-b3f5-57ec63de324f",
   "metadata": {},
   "outputs": [
    {
     "data": {
      "text/plain": [
       "1.0      39\n",
       "2.0     105\n",
       "3.0     142\n",
       "4.0     156\n",
       "5.0     146\n",
       "6.0      82\n",
       "7.0      48\n",
       "8.0      21\n",
       "9.0      15\n",
       "10.0     14\n",
       "11.0      1\n",
       "NaN       2\n",
       "Name: fam_size2, dtype: int64"
      ]
     },
     "execution_count": 139,
     "metadata": {},
     "output_type": "execute_result"
    }
   ],
   "source": [
    "# Create new dataframe rows pertaining to Puerto Rican households only:\n",
    "#df_pr_hh = df[m_pr_hh]\n",
    "\n",
    "df[m_pr_hh]['fam_size2'].value_counts(dropna=False).sort_index()"
   ]
  },
  {
   "cell_type": "markdown",
   "id": "5fdec772-7fbf-4440-815c-dcdc07fce254",
   "metadata": {},
   "source": [
    "Of the 771 Puerto Rican households, only 2 are missing family size. "
   ]
  },
  {
   "cell_type": "code",
   "execution_count": 140,
   "id": "18a1589e-3cf7-4598-854b-666583f88cf5",
   "metadata": {},
   "outputs": [
    {
     "data": {
      "text/plain": [
       "3311.0"
      ]
     },
     "execution_count": 140,
     "metadata": {},
     "output_type": "execute_result"
    }
   ],
   "source": [
    "df[m_pr_hh]['fam_size2'].sum()"
   ]
  },
  {
   "cell_type": "markdown",
   "id": "ba27da21-96ad-4409-abe0-668c031092d0",
   "metadata": {},
   "source": [
    "> 3311 people lived in these PR hh. "
   ]
  },
  {
   "cell_type": "code",
   "execution_count": 141,
   "id": "0420fb2a-bcf5-4fba-8364-5e725394700a",
   "metadata": {},
   "outputs": [
    {
     "data": {
      "text/plain": [
       "count    769.000000\n",
       "mean       4.305592\n",
       "std        1.980105\n",
       "min        1.000000\n",
       "25%        3.000000\n",
       "50%        4.000000\n",
       "75%        5.000000\n",
       "max       11.000000\n",
       "Name: fam_size2, dtype: float64"
      ]
     },
     "execution_count": 141,
     "metadata": {},
     "output_type": "execute_result"
    }
   ],
   "source": [
    "df[m_pr_hh]['fam_size2'].describe()"
   ]
  },
  {
   "cell_type": "markdown",
   "id": "5e102643-f6ef-4342-a76e-9cf9c8368603",
   "metadata": {},
   "source": [
    "Out of 769 Puerto Rican households with non-missing `fam_size2`: \n",
    "\n",
    "- Mean family size for PR hh: 4.3\n",
    "- Median family size: 4 "
   ]
  },
  {
   "cell_type": "markdown",
   "id": "5fb68f4e-c823-42bf-b722-58c116c75dd9",
   "metadata": {},
   "source": [
    "How many people in total?"
   ]
  },
  {
   "cell_type": "code",
   "execution_count": 142,
   "id": "c3743e10-fd44-49ef-9449-496e0f667b7a",
   "metadata": {},
   "outputs": [
    {
     "data": {
      "text/plain": [
       "2130"
      ]
     },
     "execution_count": 142,
     "metadata": {},
     "output_type": "execute_result"
    }
   ],
   "source": [
    "df['fam_size2'].value_counts(dropna=False).sum()"
   ]
  },
  {
   "cell_type": "code",
   "execution_count": 143,
   "id": "622fd120-0e52-45b7-9caf-6297144ec2a8",
   "metadata": {},
   "outputs": [
    {
     "data": {
      "text/plain": [
       "1874"
      ]
     },
     "execution_count": 143,
     "metadata": {},
     "output_type": "execute_result"
    }
   ],
   "source": [
    "df['fam_size2'].value_counts().sum()"
   ]
  },
  {
   "cell_type": "code",
   "execution_count": 144,
   "id": "3195378f-b26b-45fd-95d7-2a6cd040861c",
   "metadata": {},
   "outputs": [
    {
     "data": {
      "text/plain": [
       "256"
      ]
     },
     "execution_count": 144,
     "metadata": {},
     "output_type": "execute_result"
    }
   ],
   "source": [
    "2130-1874"
   ]
  },
  {
   "cell_type": "markdown",
   "id": "5cb11d2e-48c9-4cf8-8ca4-d84ad2a7326a",
   "metadata": {},
   "source": [
    "> Overall, 256 households are missing `fam_size2`. "
   ]
  },
  {
   "cell_type": "code",
   "execution_count": 145,
   "id": "cb960a15-8e07-4bb7-9057-c101dbc4fd45",
   "metadata": {},
   "outputs": [
    {
     "data": {
      "text/plain": [
       "count    1874.000000\n",
       "mean        3.296158\n",
       "std         1.998482\n",
       "min         1.000000\n",
       "25%         2.000000\n",
       "50%         3.000000\n",
       "75%         5.000000\n",
       "max        11.000000\n",
       "Name: fam_size2, dtype: float64"
      ]
     },
     "execution_count": 145,
     "metadata": {},
     "output_type": "execute_result"
    }
   ],
   "source": [
    "df['fam_size2'].describe()"
   ]
  },
  {
   "cell_type": "code",
   "execution_count": 146,
   "id": "493ac3db-ae53-4485-8899-9f9fb4ab4d71",
   "metadata": {},
   "outputs": [
    {
     "data": {
      "text/plain": [
       "6177.0"
      ]
     },
     "execution_count": 146,
     "metadata": {},
     "output_type": "execute_result"
    }
   ],
   "source": [
    "df['fam_size2'].sum()"
   ]
  },
  {
   "cell_type": "markdown",
   "id": "726a28cf-e456-4430-9816-1d614aa192df",
   "metadata": {},
   "source": [
    "> Based on the 1874 records (88.0%) with family size information, there are 6177 persons. "
   ]
  },
  {
   "cell_type": "code",
   "execution_count": 147,
   "id": "da516ac9-e71e-4662-8f17-b6d2a28d7a51",
   "metadata": {},
   "outputs": [
    {
     "data": {
      "text/plain": [
       "3311.0"
      ]
     },
     "execution_count": 147,
     "metadata": {},
     "output_type": "execute_result"
    }
   ],
   "source": [
    "df[m_pr_hh]['fam_size2'].sum()"
   ]
  },
  {
   "cell_type": "markdown",
   "id": "a3374f81-7e04-440a-9c54-9ae6d4491215",
   "metadata": {},
   "source": [
    "> The 769 records out of the 771 Puerto Rican household records that have non-missing family size have 3311 people living in them. "
   ]
  },
  {
   "cell_type": "markdown",
   "id": "b1a4eef7-00fb-4fcd-9b80-e73c6b1a8639",
   "metadata": {},
   "source": [
    "How many of the people in PR hh were born in PR? \n",
    "\n",
    "- Get `ID_long` of all PR hhs\n",
    "- Filter `place_of_birth_df` to include only these IDs\n",
    "    - Recall this dataframe includes the place of birth variable for all and each of the possible 2130 x 12 rows of data from the records. Lots of null values. "
   ]
  },
  {
   "cell_type": "code",
   "execution_count": 148,
   "id": "9bf90b3b-2399-4cd4-8b3c-5f61fe57d42e",
   "metadata": {},
   "outputs": [
    {
     "data": {
      "text/html": [
       "<div>\n",
       "<style scoped>\n",
       "    .dataframe tbody tr th:only-of-type {\n",
       "        vertical-align: middle;\n",
       "    }\n",
       "\n",
       "    .dataframe tbody tr th {\n",
       "        vertical-align: top;\n",
       "    }\n",
       "\n",
       "    .dataframe thead th {\n",
       "        text-align: right;\n",
       "    }\n",
       "</style>\n",
       "<table border=\"1\" class=\"dataframe\">\n",
       "  <thead>\n",
       "    <tr style=\"text-align: right;\">\n",
       "      <th></th>\n",
       "      <th>ID_long</th>\n",
       "      <th>variable</th>\n",
       "      <th>place_of_birth</th>\n",
       "    </tr>\n",
       "  </thead>\n",
       "  <tbody>\n",
       "    <tr>\n",
       "      <th>0</th>\n",
       "      <td>3104718669-60949-001_3104718669-60949-002</td>\n",
       "      <td>p01_plcrec_2</td>\n",
       "      <td>PR</td>\n",
       "    </tr>\n",
       "  </tbody>\n",
       "</table>\n",
       "</div>"
      ],
      "text/plain": [
       "                                     ID_long      variable place_of_birth\n",
       "0  3104718669-60949-001_3104718669-60949-002  p01_plcrec_2             PR"
      ]
     },
     "execution_count": 148,
     "metadata": {},
     "output_type": "execute_result"
    }
   ],
   "source": [
    "#list of record ids for PR households\n",
    "pr_hh_ID = df[m_pr_hh]['ID_long'].tolist() \n",
    "\n",
    "# filter the place_of_birth_df to include only these ids:\n",
    "pr_hh_place_of_birth_df = place_of_birth_df[place_of_birth_df['ID_long'].isin(pr_hh_ID)]\n",
    "\n",
    "pr_hh_place_of_birth_df.head(1)"
   ]
  },
  {
   "cell_type": "code",
   "execution_count": 149,
   "id": "35376a25-7bf8-4ac8-910b-ea1be7a4189c",
   "metadata": {},
   "outputs": [
    {
     "data": {
      "text/plain": [
       "PR           2236\n",
       "USA           904\n",
       "Caribbean      15\n",
       "Europe         14\n",
       "Lat. Am.        4\n",
       "Asia            1\n",
       "Nrth. Am.       1\n",
       "Name: place_of_birth, dtype: int64"
      ]
     },
     "execution_count": 149,
     "metadata": {},
     "output_type": "execute_result"
    }
   ],
   "source": [
    "pr_hh_place_of_birth_df['place_of_birth'].value_counts()"
   ]
  },
  {
   "cell_type": "code",
   "execution_count": 150,
   "id": "ce7556a8-86b3-4c60-acc6-4940489ecfff",
   "metadata": {},
   "outputs": [
    {
     "data": {
      "text/plain": [
       "3175"
      ]
     },
     "execution_count": 150,
     "metadata": {},
     "output_type": "execute_result"
    }
   ],
   "source": [
    "pr_hh_place_of_birth_df['place_of_birth'].value_counts().sum()"
   ]
  },
  {
   "cell_type": "code",
   "execution_count": 151,
   "id": "f9c3788b-faee-476e-a076-a84a99958e02",
   "metadata": {},
   "outputs": [
    {
     "data": {
      "text/plain": [
       "771"
      ]
     },
     "execution_count": 151,
     "metadata": {},
     "output_type": "execute_result"
    }
   ],
   "source": [
    "len(pr_hh_ID)"
   ]
  },
  {
   "cell_type": "code",
   "execution_count": 152,
   "id": "095e202d-3ea4-401d-ae40-4bd0cdc0ed85",
   "metadata": {},
   "outputs": [
    {
     "data": {
      "text/plain": [
       "(25560, 3)"
      ]
     },
     "execution_count": 152,
     "metadata": {},
     "output_type": "execute_result"
    }
   ],
   "source": [
    "place_of_birth_df.shape"
   ]
  },
  {
   "cell_type": "code",
   "execution_count": 153,
   "id": "c9c0b2e2-f10d-4635-9ca7-4dd9a8f91401",
   "metadata": {},
   "outputs": [
    {
     "data": {
      "text/plain": [
       "(9252, 3)"
      ]
     },
     "execution_count": 153,
     "metadata": {},
     "output_type": "execute_result"
    }
   ],
   "source": [
    "pr_hh_place_of_birth_df.shape"
   ]
  },
  {
   "cell_type": "code",
   "execution_count": 154,
   "id": "e7a249c3-651b-4e9d-a9d6-6ce152c2bfbf",
   "metadata": {},
   "outputs": [
    {
     "data": {
      "text/plain": [
       "NaN          6077\n",
       "PR           2236\n",
       "USA           904\n",
       "Caribbean      15\n",
       "Europe         14\n",
       "Lat. Am.        4\n",
       "Asia            1\n",
       "Nrth. Am.       1\n",
       "Name: place_of_birth, dtype: int64"
      ]
     },
     "execution_count": 154,
     "metadata": {},
     "output_type": "execute_result"
    }
   ],
   "source": [
    "pr_hh_place_of_birth_df['place_of_birth'].value_counts(dropna=False)"
   ]
  },
  {
   "cell_type": "markdown",
   "id": "a4f3939a-5954-4476-8467-01e6e9bc24f8",
   "metadata": {},
   "source": [
    "> 6077 missing values: missingness here could be that there are not 12 people in the household or that for an actual existing person in the household no place of birth was input "
   ]
  },
  {
   "cell_type": "code",
   "execution_count": 155,
   "id": "ff75df37-30f1-46f7-b765-052433ab1eea",
   "metadata": {},
   "outputs": [
    {
     "data": {
      "text/plain": [
       "PR           2236\n",
       "USA           904\n",
       "Caribbean      15\n",
       "Europe         14\n",
       "Lat. Am.        4\n",
       "Asia            1\n",
       "Nrth. Am.       1\n",
       "Name: place_of_birth, dtype: int64"
      ]
     },
     "execution_count": 155,
     "metadata": {},
     "output_type": "execute_result"
    }
   ],
   "source": [
    "pr_hh_place_of_birth_df['place_of_birth'].value_counts()"
   ]
  },
  {
   "cell_type": "code",
   "execution_count": 156,
   "id": "bc6bd4bb-0503-4286-af55-c291ca16f3a5",
   "metadata": {
    "tags": []
   },
   "outputs": [
    {
     "data": {
      "text/plain": [
       "3175"
      ]
     },
     "execution_count": 156,
     "metadata": {},
     "output_type": "execute_result"
    }
   ],
   "source": [
    "pr_hh_place_of_birth_df['place_of_birth'].value_counts().sum()"
   ]
  },
  {
   "cell_type": "code",
   "execution_count": 157,
   "id": "16527e5d-1f7a-457f-bc9d-72acd2c4f9dd",
   "metadata": {},
   "outputs": [
    {
     "data": {
      "text/plain": [
       "3311.0"
      ]
     },
     "execution_count": 157,
     "metadata": {},
     "output_type": "execute_result"
    }
   ],
   "source": [
    "df[m_pr_hh]['fam_size2'].sum()"
   ]
  },
  {
   "cell_type": "markdown",
   "id": "072c1c9b-f22b-45fc-8c57-f062f025fd74",
   "metadata": {},
   "source": [
    "> 3175 < 3311\n",
    "\n",
    "> Using `fam_size2`, there are 3311 people living in PR hh."
   ]
  },
  {
   "cell_type": "code",
   "execution_count": 158,
   "id": "d4077ad1-cf34-4ef9-81f8-72fe6697e987",
   "metadata": {},
   "outputs": [
    {
     "data": {
      "text/html": [
       "<div>\n",
       "<style scoped>\n",
       "    .dataframe tbody tr th:only-of-type {\n",
       "        vertical-align: middle;\n",
       "    }\n",
       "\n",
       "    .dataframe tbody tr th {\n",
       "        vertical-align: top;\n",
       "    }\n",
       "\n",
       "    .dataframe thead th {\n",
       "        text-align: right;\n",
       "    }\n",
       "</style>\n",
       "<table border=\"1\" class=\"dataframe\">\n",
       "  <thead>\n",
       "    <tr style=\"text-align: right;\">\n",
       "      <th></th>\n",
       "      <th>Unnamed: 0</th>\n",
       "      <th>X.1</th>\n",
       "      <th>X</th>\n",
       "      <th>ID_long</th>\n",
       "      <th>tstamp</th>\n",
       "      <th>email</th>\n",
       "      <th>name</th>\n",
       "      <th>os_addr</th>\n",
       "      <th>f_id</th>\n",
       "      <th>b_id</th>\n",
       "      <th>...</th>\n",
       "      <th>p07_plcrec_2</th>\n",
       "      <th>p08_plcrec_2</th>\n",
       "      <th>p09_plcrec_2</th>\n",
       "      <th>p010_plcrec_2</th>\n",
       "      <th>p011_plcrec_2</th>\n",
       "      <th>p012_plcrec_2</th>\n",
       "      <th>fam_size2</th>\n",
       "      <th>race2</th>\n",
       "      <th>race3</th>\n",
       "      <th>PR_hh</th>\n",
       "    </tr>\n",
       "  </thead>\n",
       "  <tbody>\n",
       "    <tr>\n",
       "      <th>0</th>\n",
       "      <td>1</td>\n",
       "      <td>1</td>\n",
       "      <td>1</td>\n",
       "      <td>3104718669-60949-001_3104718669-60949-002</td>\n",
       "      <td>12/29/2023 12:32</td>\n",
       "      <td>Jorge Soldevila-Irizarry</td>\n",
       "      <td>Jorge</td>\n",
       "      <td>165 West 62 Street</td>\n",
       "      <td>3104718669-60949-001-Front</td>\n",
       "      <td>3104718669-60949-002-Back</td>\n",
       "      <td>...</td>\n",
       "      <td>NaN</td>\n",
       "      <td>NaN</td>\n",
       "      <td>NaN</td>\n",
       "      <td>NaN</td>\n",
       "      <td>NaN</td>\n",
       "      <td>NaN</td>\n",
       "      <td>4.0</td>\n",
       "      <td>Puerto Rican</td>\n",
       "      <td>Puerto Rican</td>\n",
       "      <td>True</td>\n",
       "    </tr>\n",
       "  </tbody>\n",
       "</table>\n",
       "<p>1 rows × 282 columns</p>\n",
       "</div>"
      ],
      "text/plain": [
       "   Unnamed: 0  X.1  X                                    ID_long  \\\n",
       "0           1    1  1  3104718669-60949-001_3104718669-60949-002   \n",
       "\n",
       "             tstamp                     email   name             os_addr  \\\n",
       "0  12/29/2023 12:32  Jorge Soldevila-Irizarry  Jorge  165 West 62 Street   \n",
       "\n",
       "                         f_id                       b_id  ... p07_plcrec_2  \\\n",
       "0  3104718669-60949-001-Front  3104718669-60949-002-Back  ...          NaN   \n",
       "\n",
       "  p08_plcrec_2 p09_plcrec_2 p010_plcrec_2 p011_plcrec_2 p012_plcrec_2  \\\n",
       "0          NaN          NaN           NaN           NaN           NaN   \n",
       "\n",
       "   fam_size2         race2         race3  PR_hh  \n",
       "0        4.0  Puerto Rican  Puerto Rican   True  \n",
       "\n",
       "[1 rows x 282 columns]"
      ]
     },
     "execution_count": 158,
     "metadata": {},
     "output_type": "execute_result"
    }
   ],
   "source": [
    "df[m_pr_hh].head(1)"
   ]
  },
  {
   "cell_type": "markdown",
   "id": "a0d2309d-721a-4834-9ab1-01f235a0c5e7",
   "metadata": {},
   "source": [
    "## Year of birth"
   ]
  },
  {
   "cell_type": "code",
   "execution_count": 159,
   "id": "80a856a3-6b39-4b95-9742-a4703f1e7cf7",
   "metadata": {},
   "outputs": [
    {
     "data": {
      "text/plain": [
       "count    1616.000000\n",
       "mean     1914.919554\n",
       "std        15.039340\n",
       "min      1863.000000\n",
       "25%      1904.000000\n",
       "50%      1918.000000\n",
       "75%      1927.000000\n",
       "max      1953.000000\n",
       "Name: p01_year, dtype: float64"
      ]
     },
     "execution_count": 159,
     "metadata": {},
     "output_type": "execute_result"
    }
   ],
   "source": [
    "df['p01_year'].describe()"
   ]
  },
  {
   "cell_type": "code",
   "execution_count": 160,
   "id": "13bc44d8-057f-4575-929e-a97350ddaddf",
   "metadata": {},
   "outputs": [],
   "source": [
    "#df[df['p01_year'] == 1863]"
   ]
  },
  {
   "cell_type": "markdown",
   "id": "a94a7432-c23e-4775-93f1-0e92b21ce4c3",
   "metadata": {
    "tags": []
   },
   "source": [
    "## Housing type"
   ]
  },
  {
   "cell_type": "code",
   "execution_count": 161,
   "id": "dd384311-03fa-44a1-a954-4c2307a7c57e",
   "metadata": {},
   "outputs": [
    {
     "data": {
      "text/plain": [
       "Apartment    1036\n",
       "Rooming       825\n",
       "NaN           269\n",
       "Name: h_type, dtype: int64"
      ]
     },
     "execution_count": 161,
     "metadata": {},
     "output_type": "execute_result"
    }
   ],
   "source": [
    "df['h_type'].value_counts(dropna=False)"
   ]
  },
  {
   "cell_type": "markdown",
   "id": "25e95116-5a80-47cd-9fa2-948ccc7b524d",
   "metadata": {},
   "source": [
    "> We don't have housing type information for 269 out of 2130 unique cards for site occupation records. "
   ]
  },
  {
   "cell_type": "code",
   "execution_count": 162,
   "id": "f59e6a05-8b23-4a0f-8ab0-4ab06a9ebf26",
   "metadata": {},
   "outputs": [
    {
     "data": {
      "text/plain": [
       "race3         h_type   \n",
       "Multi         Apartment      3\n",
       "              Rooming        1\n",
       "Negro         Apartment     21\n",
       "              Rooming       64\n",
       "              NaN            9\n",
       "Oriental      Apartment      7\n",
       "              Rooming        5\n",
       "              NaN            3\n",
       "Puerto Rican  Apartment    278\n",
       "              Rooming      187\n",
       "              NaN           83\n",
       "White         Apartment    454\n",
       "              Rooming       69\n",
       "              NaN           40\n",
       "other         Apartment     22\n",
       "              Rooming        4\n",
       "              NaN            2\n",
       "NaN           Apartment      0\n",
       "              Rooming        0\n",
       "              NaN            0\n",
       "Name: race3, dtype: int64"
      ]
     },
     "execution_count": 162,
     "metadata": {},
     "output_type": "execute_result"
    }
   ],
   "source": [
    "df.groupby(['race3','h_type'], dropna=False)['race3'].count()"
   ]
  },
  {
   "cell_type": "code",
   "execution_count": 163,
   "id": "c2abd718-6413-41ef-9143-d60d2d49cf08",
   "metadata": {},
   "outputs": [
    {
     "data": {
      "text/plain": [
       "race3         h_type   \n",
       "Multi         Apartment    75.000000\n",
       "              Rooming      25.000000\n",
       "Negro         Rooming      68.085106\n",
       "              Apartment    22.340426\n",
       "              NaN           9.574468\n",
       "Oriental      Apartment    46.666667\n",
       "              Rooming      33.333333\n",
       "              NaN          20.000000\n",
       "Puerto Rican  Apartment    50.729927\n",
       "              Rooming      34.124088\n",
       "              NaN          15.145985\n",
       "White         Apartment    80.639432\n",
       "              Rooming      12.255773\n",
       "              NaN           7.104796\n",
       "other         Apartment    78.571429\n",
       "              Rooming      14.285714\n",
       "              NaN           7.142857\n",
       "NaN           Rooming      56.378132\n",
       "              Apartment    28.587699\n",
       "              NaN          15.034169\n",
       "Name: h_type, dtype: float64"
      ]
     },
     "execution_count": 163,
     "metadata": {},
     "output_type": "execute_result"
    }
   ],
   "source": [
    "df.groupby(['race3'], dropna=False)['h_type'].value_counts(dropna=False,normalize=True)*100"
   ]
  },
  {
   "cell_type": "code",
   "execution_count": 164,
   "id": "8a141fb3-96ab-43bd-9e2f-7055a239eddb",
   "metadata": {},
   "outputs": [
    {
     "data": {
      "text/plain": [
       "h_type     race3       \n",
       "Apartment  White           43.822394\n",
       "           Puerto Rican    26.833977\n",
       "           NaN             24.227799\n",
       "           other            2.123552\n",
       "           Negro            2.027027\n",
       "           Oriental         0.675676\n",
       "           Multi            0.289575\n",
       "Rooming    NaN             60.000000\n",
       "           Puerto Rican    22.666667\n",
       "           White            8.363636\n",
       "           Negro            7.757576\n",
       "           Oriental         0.606061\n",
       "           other            0.484848\n",
       "           Multi            0.121212\n",
       "NaN        NaN             49.070632\n",
       "           Puerto Rican    30.855019\n",
       "           White           14.869888\n",
       "           Negro            3.345725\n",
       "           Oriental         1.115242\n",
       "           other            0.743494\n",
       "Name: race3, dtype: float64"
      ]
     },
     "execution_count": 164,
     "metadata": {},
     "output_type": "execute_result"
    }
   ],
   "source": [
    "df.groupby(['h_type'], dropna=False)['race3'].value_counts(dropna=False,normalize=True)*100"
   ]
  },
  {
   "cell_type": "code",
   "execution_count": 165,
   "id": "883f4713-67e4-4ef9-b118-aac594de9d12",
   "metadata": {},
   "outputs": [
    {
     "data": {
      "text/plain": [
       "h_type     race3       \n",
       "Apartment  White           454\n",
       "           Puerto Rican    278\n",
       "           NaN             251\n",
       "           other            22\n",
       "           Negro            21\n",
       "           Oriental          7\n",
       "           Multi             3\n",
       "Rooming    NaN             495\n",
       "           Puerto Rican    187\n",
       "           White            69\n",
       "           Negro            64\n",
       "           Oriental          5\n",
       "           other             4\n",
       "           Multi             1\n",
       "NaN        NaN             132\n",
       "           Puerto Rican     83\n",
       "           White            40\n",
       "           Negro             9\n",
       "           Oriental          3\n",
       "           other             2\n",
       "Name: race3, dtype: int64"
      ]
     },
     "execution_count": 165,
     "metadata": {},
     "output_type": "execute_result"
    }
   ],
   "source": [
    "df.groupby(['h_type'], dropna=False)['race3'].value_counts(dropna=False,normalize=False)"
   ]
  },
  {
   "cell_type": "code",
   "execution_count": null,
   "id": "2766b97b-ec56-40df-8127-dcf1f7f3e90b",
   "metadata": {},
   "outputs": [],
   "source": []
  },
  {
   "cell_type": "markdown",
   "id": "26e9f81c-d26c-4a96-905b-a48139357164",
   "metadata": {},
   "source": [
    "## Income source: "
   ]
  },
  {
   "cell_type": "code",
   "execution_count": 166,
   "id": "4e484433-34c3-4744-b6db-69bcf465c2df",
   "metadata": {},
   "outputs": [
    {
     "data": {
      "text/plain": [
       "True     1341\n",
       "False     789\n",
       "Name: inc_srce, dtype: int64"
      ]
     },
     "execution_count": 166,
     "metadata": {},
     "output_type": "execute_result"
    }
   ],
   "source": [
    "df['inc_srce'].notnull().value_counts()"
   ]
  },
  {
   "cell_type": "markdown",
   "id": "9ded34b8-71e8-46a0-83e0-c1dd78f65f98",
   "metadata": {},
   "source": [
    "1341 records have non-missing income source. "
   ]
  },
  {
   "cell_type": "code",
   "execution_count": 167,
   "id": "34e28094-4d7a-4bff-a36c-c4a79ff71232",
   "metadata": {},
   "outputs": [
    {
     "data": {
      "text/plain": [
       "Employed                      946\n",
       "NaN                           789\n",
       "Welfare                       212\n",
       "Pension                        53\n",
       "Own Busisnes                   52\n",
       "Retired                        31\n",
       "Employed, Welfare              15\n",
       "Employed, Pension              11\n",
       "Own Busisnes, Employed          6\n",
       "Pension, Retired                5\n",
       "Pension, Welfare                4\n",
       "Employed, Retired               3\n",
       "Employed, Pension, Welfare      1\n",
       "Own Busisnes, Welfare           1\n",
       "Employed, Pension, Retired      1\n",
       "Name: inc_srce, dtype: int64"
      ]
     },
     "execution_count": 167,
     "metadata": {},
     "output_type": "execute_result"
    }
   ],
   "source": [
    "df['inc_srce'].value_counts(dropna=False)"
   ]
  },
  {
   "cell_type": "code",
   "execution_count": 168,
   "id": "a7186d1e-f976-4d55-9368-bbf21fb0573d",
   "metadata": {},
   "outputs": [
    {
     "data": {
      "text/html": [
       "<div>\n",
       "<style scoped>\n",
       "    .dataframe tbody tr th:only-of-type {\n",
       "        vertical-align: middle;\n",
       "    }\n",
       "\n",
       "    .dataframe tbody tr th {\n",
       "        vertical-align: top;\n",
       "    }\n",
       "\n",
       "    .dataframe thead th {\n",
       "        text-align: right;\n",
       "    }\n",
       "</style>\n",
       "<table border=\"1\" class=\"dataframe\">\n",
       "  <thead>\n",
       "    <tr style=\"text-align: right;\">\n",
       "      <th></th>\n",
       "      <th>Unnamed: 0</th>\n",
       "      <th>X.1</th>\n",
       "      <th>X</th>\n",
       "      <th>ID_long</th>\n",
       "      <th>tstamp</th>\n",
       "      <th>email</th>\n",
       "      <th>name</th>\n",
       "      <th>os_addr</th>\n",
       "      <th>f_id</th>\n",
       "      <th>b_id</th>\n",
       "      <th>...</th>\n",
       "      <th>p07_plcrec_2</th>\n",
       "      <th>p08_plcrec_2</th>\n",
       "      <th>p09_plcrec_2</th>\n",
       "      <th>p010_plcrec_2</th>\n",
       "      <th>p011_plcrec_2</th>\n",
       "      <th>p012_plcrec_2</th>\n",
       "      <th>fam_size2</th>\n",
       "      <th>race2</th>\n",
       "      <th>race3</th>\n",
       "      <th>PR_hh</th>\n",
       "    </tr>\n",
       "  </thead>\n",
       "  <tbody>\n",
       "    <tr>\n",
       "      <th>0</th>\n",
       "      <td>1</td>\n",
       "      <td>1</td>\n",
       "      <td>1</td>\n",
       "      <td>3104718669-60949-001_3104718669-60949-002</td>\n",
       "      <td>12/29/2023 12:32</td>\n",
       "      <td>Jorge Soldevila-Irizarry</td>\n",
       "      <td>Jorge</td>\n",
       "      <td>165 West 62 Street</td>\n",
       "      <td>3104718669-60949-001-Front</td>\n",
       "      <td>3104718669-60949-002-Back</td>\n",
       "      <td>...</td>\n",
       "      <td>NaN</td>\n",
       "      <td>NaN</td>\n",
       "      <td>NaN</td>\n",
       "      <td>NaN</td>\n",
       "      <td>NaN</td>\n",
       "      <td>NaN</td>\n",
       "      <td>4.0</td>\n",
       "      <td>Puerto Rican</td>\n",
       "      <td>Puerto Rican</td>\n",
       "      <td>True</td>\n",
       "    </tr>\n",
       "  </tbody>\n",
       "</table>\n",
       "<p>1 rows × 282 columns</p>\n",
       "</div>"
      ],
      "text/plain": [
       "   Unnamed: 0  X.1  X                                    ID_long  \\\n",
       "0           1    1  1  3104718669-60949-001_3104718669-60949-002   \n",
       "\n",
       "             tstamp                     email   name             os_addr  \\\n",
       "0  12/29/2023 12:32  Jorge Soldevila-Irizarry  Jorge  165 West 62 Street   \n",
       "\n",
       "                         f_id                       b_id  ... p07_plcrec_2  \\\n",
       "0  3104718669-60949-001-Front  3104718669-60949-002-Back  ...          NaN   \n",
       "\n",
       "  p08_plcrec_2 p09_plcrec_2 p010_plcrec_2 p011_plcrec_2 p012_plcrec_2  \\\n",
       "0          NaN          NaN           NaN           NaN           NaN   \n",
       "\n",
       "   fam_size2         race2         race3  PR_hh  \n",
       "0        4.0  Puerto Rican  Puerto Rican   True  \n",
       "\n",
       "[1 rows x 282 columns]"
      ]
     },
     "execution_count": 168,
     "metadata": {},
     "output_type": "execute_result"
    }
   ],
   "source": [
    "df.head(1)"
   ]
  },
  {
   "cell_type": "code",
   "execution_count": 170,
   "id": "59a0dcb7-b4ea-4c28-a062-04e1ed5dbb05",
   "metadata": {},
   "outputs": [
    {
     "name": "stderr",
     "output_type": "stream",
     "text": [
      "/var/folders/r5/8d6q755n7dj5k1lkfqtpj8yh0000gn/T/ipykernel_46781/3069589364.py:2: SettingWithCopyWarning: \n",
      "A value is trying to be set on a copy of a slice from a DataFrame.\n",
      "Try using .loc[row_indexer,col_indexer] = value instead\n",
      "\n",
      "See the caveats in the documentation: https://pandas.pydata.org/pandas-docs/stable/user_guide/indexing.html#returning-a-view-versus-a-copy\n",
      "  df_income_source['inc_srce_split'] = df_income_source['inc_srce'].str.split(', ')\n"
     ]
    }
   ],
   "source": [
    "df_income_source = df[['ID_long', 'race3', 'inc_srce']]\n",
    "df_income_source['inc_srce_split'] = df_income_source['inc_srce'].str.split(', ')\n",
    "df_income_source_exploded = df_income_source.explode('inc_srce_split')"
   ]
  },
  {
   "cell_type": "code",
   "execution_count": 171,
   "id": "02acbb0e-1f80-4c53-b467-ed0cb15d3445",
   "metadata": {},
   "outputs": [
    {
     "data": {
      "text/plain": [
       "(2130, 4)"
      ]
     },
     "execution_count": 171,
     "metadata": {},
     "output_type": "execute_result"
    }
   ],
   "source": [
    "df_income_source.shape"
   ]
  },
  {
   "cell_type": "code",
   "execution_count": 172,
   "id": "ab42e2fa-1187-47c8-abb7-55f2fbf73168",
   "metadata": {},
   "outputs": [
    {
     "data": {
      "text/plain": [
       "(2179, 4)"
      ]
     },
     "execution_count": 172,
     "metadata": {},
     "output_type": "execute_result"
    }
   ],
   "source": [
    "df_income_source_exploded.shape #some records have more than one source of income"
   ]
  },
  {
   "cell_type": "code",
   "execution_count": 173,
   "id": "76d4e5d5-6aa0-4e3e-b0a3-800721f0049e",
   "metadata": {},
   "outputs": [
    {
     "data": {
      "text/html": [
       "<div>\n",
       "<style scoped>\n",
       "    .dataframe tbody tr th:only-of-type {\n",
       "        vertical-align: middle;\n",
       "    }\n",
       "\n",
       "    .dataframe tbody tr th {\n",
       "        vertical-align: top;\n",
       "    }\n",
       "\n",
       "    .dataframe thead th {\n",
       "        text-align: right;\n",
       "    }\n",
       "</style>\n",
       "<table border=\"1\" class=\"dataframe\">\n",
       "  <thead>\n",
       "    <tr style=\"text-align: right;\">\n",
       "      <th></th>\n",
       "      <th>ID_long</th>\n",
       "      <th>race3</th>\n",
       "      <th>inc_srce</th>\n",
       "      <th>inc_srce_split</th>\n",
       "    </tr>\n",
       "  </thead>\n",
       "  <tbody>\n",
       "    <tr>\n",
       "      <th>0</th>\n",
       "      <td>3104718669-60949-001_3104718669-60949-002</td>\n",
       "      <td>Puerto Rican</td>\n",
       "      <td>Employed</td>\n",
       "      <td>Employed</td>\n",
       "    </tr>\n",
       "  </tbody>\n",
       "</table>\n",
       "</div>"
      ],
      "text/plain": [
       "                                     ID_long         race3  inc_srce  \\\n",
       "0  3104718669-60949-001_3104718669-60949-002  Puerto Rican  Employed   \n",
       "\n",
       "  inc_srce_split  \n",
       "0       Employed  "
      ]
     },
     "execution_count": 173,
     "metadata": {},
     "output_type": "execute_result"
    }
   ],
   "source": [
    "df_income_source_exploded.head(1)"
   ]
  },
  {
   "cell_type": "code",
   "execution_count": 174,
   "id": "c9d55855-61c1-40dd-918f-ea5f1564221e",
   "metadata": {},
   "outputs": [
    {
     "data": {
      "text/plain": [
       "Employed        983\n",
       "NaN             789\n",
       "Welfare         233\n",
       "Pension          75\n",
       "Own Busisnes     59\n",
       "Retired          40\n",
       "Name: inc_srce_split, dtype: int64"
      ]
     },
     "execution_count": 174,
     "metadata": {},
     "output_type": "execute_result"
    }
   ],
   "source": [
    "df_income_source_exploded['inc_srce_split'].value_counts(dropna=False)"
   ]
  },
  {
   "cell_type": "code",
   "execution_count": 175,
   "id": "89ac6f13-ffe1-4b15-8ac8-21a4a7dbaa25",
   "metadata": {},
   "outputs": [
    {
     "data": {
      "text/plain": [
       "2179"
      ]
     },
     "execution_count": 175,
     "metadata": {},
     "output_type": "execute_result"
    }
   ],
   "source": [
    "df_income_source_exploded['inc_srce_split'].value_counts(dropna=False).sum()"
   ]
  },
  {
   "cell_type": "code",
   "execution_count": 191,
   "id": "253bc043-1bdf-4e27-a210-05e255345c1b",
   "metadata": {},
   "outputs": [
    {
     "data": {
      "text/plain": [
       "1390"
      ]
     },
     "execution_count": 191,
     "metadata": {},
     "output_type": "execute_result"
    }
   ],
   "source": [
    "df_income_source_exploded['inc_srce_split'].value_counts(dropna=True).sum()"
   ]
  },
  {
   "cell_type": "code",
   "execution_count": 176,
   "id": "acf0e36c-4363-482e-a0b0-dbe9a9b5046e",
   "metadata": {},
   "outputs": [
    {
     "data": {
      "text/plain": [
       "Employed        45.1\n",
       "NaN             36.2\n",
       "Welfare         10.7\n",
       "Pension          3.4\n",
       "Own Busisnes     2.7\n",
       "Retired          1.8\n",
       "Name: inc_srce_split, dtype: float64"
      ]
     },
     "execution_count": 176,
     "metadata": {},
     "output_type": "execute_result"
    }
   ],
   "source": [
    "round(df_income_source_exploded['inc_srce_split'].value_counts(dropna=False, normalize=True)*100,1)"
   ]
  },
  {
   "cell_type": "code",
   "execution_count": 177,
   "id": "cd53ed37-da09-466e-8c25-8f652c53e8f1",
   "metadata": {},
   "outputs": [],
   "source": [
    "import matplotlib.pyplot as plt "
   ]
  },
  {
   "cell_type": "code",
   "execution_count": 178,
   "id": "4f153011-ccce-4987-b5a4-d445659bce96",
   "metadata": {},
   "outputs": [
    {
     "data": {
      "text/plain": [
       "Text(0.5, 0, '% of all source incomes')"
      ]
     },
     "execution_count": 178,
     "metadata": {},
     "output_type": "execute_result"
    },
    {
     "data": {
      "image/png": "[encoded data removed]",
      "text/plain": [
       "<Figure size 640x480 with 1 Axes>"
      ]
     },
     "metadata": {},
     "output_type": "display_data"
    }
   ],
   "source": [
    "round(df_income_source_exploded['inc_srce_split'].value_counts(dropna=False, normalize=True)*100,1).plot(kind='barh')\n",
    "plt.xlabel('% of all source incomes')"
   ]
  },
  {
   "cell_type": "code",
   "execution_count": 179,
   "id": "e98cd926-656b-4133-9e05-50c9b78a34ed",
   "metadata": {},
   "outputs": [
    {
     "data": {
      "text/plain": [
       "Employed                      44.4\n",
       "NaN                           37.0\n",
       "Welfare                       10.0\n",
       "Pension                        2.5\n",
       "Own Busisnes                   2.4\n",
       "Retired                        1.5\n",
       "Employed, Welfare              0.7\n",
       "Employed, Pension              0.5\n",
       "Own Busisnes, Employed         0.3\n",
       "Pension, Retired               0.2\n",
       "Pension, Welfare               0.2\n",
       "Employed, Retired              0.1\n",
       "Employed, Pension, Welfare     0.0\n",
       "Own Busisnes, Welfare          0.0\n",
       "Employed, Pension, Retired     0.0\n",
       "Name: inc_srce, dtype: float64"
      ]
     },
     "execution_count": 179,
     "metadata": {},
     "output_type": "execute_result"
    }
   ],
   "source": [
    "round(df['inc_srce'].value_counts(dropna=False, normalize=True)*100, 1)"
   ]
  },
  {
   "cell_type": "code",
   "execution_count": 180,
   "id": "429e1438-8905-4575-bba7-529fa8c62f8b",
   "metadata": {},
   "outputs": [
    {
     "data": {
      "text/plain": [
       "Employed                      70.5\n",
       "Welfare                       15.8\n",
       "Pension                        4.0\n",
       "Own Busisnes                   3.9\n",
       "Retired                        2.3\n",
       "Employed, Welfare              1.1\n",
       "Employed, Pension              0.8\n",
       "Own Busisnes, Employed         0.4\n",
       "Pension, Retired               0.4\n",
       "Pension, Welfare               0.3\n",
       "Employed, Retired              0.2\n",
       "Employed, Pension, Welfare     0.1\n",
       "Own Busisnes, Welfare          0.1\n",
       "Employed, Pension, Retired     0.1\n",
       "Name: inc_srce, dtype: float64"
      ]
     },
     "execution_count": 180,
     "metadata": {},
     "output_type": "execute_result"
    }
   ],
   "source": [
    "round(df['inc_srce'].value_counts(normalize=True)*100, 1)"
   ]
  },
  {
   "cell_type": "code",
   "execution_count": 181,
   "id": "10923e58-ed50-4d0d-b521-8525bdaf679e",
   "metadata": {},
   "outputs": [
    {
     "data": {
      "text/plain": [
       "1390"
      ]
     },
     "execution_count": 181,
     "metadata": {},
     "output_type": "execute_result"
    }
   ],
   "source": [
    "df_income_source_exploded['inc_srce_split'].value_counts(dropna=True).sum()"
   ]
  },
  {
   "cell_type": "code",
   "execution_count": 193,
   "id": "b433c459-be10-4db6-964b-c9fb871aedd0",
   "metadata": {},
   "outputs": [
    {
     "data": {
      "text/plain": [
       "Employed        70.7\n",
       "Welfare         16.8\n",
       "Pension          5.4\n",
       "Own Busisnes     4.2\n",
       "Retired          2.9\n",
       "Name: inc_srce_split, dtype: float64"
      ]
     },
     "execution_count": 193,
     "metadata": {},
     "output_type": "execute_result"
    }
   ],
   "source": [
    "round(df_income_source_exploded['inc_srce_split'].value_counts(dropna=True, normalize=True)*100,1)"
   ]
  },
  {
   "cell_type": "code",
   "execution_count": 194,
   "id": "e1c5f009-ac67-4cd9-9ce9-b25a20121a3e",
   "metadata": {},
   "outputs": [
    {
     "data": {
      "text/plain": [
       "inc_srce_split  race3       \n",
       "Employed        White           394\n",
       "                Puerto Rican    323\n",
       "                NaN             176\n",
       "                Negro            56\n",
       "                other            23\n",
       "                Oriental          9\n",
       "                Multi             2\n",
       "Own Busisnes    White            33\n",
       "                Puerto Rican     15\n",
       "                NaN               6\n",
       "                Oriental          3\n",
       "                Negro             1\n",
       "                other             1\n",
       "Pension         White            51\n",
       "                NaN              12\n",
       "                Puerto Rican      9\n",
       "                Negro             3\n",
       "Retired         White            32\n",
       "                NaN               8\n",
       "Welfare         Puerto Rican    133\n",
       "                NaN              59\n",
       "                Negro            26\n",
       "                White            13\n",
       "                Multi             1\n",
       "                Oriental          1\n",
       "NaN             NaN             624\n",
       "                Puerto Rican     79\n",
       "                White            67\n",
       "                Negro            12\n",
       "                other             4\n",
       "                Oriental          2\n",
       "                Multi             1\n",
       "Name: race3, dtype: int64"
      ]
     },
     "execution_count": 194,
     "metadata": {},
     "output_type": "execute_result"
    }
   ],
   "source": [
    "df_income_source_exploded.groupby('inc_srce_split', dropna=False)['race3'].value_counts(dropna=False)"
   ]
  },
  {
   "cell_type": "code",
   "execution_count": 195,
   "id": "2c165c69-09b7-425b-a2f3-8cccd82f2cff",
   "metadata": {},
   "outputs": [
    {
     "data": {
      "text/plain": [
       "inc_srce_split  race3       \n",
       "Employed        White           40.1\n",
       "                Puerto Rican    32.9\n",
       "                NaN             17.9\n",
       "                Negro            5.7\n",
       "                other            2.3\n",
       "                Oriental         0.9\n",
       "                Multi            0.2\n",
       "Own Busisnes    White           55.9\n",
       "                Puerto Rican    25.4\n",
       "                NaN             10.2\n",
       "                Oriental         5.1\n",
       "                Negro            1.7\n",
       "                other            1.7\n",
       "Pension         White           68.0\n",
       "                NaN             16.0\n",
       "                Puerto Rican    12.0\n",
       "                Negro            4.0\n",
       "Retired         White           80.0\n",
       "                NaN             20.0\n",
       "Welfare         Puerto Rican    57.1\n",
       "                NaN             25.3\n",
       "                Negro           11.2\n",
       "                White            5.6\n",
       "                Multi            0.4\n",
       "                Oriental         0.4\n",
       "NaN             NaN             79.1\n",
       "                Puerto Rican    10.0\n",
       "                White            8.5\n",
       "                Negro            1.5\n",
       "                other            0.5\n",
       "                Oriental         0.3\n",
       "                Multi            0.1\n",
       "Name: race3, dtype: float64"
      ]
     },
     "execution_count": 195,
     "metadata": {},
     "output_type": "execute_result"
    }
   ],
   "source": [
    "round(df_income_source_exploded.groupby('inc_srce_split', dropna=False)['race3'].value_counts(dropna=False, normalize=True)*100,1)"
   ]
  },
  {
   "cell_type": "code",
   "execution_count": 196,
   "id": "c58c5529-f2b6-4f03-b8b5-22867af30c38",
   "metadata": {},
   "outputs": [
    {
     "data": {
      "text/plain": [
       "inc_srce_split  race3       \n",
       "Employed        White            48.8\n",
       "                Puerto Rican     40.0\n",
       "                Negro             6.9\n",
       "                other             2.9\n",
       "                Oriental          1.1\n",
       "                Multi             0.2\n",
       "Own Busisnes    White            62.3\n",
       "                Puerto Rican     28.3\n",
       "                Oriental          5.7\n",
       "                Negro             1.9\n",
       "                other             1.9\n",
       "Pension         White            81.0\n",
       "                Puerto Rican     14.3\n",
       "                Negro             4.8\n",
       "Retired         White           100.0\n",
       "Welfare         Puerto Rican     76.4\n",
       "                Negro            14.9\n",
       "                White             7.5\n",
       "                Multi             0.6\n",
       "                Oriental          0.6\n",
       "NaN             Puerto Rican     47.9\n",
       "                White            40.6\n",
       "                Negro             7.3\n",
       "                other             2.4\n",
       "                Oriental          1.2\n",
       "                Multi             0.6\n",
       "Name: race3, dtype: float64"
      ]
     },
     "execution_count": 196,
     "metadata": {},
     "output_type": "execute_result"
    }
   ],
   "source": [
    "round(df_income_source_exploded.groupby('inc_srce_split', dropna=False)['race3'].value_counts(normalize=True)*100,1)"
   ]
  },
  {
   "cell_type": "code",
   "execution_count": null,
   "id": "7d37368b-b737-4a64-90d7-d431745e00ba",
   "metadata": {},
   "outputs": [],
   "source": []
  },
  {
   "cell_type": "code",
   "execution_count": 197,
   "id": "4f4251b6-8f52-47a7-b857-00e1f47ab36c",
   "metadata": {},
   "outputs": [
    {
     "data": {
      "text/plain": [
       "race3         inc_srce_split\n",
       "Multi         Employed            2\n",
       "              NaN                 1\n",
       "              Welfare             1\n",
       "Negro         Employed           56\n",
       "              Welfare            26\n",
       "              NaN                12\n",
       "              Pension             3\n",
       "              Own Busisnes        1\n",
       "Oriental      Employed            9\n",
       "              Own Busisnes        3\n",
       "              NaN                 2\n",
       "              Welfare             1\n",
       "Puerto Rican  Employed          323\n",
       "              Welfare           133\n",
       "              NaN                79\n",
       "              Own Busisnes       15\n",
       "              Pension             9\n",
       "White         Employed          394\n",
       "              NaN                67\n",
       "              Pension            51\n",
       "              Own Busisnes       33\n",
       "              Retired            32\n",
       "              Welfare            13\n",
       "other         Employed           23\n",
       "              NaN                 4\n",
       "              Own Busisnes        1\n",
       "NaN           NaN               624\n",
       "              Employed          176\n",
       "              Welfare            59\n",
       "              Pension            12\n",
       "              Retired             8\n",
       "              Own Busisnes        6\n",
       "Name: inc_srce_split, dtype: int64"
      ]
     },
     "execution_count": 197,
     "metadata": {},
     "output_type": "execute_result"
    }
   ],
   "source": [
    "df_income_source_exploded.groupby('race3', dropna=False)['inc_srce_split'].value_counts(dropna=False)"
   ]
  },
  {
   "cell_type": "code",
   "execution_count": 201,
   "id": "600efac7-feaa-46eb-869b-89151f31bba0",
   "metadata": {},
   "outputs": [
    {
     "data": {
      "text/plain": [
       "race3         inc_srce_split\n",
       "Multi         Employed          50.0\n",
       "              NaN               25.0\n",
       "              Welfare           25.0\n",
       "Negro         Employed          57.1\n",
       "              Welfare           26.5\n",
       "              NaN               12.2\n",
       "              Pension            3.1\n",
       "              Own Busisnes       1.0\n",
       "Oriental      Employed          60.0\n",
       "              Own Busisnes      20.0\n",
       "              NaN               13.3\n",
       "              Welfare            6.7\n",
       "Puerto Rican  Employed          57.8\n",
       "              Welfare           23.8\n",
       "              NaN               14.1\n",
       "              Own Busisnes       2.7\n",
       "              Pension            1.6\n",
       "White         Employed          66.8\n",
       "              NaN               11.4\n",
       "              Pension            8.6\n",
       "              Own Busisnes       5.6\n",
       "              Retired            5.4\n",
       "              Welfare            2.2\n",
       "other         Employed          82.1\n",
       "              NaN               14.3\n",
       "              Own Busisnes       3.6\n",
       "NaN           NaN               70.5\n",
       "              Employed          19.9\n",
       "              Welfare            6.7\n",
       "              Pension            1.4\n",
       "              Retired            0.9\n",
       "              Own Busisnes       0.7\n",
       "Name: inc_srce_split, dtype: float64"
      ]
     },
     "execution_count": 201,
     "metadata": {},
     "output_type": "execute_result"
    }
   ],
   "source": [
    "round(df_income_source_exploded.groupby('race3', dropna=False)['inc_srce_split'].value_counts(dropna=False, normalize=True)*100,1)"
   ]
  },
  {
   "cell_type": "code",
   "execution_count": 202,
   "id": "c5f95818-295d-404e-b546-89641931e840",
   "metadata": {},
   "outputs": [
    {
     "data": {
      "text/plain": [
       "race3         inc_srce_split\n",
       "Multi         Employed          66.7\n",
       "              Welfare           33.3\n",
       "Negro         Employed          65.1\n",
       "              Welfare           30.2\n",
       "              Pension            3.5\n",
       "              Own Busisnes       1.2\n",
       "Oriental      Employed          69.2\n",
       "              Own Busisnes      23.1\n",
       "              Welfare            7.7\n",
       "Puerto Rican  Employed          67.3\n",
       "              Welfare           27.7\n",
       "              Own Busisnes       3.1\n",
       "              Pension            1.9\n",
       "White         Employed          75.3\n",
       "              Pension            9.8\n",
       "              Own Busisnes       6.3\n",
       "              Retired            6.1\n",
       "              Welfare            2.5\n",
       "other         Employed          95.8\n",
       "              Own Busisnes       4.2\n",
       "NaN           Employed          67.4\n",
       "              Welfare           22.6\n",
       "              Pension            4.6\n",
       "              Retired            3.1\n",
       "              Own Busisnes       2.3\n",
       "Name: inc_srce_split, dtype: float64"
      ]
     },
     "execution_count": 202,
     "metadata": {},
     "output_type": "execute_result"
    }
   ],
   "source": [
    "round(df_income_source_exploded.groupby('race3', dropna=False)['inc_srce_split'].value_counts(dropna=True, normalize=True)*100,1)"
   ]
  },
  {
   "cell_type": "markdown",
   "id": "a9e7fc80-b8c1-48fb-83a9-7431a5d267c3",
   "metadata": {},
   "source": [
    "# HERE # eod: 03/05/2025"
   ]
  },
  {
   "cell_type": "code",
   "execution_count": null,
   "id": "a2f98ce9-243e-45cb-9bcf-7374cf502267",
   "metadata": {},
   "outputs": [],
   "source": []
  },
  {
   "cell_type": "code",
   "execution_count": null,
   "id": "655ec0dc-08fd-43e6-be19-3042917ae14f",
   "metadata": {},
   "outputs": [],
   "source": []
  },
  {
   "cell_type": "code",
   "execution_count": null,
   "id": "875a97fc-7b88-47e4-bb7d-6e0d259eb827",
   "metadata": {},
   "outputs": [],
   "source": []
  },
  {
   "cell_type": "code",
   "execution_count": null,
   "id": "1e21bc24-da44-40b1-b78d-85f87aa2b2c6",
   "metadata": {},
   "outputs": [],
   "source": []
  },
  {
   "cell_type": "code",
   "execution_count": 182,
   "id": "05b82dc6-05dc-40ed-b28a-9605b8cea874",
   "metadata": {},
   "outputs": [
    {
     "data": {
      "text/plain": [
       "race3         inc_srce                  \n",
       "Multi         Employed                        2\n",
       "              NaN                             1\n",
       "              Welfare                         1\n",
       "Negro         Employed                       52\n",
       "              Welfare                        23\n",
       "              NaN                            12\n",
       "              Employed, Welfare               3\n",
       "              Pension                         2\n",
       "              Employed, Pension               1\n",
       "              Own Busisnes                    1\n",
       "Oriental      Employed                        9\n",
       "              Own Busisnes                    3\n",
       "              NaN                             2\n",
       "              Welfare                         1\n",
       "Puerto Rican  Employed                      314\n",
       "              Welfare                       124\n",
       "              NaN                            79\n",
       "              Own Busisnes                   13\n",
       "              Employed, Welfare               7\n",
       "              Pension                         7\n",
       "              Employed, Pension               1\n",
       "              Own Busisnes, Employed          1\n",
       "              Own Busisnes, Welfare           1\n",
       "              Pension, Welfare                1\n",
       "White         Employed                      377\n",
       "              NaN                            67\n",
       "              Pension                        34\n",
       "              Own Busisnes                   28\n",
       "              Retired                        24\n",
       "              Welfare                         8\n",
       "              Employed, Pension               7\n",
       "              Own Busisnes, Employed          5\n",
       "              Pension, Retired                5\n",
       "              Pension, Welfare                3\n",
       "              Employed, Retired               2\n",
       "              Employed, Pension, Retired      1\n",
       "              Employed, Pension, Welfare      1\n",
       "              Employed, Welfare               1\n",
       "other         Employed                       23\n",
       "              NaN                             4\n",
       "              Own Busisnes                    1\n",
       "NaN           NaN                           624\n",
       "              Employed                      169\n",
       "              Welfare                        55\n",
       "              Pension                        10\n",
       "              Retired                         7\n",
       "              Own Busisnes                    6\n",
       "              Employed, Welfare               4\n",
       "              Employed, Pension               2\n",
       "              Employed, Retired               1\n",
       "Name: inc_srce, dtype: int64"
      ]
     },
     "execution_count": 182,
     "metadata": {},
     "output_type": "execute_result"
    }
   ],
   "source": [
    "df.groupby('race3', dropna=False)['inc_srce'].value_counts(dropna=False)"
   ]
  },
  {
   "cell_type": "code",
   "execution_count": 183,
   "id": "3959c141-a91a-460c-97ea-88bc310f7def",
   "metadata": {},
   "outputs": [
    {
     "data": {
      "text/plain": [
       "race3         inc_srce                  \n",
       "Multi         Employed                      50.0\n",
       "              NaN                           25.0\n",
       "              Welfare                       25.0\n",
       "Negro         Employed                      55.3\n",
       "              Welfare                       24.5\n",
       "              NaN                           12.8\n",
       "              Employed, Welfare              3.2\n",
       "              Pension                        2.1\n",
       "              Employed, Pension              1.1\n",
       "              Own Busisnes                   1.1\n",
       "Oriental      Employed                      60.0\n",
       "              Own Busisnes                  20.0\n",
       "              NaN                           13.3\n",
       "              Welfare                        6.7\n",
       "Puerto Rican  Employed                      57.3\n",
       "              Welfare                       22.6\n",
       "              NaN                           14.4\n",
       "              Own Busisnes                   2.4\n",
       "              Employed, Welfare              1.3\n",
       "              Pension                        1.3\n",
       "              Employed, Pension              0.2\n",
       "              Own Busisnes, Employed         0.2\n",
       "              Own Busisnes, Welfare          0.2\n",
       "              Pension, Welfare               0.2\n",
       "White         Employed                      67.0\n",
       "              NaN                           11.9\n",
       "              Pension                        6.0\n",
       "              Own Busisnes                   5.0\n",
       "              Retired                        4.3\n",
       "              Welfare                        1.4\n",
       "              Employed, Pension              1.2\n",
       "              Own Busisnes, Employed         0.9\n",
       "              Pension, Retired               0.9\n",
       "              Pension, Welfare               0.5\n",
       "              Employed, Retired              0.4\n",
       "              Employed, Pension, Retired     0.2\n",
       "              Employed, Pension, Welfare     0.2\n",
       "              Employed, Welfare              0.2\n",
       "other         Employed                      82.1\n",
       "              NaN                           14.3\n",
       "              Own Busisnes                   3.6\n",
       "NaN           NaN                           71.1\n",
       "              Employed                      19.2\n",
       "              Welfare                        6.3\n",
       "              Pension                        1.1\n",
       "              Retired                        0.8\n",
       "              Own Busisnes                   0.7\n",
       "              Employed, Welfare              0.5\n",
       "              Employed, Pension              0.2\n",
       "              Employed, Retired              0.1\n",
       "Name: inc_srce, dtype: float64"
      ]
     },
     "execution_count": 183,
     "metadata": {},
     "output_type": "execute_result"
    }
   ],
   "source": [
    "round(df.groupby('race3', dropna=False)['inc_srce'].value_counts(dropna=False, normalize=True)*100,1)"
   ]
  },
  {
   "cell_type": "code",
   "execution_count": 184,
   "id": "09bf514c-3353-4da0-b7b2-28812d71e738",
   "metadata": {},
   "outputs": [
    {
     "data": {
      "text/plain": [
       "race3         inc_srce                  \n",
       "Multi         Employed                      66.7\n",
       "              Welfare                       33.3\n",
       "Negro         Employed                      63.4\n",
       "              Welfare                       28.0\n",
       "              Employed, Welfare              3.7\n",
       "              Pension                        2.4\n",
       "              Employed, Pension              1.2\n",
       "              Own Busisnes                   1.2\n",
       "Oriental      Employed                      69.2\n",
       "              Own Busisnes                  23.1\n",
       "              Welfare                        7.7\n",
       "Puerto Rican  Employed                      67.0\n",
       "              Welfare                       26.4\n",
       "              Own Busisnes                   2.8\n",
       "              Employed, Welfare              1.5\n",
       "              Pension                        1.5\n",
       "              Employed, Pension              0.2\n",
       "              Own Busisnes, Employed         0.2\n",
       "              Own Busisnes, Welfare          0.2\n",
       "              Pension, Welfare               0.2\n",
       "White         Employed                      76.0\n",
       "              Pension                        6.9\n",
       "              Own Busisnes                   5.6\n",
       "              Retired                        4.8\n",
       "              Welfare                        1.6\n",
       "              Employed, Pension              1.4\n",
       "              Own Busisnes, Employed         1.0\n",
       "              Pension, Retired               1.0\n",
       "              Pension, Welfare               0.6\n",
       "              Employed, Retired              0.4\n",
       "              Employed, Pension, Retired     0.2\n",
       "              Employed, Pension, Welfare     0.2\n",
       "              Employed, Welfare              0.2\n",
       "other         Employed                      95.8\n",
       "              Own Busisnes                   4.2\n",
       "NaN           Employed                      66.5\n",
       "              Welfare                       21.7\n",
       "              Pension                        3.9\n",
       "              Retired                        2.8\n",
       "              Own Busisnes                   2.4\n",
       "              Employed, Welfare              1.6\n",
       "              Employed, Pension              0.8\n",
       "              Employed, Retired              0.4\n",
       "Name: inc_srce, dtype: float64"
      ]
     },
     "execution_count": 184,
     "metadata": {},
     "output_type": "execute_result"
    }
   ],
   "source": [
    "round(df.groupby('race3', dropna=False)['inc_srce'].value_counts(normalize=True)*100,1)"
   ]
  },
  {
   "cell_type": "code",
   "execution_count": 185,
   "id": "6e149618-8fcd-4f53-ad50-4e6b5ca00f49",
   "metadata": {},
   "outputs": [
    {
     "data": {
      "text/plain": [
       "race3\n",
       "Multi             3\n",
       "Negro            82\n",
       "Oriental         13\n",
       "Puerto Rican    469\n",
       "White           496\n",
       "other            24\n",
       "NaN             254\n",
       "Name: inc_srce, dtype: int64"
      ]
     },
     "execution_count": 185,
     "metadata": {},
     "output_type": "execute_result"
    }
   ],
   "source": [
    "df.groupby('race3', dropna=False)['inc_srce'].count()"
   ]
  },
  {
   "cell_type": "code",
   "execution_count": 186,
   "id": "d20469e9-623c-483d-ab26-e64aef3730ae",
   "metadata": {},
   "outputs": [
    {
     "data": {
      "text/plain": [
       "race3         inc_srce_split\n",
       "Multi         Employed            2\n",
       "              Welfare             1\n",
       "Negro         Employed           56\n",
       "              Welfare            26\n",
       "              Pension             3\n",
       "              Own Busisnes        1\n",
       "Oriental      Employed            9\n",
       "              Own Busisnes        3\n",
       "              Welfare             1\n",
       "Puerto Rican  Employed          323\n",
       "              Welfare           133\n",
       "              Own Busisnes       15\n",
       "              Pension             9\n",
       "White         Employed          394\n",
       "              Pension            51\n",
       "              Own Busisnes       33\n",
       "              Retired            32\n",
       "              Welfare            13\n",
       "other         Employed           23\n",
       "              Own Busisnes        1\n",
       "NaN           Employed          176\n",
       "              Welfare            59\n",
       "              Pension            12\n",
       "              Retired             8\n",
       "              Own Busisnes        6\n",
       "Name: inc_srce_split, dtype: int64"
      ]
     },
     "execution_count": 186,
     "metadata": {},
     "output_type": "execute_result"
    }
   ],
   "source": [
    "df_income_source_exploded.groupby('race3', dropna=False)['inc_srce_split'].value_counts()"
   ]
  },
  {
   "cell_type": "code",
   "execution_count": 187,
   "id": "fb66b7aa-301a-4d85-9f9e-035fb756006f",
   "metadata": {},
   "outputs": [
    {
     "data": {
      "text/plain": [
       "race3         inc_srce_split\n",
       "Multi         Employed            2\n",
       "              NaN                 1\n",
       "              Welfare             1\n",
       "Negro         Employed           56\n",
       "              Welfare            26\n",
       "              NaN                12\n",
       "              Pension             3\n",
       "              Own Busisnes        1\n",
       "Oriental      Employed            9\n",
       "              Own Busisnes        3\n",
       "              NaN                 2\n",
       "              Welfare             1\n",
       "Puerto Rican  Employed          323\n",
       "              Welfare           133\n",
       "              NaN                79\n",
       "              Own Busisnes       15\n",
       "              Pension             9\n",
       "White         Employed          394\n",
       "              NaN                67\n",
       "              Pension            51\n",
       "              Own Busisnes       33\n",
       "              Retired            32\n",
       "              Welfare            13\n",
       "other         Employed           23\n",
       "              NaN                 4\n",
       "              Own Busisnes        1\n",
       "NaN           NaN               624\n",
       "              Employed          176\n",
       "              Welfare            59\n",
       "              Pension            12\n",
       "              Retired             8\n",
       "              Own Busisnes        6\n",
       "Name: inc_srce_split, dtype: int64"
      ]
     },
     "execution_count": 187,
     "metadata": {},
     "output_type": "execute_result"
    }
   ],
   "source": [
    "df_income_source_exploded.groupby('race3', dropna=False)['inc_srce_split'].value_counts(dropna=False)"
   ]
  },
  {
   "cell_type": "code",
   "execution_count": 188,
   "id": "5d8b1bdd-4b45-4014-af5b-cf55aa365b88",
   "metadata": {},
   "outputs": [
    {
     "data": {
      "text/plain": [
       "race3         inc_srce_split\n",
       "Multi         Employed          50.0\n",
       "              NaN               25.0\n",
       "              Welfare           25.0\n",
       "Negro         Employed          57.1\n",
       "              Welfare           26.5\n",
       "              NaN               12.2\n",
       "              Pension            3.1\n",
       "              Own Busisnes       1.0\n",
       "Oriental      Employed          60.0\n",
       "              Own Busisnes      20.0\n",
       "              NaN               13.3\n",
       "              Welfare            6.7\n",
       "Puerto Rican  Employed          57.8\n",
       "              Welfare           23.8\n",
       "              NaN               14.1\n",
       "              Own Busisnes       2.7\n",
       "              Pension            1.6\n",
       "White         Employed          66.8\n",
       "              NaN               11.4\n",
       "              Pension            8.6\n",
       "              Own Busisnes       5.6\n",
       "              Retired            5.4\n",
       "              Welfare            2.2\n",
       "other         Employed          82.1\n",
       "              NaN               14.3\n",
       "              Own Busisnes       3.6\n",
       "NaN           NaN               70.5\n",
       "              Employed          19.9\n",
       "              Welfare            6.7\n",
       "              Pension            1.4\n",
       "              Retired            0.9\n",
       "              Own Busisnes       0.7\n",
       "Name: inc_srce_split, dtype: float64"
      ]
     },
     "execution_count": 188,
     "metadata": {},
     "output_type": "execute_result"
    }
   ],
   "source": [
    "round(df_income_source_exploded.groupby('race3', dropna=False)['inc_srce_split'].value_counts(dropna=False, normalize=True)*100,1)"
   ]
  },
  {
   "cell_type": "code",
   "execution_count": 189,
   "id": "73d26fe4-f9a4-4994-a926-f2175bb88db9",
   "metadata": {},
   "outputs": [
    {
     "data": {
      "text/plain": [
       "race3         inc_srce_split\n",
       "Multi         Employed          66.7\n",
       "              Welfare           33.3\n",
       "Negro         Employed          65.1\n",
       "              Welfare           30.2\n",
       "              Pension            3.5\n",
       "              Own Busisnes       1.2\n",
       "Oriental      Employed          69.2\n",
       "              Own Busisnes      23.1\n",
       "              Welfare            7.7\n",
       "Puerto Rican  Employed          67.3\n",
       "              Welfare           27.7\n",
       "              Own Busisnes       3.1\n",
       "              Pension            1.9\n",
       "White         Employed          75.3\n",
       "              Pension            9.8\n",
       "              Own Busisnes       6.3\n",
       "              Retired            6.1\n",
       "              Welfare            2.5\n",
       "other         Employed          95.8\n",
       "              Own Busisnes       4.2\n",
       "NaN           Employed          67.4\n",
       "              Welfare           22.6\n",
       "              Pension            4.6\n",
       "              Retired            3.1\n",
       "              Own Busisnes       2.3\n",
       "Name: inc_srce_split, dtype: float64"
      ]
     },
     "execution_count": 189,
     "metadata": {},
     "output_type": "execute_result"
    }
   ],
   "source": [
    "round(df_income_source_exploded.groupby('race3', dropna=False)['inc_srce_split'].value_counts(normalize=True)*100,1)"
   ]
  },
  {
   "cell_type": "code",
   "execution_count": null,
   "id": "3c29f173-002b-474f-91bd-4d520af54d5b",
   "metadata": {},
   "outputs": [
    {
     "data": {
      "text/plain": [
       "<AxesSubplot: ylabel='race3,inc_srce_split'>"
      ]
     },
     "execution_count": 190,
     "metadata": {},
     "output_type": "execute_result"
    },
    {
     "data": {
      "image/png": "[encoded data removed]",
      "text/plain": [
       "<Figure size 640x480 with 1 Axes>"
      ]
     },
     "metadata": {},
     "output_type": "display_data"
    }
   ],
   "source": [
    "round(df_income_source_exploded.groupby('race3', dropna=False)['inc_srce_split'].value_counts(normalize=True)*100,1).plot(kind='barh')"
   ]
  },
  {
   "cell_type": "markdown",
   "id": "09519b83-bb2e-4492-b0e0-e103838490f6",
   "metadata": {},
   "source": [
    "### Income source in Puerto Rican households"
   ]
  },
  {
   "cell_type": "code",
   "execution_count": null,
   "id": "b294d922-ef76-4c48-8d38-1974a06a1e3b",
   "metadata": {},
   "outputs": [],
   "source": [
    "m = df_income_source_exploded['ID_long'].isin(pr_hh_ID)\n",
    "df_income_source_exploded_PR_hh = df_income_source_exploded[m]"
   ]
  },
  {
   "cell_type": "code",
   "execution_count": null,
   "id": "e2276872-4fe2-4681-985a-5eac392db8d9",
   "metadata": {},
   "outputs": [],
   "source": [
    "df_income_source_exploded_PR_hh.groupby('race2',dropna=False)['inc_srce_split'].value_counts()"
   ]
  },
  {
   "cell_type": "code",
   "execution_count": null,
   "id": "4d8228e3-9302-4f8a-8b38-91753143f8a9",
   "metadata": {},
   "outputs": [],
   "source": [
    "df_income_source_exploded_PR_hh['inc_srce_split'].value_counts(dropna=False)"
   ]
  },
  {
   "cell_type": "code",
   "execution_count": null,
   "id": "32b00cd6-124d-4fb6-814d-6f900b09c536",
   "metadata": {},
   "outputs": [],
   "source": [
    "round(df_income_source_exploded_PR_hh['inc_srce_split'].value_counts(dropna=False, normalize=True)*100,1)"
   ]
  },
  {
   "cell_type": "code",
   "execution_count": null,
   "id": "674bf23c-8f16-4f6f-b4b0-1e4424df7e5b",
   "metadata": {},
   "outputs": [],
   "source": [
    "df_income_source_exploded_PR_hh['inc_srce_split'].value_counts(dropna=False).plot(kind='barh')\n",
    "plt.title('Distribution of all income sources in Puerto Rican households')"
   ]
  },
  {
   "cell_type": "code",
   "execution_count": null,
   "id": "ffd7fcbe-1816-4d0c-9313-18df07147302",
   "metadata": {},
   "outputs": [],
   "source": [
    "## Income\n",
    "#income_variables = [i for i in df.columns if '_inc' in i] \n",
    "#print(income_variables)\n",
    "#\n",
    "#income_variables = ['ID_long'] + income_variables\n",
    "#\n",
    "#income_df = df[income_variables]\n",
    "#income_df.head(2)\n",
    "#\n",
    "#income_df = pd.melt(\n",
    "#    income_df, \n",
    "#    id_vars = 'ID_long', \n",
    "#    value_vars = income_variables[1:], \n",
    "#    value_name = 'income'\n",
    "#)\n",
    "#\n",
    "#income_df\n",
    "\n",
    "## Overcrowded\n",
    "#df['overcrwd_os'].isna().value_counts()\n",
    "#\n",
    "#df.groupby('race2')['overcrwd_os'].value_counts(dropna=False)\n",
    "#\n",
    "#df.groupby('race2')['overcrwd_r'].value_counts(dropna=False)"
   ]
  },
  {
   "cell_type": "code",
   "execution_count": null,
   "id": "85731857-c3fd-4b29-bfe4-23a8c0dbb63a",
   "metadata": {},
   "outputs": [],
   "source": []
  },
  {
   "cell_type": "markdown",
   "id": "9a15aedb-c836-4b49-b469-0ab614e2a34d",
   "metadata": {},
   "source": [
    "# Family Relocation Plan"
   ]
  },
  {
   "cell_type": "markdown",
   "id": "e1e02eab-4c32-44c2-a134-ccef90b84eae",
   "metadata": {},
   "source": [
    "## Number of rooms required"
   ]
  },
  {
   "cell_type": "code",
   "execution_count": null,
   "id": "c71d6693-b36e-460e-867c-65584980c0ed",
   "metadata": {},
   "outputs": [],
   "source": [
    "df['room_req'].value_counts(dropna=False)"
   ]
  },
  {
   "cell_type": "code",
   "execution_count": null,
   "id": "0a330d38-376f-477d-84fa-4f454e1387b0",
   "metadata": {},
   "outputs": [],
   "source": [
    "df['room_req'].unique()"
   ]
  },
  {
   "cell_type": "code",
   "execution_count": null,
   "id": "53673636-a2c1-4471-95b5-a826798aac5c",
   "metadata": {},
   "outputs": [],
   "source": [
    "df[df['room_req'] == '7-Jun']"
   ]
  },
  {
   "cell_type": "markdown",
   "id": "942cb413-bc2a-42d0-937a-e162fccaa75c",
   "metadata": {},
   "source": [
    "> Curse you, Excel! "
   ]
  },
  {
   "cell_type": "markdown",
   "id": "3c445a74-618b-4f22-aac8-cb6ae2638786",
   "metadata": {},
   "source": [
    "## Area desired"
   ]
  },
  {
   "cell_type": "code",
   "execution_count": null,
   "id": "caaf2c40-6148-477e-b119-a9a8c3f87026",
   "metadata": {},
   "outputs": [],
   "source": [
    "df['area_des'].nunique()"
   ]
  },
  {
   "cell_type": "code",
   "execution_count": null,
   "id": "a7bc3977-942b-4ec1-b0f0-68ea11b00a55",
   "metadata": {
    "tags": []
   },
   "outputs": [],
   "source": [
    "df['area_des'].unique()"
   ]
  },
  {
   "cell_type": "code",
   "execution_count": null,
   "id": "6a3e4ff9-f002-47aa-b76e-005f392eef3d",
   "metadata": {},
   "outputs": [],
   "source": [
    "pd.DataFrame(df['area_des'].unique()).to_csv('family_relocation_plan__desired_area.csv', index=None)"
   ]
  },
  {
   "cell_type": "code",
   "execution_count": null,
   "id": "c6ba1df4-6991-43f0-9955-3fe0c6f7452c",
   "metadata": {},
   "outputs": [],
   "source": [
    "!pwd"
   ]
  },
  {
   "cell_type": "code",
   "execution_count": null,
   "id": "09b4d498-30fb-4ea4-8421-725c98a12b6b",
   "metadata": {},
   "outputs": [],
   "source": [
    "desired_area_df = pd.read_csv('family_relocation_plan__desired_area_recoded.csv')\n",
    "desired_area_df.head()"
   ]
  },
  {
   "cell_type": "code",
   "execution_count": null,
   "id": "553e9b3f-4e7c-4292-a122-dafa3aa5f948",
   "metadata": {},
   "outputs": [],
   "source": [
    "desired_area_recode_dictionary = {k:v for k,v in zip(desired_area_df['desired_area'], desired_area_df['recoded'])}\n",
    "\n",
    "manhattan_west_recode_dictionary = {k:v for k,v in zip(desired_area_df['desired_area'], desired_area_df['neighboorhood'])} "
   ]
  },
  {
   "cell_type": "code",
   "execution_count": null,
   "id": "eea8997c-167f-485b-8992-bc2cb8e545f6",
   "metadata": {},
   "outputs": [],
   "source": [
    "df['area_des_recoded'] = df['area_des'].apply(lambda x: desired_area_recode_dictionary[x])\n",
    "df['same_area_recoded'] = df['area_des'].apply(lambda x: manhattan_west_recode_dictionary[x])"
   ]
  },
  {
   "cell_type": "code",
   "execution_count": null,
   "id": "f1a0675e-bbab-4bff-9b6b-ebb5cd7c4862",
   "metadata": {},
   "outputs": [],
   "source": [
    "df['same_area_recoded'].value_counts(dropna=False)"
   ]
  },
  {
   "cell_type": "markdown",
   "id": "23c2bedf-88d6-4f8c-af8b-7f5bd412d3bc",
   "metadata": {},
   "source": []
  },
  {
   "cell_type": "code",
   "execution_count": null,
   "id": "def7353c-494d-4040-acf7-006b74bf928c",
   "metadata": {},
   "outputs": [],
   "source": [
    "df['area_des_recoded_split'] = df['area_des_recoded'].str.split(', ') \n",
    "desired_area_exploded_df = df.explode('area_des_recoded_split')\n",
    "\n",
    "df_pr_hh = df[df['PR_hh'] == True]\n",
    "df_pr_hh['area_des_recoded_split'] = df_pr_hh['area_des_recoded'].str.split(', ') \n",
    "desired_area_pr_hh_exploded_df = df_pr_hh.explode('area_des_recoded_split')"
   ]
  },
  {
   "cell_type": "code",
   "execution_count": null,
   "id": "d927fc9d-730b-4a76-801f-4a0142731133",
   "metadata": {},
   "outputs": [],
   "source": [
    "desired_area_exploded_df['area_des_recoded_split'].value_counts(dropna=False)"
   ]
  },
  {
   "cell_type": "code",
   "execution_count": null,
   "id": "bc4a5679-8a6c-4de4-93d4-ca7b981a5459",
   "metadata": {},
   "outputs": [],
   "source": [
    "desired_area_exploded_df.groupby('race2', dropna=False)['area_des_recoded_split'].value_counts(dropna=False)"
   ]
  },
  {
   "cell_type": "code",
   "execution_count": null,
   "id": "9e2a6061-f447-4479-91a6-4623d3b7725b",
   "metadata": {},
   "outputs": [],
   "source": [
    "desired_area_pr_hh_exploded_df['area_des_recoded_split'].value_counts(dropna=False)"
   ]
  },
  {
   "cell_type": "code",
   "execution_count": null,
   "id": "187c9ac0-545d-46d9-ba57-e779f6171272",
   "metadata": {},
   "outputs": [],
   "source": [
    "round(df_pr_hh['area_des'].isna().value_counts(normalize=True)*100, 1)"
   ]
  },
  {
   "cell_type": "markdown",
   "id": "56b3927f-719b-45c0-a8db-ff92437215f1",
   "metadata": {},
   "source": [
    "> 58.4% of Puerto Rican households have a blank desired area variable in the family relocation plan section."
   ]
  },
  {
   "cell_type": "code",
   "execution_count": null,
   "id": "c828e969-0623-4260-8a34-8c65745ad852",
   "metadata": {},
   "outputs": [],
   "source": [
    "df_pr_hh['area_des'].isna().value_counts()"
   ]
  },
  {
   "cell_type": "code",
   "execution_count": null,
   "id": "74c76bd3-0565-4d27-a793-39279a53dd40",
   "metadata": {},
   "outputs": [],
   "source": [
    "df_pr_hh.shape"
   ]
  },
  {
   "cell_type": "markdown",
   "id": "a024a36c-7ae6-4340-9eba-b9be39ed290f",
   "metadata": {},
   "source": [
    ">  41.6% or 321 Puerto Rican household records do have desired areas of relocation written on the cards. "
   ]
  },
  {
   "cell_type": "code",
   "execution_count": null,
   "id": "4211ca3e-224c-4801-91d5-0cd53b06408d",
   "metadata": {},
   "outputs": [],
   "source": [
    "df_pr_hh['area_des_recoded'].value_counts(dropna=False)"
   ]
  },
  {
   "cell_type": "code",
   "execution_count": null,
   "id": "54c5d230-3847-40ac-b27c-49a6ea73ff4a",
   "metadata": {
    "tags": []
   },
   "outputs": [],
   "source": [
    "desired_area_pr_hh_exploded_df.shape"
   ]
  },
  {
   "cell_type": "code",
   "execution_count": null,
   "id": "1c1b7e58-0064-429d-b3df-eb96e5dc1190",
   "metadata": {},
   "outputs": [],
   "source": [
    "desired_area_pr_hh_exploded_df['area_des_recoded_split'].value_counts(dropna=False)"
   ]
  },
  {
   "cell_type": "code",
   "execution_count": null,
   "id": "6a342b99-1b2c-4edb-ab11-d08d94d65c92",
   "metadata": {},
   "outputs": [],
   "source": [
    "round(desired_area_pr_hh_exploded_df['area_des_recoded_split'].value_counts(normalize=True)*100,1)"
   ]
  },
  {
   "cell_type": "markdown",
   "id": "fc921318-e1d8-4705-9431-39eaf86b55d7",
   "metadata": {},
   "source": [
    "> Of the records that have a desired area written in them, Manhattan is written 83.1% times. "
   ]
  },
  {
   "cell_type": "code",
   "execution_count": null,
   "id": "3876a2e4-0d11-4a4a-859a-e13eda03f756",
   "metadata": {},
   "outputs": [],
   "source": [
    "round(desired_area_pr_hh_exploded_df['area_des_recoded_split'].value_counts(dropna=False, normalize=True)*100,1)"
   ]
  },
  {
   "cell_type": "code",
   "execution_count": null,
   "id": "4b2b8035-4441-4b25-a630-b45b7ec332ba",
   "metadata": {},
   "outputs": [],
   "source": [
    "desired_area_pr_hh_exploded_df['area_des_recoded_split'].value_counts()"
   ]
  },
  {
   "cell_type": "code",
   "execution_count": null,
   "id": "bce23578-fd67-43a0-bea0-9b9137c62d4e",
   "metadata": {},
   "outputs": [],
   "source": [
    "round(desired_area_pr_hh_exploded_df['area_des_recoded_split'].value_counts(normalize=True)*100,1)"
   ]
  },
  {
   "cell_type": "code",
   "execution_count": null,
   "id": "f5412210-bc45-477b-a57c-3cc1fc5f5155",
   "metadata": {},
   "outputs": [],
   "source": [
    "round(desired_area_pr_hh_exploded_df['area_des_recoded_split'].value_counts(normalize=True, dropna=False)*100,1)"
   ]
  },
  {
   "cell_type": "code",
   "execution_count": null,
   "id": "1213b9e9-22f8-493f-8f27-d657d2d6cdb0",
   "metadata": {},
   "outputs": [],
   "source": [
    "round(desired_area_exploded_df['area_des_recoded_split'].value_counts(normalize=True)*100, 1)"
   ]
  },
  {
   "cell_type": "code",
   "execution_count": null,
   "id": "2d734b4d-6c73-446d-974a-7f7b2547efa7",
   "metadata": {},
   "outputs": [],
   "source": [
    "round(desired_area_exploded_df['area_des_recoded_split'].value_counts(normalize=True, dropna=False)*100, 1)"
   ]
  },
  {
   "cell_type": "markdown",
   "id": "97f0ae65-dc31-41c3-b2e8-14627b943916",
   "metadata": {},
   "source": [
    "Who wanted to stay in the same area, nearby, in the neighborhood, or on W Manhattan?"
   ]
  },
  {
   "cell_type": "code",
   "execution_count": null,
   "id": "0a99c6a7-7903-49c8-a585-394b074e3306",
   "metadata": {},
   "outputs": [],
   "source": [
    "round(df['same_area_recoded'].value_counts(dropna=False, normalize=True)*100,1)"
   ]
  },
  {
   "cell_type": "code",
   "execution_count": null,
   "id": "cbd39022-0b84-41a8-b01a-8e351afe0134",
   "metadata": {},
   "outputs": [],
   "source": [
    "round(df_pr_hh['same_area_recoded'].value_counts(dropna=False, normalize=True)*100,1)"
   ]
  },
  {
   "cell_type": "markdown",
   "id": "77ecacf6-faed-49e4-9969-1f923945c87d",
   "metadata": {},
   "source": [
    "29.4% of all records indicate they want to stay in the area. 33.3% of all records for Puerto Rican households indicate they want to stay in the area. "
   ]
  },
  {
   "cell_type": "code",
   "execution_count": null,
   "id": "7570d6a9-c608-4201-9e47-74e21107d5e5",
   "metadata": {},
   "outputs": [],
   "source": [
    "df.groupby('same_area_recoded', dropna=False)['race2'].value_counts(dropna=False)"
   ]
  },
  {
   "cell_type": "code",
   "execution_count": null,
   "id": "84b97cd7-1fc4-445f-960d-ad5874eff10e",
   "metadata": {},
   "outputs": [],
   "source": []
  },
  {
   "cell_type": "code",
   "execution_count": null,
   "id": "02cb2993-5294-4da5-8238-382f349856ed",
   "metadata": {},
   "outputs": [],
   "source": []
  },
  {
   "cell_type": "markdown",
   "id": "908cc0a1-c4cf-48d5-80ad-13288ffc84ac",
   "metadata": {},
   "source": [
    "## Desired housing type:"
   ]
  },
  {
   "cell_type": "code",
   "execution_count": null,
   "id": "eb449db9-3e74-44a7-9147-db559626df7f",
   "metadata": {},
   "outputs": [],
   "source": [
    "df['hous_type'].unique()"
   ]
  },
  {
   "cell_type": "code",
   "execution_count": null,
   "id": "917946de-c34e-4df2-9eab-a7b7c5cf6ad4",
   "metadata": {},
   "outputs": [],
   "source": [
    "df['hous_type'].value_counts(dropna=False)"
   ]
  },
  {
   "cell_type": "code",
   "execution_count": null,
   "id": "f51d388e-cdd7-4cbe-a363-d01aadd1185d",
   "metadata": {},
   "outputs": [],
   "source": [
    "df_pr_hh['hous_type'].value_counts(dropna=False)"
   ]
  },
  {
   "cell_type": "code",
   "execution_count": null,
   "id": "1e965c73-1afb-44a4-ae68-6a3fd1235444",
   "metadata": {},
   "outputs": [],
   "source": [
    "df.groupby('hous_type')['race2'].value_counts()"
   ]
  },
  {
   "cell_type": "code",
   "execution_count": null,
   "id": "188c25e3-74b6-4624-9f1e-b1da30575516",
   "metadata": {},
   "outputs": [],
   "source": [
    "df.groupby('race2')['hous_type'].value_counts()"
   ]
  },
  {
   "cell_type": "code",
   "execution_count": null,
   "id": "dce00416-f86d-48c5-b750-b4bcfc45482c",
   "metadata": {},
   "outputs": [],
   "source": []
  },
  {
   "cell_type": "code",
   "execution_count": null,
   "id": "cfd33a1f-ec4a-45fb-939c-7c5dd035e7d2",
   "metadata": {},
   "outputs": [],
   "source": [
    "df['hous_type_split'] = df['hous_type'].str.split(', ') \n",
    "housing_type_exploded_df = df.explode('hous_type_split')\n",
    "\n",
    "df_pr_hh['hous_type_split'] = df_pr_hh['hous_type'].str.split(', ')  \n",
    "housing_type_pr_hh_exploded_df = df_pr_hh.explode('hous_type_split')"
   ]
  },
  {
   "cell_type": "code",
   "execution_count": null,
   "id": "8b3446ad-9407-43e5-9ccd-1ed29867f130",
   "metadata": {},
   "outputs": [],
   "source": []
  },
  {
   "cell_type": "code",
   "execution_count": null,
   "id": "534adac5-86cb-48c8-bfa7-0d842a34dc7e",
   "metadata": {},
   "outputs": [],
   "source": []
  },
  {
   "cell_type": "code",
   "execution_count": null,
   "id": "9c555b55-80c8-4513-953f-fb5880077191",
   "metadata": {},
   "outputs": [],
   "source": [
    "df['hous_type'].isna().value_counts()"
   ]
  },
  {
   "cell_type": "code",
   "execution_count": null,
   "id": "737d8842-9f6b-4540-be87-6e9aad72e612",
   "metadata": {},
   "outputs": [],
   "source": [
    "housing_type_exploded_df['hous_type_split'].value_counts(dropna=False)"
   ]
  },
  {
   "cell_type": "code",
   "execution_count": null,
   "id": "d358685d-dd53-415f-89c5-7876c08c5496",
   "metadata": {},
   "outputs": [],
   "source": [
    "round(housing_type_exploded_df['hous_type_split'].value_counts(normalize=True)*100,1)"
   ]
  },
  {
   "cell_type": "code",
   "execution_count": null,
   "id": "904111f8-c94c-4397-9604-8e2ab90c860c",
   "metadata": {},
   "outputs": [],
   "source": [
    "housing_type_exploded_df.groupby('race2', dropna=False)['hous_type_split'].value_counts(dropna=False)"
   ]
  },
  {
   "cell_type": "code",
   "execution_count": null,
   "id": "c6f7b235-e29e-4273-bb58-bf30ee18841a",
   "metadata": {},
   "outputs": [],
   "source": []
  },
  {
   "cell_type": "code",
   "execution_count": null,
   "id": "37ff75b3-d618-4703-8a77-92954a594aec",
   "metadata": {},
   "outputs": [],
   "source": []
  },
  {
   "cell_type": "code",
   "execution_count": null,
   "id": "e20b1e55-112f-4eca-8ec8-9e639ac99f6f",
   "metadata": {},
   "outputs": [],
   "source": [
    "df_pr_hh['hous_type'].isna().value_counts()"
   ]
  },
  {
   "cell_type": "code",
   "execution_count": null,
   "id": "9f605d8d-dd60-4918-859e-4518230399fe",
   "metadata": {},
   "outputs": [],
   "source": [
    "housing_type_pr_hh_exploded_df['hous_type_split'].value_counts(dropna=False)"
   ]
  },
  {
   "cell_type": "code",
   "execution_count": null,
   "id": "e575aec8-8a97-4073-b14c-c9c7181237a0",
   "metadata": {},
   "outputs": [],
   "source": [
    "round(housing_type_pr_hh_exploded_df['hous_type_split'].value_counts(normalize=True)*100,1)"
   ]
  },
  {
   "cell_type": "code",
   "execution_count": null,
   "id": "b64ab0e9-4fe6-4eef-b5de-30bb52b18363",
   "metadata": {},
   "outputs": [],
   "source": []
  },
  {
   "cell_type": "markdown",
   "id": "4f643c19-503a-4bcb-9a7b-de93f9ea2693",
   "metadata": {},
   "source": [
    "Any indication of wanting Public Housing? "
   ]
  },
  {
   "cell_type": "code",
   "execution_count": null,
   "id": "f9d58390-0e1c-4170-8633-bb4ec78a96b3",
   "metadata": {},
   "outputs": [],
   "source": [
    "df['hous_type'].str.contains('Public Housing').value_counts(dropna=False)"
   ]
  },
  {
   "cell_type": "code",
   "execution_count": null,
   "id": "6df6d634-c116-4c56-a916-1498988a0629",
   "metadata": {},
   "outputs": [],
   "source": [
    "df_pr_hh['hous_type'].str.contains('Public Housing').value_counts(dropna=False)"
   ]
  },
  {
   "cell_type": "code",
   "execution_count": null,
   "id": "6e2b2c7d-df9b-4de6-a9a2-e62189efe4f5",
   "metadata": {},
   "outputs": [],
   "source": []
  },
  {
   "cell_type": "markdown",
   "id": "c6d0b2af-8c58-4075-b6da-54b15ec74ee7",
   "metadata": {},
   "source": [
    "## Rent range"
   ]
  },
  {
   "cell_type": "code",
   "execution_count": null,
   "id": "559627b5-e678-4a2c-b139-6e0c39a2e990",
   "metadata": {},
   "outputs": [],
   "source": [
    "##import re\n",
    "##import numpy as np\n",
    "##\n",
    "##def parse_rent_list(rent_list):\n",
    "##    parsed_rent = []\n",
    "##    \n",
    "##    for rent in rent_list:\n",
    "##        if isinstance(rent, str):\n",
    "##            rent = rent.lower().strip()\n",
    "##            \n",
    "##            # Remove dollar signs and extra words\n",
    "##            rent = re.sub(r'[^0-9.-]', ' ', rent)  # Keep numbers, dots, and dashes\n",
    "##            rent = re.sub(r'\\s+', ' ', rent).strip()  # Remove extra spaces\n",
    "##            \n",
    "##            # Find numeric ranges or single values\n",
    "##            match = re.findall(r'\\d+\\.?\\d*', rent)\n",
    "##            \n",
    "##            if match:\n",
    "##                match = [float(m) for m in match]\n",
    "##                min_val, max_val = (match[0], match[-1])  # First and last value as min/max\n",
    "##            else:\n",
    "##                min_val, max_val = (np.nan, np.nan)\n",
    "##        \n",
    "##        elif isinstance(rent, (int, float)) and not np.isnan(rent):\n",
    "##            min_val, max_val = (float(rent), float(rent))\n",
    "##        \n",
    "##        else:\n",
    "##            min_val, max_val = (np.nan, np.nan)\n",
    "##        \n",
    "##        parsed_rent.append((min_val, max_val))\n",
    "##    \n",
    "##    return parsed_rent\n",
    "##\n",
    "### Example usage:\n",
    "##processed_rent_list = parse_rent_list(rent_list)"
   ]
  },
  {
   "cell_type": "code",
   "execution_count": null,
   "id": "f8220547-6f6b-4b8c-9894-7cd88cde1327",
   "metadata": {},
   "outputs": [],
   "source": []
  },
  {
   "cell_type": "code",
   "execution_count": null,
   "id": "8c1b38be-c65d-4b68-aabb-7ea6e74d9ef9",
   "metadata": {},
   "outputs": [],
   "source": [
    "import re\n",
    "import numpy as np\n",
    "import pandas as pd\n",
    "\n",
    "def parse_rent_series(rent_series):\n",
    "    min_rent = []\n",
    "    max_rent = []\n",
    "    \n",
    "    for rent in rent_series:\n",
    "        if isinstance(rent, str):\n",
    "            rent = rent.lower().strip()\n",
    "            \n",
    "            # Remove dollar signs and extra words\n",
    "            rent = re.sub(r'[^0-9.-]', ' ', rent)  # Keep numbers, dots, and dashes\n",
    "            rent = re.sub(r'\\s+', ' ', rent).strip()  # Remove extra spaces\n",
    "            \n",
    "            # Find numeric ranges or single values\n",
    "            match = re.findall(r'\\d+\\.?\\d*', rent)\n",
    "            \n",
    "            if match:\n",
    "                match = [float(m) for m in match]\n",
    "                min_val, max_val = (match[0], match[-1])  # First and last value as min/max\n",
    "            else:\n",
    "                min_val, max_val = (np.nan, np.nan)\n",
    "        \n",
    "        elif isinstance(rent, (int, float)) and not np.isnan(rent):\n",
    "            min_val, max_val = (float(rent), float(rent))\n",
    "        \n",
    "        else:\n",
    "            min_val, max_val = (np.nan, np.nan)\n",
    "        \n",
    "        min_rent.append(min_val)\n",
    "        max_rent.append(max_val)\n",
    "    \n",
    "    return pd.Series(min_rent, index=rent_series.index), pd.Series(max_rent, index=rent_series.index)\n",
    "\n",
    "# Example usage:\n",
    "# min_series, max_series = parse_rent_series(pd.Series(rent_list))"
   ]
  },
  {
   "cell_type": "code",
   "execution_count": null,
   "id": "a12500f0-6f99-4415-83ff-2b68b88647e1",
   "metadata": {},
   "outputs": [],
   "source": [
    "min_rent, max_rent = parse_rent_series(df['rent_rng'])"
   ]
  },
  {
   "cell_type": "markdown",
   "id": "40e9584e-5e98-416c-a9ef-407f7487b686",
   "metadata": {},
   "source": [
    "Add minimum desired rent and maximum desired rent. "
   ]
  },
  {
   "cell_type": "code",
   "execution_count": null,
   "id": "9d85a83b-53db-44fd-81b1-b4fa0d481782",
   "metadata": {
    "tags": []
   },
   "outputs": [],
   "source": [
    "df['min_des_rent'] = min_rent\n",
    "df['max_des_rent'] = max_rent\n",
    "\n",
    "df[['ID_long', 'rent_rng', 'min_des_rent', 'max_des_rent']].sample(10)"
   ]
  },
  {
   "cell_type": "code",
   "execution_count": null,
   "id": "ffff07bc-b098-4d50-ba5e-8a01bbaac869",
   "metadata": {},
   "outputs": [],
   "source": [
    "df['min_des_rent'].describe()"
   ]
  },
  {
   "cell_type": "code",
   "execution_count": null,
   "id": "4f040e68-d45d-4d05-9026-42ff21e98dc8",
   "metadata": {},
   "outputs": [],
   "source": [
    "df['max_des_rent'].describe()"
   ]
  },
  {
   "cell_type": "markdown",
   "id": "5fb1f740-0ff8-4dec-8c30-213836071250",
   "metadata": {},
   "source": [
    ">7000 is too much. Check this record. "
   ]
  },
  {
   "cell_type": "code",
   "execution_count": null,
   "id": "0c69267b-eb80-4f62-a498-1f98e5a200d3",
   "metadata": {},
   "outputs": [],
   "source": [
    "df[df['max_des_rent'] == df['max_des_rent'].max()]['rent_rng']"
   ]
  },
  {
   "cell_type": "code",
   "execution_count": null,
   "id": "285b0a60-94a1-4cfd-bb9a-e6e6350122e7",
   "metadata": {},
   "outputs": [],
   "source": [
    "df[df['max_des_rent'] == df['max_des_rent'].max()]"
   ]
  },
  {
   "cell_type": "markdown",
   "id": "79dd724c-284b-4936-b344-65080bfa2da2",
   "metadata": {},
   "source": [
    "Yeah, it's supposed to be 70.00. \n",
    "\n",
    "> Replace. "
   ]
  },
  {
   "cell_type": "code",
   "execution_count": null,
   "id": "769a27e8-b540-425f-8391-59f1e5ff5c4e",
   "metadata": {},
   "outputs": [],
   "source": [
    "df.at[669, 'rent_rng'] = '60.00-70.00'"
   ]
  },
  {
   "cell_type": "markdown",
   "id": "f018d667-320b-4383-b353-47616bb00db7",
   "metadata": {},
   "source": [
    "> Check record with 5.00. "
   ]
  },
  {
   "cell_type": "code",
   "execution_count": null,
   "id": "12ac5174-69ec-4407-b479-5fc9490202c0",
   "metadata": {},
   "outputs": [],
   "source": [
    "df[df['min_des_rent'] == df['min_des_rent'].min()]['rent_rng']"
   ]
  },
  {
   "cell_type": "code",
   "execution_count": null,
   "id": "464024ea-b8e0-461c-b0d8-351ec45693b6",
   "metadata": {},
   "outputs": [],
   "source": [
    "df[df['min_des_rent'] == df['min_des_rent'].min()]"
   ]
  },
  {
   "cell_type": "markdown",
   "id": "c6550557-28e1-493b-a65d-ebd913ca85ad",
   "metadata": {},
   "source": [
    "Yeah, it's supposed to be 35.00. \n",
    "> Replace. "
   ]
  },
  {
   "cell_type": "code",
   "execution_count": null,
   "id": "75103ab4-1546-45f9-8a89-fbb414d7916c",
   "metadata": {},
   "outputs": [],
   "source": [
    "df.at[343, 'rent_rng'] = '35.00-'"
   ]
  },
  {
   "cell_type": "markdown",
   "id": "78f39598-9ebf-405b-8ed2-b7b4b89392a6",
   "metadata": {},
   "source": [
    "> Check row with max min_des_rent of 180.54. "
   ]
  },
  {
   "cell_type": "code",
   "execution_count": null,
   "id": "f47ba762-7461-41ca-8d14-fec839ec86d6",
   "metadata": {},
   "outputs": [],
   "source": [
    "df[df['min_des_rent'] == df['min_des_rent'].max()]['rent_rng']"
   ]
  },
  {
   "cell_type": "code",
   "execution_count": null,
   "id": "e5a473c9-d5cd-4e84-aa96-2b83b7b6746d",
   "metadata": {},
   "outputs": [],
   "source": [
    "df[df['min_des_rent'] == df['min_des_rent'].max()]"
   ]
  },
  {
   "cell_type": "markdown",
   "id": "8471f92f-9867-4643-9047-4d50e22c3e21",
   "metadata": {},
   "source": [
    "> Ok. That's what it said.\n",
    "\n",
    "> Re-run split in to min/max values. "
   ]
  },
  {
   "cell_type": "code",
   "execution_count": null,
   "id": "1d58c260-4664-423f-b0f4-6db577b56b78",
   "metadata": {},
   "outputs": [],
   "source": [
    "min_rent, max_rent = parse_rent_series(df['rent_rng'])\n",
    "df['min_des_rent'] = min_rent\n",
    "df['max_des_rent'] = max_rent\n",
    "\n",
    "df[['ID_long', 'rent_rng', 'min_des_rent', 'max_des_rent']].sample(10)"
   ]
  },
  {
   "cell_type": "code",
   "execution_count": null,
   "id": "c71faa54-92f0-48e5-bb41-5c47915d8d2d",
   "metadata": {},
   "outputs": [],
   "source": [
    "df['min_des_rent'].describe()"
   ]
  },
  {
   "cell_type": "code",
   "execution_count": null,
   "id": "501d3b51-37c7-495d-b74e-0e5dda0ae38d",
   "metadata": {},
   "outputs": [],
   "source": [
    "df['min_des_rent'].hist()"
   ]
  },
  {
   "cell_type": "code",
   "execution_count": null,
   "id": "3fa58fb3-da61-45d3-a1fe-54df24869219",
   "metadata": {},
   "outputs": [],
   "source": [
    "df['max_des_rent'].describe()"
   ]
  },
  {
   "cell_type": "code",
   "execution_count": null,
   "id": "0b6d246f-6a8f-4b8e-b8aa-54daacb90b00",
   "metadata": {},
   "outputs": [],
   "source": [
    "df['max_des_rent'].hist()"
   ]
  },
  {
   "cell_type": "markdown",
   "id": "280661eb-30c5-40a0-a795-0ecd172f3a91",
   "metadata": {},
   "source": [
    "Spread in min/max desired rent values: "
   ]
  },
  {
   "cell_type": "code",
   "execution_count": null,
   "id": "ff635f6b-64a9-43ee-85c9-ad70d60a11f2",
   "metadata": {},
   "outputs": [],
   "source": [
    "(df['max_des_rent'] - df['min_des_rent']).describe()"
   ]
  },
  {
   "cell_type": "markdown",
   "id": "e7fec544-258f-4933-9714-092c73ebbc7b",
   "metadata": {},
   "source": [
    "## Desired housing type "
   ]
  },
  {
   "cell_type": "code",
   "execution_count": null,
   "id": "c3332dba-a7d1-4ac6-ab1d-e1965fb177c1",
   "metadata": {},
   "outputs": [],
   "source": [
    "df['hous_type_split'].value_counts(dropna=False)"
   ]
  },
  {
   "cell_type": "markdown",
   "id": "b3d981de-de6c-4a41-a80f-43d3ffd54331",
   "metadata": {},
   "source": [
    "Of those records where there is information about the desired housing type, most wanted private apartments, followed by public housing. "
   ]
  },
  {
   "cell_type": "code",
   "execution_count": null,
   "id": "ac589c94-fea2-4e61-8c3c-633fe6ca3dda",
   "metadata": {},
   "outputs": [],
   "source": [
    "df_pr_hh['hous_type_split'].value_counts(dropna=False)"
   ]
  },
  {
   "cell_type": "markdown",
   "id": "b4c139b4-f116-468e-a8d2-eb6dd401f5a4",
   "metadata": {},
   "source": [
    "For Puerto Rican households, most wanted private apartments, followed by public housing, but a larger proportion (relative to all records) wanted public housing. "
   ]
  },
  {
   "cell_type": "code",
   "execution_count": null,
   "id": "2c20716c-fb07-4e01-b650-a6209adc2c40",
   "metadata": {},
   "outputs": [],
   "source": [
    "df.groupby('race2', dropna=False)['hous_type'].value_counts(dropna=False)"
   ]
  },
  {
   "cell_type": "code",
   "execution_count": null,
   "id": "29a4f135-deb2-4084-882d-1fd068e32b1d",
   "metadata": {},
   "outputs": [],
   "source": [
    "#df['inc_srce'].value_counts(dropna=False)\n",
    "#\n",
    "#df['inc_srce'].value_counts(dropna=False, normalize=True)*100\n",
    "#\n",
    "#df.groupby('race2', dropna=False)['inc_srce'].value_counts(dropna=False, normalize=True)*100\n",
    "#\n",
    "#df.groupby('race2', dropna=False)['inc_srce'].value_counts(dropna=False)"
   ]
  },
  {
   "cell_type": "code",
   "execution_count": null,
   "id": "04029782-d6e1-4945-84d5-545c9c2f116a",
   "metadata": {},
   "outputs": [],
   "source": []
  },
  {
   "cell_type": "markdown",
   "id": "0f3bc016-a081-4d51-acec-a24094502bfd",
   "metadata": {},
   "source": [
    "## Race2 --> Race3\n",
    "\n",
    "Define a new race variable where the label Puerto Rican includes the labels Puerto Rican and Puerto Rican mix in the `race2` variable. "
   ]
  },
  {
   "cell_type": "code",
   "execution_count": null,
   "id": "3a23f5ae-4078-4926-8251-2ed1178d455d",
   "metadata": {},
   "outputs": [],
   "source": [
    "df['race2'].unique()"
   ]
  },
  {
   "cell_type": "code",
   "execution_count": null,
   "id": "564db63b-c370-4f85-92ca-0bb33f438ed5",
   "metadata": {},
   "outputs": [],
   "source": [
    "race2_to_race3_dictionary = {'Puerto Rican':'Puerto Rican', \n",
    "                             'White':'White', \n",
    "                             'Oriental':'Oriental', \n",
    "                             'Puerto Rican mix':'Puerto Rican',\n",
    "                             'other':'other',\n",
    "                             'Negro':'Negro', \n",
    "                             'Multi':'Multi',\n",
    "                             np.nan: np.nan}\n",
    "\n",
    "df['race3'] = df['race2'].apply(lambda x: race2_to_race3_dictionary[x])"
   ]
  },
  {
   "cell_type": "code",
   "execution_count": null,
   "id": "40f665f4-a504-4e46-b998-52beb6e43ecc",
   "metadata": {},
   "outputs": [],
   "source": [
    "df['race3'].value_counts(dropna=False)"
   ]
  },
  {
   "cell_type": "code",
   "execution_count": null,
   "id": "5d314320-d26c-49fb-aedf-161c71e871ad",
   "metadata": {},
   "outputs": [],
   "source": [
    "df['race3'].shape"
   ]
  },
  {
   "cell_type": "code",
   "execution_count": null,
   "id": "81101385-7f42-47ce-8036-2ff6b539fca7",
   "metadata": {},
   "outputs": [],
   "source": [
    "df.groupby('race3', dropna=False)['hous_type'].value_counts(dropna=False)"
   ]
  },
  {
   "cell_type": "code",
   "execution_count": null,
   "id": "e8b1c57e-5581-4c00-97b0-06e27bdc55d6",
   "metadata": {},
   "outputs": [],
   "source": [
    "# of the ones that have non-null desired housing type \n",
    "round(df.groupby('race3', dropna=False)['hous_type'].value_counts(normalize=True)*100,1)"
   ]
  },
  {
   "cell_type": "code",
   "execution_count": null,
   "id": "e18abf05-1b33-4aff-8e64-d5d9ac037621",
   "metadata": {},
   "outputs": [],
   "source": [
    "housing_type_exploded_df['race3'] = housing_type_exploded_df['race2'].apply(lambda x: race2_to_race3_dictionary[x])"
   ]
  },
  {
   "cell_type": "code",
   "execution_count": null,
   "id": "a12ef5d2-e486-44c3-ab19-0772bf6d6cb9",
   "metadata": {},
   "outputs": [],
   "source": [
    "housing_type_exploded_df['hous_type_split'].value_counts(dropna=False)"
   ]
  },
  {
   "cell_type": "code",
   "execution_count": null,
   "id": "1483eabb-f513-40cb-883e-4e16df246b70",
   "metadata": {},
   "outputs": [],
   "source": [
    "housing_type_exploded_df.groupby('race3', dropna=False)['hous_type_split'].value_counts(dropna=False)"
   ]
  },
  {
   "cell_type": "code",
   "execution_count": null,
   "id": "b0372979-43bd-4833-9688-e6c5b7f59a22",
   "metadata": {},
   "outputs": [],
   "source": [
    "round(housing_type_exploded_df.groupby('race3', dropna=False)['hous_type_split'].value_counts(normalize=True)*100,1)"
   ]
  },
  {
   "cell_type": "code",
   "execution_count": null,
   "id": "d8aec434-a8dc-4e62-8199-7330d64faa17",
   "metadata": {},
   "outputs": [],
   "source": []
  }
 ],
 "metadata": {
  "kernelspec": {
   "display_name": "Python 3 (ipykernel)",
   "language": "python",
   "name": "python3"
  },
  "language_info": {
   "codemirror_mode": {
    "name": "ipython",
    "version": 3
   },
   "file_extension": ".py",
   "mimetype": "text/x-python",
   "name": "python",
   "nbconvert_exporter": "python",
   "pygments_lexer": "ipython3",
   "version": "3.9.13"
  }
 },
 "nbformat": 4,
 "nbformat_minor": 5
}
